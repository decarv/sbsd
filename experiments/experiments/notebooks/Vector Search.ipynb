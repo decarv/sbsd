{
 "cells": [
  {
   "cell_type": "code",
   "execution_count": 1,
   "id": "eb5f8fa8",
   "metadata": {},
   "outputs": [
    {
     "name": "stderr",
     "output_type": "stream",
     "text": [
      "2023-06-16 14:20:37.633817: I tensorflow/core/platform/cpu_feature_guard.cc:193] This TensorFlow binary is optimized with oneAPI Deep Neural Network Library (oneDNN) to use the following CPU instructions in performance-critical operations:  AVX2 FMA\n",
      "To enable them in other operations, rebuild TensorFlow with the appropriate compiler flags.\n",
      "2023-06-16 14:20:38.242847: W tensorflow/compiler/xla/stream_executor/platform/default/dso_loader.cc:64] Could not load dynamic library 'libnvinfer.so.7'; dlerror: libnvinfer.so.7: cannot open shared object file: No such file or directory\n",
      "2023-06-16 14:20:38.243277: W tensorflow/compiler/xla/stream_executor/platform/default/dso_loader.cc:64] Could not load dynamic library 'libnvinfer_plugin.so.7'; dlerror: libnvinfer_plugin.so.7: cannot open shared object file: No such file or directory\n",
      "2023-06-16 14:20:38.243286: W tensorflow/compiler/tf2tensorrt/utils/py_utils.cc:38] TF-TRT Warning: Cannot dlopen some TensorRT libraries. If you would like to use Nvidia GPU with TensorRT, please make sure the missing libraries mentioned above are installed properly.\n"
     ]
    }
   ],
   "source": [
    "from typing import List\n",
    "from qdrant_client import QdrantClient\n",
    "from qdrant_client.http.models.models import Filter\n",
    "from sentence_transformers import SentenceTransformer\n",
    "\n",
    "\n",
    "class SearchClient:\n",
    "    \"\"\"\"\"\"\n",
    "    def __init__(self, collection_name: str, model: str, host: str, port: str):\n",
    "        self.collection_name = collection_name\n",
    "\n",
    "        device = 'cuda' # if cuda.is_available() else 'cpu'\n",
    "        self.model = SentenceTransformer(model, device=device)\n",
    "\n",
    "        self.client = QdrantClient(host, port)\n",
    "\n",
    "    def search(self, query_string: str, filter_: dict = None) -> List[dict]:\n",
    "        vector = self.model.encode(query_string).tolist()\n",
    "        hits = self.client.search(\n",
    "            collection_name=self.collection_name,\n",
    "            query_vector=vector,\n",
    "            query_filter=Filter(**filter_) if filter_ else None,\n",
    "            top=5\n",
    "        )\n",
    "        return [hit.payload for hit in hits]"
   ]
  },
  {
   "cell_type": "code",
   "execution_count": null,
   "id": "4ba6b465",
   "metadata": {},
   "outputs": [],
   "source": []
  }
 ],
 "metadata": {
  "kernelspec": {
   "display_name": "Python 3 (ipykernel)",
   "language": "python",
   "name": "python3"
  },
  "language_info": {
   "codemirror_mode": {
    "name": "ipython",
    "version": 3
   },
   "file_extension": ".py",
   "mimetype": "text/x-python",
   "name": "python",
   "nbconvert_exporter": "python",
   "pygments_lexer": "ipython3",
   "version": "3.10.6"
  }
 },
 "nbformat": 4,
 "nbformat_minor": 5
}
