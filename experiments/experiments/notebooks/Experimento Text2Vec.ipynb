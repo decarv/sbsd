{
 "cells": [
  {
   "cell_type": "markdown",
   "id": "aa888b17",
   "metadata": {},
   "source": [
    "## Segundo Experimento\n",
    "\n",
    "Data: 27 de Maio\n",
    "\n",
    "### Descrição\n",
    "\n",
    "Esse notebook contém testes do gensim e utilização de Text2Vec como tinha no vídeo do Computerphile."
   ]
  },
  {
   "cell_type": "markdown",
   "id": "8ef968e0",
   "metadata": {},
   "source": [
    "#### Gensim\n",
    "Eu posso usar gensim para treinar meus próprios modelos."
   ]
  },
  {
   "cell_type": "code",
   "execution_count": 12,
   "id": "f84ba5d8",
   "metadata": {},
   "outputs": [
    {
     "data": {
      "text/plain": [
       "(0, 2)"
      ]
     },
     "execution_count": 12,
     "metadata": {},
     "output_type": "execute_result"
    }
   ],
   "source": [
    "from gensim.models import Word2Vec\n",
    "from gensim.test.utils import common_texts\n",
    "\n",
    "import gensim\n",
    "\n",
    "model = Word2Vec(sentences=common_texts, vector_size=100, window=5, min_count=1, workers=4)\n",
    "\n",
    "model.save(\"models/word2vec.model\")\n",
    "\n",
    "model = Word2Vec.load(\"models/word2vec.model\")\n",
    "\n",
    "model.train([[\"hello\", \"world\"]], total_examples=1, epochs=1)"
   ]
  },
  {
   "cell_type": "markdown",
   "id": "894d02cb",
   "metadata": {},
   "source": [
    "Eu também posso importar modelos pré-treinados daqui: https://github.com/RaRe-Technologies/gensim-data"
   ]
  },
  {
   "cell_type": "code",
   "execution_count": 13,
   "id": "e2201ffa",
   "metadata": {},
   "outputs": [
    {
     "name": "stdout",
     "output_type": "stream",
     "text": [
      "['fasttext-wiki-news-subwords-300', 'conceptnet-numberbatch-17-06-300', 'word2vec-ruscorpora-300', 'word2vec-google-news-300', 'glove-wiki-gigaword-50', 'glove-wiki-gigaword-100', 'glove-wiki-gigaword-200', 'glove-wiki-gigaword-300', 'glove-twitter-25', 'glove-twitter-50', 'glove-twitter-100', 'glove-twitter-200', '__testing_word2vec-matrix-synopsis']\n"
     ]
    }
   ],
   "source": [
    "import gensim.downloader\n",
    "\n",
    "# Show all available models in gensim-data\n",
    "print(list(gensim.downloader.info()['models'].keys()))"
   ]
  },
  {
   "cell_type": "code",
   "execution_count": 14,
   "id": "0e763d56",
   "metadata": {},
   "outputs": [
    {
     "name": "stdout",
     "output_type": "stream",
     "text": [
      "[===========---------------------------------------] 22.4% 23.4/104.8MB downloaded"
     ]
    },
    {
     "name": "stderr",
     "output_type": "stream",
     "text": [
      "IOPub message rate exceeded.\n",
      "The notebook server will temporarily stop sending output\n",
      "to the client in order to avoid crashing it.\n",
      "To change this limit, set the config variable\n",
      "`--NotebookApp.iopub_msg_rate_limit`.\n",
      "\n",
      "Current values:\n",
      "NotebookApp.iopub_msg_rate_limit=1000.0 (msgs/sec)\n",
      "NotebookApp.rate_limit_window=3.0 (secs)\n",
      "\n"
     ]
    },
    {
     "name": "stdout",
     "output_type": "stream",
     "text": [
      "[========================================----------] 81.0% 84.9/104.8MB downloaded"
     ]
    },
    {
     "name": "stderr",
     "output_type": "stream",
     "text": [
      "IOPub message rate exceeded.\n",
      "The notebook server will temporarily stop sending output\n",
      "to the client in order to avoid crashing it.\n",
      "To change this limit, set the config variable\n",
      "`--NotebookApp.iopub_msg_rate_limit`.\n",
      "\n",
      "Current values:\n",
      "NotebookApp.iopub_msg_rate_limit=1000.0 (msgs/sec)\n",
      "NotebookApp.rate_limit_window=3.0 (secs)\n",
      "\n"
     ]
    }
   ],
   "source": [
    "# Download the \"glove-twitter-25\" embeddings\n",
    "glove_vectors = gensim.downloader.load('glove-twitter-25')"
   ]
  },
  {
   "cell_type": "code",
   "execution_count": 15,
   "id": "6e85abab",
   "metadata": {},
   "outputs": [
    {
     "data": {
      "text/plain": [
       "[('facebook', 0.948005199432373),\n",
       " ('tweet', 0.9403423070907593),\n",
       " ('fb', 0.9342358708381653),\n",
       " ('instagram', 0.9104824066162109),\n",
       " ('chat', 0.8964964747428894),\n",
       " ('hashtag', 0.8885937333106995),\n",
       " ('tweets', 0.8878158330917358),\n",
       " ('tl', 0.8778461217880249),\n",
       " ('link', 0.8778210878372192),\n",
       " ('internet', 0.8753897547721863)]"
      ]
     },
     "execution_count": 15,
     "metadata": {},
     "output_type": "execute_result"
    }
   ],
   "source": [
    "# Use the downloaded vectors as usual:\n",
    "glove_vectors.most_similar('twitter')"
   ]
  },
  {
   "cell_type": "code",
   "execution_count": 16,
   "id": "ca3e382c",
   "metadata": {},
   "outputs": [
    {
     "name": "stdout",
     "output_type": "stream",
     "text": [
      "[--------------------------------------------------] 1.4% 23.4/1662.8MB downloaded"
     ]
    },
    {
     "name": "stderr",
     "output_type": "stream",
     "text": [
      "IOPub message rate exceeded.\n",
      "The notebook server will temporarily stop sending output\n",
      "to the client in order to avoid crashing it.\n",
      "To change this limit, set the config variable\n",
      "`--NotebookApp.iopub_msg_rate_limit`.\n",
      "\n",
      "Current values:\n",
      "NotebookApp.iopub_msg_rate_limit=1000.0 (msgs/sec)\n",
      "NotebookApp.rate_limit_window=3.0 (secs)\n",
      "\n"
     ]
    },
    {
     "name": "stdout",
     "output_type": "stream",
     "text": [
      "[==------------------------------------------------] 5.1% 85.5/1662.8MB downloaded"
     ]
    },
    {
     "name": "stderr",
     "output_type": "stream",
     "text": [
      "IOPub message rate exceeded.\n",
      "The notebook server will temporarily stop sending output\n",
      "to the client in order to avoid crashing it.\n",
      "To change this limit, set the config variable\n",
      "`--NotebookApp.iopub_msg_rate_limit`.\n",
      "\n",
      "Current values:\n",
      "NotebookApp.iopub_msg_rate_limit=1000.0 (msgs/sec)\n",
      "NotebookApp.rate_limit_window=3.0 (secs)\n",
      "\n"
     ]
    },
    {
     "name": "stdout",
     "output_type": "stream",
     "text": [
      "[====----------------------------------------------] 8.8% 147.1/1662.8MB downloaded"
     ]
    },
    {
     "name": "stderr",
     "output_type": "stream",
     "text": [
      "IOPub message rate exceeded.\n",
      "The notebook server will temporarily stop sending output\n",
      "to the client in order to avoid crashing it.\n",
      "To change this limit, set the config variable\n",
      "`--NotebookApp.iopub_msg_rate_limit`.\n",
      "\n",
      "Current values:\n",
      "NotebookApp.iopub_msg_rate_limit=1000.0 (msgs/sec)\n",
      "NotebookApp.rate_limit_window=3.0 (secs)\n",
      "\n"
     ]
    },
    {
     "name": "stdout",
     "output_type": "stream",
     "text": [
      "[======--------------------------------------------] 12.6% 209.7/1662.8MB downloaded"
     ]
    },
    {
     "name": "stderr",
     "output_type": "stream",
     "text": [
      "IOPub message rate exceeded.\n",
      "The notebook server will temporarily stop sending output\n",
      "to the client in order to avoid crashing it.\n",
      "To change this limit, set the config variable\n",
      "`--NotebookApp.iopub_msg_rate_limit`.\n",
      "\n",
      "Current values:\n",
      "NotebookApp.iopub_msg_rate_limit=1000.0 (msgs/sec)\n",
      "NotebookApp.rate_limit_window=3.0 (secs)\n",
      "\n"
     ]
    },
    {
     "name": "stdout",
     "output_type": "stream",
     "text": [
      "[========------------------------------------------] 16.4% 272.3/1662.8MB downloaded"
     ]
    },
    {
     "name": "stderr",
     "output_type": "stream",
     "text": [
      "IOPub message rate exceeded.\n",
      "The notebook server will temporarily stop sending output\n",
      "to the client in order to avoid crashing it.\n",
      "To change this limit, set the config variable\n",
      "`--NotebookApp.iopub_msg_rate_limit`.\n",
      "\n",
      "Current values:\n",
      "NotebookApp.iopub_msg_rate_limit=1000.0 (msgs/sec)\n",
      "NotebookApp.rate_limit_window=3.0 (secs)\n",
      "\n"
     ]
    },
    {
     "name": "stdout",
     "output_type": "stream",
     "text": [
      "[=========-----------------------------------------] 20.0% 331.8/1662.8MB downloaded"
     ]
    },
    {
     "name": "stderr",
     "output_type": "stream",
     "text": [
      "IOPub message rate exceeded.\n",
      "The notebook server will temporarily stop sending output\n",
      "to the client in order to avoid crashing it.\n",
      "To change this limit, set the config variable\n",
      "`--NotebookApp.iopub_msg_rate_limit`.\n",
      "\n",
      "Current values:\n",
      "NotebookApp.iopub_msg_rate_limit=1000.0 (msgs/sec)\n",
      "NotebookApp.rate_limit_window=3.0 (secs)\n",
      "\n"
     ]
    },
    {
     "name": "stdout",
     "output_type": "stream",
     "text": [
      "[============--------------------------------------] 24.5% 407.8/1662.8MB downloaded"
     ]
    },
    {
     "name": "stderr",
     "output_type": "stream",
     "text": [
      "IOPub message rate exceeded.\n",
      "The notebook server will temporarily stop sending output\n",
      "to the client in order to avoid crashing it.\n",
      "To change this limit, set the config variable\n",
      "`--NotebookApp.iopub_msg_rate_limit`.\n",
      "\n",
      "Current values:\n",
      "NotebookApp.iopub_msg_rate_limit=1000.0 (msgs/sec)\n",
      "NotebookApp.rate_limit_window=3.0 (secs)\n",
      "\n"
     ]
    },
    {
     "name": "stdout",
     "output_type": "stream",
     "text": [
      "[==============------------------------------------] 29.3% 486.8/1662.8MB downloaded"
     ]
    },
    {
     "name": "stderr",
     "output_type": "stream",
     "text": [
      "IOPub message rate exceeded.\n",
      "The notebook server will temporarily stop sending output\n",
      "to the client in order to avoid crashing it.\n",
      "To change this limit, set the config variable\n",
      "`--NotebookApp.iopub_msg_rate_limit`.\n",
      "\n",
      "Current values:\n",
      "NotebookApp.iopub_msg_rate_limit=1000.0 (msgs/sec)\n",
      "NotebookApp.rate_limit_window=3.0 (secs)\n",
      "\n"
     ]
    },
    {
     "name": "stdout",
     "output_type": "stream",
     "text": [
      "[================----------------------------------] 32.9% 547.4/1662.8MB downloaded"
     ]
    },
    {
     "name": "stderr",
     "output_type": "stream",
     "text": [
      "IOPub message rate exceeded.\n",
      "The notebook server will temporarily stop sending output\n",
      "to the client in order to avoid crashing it.\n",
      "To change this limit, set the config variable\n",
      "`--NotebookApp.iopub_msg_rate_limit`.\n",
      "\n",
      "Current values:\n",
      "NotebookApp.iopub_msg_rate_limit=1000.0 (msgs/sec)\n",
      "NotebookApp.rate_limit_window=3.0 (secs)\n",
      "\n"
     ]
    },
    {
     "name": "stdout",
     "output_type": "stream",
     "text": [
      "[===================-------------------------------] 38.5% 640.7/1662.8MB downloaded"
     ]
    },
    {
     "name": "stderr",
     "output_type": "stream",
     "text": [
      "IOPub message rate exceeded.\n",
      "The notebook server will temporarily stop sending output\n",
      "to the client in order to avoid crashing it.\n",
      "To change this limit, set the config variable\n",
      "`--NotebookApp.iopub_msg_rate_limit`.\n",
      "\n",
      "Current values:\n",
      "NotebookApp.iopub_msg_rate_limit=1000.0 (msgs/sec)\n",
      "NotebookApp.rate_limit_window=3.0 (secs)\n",
      "\n"
     ]
    },
    {
     "name": "stdout",
     "output_type": "stream",
     "text": [
      "[=====================-----------------------------] 43.8% 728.1/1662.8MB downloaded"
     ]
    },
    {
     "name": "stderr",
     "output_type": "stream",
     "text": [
      "IOPub message rate exceeded.\n",
      "The notebook server will temporarily stop sending output\n",
      "to the client in order to avoid crashing it.\n",
      "To change this limit, set the config variable\n",
      "`--NotebookApp.iopub_msg_rate_limit`.\n",
      "\n",
      "Current values:\n",
      "NotebookApp.iopub_msg_rate_limit=1000.0 (msgs/sec)\n",
      "NotebookApp.rate_limit_window=3.0 (secs)\n",
      "\n"
     ]
    },
    {
     "name": "stdout",
     "output_type": "stream",
     "text": [
      "[=======================---------------------------] 47.4% 787.6/1662.8MB downloaded"
     ]
    },
    {
     "name": "stderr",
     "output_type": "stream",
     "text": [
      "IOPub message rate exceeded.\n",
      "The notebook server will temporarily stop sending output\n",
      "to the client in order to avoid crashing it.\n",
      "To change this limit, set the config variable\n",
      "`--NotebookApp.iopub_msg_rate_limit`.\n",
      "\n",
      "Current values:\n",
      "NotebookApp.iopub_msg_rate_limit=1000.0 (msgs/sec)\n",
      "NotebookApp.rate_limit_window=3.0 (secs)\n",
      "\n"
     ]
    },
    {
     "name": "stdout",
     "output_type": "stream",
     "text": [
      "[==========================------------------------] 52.4% 871.1/1662.8MB downloaded"
     ]
    },
    {
     "name": "stderr",
     "output_type": "stream",
     "text": [
      "IOPub message rate exceeded.\n",
      "The notebook server will temporarily stop sending output\n",
      "to the client in order to avoid crashing it.\n",
      "To change this limit, set the config variable\n",
      "`--NotebookApp.iopub_msg_rate_limit`.\n",
      "\n",
      "Current values:\n",
      "NotebookApp.iopub_msg_rate_limit=1000.0 (msgs/sec)\n",
      "NotebookApp.rate_limit_window=3.0 (secs)\n",
      "\n"
     ]
    },
    {
     "name": "stdout",
     "output_type": "stream",
     "text": [
      "[============================----------------------] 57.4% 955.2/1662.8MB downloaded"
     ]
    },
    {
     "name": "stderr",
     "output_type": "stream",
     "text": [
      "IOPub message rate exceeded.\n",
      "The notebook server will temporarily stop sending output\n",
      "to the client in order to avoid crashing it.\n",
      "To change this limit, set the config variable\n",
      "`--NotebookApp.iopub_msg_rate_limit`.\n",
      "\n",
      "Current values:\n",
      "NotebookApp.iopub_msg_rate_limit=1000.0 (msgs/sec)\n",
      "NotebookApp.rate_limit_window=3.0 (secs)\n",
      "\n"
     ]
    },
    {
     "name": "stdout",
     "output_type": "stream",
     "text": [
      "[===============================-------------------] 62.5% 1039.6/1662.8MB downloaded"
     ]
    },
    {
     "name": "stderr",
     "output_type": "stream",
     "text": [
      "IOPub message rate exceeded.\n",
      "The notebook server will temporarily stop sending output\n",
      "to the client in order to avoid crashing it.\n",
      "To change this limit, set the config variable\n",
      "`--NotebookApp.iopub_msg_rate_limit`.\n",
      "\n",
      "Current values:\n",
      "NotebookApp.iopub_msg_rate_limit=1000.0 (msgs/sec)\n",
      "NotebookApp.rate_limit_window=3.0 (secs)\n",
      "\n"
     ]
    },
    {
     "name": "stdout",
     "output_type": "stream",
     "text": [
      "[=================================-----------------] 67.7% 1126.0/1662.8MB downloaded"
     ]
    },
    {
     "name": "stderr",
     "output_type": "stream",
     "text": [
      "IOPub message rate exceeded.\n",
      "The notebook server will temporarily stop sending output\n",
      "to the client in order to avoid crashing it.\n",
      "To change this limit, set the config variable\n",
      "`--NotebookApp.iopub_msg_rate_limit`.\n",
      "\n",
      "Current values:\n",
      "NotebookApp.iopub_msg_rate_limit=1000.0 (msgs/sec)\n",
      "NotebookApp.rate_limit_window=3.0 (secs)\n",
      "\n"
     ]
    },
    {
     "name": "stdout",
     "output_type": "stream",
     "text": [
      "[===================================---------------] 71.9% 1196.1/1662.8MB downloaded"
     ]
    },
    {
     "name": "stderr",
     "output_type": "stream",
     "text": [
      "IOPub message rate exceeded.\n",
      "The notebook server will temporarily stop sending output\n",
      "to the client in order to avoid crashing it.\n",
      "To change this limit, set the config variable\n",
      "`--NotebookApp.iopub_msg_rate_limit`.\n",
      "\n",
      "Current values:\n",
      "NotebookApp.iopub_msg_rate_limit=1000.0 (msgs/sec)\n",
      "NotebookApp.rate_limit_window=3.0 (secs)\n",
      "\n"
     ]
    },
    {
     "name": "stdout",
     "output_type": "stream",
     "text": [
      "[======================================------------] 77.8% 1294.4/1662.8MB downloaded"
     ]
    },
    {
     "name": "stderr",
     "output_type": "stream",
     "text": [
      "IOPub message rate exceeded.\n",
      "The notebook server will temporarily stop sending output\n",
      "to the client in order to avoid crashing it.\n",
      "To change this limit, set the config variable\n",
      "`--NotebookApp.iopub_msg_rate_limit`.\n",
      "\n",
      "Current values:\n",
      "NotebookApp.iopub_msg_rate_limit=1000.0 (msgs/sec)\n",
      "NotebookApp.rate_limit_window=3.0 (secs)\n",
      "\n"
     ]
    },
    {
     "name": "stdout",
     "output_type": "stream",
     "text": [
      "[=========================================---------] 82.9% 1379.0/1662.8MB downloaded"
     ]
    },
    {
     "name": "stderr",
     "output_type": "stream",
     "text": [
      "IOPub message rate exceeded.\n",
      "The notebook server will temporarily stop sending output\n",
      "to the client in order to avoid crashing it.\n",
      "To change this limit, set the config variable\n",
      "`--NotebookApp.iopub_msg_rate_limit`.\n",
      "\n",
      "Current values:\n",
      "NotebookApp.iopub_msg_rate_limit=1000.0 (msgs/sec)\n",
      "NotebookApp.rate_limit_window=3.0 (secs)\n",
      "\n"
     ]
    },
    {
     "name": "stdout",
     "output_type": "stream",
     "text": [
      "[===========================================-------] 86.5% 1437.6/1662.8MB downloaded"
     ]
    },
    {
     "name": "stderr",
     "output_type": "stream",
     "text": [
      "IOPub message rate exceeded.\n",
      "The notebook server will temporarily stop sending output\n",
      "to the client in order to avoid crashing it.\n",
      "To change this limit, set the config variable\n",
      "`--NotebookApp.iopub_msg_rate_limit`.\n",
      "\n",
      "Current values:\n",
      "NotebookApp.iopub_msg_rate_limit=1000.0 (msgs/sec)\n",
      "NotebookApp.rate_limit_window=3.0 (secs)\n",
      "\n"
     ]
    },
    {
     "name": "stdout",
     "output_type": "stream",
     "text": [
      "[==============================================----] 92.3% 1534.5/1662.8MB downloaded"
     ]
    },
    {
     "name": "stderr",
     "output_type": "stream",
     "text": [
      "IOPub message rate exceeded.\n",
      "The notebook server will temporarily stop sending output\n",
      "to the client in order to avoid crashing it.\n",
      "To change this limit, set the config variable\n",
      "`--NotebookApp.iopub_msg_rate_limit`.\n",
      "\n",
      "Current values:\n",
      "NotebookApp.iopub_msg_rate_limit=1000.0 (msgs/sec)\n",
      "NotebookApp.rate_limit_window=3.0 (secs)\n",
      "\n"
     ]
    },
    {
     "name": "stdout",
     "output_type": "stream",
     "text": [
      "[================================================--] 97.2% 1616.4/1662.8MB downloaded"
     ]
    },
    {
     "name": "stderr",
     "output_type": "stream",
     "text": [
      "IOPub message rate exceeded.\n",
      "The notebook server will temporarily stop sending output\n",
      "to the client in order to avoid crashing it.\n",
      "To change this limit, set the config variable\n",
      "`--NotebookApp.iopub_msg_rate_limit`.\n",
      "\n",
      "Current values:\n",
      "NotebookApp.iopub_msg_rate_limit=1000.0 (msgs/sec)\n",
      "NotebookApp.rate_limit_window=3.0 (secs)\n",
      "\n"
     ]
    },
    {
     "name": "stdout",
     "output_type": "stream",
     "text": [
      "[==================================================] 100.0% 1662.8/1662.8MB downloaded\n"
     ]
    }
   ],
   "source": [
    "model = gensim.downloader.load(\"word2vec-google-news-300\")"
   ]
  },
  {
   "cell_type": "code",
   "execution_count": 17,
   "id": "965597c8",
   "metadata": {},
   "outputs": [],
   "source": [
    "model.save(\"models/word2vec-google-news-300.model\")"
   ]
  },
  {
   "cell_type": "code",
   "execution_count": 22,
   "id": "88f2cc87",
   "metadata": {},
   "outputs": [
    {
     "data": {
      "text/plain": [
       "0.8334179818630219"
      ]
     },
     "execution_count": 22,
     "metadata": {},
     "output_type": "execute_result"
    }
   ],
   "source": [
    "model.distance('queen', 'man')"
   ]
  },
  {
   "cell_type": "code",
   "execution_count": 21,
   "id": "2fb19979",
   "metadata": {},
   "outputs": [
    {
     "data": {
      "text/plain": [
       "0.2335987687110901"
      ]
     },
     "execution_count": 21,
     "metadata": {},
     "output_type": "execute_result"
    }
   ],
   "source": [
    "model.distance('man', 'woman')"
   ]
  },
  {
   "cell_type": "code",
   "execution_count": 23,
   "id": "54558a94",
   "metadata": {},
   "outputs": [
    {
     "data": {
      "text/plain": [
       "[('woman', 0.7664012908935547),\n",
       " ('boy', 0.6824871301651001),\n",
       " ('teenager', 0.6586930155754089),\n",
       " ('teenage_girl', 0.6147903203964233),\n",
       " ('girl', 0.5921714305877686),\n",
       " ('suspected_purse_snatcher', 0.571636438369751),\n",
       " ('robber', 0.5585119128227234),\n",
       " ('Robbery_suspect', 0.5584409832954407),\n",
       " ('teen_ager', 0.5549196600914001),\n",
       " ('men', 0.5489763021469116)]"
      ]
     },
     "execution_count": 23,
     "metadata": {},
     "output_type": "execute_result"
    }
   ],
   "source": [
    "model.similar_by_word('man')"
   ]
  },
  {
   "cell_type": "code",
   "execution_count": 24,
   "id": "91f520bb",
   "metadata": {},
   "outputs": [
    {
     "data": {
      "text/plain": [
       "[('white', 0.8092213869094849),\n",
       " ('Responded_Letterman_How', 0.6182776689529419),\n",
       " ('blacks', 0.589222252368927),\n",
       " ('crypt_inscribed', 0.5855618119239807),\n",
       " ('transporting_petrochemicals', 0.5834174752235413),\n",
       " ('brown', 0.5766680240631104),\n",
       " ('Shilah_Phillips', 0.5763780474662781),\n",
       " ('women_dating_interracially', 0.5670552253723145),\n",
       " ('wrote_Newitz', 0.5604413747787476),\n",
       " ('blue', 0.5492398142814636)]"
      ]
     },
     "execution_count": 24,
     "metadata": {},
     "output_type": "execute_result"
    }
   ],
   "source": [
    "model.similar_by_word('black')"
   ]
  },
  {
   "cell_type": "code",
   "execution_count": 25,
   "id": "c355378f",
   "metadata": {
    "scrolled": true
   },
   "outputs": [
    {
     "data": {
      "text/plain": [
       "[('king', 0.899394690990448),\n",
       " ('kings', 0.8488917350769043),\n",
       " ('queens', 0.7915016412734985),\n",
       " ('prince', 0.783509373664856),\n",
       " ('monarch', 0.7830397486686707),\n",
       " ('princes', 0.7737308740615845),\n",
       " ('clown_prince', 0.7720378041267395),\n",
       " ('joker', 0.7706016302108765),\n",
       " ('princess', 0.7633474469184875),\n",
       " ('royal', 0.7603327631950378)]"
      ]
     },
     "execution_count": 25,
     "metadata": {},
     "output_type": "execute_result"
    }
   ],
   "source": [
    "model.most_similar_cosmul(positive=[\"queen\", \"man\"], negative=[\"woman\"])"
   ]
  },
  {
   "cell_type": "code",
   "execution_count": 17,
   "id": "81e3d92d",
   "metadata": {},
   "outputs": [],
   "source": [
    "\n",
    "import re\n",
    "import logging\n",
    "import requests\n",
    "import json\n",
    "from urllib.parse import urljoin\n",
    "from urllib.request import urlretrieve\n",
    "from bs4 import BeautifulSoup\n",
    "from PyPDF2 import PdfMerger, PdfReader\n",
    "from pdfminer.high_level import extract_text\n",
    "\n",
    "\n",
    "logging.basicConfig(level=logging.INFO)\n",
    "logger = logging.getLogger(__name__)\n",
    "\n",
    "\n",
    "class Crawler:\n",
    "    \"\"\"\n",
    "    This class structures all the theses into Theses objects from a search url.\n",
    "    \"\"\"\n",
    "\n",
    "    def __init__(self, **kwargs):\n",
    "        self.data_path = kwargs.get(\"data_path\", \".\")\n",
    "        self.base_urls = {}\n",
    "        self.theses = {}\n",
    "        self.errors = []\n",
    "        self.session = requests.Session()\n",
    "\n",
    "    def execute(self):\n",
    "        for base_url, v in self.base_urls.items():\n",
    "            urls = self.extract_webpages_urls(base_url)\n",
    "            for url in urls:\n",
    "                self.parse_thesis(url)\n",
    "\n",
    "        self.store_theses()\n",
    "\n",
    "    def store_theses(self):\n",
    "        with open(os.path.join(\".\", \"theses.json\"), \"w\") as fp:\n",
    "            fp.write(json.dumps(self.theses))\n",
    "        logger.info(f\"Theses stored in file: {file_path}\")\n",
    "\n",
    "    def add_base_url(self, url):\n",
    "        if isinstance(url, list):\n",
    "            for item in urls:\n",
    "                self.add_base_url(url)\n",
    "        else:\n",
    "            if url not in self.base_urls:\n",
    "                response = requests.get(url, headers={\"Accept-Language\": \"pt-br,pt-BR\"})\n",
    "                *_, self.base_urls[url] = self.extract_instances_count(\n",
    "                    BeautifulSoup(response.content, \"html.parser\")\n",
    "                )\n",
    "                logger.info(f\"Added base URL: {url}\")\n",
    "            else:\n",
    "                raise Exception(\"Base url already added.\")\n",
    "\n",
    "    def extract_webpages_urls(self, base_url):\n",
    "        theses_webpages_urls = []\n",
    "        for page in range(1, self.base_urls[base_url]):\n",
    "            url = f'{base_url}{page}'\n",
    "            list_webpage = requests.get(url, headers={\"Accept-Language\": \"pt-br,pt-BR\"})\n",
    "            if list_webpage is None or not list_webpage.ok:\n",
    "                self.errors.append(url)\n",
    "                logger.warning(f\"Error retrieving webpage: {url}\")\n",
    "                continue\n",
    "\n",
    "            soup = BeautifulSoup(list_webpage.content, 'html.parser')\n",
    "            elements = soup.select(\"div.dadosDocNome a\")\n",
    "            urls = [el.get('href') for el in elements]\n",
    "            for _ in urls:\n",
    "                theses_webpages_urls.append(_)\n",
    "\n",
    "            urls_in_page, *_ = self.extract_instances_count(soup)\n",
    "            logging.info(f\"Number of extracted elements in page: {len(urls)}. Expected number of \"\n",
    "                         f\"extracted elements {urls_in_page}\")\n",
    "            if len(urls) != urls_in_page:\n",
    "                logging.warning(f\"Unexpected error while extracting webpage urls from {url}\")\n",
    "\n",
    "        return theses_webpages_urls\n",
    "\n",
    "    def extract_instances_count(self, soup):\n",
    "        page_info = soup.find(class_=\"dadosLinha\").text\n",
    "        numbers = re.findall(r\"\\d+\", page_info)\n",
    "        return list(map(int, numbers))\n",
    "\n",
    "    def parse_thesis(self, url):\n",
    "        webpage = requests.get(url, headers={\"Accept-Language\": \"pt-br,pt-BR\"})\n",
    "        if not webpage.ok:\n",
    "            logger.warning(f\"Error retrieving webpage: {url}\")\n",
    "            return None\n",
    "        thesis = Thesis()\n",
    "        thesis.parse_webpage(webpage.content)\n",
    "        [id] = re.findall(\"tde-\\d+-\\d+\", url)\n",
    "        self.theses[id] = thesis\n",
    "        logger.info(f\"Thesis parsed: {id}\")\n",
    "\n",
    "        \n",
    "import re\n",
    "from bs4 import BeautifulSoup\n",
    "\n",
    "\n",
    "class Thesis:\n",
    "    def __init__(self, **kwargs):\n",
    "        self.doi = kwargs.get(\"doi\", None)\n",
    "        self.type = kwargs.get(\"type\", None)\n",
    "        self.author = kwargs.get(\"author\", None)\n",
    "        self.institute = kwargs.get(\"institute\", None)\n",
    "        self.knowledge_area = kwargs.get(\"knowledge_area\", None)\n",
    "        self.committee = kwargs.get(\"committee\", None)\n",
    "        self.title_pt = kwargs.get(\"title_pt\", None)\n",
    "        self.title_en = kwargs.get(\"title_en\", None)\n",
    "        self.keywords_pt = kwargs.get(\"keywords_pt\", None)\n",
    "        self.keywords_en = kwargs.get(\"keywords_en\", None)\n",
    "        self.abstract_pt = kwargs.get(\"abstract_pt\", None)\n",
    "        self.abstract_en = kwargs.get(\"abstract_en\", None)\n",
    "        self.publish_date = kwargs.get(\"publish_date\", None)\n",
    "\n",
    "    def __repr__(self):\n",
    "        return str(self.__dict__)\n",
    "\n",
    "    def parse_webpage(self, webpage):\n",
    "        soup = BeautifulSoup(webpage, 'html.parser')\n",
    "\n",
    "        raw_metadata = soup.find_all(class_=\"DocumentoTexto\")\n",
    "        raw_metadata_keys = soup.find_all(class_=\"DocumentoTituloTexto\")\n",
    "        metadata = {\n",
    "            k.text.strip().lower(): re.sub(r\"\\s+\", \" \", v.text.strip())\n",
    "            for (k, v) in zip(raw_metadata_keys, raw_metadata)\n",
    "        }\n",
    "        self.doi = metadata.get(\"doi\")\n",
    "        self.type = metadata.get(\"documento\")\n",
    "        self.author = metadata.get(\"autor\")\n",
    "        self.institute = metadata.get(\"unidade da usp\")\n",
    "        self.knowledge_area = metadata.get(\"área do conhecimento\")\n",
    "        self.committee = metadata.get(\"banca examinadora\")\n",
    "        self.title_pt = metadata.get(\"título em português\")\n",
    "        self.keywords_pt = metadata.get(\"palavras-chave em português\")\n",
    "        self.title_en = metadata.get(\"título em inglês\")\n",
    "        self.keywords_en = metadata.get(\"palavras-chave em inglês\")\n",
    "        self.publish_date = metadata.get(\"data de publicação\")\n",
    "\n",
    "        raw_data = soup.find_all(class_=\"DocumentoTextoResumo\")\n",
    "        raw_data_keys = soup.find_all(class_=\"DocumentoTituloTexto2\")\n",
    "        data = {\n",
    "            k.text.strip().lower(): re.sub(r\"\\s+\", \" \", v.text.strip())\n",
    "            for (k, v) in zip(raw_data_keys, raw_data)\n",
    "        }\n",
    "        self.abstract_pt = data.get(\"resumo em português\")\n",
    "        self.abstract_en = data.get(\"resumo em inglês\")"
   ]
  },
  {
   "cell_type": "code",
   "execution_count": 4,
   "id": "bc047acb",
   "metadata": {},
   "outputs": [],
   "source": [
    "thesis = Thesis()"
   ]
  },
  {
   "cell_type": "code",
   "execution_count": 9,
   "id": "dcb34a96",
   "metadata": {},
   "outputs": [],
   "source": [
    "url = \"https://www.teses.usp.br/teses/disponiveis/17/17165/tde-03022023-115755/pt-br.php\"\n",
    "content = requests.get(url).content"
   ]
  },
  {
   "cell_type": "code",
   "execution_count": 11,
   "id": "6ce65947",
   "metadata": {},
   "outputs": [],
   "source": [
    "thesis.parse_webpage(content)"
   ]
  },
  {
   "cell_type": "code",
   "execution_count": 15,
   "id": "bc03e027",
   "metadata": {},
   "outputs": [
    {
     "data": {
      "text/plain": [
       "4629"
      ]
     },
     "execution_count": 15,
     "metadata": {},
     "output_type": "execute_result"
    }
   ],
   "source": [
    "fp = open(\"./teste.json\", \"w\")\n",
    "fp.write(json.dumps(thesis.__dict__))"
   ]
  },
  {
   "cell_type": "code",
   "execution_count": 19,
   "id": "a682c904",
   "metadata": {},
   "outputs": [],
   "source": [
    "d = {}"
   ]
  },
  {
   "cell_type": "code",
   "execution_count": 22,
   "id": "e8278a30",
   "metadata": {},
   "outputs": [],
   "source": [
    "d['c'] = thesis.__dict__"
   ]
  },
  {
   "cell_type": "code",
   "execution_count": 23,
   "id": "766ec128",
   "metadata": {},
   "outputs": [
    {
     "data": {
      "text/plain": [
       "'{\"a\": {\"doi\": \"https://doi.org/10.11606/D.17.2022.tde-03022023-115755\", \"type\": \"Disserta\\\\u00e7\\\\u00e3o de Mestrado\", \"author\": \"Altizani, Gabriela Marengone (Cat\\\\u00e1logo USP)\", \"institute\": \"Faculdade de Medicina de Ribeir\\\\u00e3o Preto\", \"knowledge_area\": \"Medicina\", \"committee\": \"Carmona, Fabio (Presidente) J\\\\u00fanior, P\\\\u00e9rsio Roxo Oliveira, Sergio Ricardo Lopes de\", \"title_pt\": \"Medidas sanit\\\\u00e1rias para conter a dissemina\\\\u00e7\\\\u00e3o de covid-19 reduziram hospitaliza\\\\u00e7\\\\u00f5es pedi\\\\u00e1tricas por infec\\\\u00e7\\\\u00f5es respirat\\\\u00f3rias em S\\\\u00e3o Paulo, Brasil\", \"title_en\": \"Sanitary measures to contain COVID-19 spread decreased pediatric hospitalizations due to other respiratory infections in S\\\\u00e3o Paulo, Brazil\", \"keywords_pt\": \"Coronav\\\\u00edrus Distanciamento social Hospitaliza\\\\u00e7\\\\u00e3o Infec\\\\u00e7\\\\u00f5es respirat\\\\u00f3rias Isolamento social\", \"keywords_en\": \"Coronavirus Hospitalization Respiratory tract infections Social distancing Social isolation\", \"abstract_pt\": \"Objetivo: Ap\\\\u00f3s a pandemia de Covid-19 atingir o Brasil e medidas sanit\\\\u00e1rias serem adotadas para conter a dissemina\\\\u00e7\\\\u00e3o viral, admiss\\\\u00f5es hospitalares pedi\\\\u00e1tricas diminu\\\\u00edram mais que o habitual. N\\\\u00f3s objetivamos descrever as tend\\\\u00eancias de admiss\\\\u00f5es pedi\\\\u00e1tricas e de adolescentes dos hospitais p\\\\u00fablicos por infec\\\\u00e7\\\\u00f5es respirat\\\\u00f3rias (IR) em S\\\\u00e3o Paulo, Brasil antes e ap\\\\u00f3s a ado\\\\u00e7\\\\u00e3o de medidas sanit\\\\u00e1rias para conter a dissemina\\\\u00e7\\\\u00e3o de Covid-19. M\\\\u00e9todos: Estudo ecol\\\\u00f3gico de s\\\\u00e9rie temporal da m\\\\u00e9dia di\\\\u00e1ria mensal das admiss\\\\u00f5es hospitalares de crian\\\\u00e7as e adolescentes (<16 anos) admitidos em hospitais p\\\\u00fablicos do estado de S\\\\u00e3o Paulo devido a IR entre janeiro de 2008 a mar\\\\u00e7o de 2021. Dados de 2008 a 2019 foram usados para ajustar o modelo estat\\\\u00edstico, enquanto que dados de 2020 a 2021 foram comparados aos valores preditos pelo modelo. Resultados: Em 2020 e 2021 o n\\\\u00famero de admiss\\\\u00f5es hospitalares foi significativamente menor que o valor predito na s\\\\u00e9rie temporal. Entretanto, a letalidade foi tr\\\\u00eas vezes maior nestes anos comparada aos anos anteriores e seis vezes maior em pacientes com Covid-19 comparado aqueles sem esta doen\\\\u00e7a. Custos hospitalares em 2020 e 2021 foram menores do que em anos pr\\\\u00e9vios. Conclus\\\\u00f5es: Estes achados sugerem que medidas sanit\\\\u00e1rias adotadas para conter a dissemina\\\\u00e7\\\\u00e3o de Covid-19 tamb\\\\u00e9m reduziram efetivamente a transmiss\\\\u00e3o de outros v\\\\u00edrus respirat\\\\u00f3rios. Pol\\\\u00edticas p\\\\u00fablicas e administradores podem usar este conhecimento para guiar e planejar interven\\\\u00e7\\\\u00f5es preventivas que possam diminuir o n\\\\u00famero e a gravidade das IR relacionadas a admiss\\\\u00f5es hospitalares em crian\\\\u00e7as e adolescentes, diminuindo a carga sobre o sistema p\\\\u00fablico de sa\\\\u00fade.\", \"abstract_en\": \"Objective: After the Covid-19 pandemics hit Brazil and sanitary measures were adopted to contain its dissemination, pediatric hospital admissions were apparently fewer than usual. We aimed to describe the time trends of public hospital admissions of children and adolescents due to respiratory infections (RIs) in S\\\\u00e3o Paulo State, Brazil, before and after the adoption of sanitary measures to contain the dissemination of Covid-19. Methods: Ecological, time-series study on the monthly average number of admissions per day of children and adolescents (< 16 years) admitted to public hospitals of S\\\\u00e3o Paulo due to acute RIs between January 2008 and March 2021. Data from 2008 to 2019 were used to adjust the statistical model, while data from 2020 and 2021 were compared to the values predicted by the model. Results: In 2020 and 2021 the number of hospital admissions was significantly lower than predicted by the time series. However, lethality was three times higher in these years, compared to the previous, and six times higher in patients with Covid-19, compared to those without the disease. Hospitalization costs in 2020 and 2021 were lower than in previous years. Conclusions: These findings suggest that the sanitary measures adopted to contain the dissemination of Covid-19 also effectively reduce the transmission of other respiratory viruses. Policymakers and administrators can use this knowledge as a guide to planning preventative interventions that could decrease the number and severity of RIs and related hospital admissions in children and adolescents, decreasing the burden on the public health system.\", \"publish_date\": \"2023-02-06\"}, \"b\": {\"doi\": \"https://doi.org/10.11606/D.17.2022.tde-03022023-115755\", \"type\": \"Disserta\\\\u00e7\\\\u00e3o de Mestrado\", \"author\": \"Altizani, Gabriela Marengone (Cat\\\\u00e1logo USP)\", \"institute\": \"Faculdade de Medicina de Ribeir\\\\u00e3o Preto\", \"knowledge_area\": \"Medicina\", \"committee\": \"Carmona, Fabio (Presidente) J\\\\u00fanior, P\\\\u00e9rsio Roxo Oliveira, Sergio Ricardo Lopes de\", \"title_pt\": \"Medidas sanit\\\\u00e1rias para conter a dissemina\\\\u00e7\\\\u00e3o de covid-19 reduziram hospitaliza\\\\u00e7\\\\u00f5es pedi\\\\u00e1tricas por infec\\\\u00e7\\\\u00f5es respirat\\\\u00f3rias em S\\\\u00e3o Paulo, Brasil\", \"title_en\": \"Sanitary measures to contain COVID-19 spread decreased pediatric hospitalizations due to other respiratory infections in S\\\\u00e3o Paulo, Brazil\", \"keywords_pt\": \"Coronav\\\\u00edrus Distanciamento social Hospitaliza\\\\u00e7\\\\u00e3o Infec\\\\u00e7\\\\u00f5es respirat\\\\u00f3rias Isolamento social\", \"keywords_en\": \"Coronavirus Hospitalization Respiratory tract infections Social distancing Social isolation\", \"abstract_pt\": \"Objetivo: Ap\\\\u00f3s a pandemia de Covid-19 atingir o Brasil e medidas sanit\\\\u00e1rias serem adotadas para conter a dissemina\\\\u00e7\\\\u00e3o viral, admiss\\\\u00f5es hospitalares pedi\\\\u00e1tricas diminu\\\\u00edram mais que o habitual. N\\\\u00f3s objetivamos descrever as tend\\\\u00eancias de admiss\\\\u00f5es pedi\\\\u00e1tricas e de adolescentes dos hospitais p\\\\u00fablicos por infec\\\\u00e7\\\\u00f5es respirat\\\\u00f3rias (IR) em S\\\\u00e3o Paulo, Brasil antes e ap\\\\u00f3s a ado\\\\u00e7\\\\u00e3o de medidas sanit\\\\u00e1rias para conter a dissemina\\\\u00e7\\\\u00e3o de Covid-19. M\\\\u00e9todos: Estudo ecol\\\\u00f3gico de s\\\\u00e9rie temporal da m\\\\u00e9dia di\\\\u00e1ria mensal das admiss\\\\u00f5es hospitalares de crian\\\\u00e7as e adolescentes (<16 anos) admitidos em hospitais p\\\\u00fablicos do estado de S\\\\u00e3o Paulo devido a IR entre janeiro de 2008 a mar\\\\u00e7o de 2021. Dados de 2008 a 2019 foram usados para ajustar o modelo estat\\\\u00edstico, enquanto que dados de 2020 a 2021 foram comparados aos valores preditos pelo modelo. Resultados: Em 2020 e 2021 o n\\\\u00famero de admiss\\\\u00f5es hospitalares foi significativamente menor que o valor predito na s\\\\u00e9rie temporal. Entretanto, a letalidade foi tr\\\\u00eas vezes maior nestes anos comparada aos anos anteriores e seis vezes maior em pacientes com Covid-19 comparado aqueles sem esta doen\\\\u00e7a. Custos hospitalares em 2020 e 2021 foram menores do que em anos pr\\\\u00e9vios. Conclus\\\\u00f5es: Estes achados sugerem que medidas sanit\\\\u00e1rias adotadas para conter a dissemina\\\\u00e7\\\\u00e3o de Covid-19 tamb\\\\u00e9m reduziram efetivamente a transmiss\\\\u00e3o de outros v\\\\u00edrus respirat\\\\u00f3rios. Pol\\\\u00edticas p\\\\u00fablicas e administradores podem usar este conhecimento para guiar e planejar interven\\\\u00e7\\\\u00f5es preventivas que possam diminuir o n\\\\u00famero e a gravidade das IR relacionadas a admiss\\\\u00f5es hospitalares em crian\\\\u00e7as e adolescentes, diminuindo a carga sobre o sistema p\\\\u00fablico de sa\\\\u00fade.\", \"abstract_en\": \"Objective: After the Covid-19 pandemics hit Brazil and sanitary measures were adopted to contain its dissemination, pediatric hospital admissions were apparently fewer than usual. We aimed to describe the time trends of public hospital admissions of children and adolescents due to respiratory infections (RIs) in S\\\\u00e3o Paulo State, Brazil, before and after the adoption of sanitary measures to contain the dissemination of Covid-19. Methods: Ecological, time-series study on the monthly average number of admissions per day of children and adolescents (< 16 years) admitted to public hospitals of S\\\\u00e3o Paulo due to acute RIs between January 2008 and March 2021. Data from 2008 to 2019 were used to adjust the statistical model, while data from 2020 and 2021 were compared to the values predicted by the model. Results: In 2020 and 2021 the number of hospital admissions was significantly lower than predicted by the time series. However, lethality was three times higher in these years, compared to the previous, and six times higher in patients with Covid-19, compared to those without the disease. Hospitalization costs in 2020 and 2021 were lower than in previous years. Conclusions: These findings suggest that the sanitary measures adopted to contain the dissemination of Covid-19 also effectively reduce the transmission of other respiratory viruses. Policymakers and administrators can use this knowledge as a guide to planning preventative interventions that could decrease the number and severity of RIs and related hospital admissions in children and adolescents, decreasing the burden on the public health system.\", \"publish_date\": \"2023-02-06\"}, \"c\": {\"doi\": \"https://doi.org/10.11606/D.17.2022.tde-03022023-115755\", \"type\": \"Disserta\\\\u00e7\\\\u00e3o de Mestrado\", \"author\": \"Altizani, Gabriela Marengone (Cat\\\\u00e1logo USP)\", \"institute\": \"Faculdade de Medicina de Ribeir\\\\u00e3o Preto\", \"knowledge_area\": \"Medicina\", \"committee\": \"Carmona, Fabio (Presidente) J\\\\u00fanior, P\\\\u00e9rsio Roxo Oliveira, Sergio Ricardo Lopes de\", \"title_pt\": \"Medidas sanit\\\\u00e1rias para conter a dissemina\\\\u00e7\\\\u00e3o de covid-19 reduziram hospitaliza\\\\u00e7\\\\u00f5es pedi\\\\u00e1tricas por infec\\\\u00e7\\\\u00f5es respirat\\\\u00f3rias em S\\\\u00e3o Paulo, Brasil\", \"title_en\": \"Sanitary measures to contain COVID-19 spread decreased pediatric hospitalizations due to other respiratory infections in S\\\\u00e3o Paulo, Brazil\", \"keywords_pt\": \"Coronav\\\\u00edrus Distanciamento social Hospitaliza\\\\u00e7\\\\u00e3o Infec\\\\u00e7\\\\u00f5es respirat\\\\u00f3rias Isolamento social\", \"keywords_en\": \"Coronavirus Hospitalization Respiratory tract infections Social distancing Social isolation\", \"abstract_pt\": \"Objetivo: Ap\\\\u00f3s a pandemia de Covid-19 atingir o Brasil e medidas sanit\\\\u00e1rias serem adotadas para conter a dissemina\\\\u00e7\\\\u00e3o viral, admiss\\\\u00f5es hospitalares pedi\\\\u00e1tricas diminu\\\\u00edram mais que o habitual. N\\\\u00f3s objetivamos descrever as tend\\\\u00eancias de admiss\\\\u00f5es pedi\\\\u00e1tricas e de adolescentes dos hospitais p\\\\u00fablicos por infec\\\\u00e7\\\\u00f5es respirat\\\\u00f3rias (IR) em S\\\\u00e3o Paulo, Brasil antes e ap\\\\u00f3s a ado\\\\u00e7\\\\u00e3o de medidas sanit\\\\u00e1rias para conter a dissemina\\\\u00e7\\\\u00e3o de Covid-19. M\\\\u00e9todos: Estudo ecol\\\\u00f3gico de s\\\\u00e9rie temporal da m\\\\u00e9dia di\\\\u00e1ria mensal das admiss\\\\u00f5es hospitalares de crian\\\\u00e7as e adolescentes (<16 anos) admitidos em hospitais p\\\\u00fablicos do estado de S\\\\u00e3o Paulo devido a IR entre janeiro de 2008 a mar\\\\u00e7o de 2021. Dados de 2008 a 2019 foram usados para ajustar o modelo estat\\\\u00edstico, enquanto que dados de 2020 a 2021 foram comparados aos valores preditos pelo modelo. Resultados: Em 2020 e 2021 o n\\\\u00famero de admiss\\\\u00f5es hospitalares foi significativamente menor que o valor predito na s\\\\u00e9rie temporal. Entretanto, a letalidade foi tr\\\\u00eas vezes maior nestes anos comparada aos anos anteriores e seis vezes maior em pacientes com Covid-19 comparado aqueles sem esta doen\\\\u00e7a. Custos hospitalares em 2020 e 2021 foram menores do que em anos pr\\\\u00e9vios. Conclus\\\\u00f5es: Estes achados sugerem que medidas sanit\\\\u00e1rias adotadas para conter a dissemina\\\\u00e7\\\\u00e3o de Covid-19 tamb\\\\u00e9m reduziram efetivamente a transmiss\\\\u00e3o de outros v\\\\u00edrus respirat\\\\u00f3rios. Pol\\\\u00edticas p\\\\u00fablicas e administradores podem usar este conhecimento para guiar e planejar interven\\\\u00e7\\\\u00f5es preventivas que possam diminuir o n\\\\u00famero e a gravidade das IR relacionadas a admiss\\\\u00f5es hospitalares em crian\\\\u00e7as e adolescentes, diminuindo a carga sobre o sistema p\\\\u00fablico de sa\\\\u00fade.\", \"abstract_en\": \"Objective: After the Covid-19 pandemics hit Brazil and sanitary measures were adopted to contain its dissemination, pediatric hospital admissions were apparently fewer than usual. We aimed to describe the time trends of public hospital admissions of children and adolescents due to respiratory infections (RIs) in S\\\\u00e3o Paulo State, Brazil, before and after the adoption of sanitary measures to contain the dissemination of Covid-19. Methods: Ecological, time-series study on the monthly average number of admissions per day of children and adolescents (< 16 years) admitted to public hospitals of S\\\\u00e3o Paulo due to acute RIs between January 2008 and March 2021. Data from 2008 to 2019 were used to adjust the statistical model, while data from 2020 and 2021 were compared to the values predicted by the model. Results: In 2020 and 2021 the number of hospital admissions was significantly lower than predicted by the time series. However, lethality was three times higher in these years, compared to the previous, and six times higher in patients with Covid-19, compared to those without the disease. Hospitalization costs in 2020 and 2021 were lower than in previous years. Conclusions: These findings suggest that the sanitary measures adopted to contain the dissemination of Covid-19 also effectively reduce the transmission of other respiratory viruses. Policymakers and administrators can use this knowledge as a guide to planning preventative interventions that could decrease the number and severity of RIs and related hospital admissions in children and adolescents, decreasing the burden on the public health system.\", \"publish_date\": \"2023-02-06\"}}'"
      ]
     },
     "execution_count": 23,
     "metadata": {},
     "output_type": "execute_result"
    }
   ],
   "source": [
    "json.dumps(d)"
   ]
  },
  {
   "cell_type": "code",
   "execution_count": null,
   "id": "9957da74",
   "metadata": {},
   "outputs": [],
   "source": []
  }
 ],
 "metadata": {
  "kernelspec": {
   "display_name": "Python 3 (ipykernel)",
   "language": "python",
   "name": "python3"
  },
  "language_info": {
   "codemirror_mode": {
    "name": "ipython",
    "version": 3
   },
   "file_extension": ".py",
   "mimetype": "text/x-python",
   "name": "python",
   "nbconvert_exporter": "python",
   "pygments_lexer": "ipython3",
   "version": "3.10.6"
  }
 },
 "nbformat": 4,
 "nbformat_minor": 5
}
