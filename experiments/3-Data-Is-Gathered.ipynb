{
 "cells": [
  {
   "cell_type": "markdown",
   "id": "23511cbd",
   "metadata": {},
   "source": [
    "## 3. Data Is Gathered\n",
    "\n",
    "Data: 12 de Junho de 2023\n",
    "\n",
    "Esse notebook contém:\n",
    "\n",
    "\n",
    "### Notas:\n",
    "\n"
   ]
  },
  {
   "cell_type": "code",
   "execution_count": 54,
   "id": "b9d75543",
   "metadata": {},
   "outputs": [],
   "source": [
    "import json\n",
    "import numpy as np\n",
    "import pandas as pd\n",
    "from tqdm.notebook import tqdm"
   ]
  },
  {
   "cell_type": "code",
   "execution_count": 55,
   "id": "f06c9409",
   "metadata": {},
   "outputs": [],
   "source": [
    "from nbconf import *"
   ]
  },
  {
   "cell_type": "code",
   "execution_count": 56,
   "id": "c301fd89",
   "metadata": {},
   "outputs": [],
   "source": [
    "import sqlite3"
   ]
  },
  {
   "cell_type": "code",
   "execution_count": 57,
   "id": "0607eb89",
   "metadata": {},
   "outputs": [],
   "source": [
    "conn = sqlite3.connect(os.path.join(config.DATA_PATH, config.WEBPAGES_DATABASE))"
   ]
  },
  {
   "cell_type": "code",
   "execution_count": 58,
   "id": "ea4920c6",
   "metadata": {},
   "outputs": [],
   "source": [
    "cursor = conn.cursor()"
   ]
  },
  {
   "cell_type": "code",
   "execution_count": 59,
   "id": "1e9e52d6",
   "metadata": {},
   "outputs": [],
   "source": [
    "df = pd.DataFrame(cursor.execute(\"SELECT * FROM metadata\"))"
   ]
  },
  {
   "cell_type": "markdown",
   "id": "6e810df3",
   "metadata": {},
   "source": [
    "### Data Selection"
   ]
  },
  {
   "cell_type": "code",
   "execution_count": 60,
   "id": "ac240218",
   "metadata": {},
   "outputs": [],
   "source": [
    "df.columns = [\n",
    "    'url',\n",
    "    'doi',\n",
    "    'type',\n",
    "    'author',\n",
    "    'institute',\n",
    "    'knowledge_area',\n",
    "    'committee',\n",
    "    'title_pt',\n",
    "    'title_en',\n",
    "    'keywords_pt',\n",
    "    'keywords_en',\n",
    "    'abstract_pt',\n",
    "    'abstract_en',\n",
    "    'publish_date'\n",
    "]"
   ]
  },
  {
   "cell_type": "code",
   "execution_count": 61,
   "id": "13045724",
   "metadata": {},
   "outputs": [
    {
     "data": {
      "text/html": [
       "<div>\n",
       "<style scoped>\n",
       "    .dataframe tbody tr th:only-of-type {\n",
       "        vertical-align: middle;\n",
       "    }\n",
       "\n",
       "    .dataframe tbody tr th {\n",
       "        vertical-align: top;\n",
       "    }\n",
       "\n",
       "    .dataframe thead th {\n",
       "        text-align: right;\n",
       "    }\n",
       "</style>\n",
       "<table border=\"1\" class=\"dataframe\">\n",
       "  <thead>\n",
       "    <tr style=\"text-align: right;\">\n",
       "      <th></th>\n",
       "      <th>url</th>\n",
       "      <th>doi</th>\n",
       "      <th>type</th>\n",
       "      <th>author</th>\n",
       "      <th>institute</th>\n",
       "      <th>knowledge_area</th>\n",
       "      <th>committee</th>\n",
       "      <th>title_pt</th>\n",
       "      <th>title_en</th>\n",
       "      <th>keywords_pt</th>\n",
       "      <th>keywords_en</th>\n",
       "      <th>abstract_pt</th>\n",
       "      <th>abstract_en</th>\n",
       "      <th>publish_date</th>\n",
       "    </tr>\n",
       "  </thead>\n",
       "  <tbody>\n",
       "    <tr>\n",
       "      <th>0</th>\n",
       "      <td>https://www.teses.usp.br/teses/disponiveis/44/...</td>\n",
       "      <td>10.11606/T.44.2016.tde-06072016-171200</td>\n",
       "      <td>Tese de Doutorado</td>\n",
       "      <td>Pinto, Irajá Damiani (Catálogo USP)</td>\n",
       "      <td>Instituto de Geociências</td>\n",
       "      <td>Área do Conhecimento</td>\n",
       "      <td>None</td>\n",
       "      <td>Corais carboníferos da Amazônia</td>\n",
       "      <td>Not available</td>\n",
       "      <td>Coral (gema orgânica) Estratigrafia - Amazônia...</td>\n",
       "      <td>Not available</td>\n",
       "      <td>O presente trabalho compreende o estudo de cor...</td>\n",
       "      <td>Not available</td>\n",
       "      <td>2016-07-07</td>\n",
       "    </tr>\n",
       "    <tr>\n",
       "      <th>1</th>\n",
       "      <td>https://www.teses.usp.br/teses/disponiveis/44/...</td>\n",
       "      <td>10.11606/T.44.2016.tde-06072016-172400</td>\n",
       "      <td>Tese de Doutorado</td>\n",
       "      <td>Kawashita, Koji (Catálogo USP)</td>\n",
       "      <td>Instituto de Geociências</td>\n",
       "      <td>Área do Conhecimento</td>\n",
       "      <td>None</td>\n",
       "      <td>Metodo Rb-Sr em rochas sedimentares: aplicação...</td>\n",
       "      <td>Not available</td>\n",
       "      <td>Geocronologia Rochas sedimentares</td>\n",
       "      <td>Not available</td>\n",
       "      <td>Estudo radiométrico em sedimentos com posição ...</td>\n",
       "      <td>Not available</td>\n",
       "      <td>2016-07-07</td>\n",
       "    </tr>\n",
       "  </tbody>\n",
       "</table>\n",
       "</div>"
      ],
      "text/plain": [
       "                                                 url  \\\n",
       "0  https://www.teses.usp.br/teses/disponiveis/44/...   \n",
       "1  https://www.teses.usp.br/teses/disponiveis/44/...   \n",
       "\n",
       "                                      doi               type  \\\n",
       "0  10.11606/T.44.2016.tde-06072016-171200  Tese de Doutorado   \n",
       "1  10.11606/T.44.2016.tde-06072016-172400  Tese de Doutorado   \n",
       "\n",
       "                                author                 institute  \\\n",
       "0  Pinto, Irajá Damiani (Catálogo USP)  Instituto de Geociências   \n",
       "1       Kawashita, Koji (Catálogo USP)  Instituto de Geociências   \n",
       "\n",
       "         knowledge_area committee  \\\n",
       "0  Área do Conhecimento      None   \n",
       "1  Área do Conhecimento      None   \n",
       "\n",
       "                                            title_pt       title_en  \\\n",
       "0                    Corais carboníferos da Amazônia  Not available   \n",
       "1  Metodo Rb-Sr em rochas sedimentares: aplicação...  Not available   \n",
       "\n",
       "                                         keywords_pt    keywords_en  \\\n",
       "0  Coral (gema orgânica) Estratigrafia - Amazônia...  Not available   \n",
       "1                  Geocronologia Rochas sedimentares  Not available   \n",
       "\n",
       "                                         abstract_pt    abstract_en  \\\n",
       "0  O presente trabalho compreende o estudo de cor...  Not available   \n",
       "1  Estudo radiométrico em sedimentos com posição ...  Not available   \n",
       "\n",
       "  publish_date  \n",
       "0   2016-07-07  \n",
       "1   2016-07-07  "
      ]
     },
     "execution_count": 61,
     "metadata": {},
     "output_type": "execute_result"
    }
   ],
   "source": [
    "df.head(2)"
   ]
  },
  {
   "cell_type": "code",
   "execution_count": 62,
   "id": "d07efc38",
   "metadata": {},
   "outputs": [
    {
     "name": "stdout",
     "output_type": "stream",
     "text": [
      "<class 'pandas.core.frame.DataFrame'>\n",
      "RangeIndex: 104710 entries, 0 to 104709\n",
      "Data columns (total 14 columns):\n",
      " #   Column          Non-Null Count   Dtype \n",
      "---  ------          --------------   ----- \n",
      " 0   url             104710 non-null  object\n",
      " 1   doi             104515 non-null  object\n",
      " 2   type            104705 non-null  object\n",
      " 3   author          104705 non-null  object\n",
      " 4   institute       104705 non-null  object\n",
      " 5   knowledge_area  104705 non-null  object\n",
      " 6   committee       100960 non-null  object\n",
      " 7   title_pt        104634 non-null  object\n",
      " 8   title_en        102793 non-null  object\n",
      " 9   keywords_pt     104498 non-null  object\n",
      " 10  keywords_en     100533 non-null  object\n",
      " 11  abstract_pt     104633 non-null  object\n",
      " 12  abstract_en     103690 non-null  object\n",
      " 13  publish_date    104620 non-null  object\n",
      "dtypes: object(14)\n",
      "memory usage: 11.2+ MB\n"
     ]
    }
   ],
   "source": [
    "df.info()"
   ]
  },
  {
   "cell_type": "markdown",
   "id": "54fd267a",
   "metadata": {},
   "source": [
    "#### Selection"
   ]
  },
  {
   "cell_type": "code",
   "execution_count": 63,
   "id": "5d1d833c",
   "metadata": {},
   "outputs": [],
   "source": [
    "data = df.loc[:,[\"title_en\", \"abstract_en\", \"keywords_en\"]]\n",
    "metadata = df.loc[:, [\"url\", \"type\", \"author\", \"institute\", \"title_en\", \"abstract_en\", \"keywords_en\"]]"
   ]
  },
  {
   "cell_type": "markdown",
   "id": "459ada9a",
   "metadata": {},
   "source": [
    "#### Null values"
   ]
  },
  {
   "cell_type": "code",
   "execution_count": 64,
   "id": "099f6360",
   "metadata": {
    "scrolled": true
   },
   "outputs": [
    {
     "name": "stdout",
     "output_type": "stream",
     "text": [
      "<class 'pandas.core.frame.DataFrame'>\n",
      "RangeIndex: 104710 entries, 0 to 104709\n",
      "Data columns (total 3 columns):\n",
      " #   Column       Non-Null Count   Dtype \n",
      "---  ------       --------------   ----- \n",
      " 0   title_en     102793 non-null  object\n",
      " 1   abstract_en  103690 non-null  object\n",
      " 2   keywords_en  100533 non-null  object\n",
      "dtypes: object(3)\n",
      "memory usage: 2.4+ MB\n"
     ]
    }
   ],
   "source": [
    "data.info()"
   ]
  },
  {
   "cell_type": "code",
   "execution_count": 65,
   "id": "211b4401",
   "metadata": {},
   "outputs": [],
   "source": [
    "data = data.replace(to_replace=\"Not available\", value=None)\n",
    "# data = data.replace(to_replace=\"não possui\", value=None)\n",
    "# data = data.replace(to_replace=\"Não disponível\", value=None)\n",
    "# data = data.replace(to_replace=\"No abstract\", value=None)"
   ]
  },
  {
   "cell_type": "code",
   "execution_count": 66,
   "id": "eb8a113e",
   "metadata": {},
   "outputs": [],
   "source": [
    "data = data[data['title_en'].notnull() & data['abstract_en'].notnull()]\n",
    "idx = data.index"
   ]
  },
  {
   "cell_type": "code",
   "execution_count": 67,
   "id": "b5c1ef8f",
   "metadata": {},
   "outputs": [],
   "source": [
    "metadata = metadata.iloc[idx]"
   ]
  },
  {
   "cell_type": "code",
   "execution_count": 68,
   "id": "fc161e3f",
   "metadata": {},
   "outputs": [],
   "source": [
    "data = data.reset_index(drop=True)\n",
    "metadata = metadata.reset_index(drop=True)"
   ]
  },
  {
   "cell_type": "code",
   "execution_count": 69,
   "id": "316054cb",
   "metadata": {},
   "outputs": [
    {
     "data": {
      "text/plain": [
       "title_en       Effect of the use of Probiotic on parameters o...\n",
       "abstract_en    The demand from consumers for good-quality pro...\n",
       "keywords_en    Broilers Hematology Immunity Performance Probi...\n",
       "Name: 10000, dtype: object"
      ]
     },
     "execution_count": 69,
     "metadata": {},
     "output_type": "execute_result"
    }
   ],
   "source": [
    "data.iloc[10000]"
   ]
  },
  {
   "cell_type": "code",
   "execution_count": 70,
   "id": "1b601f71",
   "metadata": {},
   "outputs": [
    {
     "data": {
      "text/plain": [
       "url            https://www.teses.usp.br/teses/disponiveis/10/...\n",
       "type                                     Dissertação de Mestrado\n",
       "author               Bittencourt, Letícia Cardoso (Catálogo USP)\n",
       "institute          Faculdade de Medicina Veterinária e Zootecnia\n",
       "title_en       Effect of the use of Probiotic on parameters o...\n",
       "abstract_en    The demand from consumers for good-quality pro...\n",
       "keywords_en    Broilers Hematology Immunity Performance Probi...\n",
       "Name: 10000, dtype: object"
      ]
     },
     "execution_count": 70,
     "metadata": {},
     "output_type": "execute_result"
    }
   ],
   "source": [
    "metadata.iloc[10000]"
   ]
  },
  {
   "cell_type": "code",
   "execution_count": null,
   "id": "58ff646f",
   "metadata": {},
   "outputs": [],
   "source": []
  },
  {
   "cell_type": "code",
   "execution_count": 71,
   "id": "01fb28a2",
   "metadata": {},
   "outputs": [],
   "source": [
    "data = data.fillna(\"\")"
   ]
  },
  {
   "cell_type": "code",
   "execution_count": 23,
   "id": "8c12c7e1",
   "metadata": {},
   "outputs": [],
   "source": [
    "data.to_csv(os.path.join(config.DATA_PATH, \"clean_data.csv\" ), escapechar='\\\\')"
   ]
  },
  {
   "cell_type": "markdown",
   "id": "a326e228",
   "metadata": {},
   "source": [
    "### Encoding\n",
    "\n",
    "O código a seguir cria batches de descrições a partir do título, abstract e palavras-chave e solicita ao modelo que codifique as embeddings, que são apensadas a vectors ao final."
   ]
  },
  {
   "cell_type": "markdown",
   "id": "809abfac",
   "metadata": {},
   "source": [
    "##### Exemplo de execução"
   ]
  },
  {
   "cell_type": "code",
   "execution_count": 72,
   "id": "0d1fe3a9",
   "metadata": {},
   "outputs": [
    {
     "data": {
      "text/plain": [
       "['Mitigating DDoS attacks on IoT through machine learning and network functions virtualization',\n",
       " 'The Internet of Things (IoT) has undergone a rapid popularization, reaching a wide range of application domains',\n",
       " 'As a consequence, more and more IoT devices with diverse characteristics are deployed in a variety of public and private environments, progressively becoming common objects of everyday life',\n",
       " 'On the other hand, the physical infrastructure of heterogeneous systems is complex and requires efficient and dynamic solutions for managing network performance and security, at a level that allows standardized deployment and easy replication in smart industries, buildings and cities',\n",
       " 'An approach that has been gaining ground when the intention is to respond to security threats on IoT is the Network Functions Virtualization (NFV) usage',\n",
       " 'The literature presents some works that use NFV to detect and mitigate security threats on IoT networks, but few performance indicators of the network context are explored to compose a more efficient solution',\n",
       " 'Thus, this work presents the development of a network context performance-based approach to mitigate Distributed Denial of Service (DDoS) attacks on IoT, investigating how performance indicators can compose Machine Learning (ML) models for Virtual Network Functions (VNF) placement',\n",
       " 'ML models were trained and tested using network context performance indicators to carry out two experiments',\n",
       " 'The first is related to the prediction of the response time of Industrial Internet of Things (IIoT) networks',\n",
       " 'The second on the security VNF placement, also on IIoT networks',\n",
       " 'The respective results achieved are predictions of network response times that are at most 50 milliseconds longer than settings realized by linear programming models and classifications with 99.40% of accuracy for the correct placement of security VNF on IIoT networks under DDoS attacks',\n",
       " 'DDoS IoT Machine learning NFV Performance Security VNF']"
      ]
     },
     "execution_count": 72,
     "metadata": {},
     "output_type": "execute_result"
    }
   ],
   "source": [
    "row = data.iloc[97601,:]\n",
    "pre = (row.title_en + \". \" + row.abstract_en + \" \" + row.keywords_en).split(\". \")\n",
    "pre"
   ]
  },
  {
   "cell_type": "code",
   "execution_count": 49,
   "id": "157f21a2",
   "metadata": {},
   "outputs": [
    {
     "ename": "NameError",
     "evalue": "name 'SentenceTransformer' is not defined",
     "output_type": "error",
     "traceback": [
      "\u001b[0;31m---------------------------------------------------------------------------\u001b[0m",
      "\u001b[0;31mNameError\u001b[0m                                 Traceback (most recent call last)",
      "\u001b[0;32m/tmp/ipykernel_13323/33912381.py\u001b[0m in \u001b[0;36m<module>\u001b[0;34m\u001b[0m\n\u001b[0;32m----> 1\u001b[0;31m \u001b[0mmodel\u001b[0m \u001b[0;34m=\u001b[0m \u001b[0mSentenceTransformer\u001b[0m\u001b[0;34m(\u001b[0m\u001b[0;34m'distilbert-base-nli-stsb-mean-tokens'\u001b[0m\u001b[0;34m,\u001b[0m \u001b[0mdevice\u001b[0m\u001b[0;34m=\u001b[0m\u001b[0;34m'cuda'\u001b[0m\u001b[0;34m)\u001b[0m\u001b[0;34m\u001b[0m\u001b[0;34m\u001b[0m\u001b[0m\n\u001b[0m",
      "\u001b[0;31mNameError\u001b[0m: name 'SentenceTransformer' is not defined"
     ]
    }
   ],
   "source": [
    "model = SentenceTransformer('distilbert-base-nli-stsb-mean-tokens', device='cuda')"
   ]
  },
  {
   "cell_type": "code",
   "execution_count": 217,
   "id": "5b75d746",
   "metadata": {},
   "outputs": [
    {
     "data": {
      "text/plain": [
       "(12, 768)"
      ]
     },
     "execution_count": 217,
     "metadata": {},
     "output_type": "execute_result"
    }
   ],
   "source": [
    "model.encode(pre).shape"
   ]
  },
  {
   "cell_type": "code",
   "execution_count": 51,
   "id": "7d6936ac",
   "metadata": {},
   "outputs": [
    {
     "ename": "NameError",
     "evalue": "name 'model' is not defined",
     "output_type": "error",
     "traceback": [
      "\u001b[0;31m---------------------------------------------------------------------------\u001b[0m",
      "\u001b[0;31mNameError\u001b[0m                                 Traceback (most recent call last)",
      "\u001b[0;32m/tmp/ipykernel_13323/4278676666.py\u001b[0m in \u001b[0;36m<module>\u001b[0;34m\u001b[0m\n\u001b[1;32m      3\u001b[0m \u001b[0;32mimport\u001b[0m \u001b[0mtime\u001b[0m\u001b[0;34m\u001b[0m\u001b[0;34m\u001b[0m\u001b[0m\n\u001b[1;32m      4\u001b[0m \u001b[0ms\u001b[0m \u001b[0;34m=\u001b[0m \u001b[0mtime\u001b[0m\u001b[0;34m.\u001b[0m\u001b[0mtime\u001b[0m\u001b[0;34m(\u001b[0m\u001b[0;34m)\u001b[0m\u001b[0;34m\u001b[0m\u001b[0;34m\u001b[0m\u001b[0m\n\u001b[0;32m----> 5\u001b[0;31m \u001b[0mvectors\u001b[0m \u001b[0;34m=\u001b[0m \u001b[0mmodel\u001b[0m\u001b[0;34m.\u001b[0m\u001b[0mencode\u001b[0m\u001b[0;34m(\u001b[0m\u001b[0mbatch\u001b[0m\u001b[0;34m)\u001b[0m\u001b[0;34m\u001b[0m\u001b[0;34m\u001b[0m\u001b[0m\n\u001b[0m\u001b[1;32m      6\u001b[0m \u001b[0me\u001b[0m \u001b[0;34m=\u001b[0m \u001b[0mtime\u001b[0m\u001b[0;34m.\u001b[0m\u001b[0mtime\u001b[0m\u001b[0;34m(\u001b[0m\u001b[0;34m)\u001b[0m\u001b[0;34m\u001b[0m\u001b[0;34m\u001b[0m\u001b[0m\n\u001b[1;32m      7\u001b[0m \u001b[0mprint\u001b[0m\u001b[0;34m(\u001b[0m\u001b[0me\u001b[0m \u001b[0;34m-\u001b[0m \u001b[0ms\u001b[0m\u001b[0;34m,\u001b[0m \u001b[0;34m\" segundos\"\u001b[0m\u001b[0;34m)\u001b[0m\u001b[0;34m\u001b[0m\u001b[0;34m\u001b[0m\u001b[0m\n",
      "\u001b[0;31mNameError\u001b[0m: name 'model' is not defined"
     ]
    }
   ],
   "source": [
    "# batch of size 64\n",
    "batch = [pre for _ in range(64)]\n",
    "import time\n",
    "s = time.time()\n",
    "vectors = model.encode(batch)\n",
    "e = time.time()\n",
    "print(e - s, \" segundos\")"
   ]
  },
  {
   "cell_type": "code",
   "execution_count": 50,
   "id": "81c6ada8",
   "metadata": {},
   "outputs": [
    {
     "ename": "NameError",
     "evalue": "name 'vectors' is not defined",
     "output_type": "error",
     "traceback": [
      "\u001b[0;31m---------------------------------------------------------------------------\u001b[0m",
      "\u001b[0;31mNameError\u001b[0m                                 Traceback (most recent call last)",
      "\u001b[0;32m/tmp/ipykernel_13323/3796517092.py\u001b[0m in \u001b[0;36m<module>\u001b[0;34m\u001b[0m\n\u001b[0;32m----> 1\u001b[0;31m \u001b[0mvectors\u001b[0m\u001b[0;34m.\u001b[0m\u001b[0mshape\u001b[0m\u001b[0;34m\u001b[0m\u001b[0;34m\u001b[0m\u001b[0m\n\u001b[0m",
      "\u001b[0;31mNameError\u001b[0m: name 'vectors' is not defined"
     ]
    }
   ],
   "source": [
    "vectors.shape"
   ]
  },
  {
   "cell_type": "code",
   "execution_count": 187,
   "id": "d5f938e6",
   "metadata": {},
   "outputs": [
    {
     "name": "stdout",
     "output_type": "stream",
     "text": [
      "768 embeddings\n"
     ]
    }
   ],
   "source": [
    "# o texto é representado por\n",
    "print(len(vectors[0]), \"embeddings\")"
   ]
  },
  {
   "cell_type": "markdown",
   "id": "84f9fb84",
   "metadata": {},
   "source": [
    "#### Cálculo dos vetores"
   ]
  },
  {
   "cell_type": "code",
   "execution_count": 222,
   "id": "f27733c9",
   "metadata": {
    "scrolled": true
   },
   "outputs": [
    {
     "data": {
      "application/vnd.jupyter.widget-view+json": {
       "model_id": "7dbf25641b054b19bb221509f7cacd89",
       "version_major": 2,
       "version_minor": 0
      },
      "text/plain": [
       "0it [00:00, ?it/s]"
      ]
     },
     "metadata": {},
     "output_type": "display_data"
    }
   ],
   "source": [
    "# encoding in batches can reduce overhead costs and speed up the process\n",
    "vectors = []\n",
    "batch_size = 64  # TODO: how can I speed up? Maybe reduce batch?\n",
    "batch = []\n",
    "for row in tqdm(data.itertuples()):\n",
    "    descriptions = []\n",
    "    pre = (row.title_en + \". \" + row.abstract_en + \" \" + row.keywords_en).split(\". \")\n",
    "    encoding = model.encode(pre)\n",
    "    vectors.append(encoding)\n",
    "#     if len(batch) >= batch_size:\n",
    "#         vectors.append(model.encode(batch))\n",
    "#         batch = []\n",
    "# if len(batch) > 0:\n",
    "#     vectors.append(model.encode(batch))\n",
    "#     batch = []\n",
    "\n",
    "vectors_concat = np.concatenate(vectors)"
   ]
  },
  {
   "cell_type": "code",
   "execution_count": 73,
   "id": "a1993df0",
   "metadata": {},
   "outputs": [],
   "source": [
    "idxs = []\n",
    "for i, row in enumerate(data.itertuples()):\n",
    "    for _ in range(len((row.title_en + \". \" + row.abstract_en + \" \" + row.keywords_en).split(\". \"))):\n",
    "        idxs.append(i)"
   ]
  },
  {
   "cell_type": "code",
   "execution_count": 75,
   "id": "20615153",
   "metadata": {},
   "outputs": [],
   "source": [
    "import pickle"
   ]
  },
  {
   "cell_type": "code",
   "execution_count": 76,
   "id": "b83b4726",
   "metadata": {},
   "outputs": [],
   "source": [
    "import os"
   ]
  },
  {
   "cell_type": "code",
   "execution_count": 79,
   "id": "c10a45a2",
   "metadata": {},
   "outputs": [],
   "source": [
    "with open(os.path.join(config.DATA_PATH, \"idxs.pickle\"), 'wb') as f:\n",
    "    pickle.dump(idxs, f)"
   ]
  },
  {
   "cell_type": "code",
   "execution_count": 225,
   "id": "d5a61594",
   "metadata": {},
   "outputs": [
    {
     "data": {
      "text/plain": [
       "array([[-0.4340217 ,  0.42884657,  1.4143783 , ..., -0.15943804,\n",
       "        -0.85209644, -0.7908082 ],\n",
       "       [ 0.23602659,  0.20836525,  0.99276525, ...,  0.19000989,\n",
       "        -0.4924341 , -0.8562151 ],\n",
       "       [ 0.16545534, -0.09567884,  1.3298293 , ...,  0.08211403,\n",
       "        -0.50803363, -0.40309826],\n",
       "       ...,\n",
       "       [-0.32332236,  0.5328971 ,  0.69116515, ...,  0.41696966,\n",
       "        -0.20721593,  0.18184057],\n",
       "       [-0.8625958 ,  0.6534884 ,  0.20543995, ..., -0.30923805,\n",
       "        -0.56630987, -0.19633113],\n",
       "       [ 0.88802785,  0.18949236,  0.15269034, ...,  0.18557502,\n",
       "         0.249683  ,  1.4947641 ]], dtype=float32)"
      ]
     },
     "execution_count": 225,
     "metadata": {},
     "output_type": "execute_result"
    }
   ],
   "source": [
    "vectors_concat"
   ]
  },
  {
   "cell_type": "code",
   "execution_count": 226,
   "id": "1297b3d8",
   "metadata": {},
   "outputs": [],
   "source": [
    "np.save(os.path.join(config.DATA_PATH,\"vectors_experiment_4.npy\"), vectors_concat, allow_pickle=False)"
   ]
  },
  {
   "cell_type": "markdown",
   "id": "0e6b3ec8",
   "metadata": {},
   "source": [
    "### Testes - Para ter certeza de que os vetores fazem sentido"
   ]
  },
  {
   "cell_type": "code",
   "execution_count": 227,
   "id": "9ac10c79",
   "metadata": {},
   "outputs": [],
   "source": [
    "vectors = np.load(os.path.join(config.DATA_PATH,\"vectors_experiment_4.npy\"))"
   ]
  },
  {
   "cell_type": "code",
   "execution_count": 228,
   "id": "fa241d5d",
   "metadata": {},
   "outputs": [],
   "source": [
    "from sklearn.metrics.pairwise import cosine_similarity"
   ]
  },
  {
   "cell_type": "markdown",
   "id": "0ad4de84",
   "metadata": {},
   "source": [
    "> **Pergunta**: Como funciona cosine_similarity?"
   ]
  },
  {
   "cell_type": "code",
   "execution_count": 238,
   "id": "f3cfe23e",
   "metadata": {},
   "outputs": [
    {
     "data": {
      "text/plain": [
       "1686621456.7033858"
      ]
     },
     "execution_count": 238,
     "metadata": {},
     "output_type": "execute_result"
    }
   ],
   "source": [
    "import time\n",
    "time.time()"
   ]
  },
  {
   "cell_type": "code",
   "execution_count": 239,
   "id": "cbc4121a",
   "metadata": {
    "scrolled": false
   },
   "outputs": [],
   "source": [
    "import time\n",
    "def query(sample_query):\n",
    "    s = time.time()\n",
    "    query_vector = model.encode(sample_query)\n",
    "    e0 = time.time()\n",
    "    print(f\"Encode took {e0-s}s\")\n",
    "    \n",
    "    e1 = time.time()\n",
    "    [scores] = cosine_similarity([query_vector], vectors)\n",
    "    e2 = time.time()\n",
    "    print(f\"Encode took {e2-e1}s\")\n",
    "    \n",
    "    top_scores_ids = np.argsort(scores)\n",
    "    top_scores_ids = top_scores_ids[::-1][:15]\n",
    "\n",
    "    for top_id in top_scores_ids:\n",
    "        tmp = metadata.iloc[idxs[top_id]]\n",
    "        print(\"Index:\", idxs[top_id])\n",
    "        print(\"Title: \", tmp.title_en)\n",
    "        print(\"Author: \", tmp.author)\n",
    "        print(\"Abstract: \", tmp.abstract_en)\n",
    "        print(\"Keywords: \", tmp.keywords_en)\n",
    "        print(\"\\n##############################################################################\\n\")"
   ]
  },
  {
   "cell_type": "code",
   "execution_count": 203,
   "id": "fcabc2a1",
   "metadata": {},
   "outputs": [
    {
     "name": "stdout",
     "output_type": "stream",
     "text": [
      "Index: 97601\n",
      "Title:  Mitigating DDoS attacks on IoT through machine learning and network functions virtualization\n",
      "Author:  Oliveira, Guilherme Werneck de (Catálogo USP)\n",
      "Abstract:  The Internet of Things (IoT) has undergone a rapid popularization, reaching a wide range of application domains. As a consequence, more and more IoT devices with diverse characteristics are deployed in a variety of public and private environments, progressively becoming common objects of everyday life. On the other hand, the physical infrastructure of heterogeneous systems is complex and requires efficient and dynamic solutions for managing network performance and security, at a level that allows standardized deployment and easy replication in smart industries, buildings and cities. An approach that has been gaining ground when the intention is to respond to security threats on IoT is the Network Functions Virtualization (NFV) usage. The literature presents some works that use NFV to detect and mitigate security threats on IoT networks, but few performance indicators of the network context are explored to compose a more efficient solution. Thus, this work presents the development of a network context performance-based approach to mitigate Distributed Denial of Service (DDoS) attacks on IoT, investigating how performance indicators can compose Machine Learning (ML) models for Virtual Network Functions (VNF) placement. ML models were trained and tested using network context performance indicators to carry out two experiments. The first is related to the prediction of the response time of Industrial Internet of Things (IIoT) networks. The second on the security VNF placement, also on IIoT networks. The respective results achieved are predictions of network response times that are at most 50 milliseconds longer than settings realized by linear programming models and classifications with 99.40% of accuracy for the correct placement of security VNF on IIoT networks under DDoS attacks.\n",
      "Keywords:  DDoS IoT Machine learning NFV Performance Security VNF\n",
      "\n",
      "###########################################################################\n",
      "\n",
      "Index: 8343\n",
      "Title:  On the structuring of information in computing security systems: the use of ontologies\n",
      "Author:  Martimiano, Luciana Andréia Fondazzi (Catálogo USP)\n",
      "Abstract:  As the amount and the complexity of security incidents information have grown exponentially, managing and manipulating these information have become more expensive. Several security tools can be used to assist the administrators in performing these tasks. These tools can monitor what comes from Internet and goes to it, as the firewalls do; they can monitor the intranet traffic, as usually is done by an Intrusion Detection System (IDS); they can search for malicious codes in files or emails, as made by the antivirus; they can create filters to process spams, viruses or worms; or they can scan the intranet for vulnerabilities, as the scanners and the intelligent agents. These tools collect and store a great amount of information, using different formats. This lack of unique commonly agreed formats to store information about security incidents, make the administrators? job even harder, because they have to be able to understand all these formats to identify and to correlate information when, for instance, there is an attack or an invasion in progress. In this thesis I describe the design and development of ontologies to represent in a standard structure information about security incidents. The ontology developed is named OntoSec - Security Incident Ontology. This work covers: (i) how to use ontologies to share and reuse information about incidents; (ii) how to make it easier to correlate incidents; (iii) how to make it possible the interoperability amongs security tools; (iv) modeling of a security incident management system based on OntoSec; and (v) evaluation process of the ontology that has been developed. Besides that, the OntoSec aims to support the decisions made by the administrators when security problems happen, making the process more efficient and effective\n",
      "Keywords:  Interoperability Ontologies Security incidentes Security knowledges Security management Standardized security information\n",
      "\n",
      "###########################################################################\n",
      "\n",
      "Index: 27268\n",
      "Title:  The overflow of ludic and biopolitics in Massive Multiplayer Online games: a study on the World of Warcraft\n",
      "Author:  Chagas, Artur Alves de Oliveira (Catálogo USP)\n",
      "Abstract:  The segment of computer games called Massively Multiplayer Online, in which thousands of people can be connected simultaneously, are taken as examples of current collective games. From the analysis of Michel Foucault's biopolitics, are investigated the identity constructions of individuals, social roles and commitments with other players and the learning and disciplines reinforced in such games, with reference to the game World of Warcraft, the most popular of this genre, today. The fieldwork was carried out with players and with the official websites of the selected game, through which the regimes of truths that concern us here. Cyberculture is understood in this work as a condition of social engineering that reconfigures the distances and the physical and temporal boundaries, reinforcing ways of subjection ever more individualized and referenced by speeches of sprawling groups. The type of game considered in this work, in addition to become popular by employing tools and practices peculiar to the new electronic technologies, favors the analysis that the forms of government and control over life are increasingly refined, overflowing by all planes of existence. Such analysis allows the questioning of scientific discourse, mainly in the last decade, about practices among subjects involving games, and mainly when referring to practices in education and learning.\n",
      "Keywords:  computer games electronic games Foucault teaching and learning\n",
      "\n",
      "###########################################################################\n",
      "\n",
      "Index: 36798\n",
      "Title:  Scalability study of event-driven servers in multi-processed systems: a complete case study\n",
      "Author:  Cordeiro, Daniel de Angelis (Catálogo USP)\n",
      "Abstract:  The explosive growth in the number of Internet users made software architects reevaluate issues related to the scalability of services deployed on a large scale. It is still challenging to design software architectures that do not experience performance degradation when the concurrent access increases. In this work, we investigate the impact of the operating system in issues related to performance, parallelization, and scalability of interactive multiplayer games. Particularly, we study and extend the interactive, multiplayer game QuakeWorld, made publicly available by id Software under GPL license. We have created a new parallelization model for Quake's distributed simulation and implemented that model in QuakeWorld server with adaptations that allows the operating system to manage the execution of the generated workload in a more convenient way.\n",
      "Keywords:  computer games event-driven programming parallel computing QuakeWorld scalability\n",
      "\n",
      "###########################################################################\n",
      "\n",
      "Index: 78086\n",
      "Title:  A collaborative architecture against DDOS attacks for cloud computing systems.\n",
      "Author:  Almeida, Thiago Rodrigues Meira de (Catálogo USP)\n",
      "Abstract:  Distributed attacks, such as Distributed Denial of Service (DDoS) ones, require not only the deployment of standalone security mechanisms responsible for monitoring a limited portion of the network, but also distributed mechanisms which are able to jointly detect and mitigate the attack before the complete exhaustion of network resources. This need led to the proposal of several collaborative security mechanisms, covering different phases of the attack mitigation: from its detection to the relief of the system after the attack subsides. It is expected that such mechanisms enable the collaboration among security nodes through the distributed enforcement of security policies, either by installing security rules (e.g., for packet filtering) and/or by provisioning new specialized security nodes on the network. Albeit promising, existing proposals that distribute security tasks among collaborative nodes usually do not consider an optimal allocation of computational resources. As a result, their operation may result in a poor Quality of Service for legitimate packet flows during the mitigation of a DDoS attack. Aiming to tackle this issue, this work proposes a collaborative solution against DDoS attacks with two main goals: (1) ensure an optimal use of resources already available in the attack's datapath in a proactive way, and (2) optimize the placement of security tasks among the collaborating security nodes. Regardless the characteristics of each main goal, legitimate traffic must be preserved as packet loss is reduced as much as possible.\n",
      "Keywords:  Cloud computing DDOS SDN Security SFC\n",
      "\n",
      "###########################################################################\n",
      "\n",
      "Index: 30498\n",
      "Title:  Analysis of botnet using simulation platform with virtual machines for detection and containment.\n",
      "Author:  Muzzi, Fernando Augusto Garcia (Catálogo USP)\n",
      "Abstract:  Computer networks and the Internet are increasingly complex and new services, users and infrastructure appear every day. The security and privacy of information become critical for the evolution of these infrastructures and services. The anonymity, the fragility of security, and other factors often encourage the malintentioned persons to create tools and techniques to attack computer systems, resulting in losses of various kinds. The Internet has grown in recent years and along with this growth come new threats, such as botnets. Botnet is a network of bots (robots) that make the victim's computer become infected and monitored or controled by an external agent. The big problem of botnets is that they can be used by groups to promote malicious attacks, with detrimental effect to people, groups, organizations and nations. However, despite a large amount of studies conducted by the security community in recent years, there is need for further studies on the behavior, spread and containment, due to variation of methods of infection and spread in such attacks. In this context, this thesis analyzes the behavior of botnet Rxbot and implements security services such as IDS, packet filter rules, to analyze and contain the spread of botnets. A simulation platform with virtual machine, providing Windows operating system environment is used. The main contributions are the detection and containment of the spread of botnet using various security services and propagation analysis packages like SMTP by using the simulation platform.\n",
      "Keywords:  Botnet Simulation Virtual machine\n",
      "\n",
      "###########################################################################\n",
      "\n",
      "Index: 53793\n",
      "Title:  Method for mitigating against distributed denial of service attacks using multi-agent system.\n",
      "Author:  Pereira, João Paulo Aragão (Catálogo USP)\n",
      "Abstract:  The quality of service offered by the Internet Service Provider (ISP) depends directly on the amount of resources available at that time. In recent decades, this quality has been affected by the frequent and intense attacks that consume these resources, such as the Distributed Denial of Service (DDoS) attacks. In order to make the ISPs network more resilient to different types of DDoS attacks, techniques have been developed against such attacks over the past few years. Aiming to contribute to the improvement of such mechanisms, this dissertation presents a reactive autonomous method for detecting and mitigating DDoS attacks using a Multi-Agent system (MAS), in networks of ISPs. The main property of the proposed method is to identify characteristic traffic patterns of an attack, such as a large stream of packets directed to a service or equipment within the ISP network. With agents positioned on likely victims and at points of the network with the highest packet stream, the mitigation process starts automatically after a number of packets exceeding the traffic pattern, go through any of the monitored nodes. Since the incoming traffic on the network of any ISP is dynamic, whether legitimate or malicious, the using of agents tends to facilitate the process of defining the route of attack, as shown by the experimental results obtained with the proposed system.\n",
      "Keywords:  DDoS Detection and mitigation Multi-agent system\n",
      "\n",
      "###########################################################################\n",
      "\n",
      "Index: 66281\n",
      "Title:  Cyber-Archaeology in Vipasca: using technologies for the interactive archaeological reconstruction-simulation\n",
      "Author:  Martire, Alex da Silva (Catálogo USP)\n",
      "Abstract:  This project constitutes a development and deepening of the theme presented in the Master's research: the Roman mining landscape (inserted in the projects of the Laboratory for Roman Provincial Archaeology LARP-MAE/USP). The main objective is to produce the reconstruction/interactive three-dimensional simulation of Vipasca's landscape (Aljustrel, Portugal) from its archaeological remains. Based on the sources of the period, interpretive bibliography, cartography and fieldwork, resources will be sought to enable potential digital reconstruction of the ancient Vipasca landscape. In order to do so, we will use the theory and methodology pertaining to Cyber-Archaeology in order to reconstruct and interactively simulate the mining landscape of the region.\n",
      "Keywords:  Cyber-Archaeology Mining Roman Archaeology Simulation Virtual Reality\n",
      "\n",
      "###########################################################################\n",
      "\n",
      "Index: 72599\n",
      "Title:  Developing a SNMP agent for DOS platforms\n",
      "Author:  Cicilini, Renata (Catálogo USP)\n",
      "Abstract:  In modern networks, consisted of many hosts and several subnetworks, management functions are becoming complex, demanding the development of applications that can help administrators to perform their tasks. Some examples of these applications are: management systems, agents, proxy agents, monitoring systems and traffic evaluators. In this context, this work deals with the development of a SNMP agent for DOS platforms, which can provide the basics for implementing proxy agents and other management applications. The agent must get information about the subnetwork in which it is connected in. They are defined on a MIB, caled MIB Net, consisted of some Internet Standard MIB groups, the MIB RMON group and a new group that defines a set of objects related to the flow of TCP/IP packets on subnetwork. The agent can show data on a local display and allows access to them by management systems tha support MIB Net. The agent is developed with public domain softwares. The Packet Driver is the network driver used and the SNMP primitives are emplemented by adding new routines to a library of SNMP functions, the SNMPLIB. Both Packet Driver and SMPLIB are available by anonymous FTP.\n",
      "Keywords:  Not available\n",
      "\n",
      "###########################################################################\n",
      "\n",
      "Index: 6714\n",
      "Title:  Pain and musuloskeletal pain syndromes related to computer and video game use in adolescents.\n",
      "Author:  Castellanos, Aura Ligia Zapata (Catálogo USP)\n",
      "Abstract:  Introduction: Adolescents frequently use computer and video game and this may cause increased risk of pain, musculoskeletal pain syndromes and soft tissue injuries. Objectives: To evaluate and identify the presence of pain, musculoskeletal pain syndromes and soft tissue injuries in adolescents and correlate to computer and video game use. To evaluate ergonomics during computer use. Methods: The study group consisted of 833 adolescents from one private school in São Paulo, Brazil. A cross-sectional study was carried out that was composed of: a questionnaire with demographic data, use of computer and video game and presence of pain; clinical examination of the locomotor system and ergonomic evaluation of computer use. Juvenile fibromyalgia, benign joint hypermobility syndrome, myofascial syndrome, tendonitis, bursitis and epicondilitis were studied. Statistical analysis was carried out with Fisher, chi-square, Mann Whitney tests and Logistic Regression. In all of the statistical tests the level of significance was set at 5% (p <= 0.05) and were two-tailed. Results: 791 adolescent students were evaluated. The mean age was 14.17 ± 1.99 years and female/male relation was 1/1.1. The computer was used by 99% and 67% used the day before the survey, video game by 58% and minigame/gameboy by 30%. Computer and video game are more available to males and used more frequently by them (p < 0.001). The adolescents from 10 to 14 years (p < 0.001) reported more use of video game and minigame/gameboy and adolescents from 15 to 18 reported more use of computer (p < 0.05). The adolescents reported more use of computer than video game and minigame/gameboy. Pain was reported by 312 adolescents: 23% complained of back pain, 9% upper limbs pain, 4% diffuse pain and 4% pain in trapezium muscle. Pain related with computer use was reported in 11%. Statistical correlation was not observed between presence of any pain and use of either computer or video game. The clinical examination was carried out in 359 students. The musculoskeletal pain syndromes and soft tissue injuries was present in 56 students: benign joint hypermobility syndrome in 10%, myofascial syndrome in 5%, tendinitis in 2% and juvenile fibromyalgia in 1%. Statistical correlation was not observed between presence of musculoskeletal pain syndromes or soft tissue injuries and use of computer and video game. Ergonomic evaluation of computer use was carried out in 402 adolescents. All of these students presented inadequate ergonomics of computer use at school during computer class. Conclusions: Adolescents use frequently and for a considerable period of time computer and video game. Statistical correlation was not observed between presence of any pain and use of computer and video game. The presence of musculoskeletal pain syndromes and soft tissue injuries were not correlated to computer or video game use. All of the students presented inadequate ergonomics during of computer use.\n",
      "Keywords:  ADOLESCENCE COMPUTER/employment MUSCULOSKELETAL DISORDERS/epidemiology PAIN/epidemiology POSTURE VIDEO GAME/adverse effects\n",
      "\n",
      "###########################################################################\n",
      "\n",
      "Index: 55555\n",
      "Title:  Cadernos nagô: the reverse anthropology of Alapini Paulo Braz Ifamuide\n",
      "Author:  Pinto Filho, Olavo de Souza (Catálogo USP)\n",
      "Abstract:  This paper dissertation as its subject the Ifá verses composition written by Alipini Paulo Braz Ifamuiyde. Ifá is an oracular system of iorubana origin, which is based in the handling of sixteen caroços de dendês, to obtain a combination of 256 graphic signs called odus (destinies), each one containing a quantity of verses or messages that compose theirs significates. My ethnographic incursion attempts to the modes how Pai Paulo conventionalizes his experience with Ifá from the written in his Recados de Ifá notebook, in order to highlight particular and meaningful differences between this oracular practical and others practical known in nago. This work attempts to offer a detailed description of the ritual variations and innovations of the Ifa jogo, as such the interactions of the everyday life of its practitioners. For this purpose, the objective is mapping how relations established by the jogo between the different ritual domains of candomblé, centered in the Ifás verdicts which are inseparable from it, as such the saint feitura, ancestral cults, offerings, sacrifices -, raising questions in dialogue to themes already consagrated in afro-brazilian ethnology, as such ritual transformation, gift and initiation, and knowledge transmission and reversibility.\n",
      "Keywords:  Creativity Differentiation Ifá Nagô Reverse Anthropology\n",
      "\n",
      "###########################################################################\n",
      "\n",
      "Index: 1121\n",
      "Title:  Lyra2: password hashing scheme with improved security against time-memory trade-offs.\n",
      "Author:  Andrade, Ewerton Rodrigues (Catálogo USP)\n",
      "Abstract:  To protect against brute force attacks, modern password-based authentication systems usually employ mechanisms known as Password Hashing Schemes (PHS). Basically, a PHS is a cryptographic algorithm that generates a sequence of pseudorandom bits from a user-defined password, allowing the user to configure the computational costs involved in the process aiming to raise the costs of attackers testing multiple passwords trying to guess the correct one. Traditional schemes such as PBKDF2 and bcrypt, for example, include a configurable parameter that controls the number of iterations performed, allowing the user to adjust the time required by the password hashing process. The more recent scrypt and Lyra algorithms, on the other hand, allow users to control both processing time and memory usage. Despite these advances, there is still considerable interest by the research community in the development of new (and better) alternatives. Indeed, this led to the creation of a competition with this specific purpose, the Password Hashing Competition (PHC). In this context, the goal of this research effort is to propose a superior PHS alternative. Specifically, the objective is to improve the Lyra algorithm, a PHS built upon cryptographic sponges whose project counted with the authors' participation. The resulting solution, called Lyra2, preserves the security, efficiency and flexibility of Lyra, including: the ability to configure the desired amount of memory and processing time to be used by the algorithm; and (2) the capacity of providing a high memory usage with a processing time similar to that obtained with scrypt. In addition, it brings important improvements when compared to its predecessor: (1) it allows a higher security level against attack venues involving time-memory trade-offs; (2) it includes tweaks for increasing the costs involved in the construction of dedicated hardware to attack the algorithm; (3) it balances resistance against side-channel threats and attacks relying on cheaper (and, hence, slower) storage devices. Besides describing the algorithm's design rationale in detail, this work also includes a detailed analysis of its security and performance in different platforms. It is worth mentioning that Lyra2, as hereby described, received a special recognition in the aforementioned PHC competition.\n",
      "Keywords:  Algorithms Computer security Cryptology Methodology and techniques of computing Password hashing scheme\n",
      "\n",
      "###########################################################################\n",
      "\n",
      "Index: 78089\n",
      "Title:  Spatial Indexing on Flash-based Solid State Drives\n",
      "Author:  Carniel, Anderson Chaves (Catálogo USP)\n",
      "Abstract:  Spatial database systems widely employ spatial indexing structures to speed up the processing of spatial queries. Many of the proposed spatial indices in the literature, such as the R-tree, assume magnetic disks (i.e., HDDs) as the underlying storage device. They are termed as disk-based spatial indices. On the other hand, several spatial database applications are increasingly using flash-based Solid State Drives (SSDs) and thus, designing spatial indices for these storage devices has gained increasing attention. This is due the fact that, compared to HDDs, SSDs offer smaller size, lighter weight, lower power consumption, better shock resistance, and faster reads and writes. Hence, specific indices for SSDs, termed flash-aware spatial indices, have been proposed in the literature to deal with the intrinsic characteristics of SSDs, such as the asymmetric costs of reads and writes. However, the research to date has not been able to establish a flash-aware spatial index that actually exploits all the benefits of SSDs. This PhD thesis advances on the literature as follows. We firstly define a methodology to create spatial datasets for experimental evaluations. We also propose FESTIval, a versatile framework that provides a common and unique environment to execute experimental evaluations. Such contributions served as a foundation to conduct performance analysis along this PhD work. By using this foundation, we analyze the performance behavior of spatial indices on different storage devices, such as HDDs and SSDs. Further, we discuss the applicability of employing flash simulators on the evaluation of spatial indices. The findings of these experiments contributed to the proposal of eFIND, a generic and efficient framework for flash-aware spatial indexing. eFIND is generic because it can port a wide range of disk-based spatial indices to SSDs. eFIND is also efficient because it is based on a set of design goals that exploits SSD performance. Performance tests showed that, compared to the state of the art, eFIND improved the construction of ported disk-based spatial indices and the execution of spatial queries. For porting the R-tree (i.e., the eFIND R-tree), eFIND showed performance reductions from 43% to 77% to build spatial indices, and from 4% to 23% to execute spatial queries. For porting the xBR+-tree (i.e., the eFIND xBR+-tree), eFIND showed reductions from 28% to 83% to build spatial indices and up to 35% in the spatial query processing.\n",
      "Keywords:  Flash memory Flash-aware spatial index Spatial access methods Spatial database systems Spatial indexing SSDs\n",
      "\n",
      "###########################################################################\n",
      "\n",
      "Index: 94713\n",
      "Title:  Elastic video distribution network based on service virtualization.\n",
      "Author:  Silveira, Regina Melo (Catálogo USP)\n",
      "Abstract:  Web-based services have shown rapid change of number of users and access, depending on the day, or the provision of content. Content distribution services, especially video distribution, are subject to these variations, increasing complexity in terms of management, operation and maintenance. Given this context, it is evident the great advantage of using systems that enable dynamic scaling capabilities to support service demands so variable. This work explores the NFV technology (Network Functions Virtualization) as a means to provide elasticity to the video distribution service, by using real-time resources monitoring techniques to obtain parameters to automatic provision new resources to meet the service dynamics. Furthermore, it proposes an algorithm for dynamic resource allocation and deallocation enabling the creation of a elastic distribution service. This algorithm uses a parameter to trigger the allocation of resources consumption rate, thus defining a sliding threshold.\n",
      "Keywords:  Computer network Network virtualization NFV SDN Video distribution\n",
      "\n",
      "###########################################################################\n",
      "\n",
      "Index: 30781\n",
      "Title:  Weblabs in forensic investigation of electronic digital systems.\n",
      "Author:  Giova, Giuliano (Catálogo USP)\n",
      "Abstract:  Digital systems have become ubiquitous, there are nearly a billion computers connected to Internet, and essential for human activities. This leads to the increase of the number of legal cases whose solution depends on the forensic examination of electronic devices. The investigation of unlawful acts is almost always made on site: bailiffs and experts witness collect suspect computers and take them to specialized laboratories maintained by the governments (criminology institutes), universities or even by expert witnesses. Experts appointed by judges and, if eligible, representatives of the defendants and plaintiffs, conducts technical examinations based on forensic methods and tools. The result of this work is submitted to the Judge as an expert witness report whose quality has severe social repercussions as a matter of conviction and decision in the trial proceedings. This quality is under serious threat due to demand greater than available resources and due to growing complexity. Few centers of study have resources and enough technical skill enough to overcome these challenges, and those centers are often distant from users: thousands of courts and police stations throughout Brazil. It is really necessary the academic community engagement to bring solutions to those new social demands by means of latest scientific findings. One of the most promising technologies in this area is an Internet remotely accessible laboratory, using so called WebLab technology, in Brazil developed mainly by the Fapesp project KyaTera. This dissertation explores and contextualizes these themes and makes a preliminary analysis about an alternative which, depending on future complementary studies, may offer to legal professionals and especially to experts and technical assistants remote access to specialized laboratories for the examination of electronic digital systems, providing a tool to society that makes forensic exams more reliable.\n",
      "Keywords:  Expert witness Forensic Internet Laboratory Proof Weblabs\n",
      "\n",
      "###########################################################################\n",
      "\n"
     ]
    }
   ],
   "source": [
    "query(\"ddos attack\")"
   ]
  },
  {
   "cell_type": "code",
   "execution_count": 205,
   "id": "8c82ce7c",
   "metadata": {
    "scrolled": true
   },
   "outputs": [
    {
     "name": "stdout",
     "output_type": "stream",
     "text": [
      "Index: 27488\n",
      "Title:  Machine learning in complex networks\n",
      "Author:  Breve, Fabricio Aparecido (Catálogo USP)\n",
      "Abstract:  Complex networks is a recent and active scientific research field, which concerns large scale networks with non-trivial topological structure, such as computer networks, telecommunication networks, transport networks, social networks and biological networks. Many of these networks are naturally divided into communities or modules and, therefore, uncovering their structure is one of the main problems related to complex networks study. This problem is related with the machine learning field, which is concerned with the design and development of algorithms and techniques which allow computers to learn, or increase their performance based on experience. Some of the problems identified in traditional learning techniques include: difficulties in identifying irregular forms in the attributes space; uncovering overlap structures of groups or classes, which occurs when elements belong to more than one group or class; and the high computational complexity of some models, which prevents their application in larger data bases. In this work, we deal with these problems through the development of new machine learning models using complex networks and space-temporal dynamics. The developed models have performance similar to those from some state-of-the-art algorithms, at the same time that they present lower computational complexity order than most of them\n",
      "Keywords:  Complex networks Machine learning Space-temporal dynamics\n",
      "\n",
      "###########################################################################\n",
      "\n",
      "Index: 97601\n",
      "Title:  Mitigating DDoS attacks on IoT through machine learning and network functions virtualization\n",
      "Author:  Oliveira, Guilherme Werneck de (Catálogo USP)\n",
      "Abstract:  The Internet of Things (IoT) has undergone a rapid popularization, reaching a wide range of application domains. As a consequence, more and more IoT devices with diverse characteristics are deployed in a variety of public and private environments, progressively becoming common objects of everyday life. On the other hand, the physical infrastructure of heterogeneous systems is complex and requires efficient and dynamic solutions for managing network performance and security, at a level that allows standardized deployment and easy replication in smart industries, buildings and cities. An approach that has been gaining ground when the intention is to respond to security threats on IoT is the Network Functions Virtualization (NFV) usage. The literature presents some works that use NFV to detect and mitigate security threats on IoT networks, but few performance indicators of the network context are explored to compose a more efficient solution. Thus, this work presents the development of a network context performance-based approach to mitigate Distributed Denial of Service (DDoS) attacks on IoT, investigating how performance indicators can compose Machine Learning (ML) models for Virtual Network Functions (VNF) placement. ML models were trained and tested using network context performance indicators to carry out two experiments. The first is related to the prediction of the response time of Industrial Internet of Things (IIoT) networks. The second on the security VNF placement, also on IIoT networks. The respective results achieved are predictions of network response times that are at most 50 milliseconds longer than settings realized by linear programming models and classifications with 99.40% of accuracy for the correct placement of security VNF on IIoT networks under DDoS attacks.\n",
      "Keywords:  DDoS IoT Machine learning NFV Performance Security VNF\n",
      "\n",
      "###########################################################################\n",
      "\n",
      "Index: 74548\n",
      "Title:  Performance prediction of application executed on GPUs using a simple analytical model and machine learning techniques\n",
      "Author:  González, Marcos Tulio Amarís (Catálogo USP)\n",
      "Abstract:  The parallel and distributed platforms of High Performance Computing available today have became more and more heterogeneous (CPUs, GPUs, FPGAs, etc). Graphics Processing Units (GPU) are specialized co-processor to accelerate and improve the performance of parallel vector operations. GPUs have a high degree of parallelism and can execute thousands or millions of threads concurrently and hide the latency of the scheduler. GPUs have a deep hierarchical memory of different types as well as different configurations of these memories. Performance prediction of applications executed on these devices is a great challenge and is essential for the efficient use of resources in machines with these co-processors. There are different approaches for these predictions, such as analytical modeling and machine learning techniques. In this thesis, we present an analysis and characterization of the performance of applications executed on GPUs. We propose a simple and intuitive BSP-based model for predicting the CUDA application execution times on different GPUs. The model is based on the number of computations and memory accesses of the GPU, with additional information on cache usage obtained from profiling. We also compare three different Machine Learning (ML) approaches: Linear Regression, Support Vector Machines and Random Forests with BSP-based analytical model. This comparison is made in two contexts, first, data input or features for ML techniques were the same than analytical model, and, second, using a process of feature extraction, using correlation analysis and hierarchical clustering. We show that GPU applications that scale regularly can be predicted with simple analytical models, and an adjusting parameter. This parameter can be used to predict these applications in other GPUs. We also demonstrate that ML approaches provide reasonable predictions for different cases and ML techniques required no detailed knowledge of application code, hardware characteristics or explicit modeling. Consequently, whenever a large data set with information about similar applications are available or it can be created, ML techniques can be useful for deploying automated on-line performance prediction for scheduling applications on heterogeneous architectures with GPUs.\n",
      "Keywords:  BSP model CUDA GPU architectures Machine learning Performance prediction\n",
      "\n",
      "###########################################################################\n",
      "\n",
      "Index: 21409\n",
      "Title:  IComb: A software to teach and learning combinatorics trough the Worl Wide Web\n",
      "Author:  Eisenmann, Alexandre Luis Kundrat (Catálogo USP)\n",
      "Abstract:  In this work, we present the software iComb - Interactive Combinatorics on Internet, a new software that can be used to teach and learning combinatorics trough the Word Wide Web. The iComb is based on the Combien? experience, a software developed by Université Pierre et Marie Curie - LIP6. We can easily integrate the iComb software in a web-based learning management system like the SAW - Web-based learning system. Moreover, the iComb can be easily added to a personal web sites, social networks systems and blogs using the copy-and-past pattern resulting in a powerful collaborative tool to the conceptual movement named as Web 2.0.\n",
      "Keywords:  combinatorics computer science education educational software. mathematical education mathematics teach and learning teaching combinatorics\n",
      "\n",
      "###########################################################################\n",
      "\n",
      "Index: 16900\n",
      "Title:  Software for construct of interactive tables for the distance learning.\n",
      "Author:  Antonello, Sergio Luís (Catálogo USP)\n",
      "Abstract:  The objective of this paper is the development of a software, the Programmable Interactive Tables (TABIPRO), which allows professors and teachers of Distance Education with little or no experience in programming, to include in HTML pages, dynamic tables that interpret data filled in them, interacting with the student. Prototypes of these tables, with name, description, e-mail, number of lines and columns, components, formulas and messages, are created and stored in a database, which is accessed on line everytime a HTML page with calls to TABIPRO, is loaded in a browser. At first this software was created to be applied to a module of Graphic Mechanics of the Educ@r Program, in an extra distance course of Physics, for High School, using the Internet as a communication and information distributor means. Through the TABIPRO, the students who join a distance training or course, could have their answers immediately corrected by this software during the evaluation process, allowing the teacher to follow the students´ development, comment the answers and direct them to the best result. A brief explanation of the concept of Distance Education and a presentation of the tools and methods used for the TABIPRO development are present in this paper.\n",
      "Keywords:  Distance experimentation Distance learning DL Interactive tables\n",
      "\n",
      "###########################################################################\n",
      "\n",
      "Index: 68866\n",
      "Title:  Development of machine-learning techniques via collective dynamical systems\n",
      "Author:  Gueleri, Roberto Alves (Catálogo USP)\n",
      "Abstract:  Machine learning consists of concepts and techniques that enable computers to improve their performance with experience, i.e., learn from data. Unsupervised and semi-supervised learning are important categories of machine learning, which respectively consists of inferring patterns in datasets whose data have no label (class) and classifying data in partially-labeled datasets. Although intensively studied, machine learning is still a field full of challenges and with many open topics. Collective dynamical systems, in turn, are systems made of a large group of individuals, each one a dynamical system by itself, such that all of them behave collectively, i.e., the action of each individual is influenced by the action of its neighbors. A remarkable feature of those systems is that global patterns may spontaneously emerge from the local interactions among individuals, a phenomenon known as emergence. Their relevance and intrinsic challenges motivate research in various branches of science and engineering. In this doctorate research, we develop and analyze collective dynamical models for their usage in machine-learning tasks, specifically unsupervised and semi-supervised ones. Image segmentation and network community detection are also addressed, as they are related to machine learning as well. In particular, we propose to work on models in which the objects motion is determined by the location and velocity of their neighbors. By doing so, the dynamical system reaches a configuration in which the patterns developed by the set of individuals highlight underlying patterns of the dataset. Due to their self-organizing nature, it is also expected that the models can be robust and the information generated during the process (values of the system variables) can be rich and reveal, for example, features to perform soft labeling and determine overlapping classes.\n",
      "Keywords:  Collective behavior Collective motion Flocking Machine learning Self-organizing systems\n",
      "\n",
      "###########################################################################\n",
      "\n",
      "Index: 47396\n",
      "Title:  Machine learning via dynamical processes on complex networks\n",
      "Author:  Cupertino, Thiago Henrique (Catálogo USP)\n",
      "Abstract:  Extracting useful knowledge from data sets is a key concept in modern information systems. Consequently, the need of efficient techniques to extract the desired knowledge has been growing over time. Machine learning is a research field dedicated to the development of techniques capable of enabling a machine to \"learn\" from data. Many techniques have been proposed so far, but there are still issues to be unveiled specially in interdisciplinary research. In this thesis, we explore the advantages of network data representation to develop machine learning techniques based on dynamical processes on networks. The network representation unifies the structure, dynamics and functions of the system it represents, and thus is capable of capturing the spatial, topological and functional relations of the data sets under analysis. We develop network-based techniques for the three machine learning paradigms: supervised, semi-supervised and unsupervised. The random walk dynamical process is used to characterize the access of unlabeled data to data classes, configuring a new heuristic we call ease of access in the supervised paradigm. We also propose a classification technique which combines the high-level view of the data, via network topological characterization, and the low-level relations, via similarity measures, in a general framework. Still in the supervised setting, the modularity and Katz centrality network measures are applied to classify multiple observation sets, and an evolving network construction method is applied to the dimensionality reduction problem. The semi-supervised paradigm is covered by extending the ease of access heuristic to the cases in which just a few labeled data samples and many unlabeled samples are available. A semi-supervised technique based on interacting forces is also proposed, for which we provide parameter heuristics and stability analysis via a Lyapunov function. Finally, an unsupervised network-based technique uses the concepts of pinning control and consensus time from dynamical processes to derive a similarity measure used to cluster data. The data is represented by a connected and sparse network in which nodes are dynamical elements. Simulations on benchmark data sets and comparisons to well-known machine learning techniques are provided for all proposed techniques. Advantages of network data representation and dynamical processes for machine learning are highlighted in all cases\n",
      "Keywords:  Complex networks Consensus time Dimensionality reduction Dynamical processes Interacting forces Limiting probabilities Machine learning Network-based learning Plinning control Random walk Semi-supervised learning Stationary states Supervised learning Unsupervised learning\n",
      "\n",
      "###########################################################################\n",
      "\n",
      "Index: 87906\n",
      "Title:  Dictionary sparsification for kernel methods.\n",
      "Author:  Bueno, André Amaro (Catálogo USP)\n",
      "Abstract:  Kernel based methods are capable of solving nonlinear problems by projecting the input vectors in a higher dimensional space where a linear method is used. These methods have been widely used in conjunction with different techniques of signal processing and machine learning, as support vector machines, principal component analysis, adaptive filtering among others. One of the main drawbacks of these methods is that a set of input vectors, known as dictionary, needs to be stored in memory. In certain situations, the dictionary may become too big, which leads to a high computational cost. To avoid an exagerated growth of the dictionary, different sparsification techniques were proposed in the literature. In this work, we propose a sparsification technique for kernel methods based on the Gram-Schmidt orthogonalization process. It projects the vectors mapped by the kernel into a finite-dimensional subspace spanned by an orthonormal basis and can be used with any Mercer kernel. In particular, the proposed technique is applied to a least-mean-square-type (LMS) algorithm. Simulation results show that the proposed algorithm mantains a good mean-square-error performance and presents a smaller computational cost, when compared with the kernel LMS algorithm using other sparsification techniques. Furthermore, we also propose a method for removing vectors from the dictionary, which is particularly interesting when there are changes the environment where the algorithm is used.\n",
      "Keywords:  Dictionary sparsification Kernel-based-methods Ndaptive filtering nonlinear signal processing\n",
      "\n",
      "###########################################################################\n",
      "\n",
      "Index: 1121\n",
      "Title:  Lyra2: password hashing scheme with improved security against time-memory trade-offs.\n",
      "Author:  Andrade, Ewerton Rodrigues (Catálogo USP)\n",
      "Abstract:  To protect against brute force attacks, modern password-based authentication systems usually employ mechanisms known as Password Hashing Schemes (PHS). Basically, a PHS is a cryptographic algorithm that generates a sequence of pseudorandom bits from a user-defined password, allowing the user to configure the computational costs involved in the process aiming to raise the costs of attackers testing multiple passwords trying to guess the correct one. Traditional schemes such as PBKDF2 and bcrypt, for example, include a configurable parameter that controls the number of iterations performed, allowing the user to adjust the time required by the password hashing process. The more recent scrypt and Lyra algorithms, on the other hand, allow users to control both processing time and memory usage. Despite these advances, there is still considerable interest by the research community in the development of new (and better) alternatives. Indeed, this led to the creation of a competition with this specific purpose, the Password Hashing Competition (PHC). In this context, the goal of this research effort is to propose a superior PHS alternative. Specifically, the objective is to improve the Lyra algorithm, a PHS built upon cryptographic sponges whose project counted with the authors' participation. The resulting solution, called Lyra2, preserves the security, efficiency and flexibility of Lyra, including: the ability to configure the desired amount of memory and processing time to be used by the algorithm; and (2) the capacity of providing a high memory usage with a processing time similar to that obtained with scrypt. In addition, it brings important improvements when compared to its predecessor: (1) it allows a higher security level against attack venues involving time-memory trade-offs; (2) it includes tweaks for increasing the costs involved in the construction of dedicated hardware to attack the algorithm; (3) it balances resistance against side-channel threats and attacks relying on cheaper (and, hence, slower) storage devices. Besides describing the algorithm's design rationale in detail, this work also includes a detailed analysis of its security and performance in different platforms. It is worth mentioning that Lyra2, as hereby described, received a special recognition in the aforementioned PHC competition.\n",
      "Keywords:  Algorithms Computer security Cryptology Methodology and techniques of computing Password hashing scheme\n",
      "\n",
      "###########################################################################\n",
      "\n",
      "Index: 39591\n",
      "Title:  Automated instructional design in computer-supported collaborative learning using hierarchical planning\n",
      "Author:  Challco, Geiser Chalco (Catálogo USP)\n",
      "Abstract:  In Computer Supported Collaborative Learning (CSCL), the goal of instructional design is to obtain a instructional interaction sequence that define the instructional content as a representation of what should be taught and the way in which participants must interact, called instructional planning information. The development, adaptation and personalization of basic units of study comprised of the instructional resources and instructional planning information, called units of learning, that involves a complex instructional planning process, time consuming and repetitive. In this work, the instructional design in CSCL is modeled as hierarchical planning problem to support the development, adaptation and personalization for units of learning. The modeling is the representation of the domain to be taught, the characteristics of students and instructional strategies in JSHOP2ip, an independent hierarchical planning system designed to solve problems of instructional design. To evaluate the proposed model, we developed a collaborative course generator as a Web service using the proposed model and JSHOP2ip system, upon which we evaluated the performance, modeling strategies and the output scheduler. Furthermore, to demonstrate the feasibility of the proposed model in real situations, we developed an authoring tool for units of learning employing the collaborative course generator\n",
      "Keywords:  adaptive courseware generator automated planning collaborative learning collaborative scripts hierarchical task network planning instructional design\n",
      "\n",
      "###########################################################################\n",
      "\n",
      "Index: 70330\n",
      "Title:  Characterization of resource utilization profile of executable programs through data mining\n",
      "Author:  Pinto, Renê de Souza (Catálogo USP)\n",
      "Abstract:  This work introduces a methodology for characterizing the runtime resource demands of a computer program from the analysis of its binary executable file. Categorization of processes according to the kind of resources required during execution such as CPU and memory usage is a sought-after piece of knowledge for the aims of computer system design and management. Conventional techniques available for this purpose include white-box static source code analysis and profile matching based on historical execution data. The former tends to be challenging in face of complex software architectures and requires access to the source code; the latter is dependent on the availability of reliable past data and on the selection of features yielding effective correlations with resource usage. The alternative data mining approach proposed in this paper avoids those difficulties by manipulating binary executable files. The method combines techniques from information theory, complex networks and phylogenetics to produce a hierarchical clustering of a set of executable files, which can be used to predict potential similarities in terms of runtime resource usage. The works research questions investigate if the transformation performed by the compiler preserves similarity information across the source and binary code representation such that it can be detected by standard compression algorithms; and if the so identified similarities in the symbolic object encoding are correlated to runtime resource usage to an extent which allows for inferring the programs behavior from the analysis of the binary file. The paper introduces the methods rationales and presents results of its application to characterize CPU and IO usages of benchmark applications executed on a standard PC platform. Essays carried out over a set of 80 executable programs from varying sources yielded numerically significant evidences that the prediction of resource usage similarity obtained by the approach is consistent with experimentally measured runtime profile. The application of the method is also exemplified in a few case studies aimed at characterizing executable programs runtime profile.\n",
      "Keywords:  Binary programs Categorization DAMICORE Resource consumption\n",
      "\n",
      "###########################################################################\n",
      "\n",
      "Index: 16972\n",
      "Title:  Development of a tool for the automatic creation and correction of tests on the Word-Wide-Web.\n",
      "Author:  Scapin, Rafael Humberto (Catálogo USP)\n",
      "Abstract:  The World-Wide Web (WWW) has been developed largely to facilitate sharing of information. Very quickly, potential educational applications of this technology became apparent, especially for Distance Education (DE). In this regard, WWW has more appeal, because of its capability to exhibit multimedia documents, its hypertext/hypermedia capability and its client-server architecture, making possible the interaction between students and instructors. This work presents the development of Web Course, a tool developed at IFSC-USP that facilitates the creation of tests on the WWW, providing also the automatic correction of them. Web Course is template based, using HTML forms created by CGI files that instructors simply fill in to create tests.\n",
      "Keywords:  Automatic correction. E-learning Web-based tools WWW\n",
      "\n",
      "###########################################################################\n",
      "\n",
      "Index: 100461\n",
      "Title:  Architecture and development of a real-time multiple content generator system for video games\n",
      "Author:  Pereira, Leonardo Tortoro (Catálogo USP)\n",
      "Abstract:  We present a system able to orchestrate the procedural generation of multiple contents, using different computational creativity techniques, and able to generate the contents in real time. The generated contents are the dungeons, the placement of enemies, locks and keys in its rooms, the enemies that will be placed in said dungeons, quests for the player to complete, and the dungeons rooms. We use evolutionary algorithms, MAP-Elites, Formal Grammars, Markov Chains and Cellular Automata to create these contents. They are organized by an orchestrator and placed in a game prototype. In the late stage of the system, the content can be generated in real time, as soon as it collects data from the player to use as input, using a rule-based profile analysis. We also describe our architecture and system design, which allowed us to add new generators and change the algorithms for each generator with relative easy. Different experiments with players were made to test different algorithms and systems setups, all with positive results, and the players having fun playing the resulting contents. Players who played content based on their profile enjoyed it more than those playing content from another profile. Showing that our rule-based profiler can guide the generators to good results.\n",
      "Keywords:  Evolutionary algorithm Procedural content generation Real-time Content generation Software architecture System design\n",
      "\n",
      "###########################################################################\n",
      "\n",
      "Index: 66934\n",
      "Title:  Mechanisms of self-configuration and self-ptimization for virtualized architectures aiming at the provision of quality of service\n",
      "Author:  Nakamura, Luis Hideo Vasconcelos (Catálogo USP)\n",
      "Abstract:  The purpose of this PhD project involves the research about autonomic computing, focusing on the development of self-configuration and self-optimization mechanisms for virtualized architectures that aims to ensure the provision of Quality of Service. These mechanisms make use of autonomous elements that are aided by an ontology. Therefore, SemanticWeb tools are used in order to allow the ontology to represent a knowledge base with information of the computational resources. Such information is used by optimization algorithms that take the decision of choosing a new configuration that aims at optimizing the architecture performance based on rules predefined by the administrator. The configuration and optimization usually involve elements of software that must be managed by professionals in the Information Technology (IT) field and part of this management is composed of common tasks, for example, monitoring tests, reconfigurations and performance evaluations. These tasks take some time and therefore generate costs and distress to the professionals. Thus, this project aims at automating some of these common tasks, facilitating the work of IT professionals and allowing them to focus on more critical tasks. Therefore, to achieve this goal a study was performed and distributed mechanisms based on Autonomic Computing and Semantic Web were created allowing the configuration and optimization of resources automatically. The individual results of each mechanism indicate that it is possible to achieve a satisfactory level of self-configuration and self-optimization for virtualized architectures. The self-configuration mechanism has achieved better results with the resource monitoring approach rather than using predictions and the self-optimization mechanism has proven that its methodology and algorithm are applicable in the search for an optimized configuration to meet the SLA agreed.\n",
      "Keywords:  Autonomic computing Cloud computing Ontology Quality of service Virtualization\n",
      "\n",
      "###########################################################################\n",
      "\n",
      "Index: 80828\n",
      "Title:  A method for execution of convolutional neural networks in FPGA.\n",
      "Author:  Sousa, Mark Cappello Ferreira de (Catálogo USP)\n",
      "Abstract:  Convolutional Neural Networks have been used successfully for pattern recognition in images. However, their high computational cost and the large number of parameters involved make it difficult to perform this type of artificial neural network in real time in embedded applications, where the processing power and the data storage capacity are restricted. This work studied and developed methods for real-time execution in FPGAs of a trained convolutional neural network, taking advantage of the parallel processing power of this type of device. The focus of this work was the execution of convolutional layers, since these layers can contribute up to 99% of the computational load of the entire network. In the experiments, an FPGA device was used in conjunction with a dual-core ARM processor on the same silicon substrate. The FPGA was used to perform convolutional layers of the AlexNet Convolutional Neural Network. The methods studied in this work focus on the efficient distribution of the FPGA resources through the balancing of the pipeline formed by the convolutional layers, the use of buffers for the reduction and reuse of memory for the storage of intermediate data (generated and consumed by the convolutional layers) and 8 bits for storage of the kernels and increase of the flow of reading of them. With the developed methods, it was possible to execute all five AlexNet convolutional layers in 3.9 ms with the maximum operating frequency of 76.9 MHz. It was also possible to store all the parameters of the convolutional layers in the internal memory of the FPGA, eliminating possible external access memory bottlenecks.\n",
      "Keywords:  AlexNet Convolutional neural networks Embedded pattern recognition FPGA Image recognition System-on-chip\n",
      "\n",
      "###########################################################################\n",
      "\n"
     ]
    }
   ],
   "source": [
    "query(\"ddos attack using machine learning\")"
   ]
  },
  {
   "cell_type": "code",
   "execution_count": 240,
   "id": "307d44f3",
   "metadata": {},
   "outputs": [
    {
     "name": "stdout",
     "output_type": "stream",
     "text": [
      "Encode took 0.14992904663085938s\n",
      "Encode took 275.84169483184814s\n",
      "Index: 53793\n",
      "Title:  Method for mitigating against distributed denial of service attacks using multi-agent system.\n",
      "Author:  Pereira, João Paulo Aragão (Catálogo USP)\n",
      "Abstract:  The quality of service offered by the Internet Service Provider (ISP) depends directly on the amount of resources available at that time. In recent decades, this quality has been affected by the frequent and intense attacks that consume these resources, such as the Distributed Denial of Service (DDoS) attacks. In order to make the ISPs network more resilient to different types of DDoS attacks, techniques have been developed against such attacks over the past few years. Aiming to contribute to the improvement of such mechanisms, this dissertation presents a reactive autonomous method for detecting and mitigating DDoS attacks using a Multi-Agent system (MAS), in networks of ISPs. The main property of the proposed method is to identify characteristic traffic patterns of an attack, such as a large stream of packets directed to a service or equipment within the ISP network. With agents positioned on likely victims and at points of the network with the highest packet stream, the mitigation process starts automatically after a number of packets exceeding the traffic pattern, go through any of the monitored nodes. Since the incoming traffic on the network of any ISP is dynamic, whether legitimate or malicious, the using of agents tends to facilitate the process of defining the route of attack, as shown by the experimental results obtained with the proposed system.\n",
      "Keywords:  DDoS Detection and mitigation Multi-agent system\n",
      "\n",
      "##############################################################################\n",
      "\n",
      "Index: 78086\n",
      "Title:  A collaborative architecture against DDOS attacks for cloud computing systems.\n",
      "Author:  Almeida, Thiago Rodrigues Meira de (Catálogo USP)\n",
      "Abstract:  Distributed attacks, such as Distributed Denial of Service (DDoS) ones, require not only the deployment of standalone security mechanisms responsible for monitoring a limited portion of the network, but also distributed mechanisms which are able to jointly detect and mitigate the attack before the complete exhaustion of network resources. This need led to the proposal of several collaborative security mechanisms, covering different phases of the attack mitigation: from its detection to the relief of the system after the attack subsides. It is expected that such mechanisms enable the collaboration among security nodes through the distributed enforcement of security policies, either by installing security rules (e.g., for packet filtering) and/or by provisioning new specialized security nodes on the network. Albeit promising, existing proposals that distribute security tasks among collaborative nodes usually do not consider an optimal allocation of computational resources. As a result, their operation may result in a poor Quality of Service for legitimate packet flows during the mitigation of a DDoS attack. Aiming to tackle this issue, this work proposes a collaborative solution against DDoS attacks with two main goals: (1) ensure an optimal use of resources already available in the attack's datapath in a proactive way, and (2) optimize the placement of security tasks among the collaborating security nodes. Regardless the characteristics of each main goal, legitimate traffic must be preserved as packet loss is reduced as much as possible.\n",
      "Keywords:  Cloud computing DDOS SDN Security SFC\n",
      "\n",
      "##############################################################################\n",
      "\n",
      "Index: 97601\n",
      "Title:  Mitigating DDoS attacks on IoT through machine learning and network functions virtualization\n",
      "Author:  Oliveira, Guilherme Werneck de (Catálogo USP)\n",
      "Abstract:  The Internet of Things (IoT) has undergone a rapid popularization, reaching a wide range of application domains. As a consequence, more and more IoT devices with diverse characteristics are deployed in a variety of public and private environments, progressively becoming common objects of everyday life. On the other hand, the physical infrastructure of heterogeneous systems is complex and requires efficient and dynamic solutions for managing network performance and security, at a level that allows standardized deployment and easy replication in smart industries, buildings and cities. An approach that has been gaining ground when the intention is to respond to security threats on IoT is the Network Functions Virtualization (NFV) usage. The literature presents some works that use NFV to detect and mitigate security threats on IoT networks, but few performance indicators of the network context are explored to compose a more efficient solution. Thus, this work presents the development of a network context performance-based approach to mitigate Distributed Denial of Service (DDoS) attacks on IoT, investigating how performance indicators can compose Machine Learning (ML) models for Virtual Network Functions (VNF) placement. ML models were trained and tested using network context performance indicators to carry out two experiments. The first is related to the prediction of the response time of Industrial Internet of Things (IIoT) networks. The second on the security VNF placement, also on IIoT networks. The respective results achieved are predictions of network response times that are at most 50 milliseconds longer than settings realized by linear programming models and classifications with 99.40% of accuracy for the correct placement of security VNF on IIoT networks under DDoS attacks.\n",
      "Keywords:  DDoS IoT Machine learning NFV Performance Security VNF\n",
      "\n",
      "##############################################################################\n",
      "\n",
      "Index: 97601\n",
      "Title:  Mitigating DDoS attacks on IoT through machine learning and network functions virtualization\n",
      "Author:  Oliveira, Guilherme Werneck de (Catálogo USP)\n",
      "Abstract:  The Internet of Things (IoT) has undergone a rapid popularization, reaching a wide range of application domains. As a consequence, more and more IoT devices with diverse characteristics are deployed in a variety of public and private environments, progressively becoming common objects of everyday life. On the other hand, the physical infrastructure of heterogeneous systems is complex and requires efficient and dynamic solutions for managing network performance and security, at a level that allows standardized deployment and easy replication in smart industries, buildings and cities. An approach that has been gaining ground when the intention is to respond to security threats on IoT is the Network Functions Virtualization (NFV) usage. The literature presents some works that use NFV to detect and mitigate security threats on IoT networks, but few performance indicators of the network context are explored to compose a more efficient solution. Thus, this work presents the development of a network context performance-based approach to mitigate Distributed Denial of Service (DDoS) attacks on IoT, investigating how performance indicators can compose Machine Learning (ML) models for Virtual Network Functions (VNF) placement. ML models were trained and tested using network context performance indicators to carry out two experiments. The first is related to the prediction of the response time of Industrial Internet of Things (IIoT) networks. The second on the security VNF placement, also on IIoT networks. The respective results achieved are predictions of network response times that are at most 50 milliseconds longer than settings realized by linear programming models and classifications with 99.40% of accuracy for the correct placement of security VNF on IIoT networks under DDoS attacks.\n",
      "Keywords:  DDoS IoT Machine learning NFV Performance Security VNF\n",
      "\n",
      "##############################################################################\n",
      "\n",
      "Index: 20896\n",
      "Title:  MMORPGS: retóricas sobre os novos mundos\n",
      "Author:  Onça, Fabiano Alves (Catálogo USP)\n",
      "Abstract:  When we try to investigate the MMORPG practices, our view is certainly conditioned by major value´s chains which, in their turn, are struggling themselves for the interpretative hegemony in our time. This paper tries to inquiry in which way these rhetorical approaches are connected with this epistemological conceptions. Ultimately, we will try to recognize the boundaries of our rational, modern-oriented perception within the game rhetoric's.\n",
      "Keywords:  Jogos massivos de representação online MMORPGs\n",
      "\n",
      "##############################################################################\n",
      "\n",
      "Index: 64506\n",
      "Title:  New side-channel attacks on devices for manual input of sensitive data.\n",
      "Author:  Faria, Gerson de Souza (Catálogo USP)\n",
      "Abstract:  This thesis presents three new attacks on electronic payment equipment having mechanical keypads, known as \"PIN pads\". We show in three different ways how they have security vulnerabilities at the physical layer allowing the leak of the PIN (Personal Identification Number) when it is entered. We experimentally demonstrated that it is possible to infer with high success rate (100% in one of the attacks) the password entered on the device, in a non-invasive way. The attacks are based on the placement of sensors inside the equipment itself or in its operating environment: accelerometers for doing vibration analysis, microphones for acoustic analysis and load cells for measuring the pressing force. Due to massive deployment of sensors in consumer devices, information theft by unconventional means is increasing. The results of the low-cost attacks here developed expose serious shortcomings in the process of security certification of such equipment.\n",
      "Keywords:  Big data Common criteria EMV Information security Internet of things PCI PIN Entry Device PIN pad Side-channel attack Smartcard skimming\n",
      "\n",
      "##############################################################################\n",
      "\n",
      "Index: 98170\n",
      "Title:  Inclusion levels of co-product derived from the corn ethanol production process in feedlot finished cattle\n",
      "Author:  Moraes, João Marcos Meneghel de (Catálogo USP)\n",
      "Abstract:  Two experiments were carried out to evaluate the performance and rumen parameters of Nellore males fed feedlot finishing diets with varying levels of dried distillers bran plus solubles (DDBS). All diets were formulated to be isoprotein containing 8.5% sugarcane bagasse, 12% soybean hulls, 0.5 to 1.4% urea and 1.8% mineral and vitamin supplements. The treatments were (% of DM): 0% (64% of corn, 8% of cottonseed, 5% of soybean meal and 64% of ground corn; 15% (15% of DDBS, 61.3% of ground corn), 30% (30% DDBS and 46.7% ground corn) and 45% (45% DDBS and 32.2% ground corn). Nelore bulls (399 kg) were distributed in 56 pens in a randomized block design and fed for 98 days, after 21 days of adaptation. Dry matter intake (P=0.005), daily weight gain (P=0.002), feed efficiency (P<0.001), hot carcass weight (P=0.005), diet net energy of maintenance (P<0.001) and net energy of gain (P<0.001) were increased linearly. The other parameters evaluated such as carcass yield, loin eye area and fat thickness were not affected by inclusion of DDBS in the diet (P>0.05). In the metabolism study, 28 Nellore steers cannulated in the rumen were allotted to individual pens in a randomized block design. The inclusion of DDBS in the diet caused a quadratic reduction in rumen isobutirate (P=0.005) and a linear reduction in isovalerate (P=0.015) while the intakes of DM, NFC, GE and DE presented a quadratic response (P≤0,03), with the highest values at 15% of inclusion. In summary, the DDBS used in this trial contains greater energy value than the different replaced combinations of flint corn, whole cottonseed and soybean meal, and its inclusion up to 45% of diet DM improves the performance of finishing cattle.\n",
      "Keywords:  DDBS Performance Replacement RUP\n",
      "\n",
      "##############################################################################\n",
      "\n",
      "Index: 53793\n",
      "Title:  Method for mitigating against distributed denial of service attacks using multi-agent system.\n",
      "Author:  Pereira, João Paulo Aragão (Catálogo USP)\n",
      "Abstract:  The quality of service offered by the Internet Service Provider (ISP) depends directly on the amount of resources available at that time. In recent decades, this quality has been affected by the frequent and intense attacks that consume these resources, such as the Distributed Denial of Service (DDoS) attacks. In order to make the ISPs network more resilient to different types of DDoS attacks, techniques have been developed against such attacks over the past few years. Aiming to contribute to the improvement of such mechanisms, this dissertation presents a reactive autonomous method for detecting and mitigating DDoS attacks using a Multi-Agent system (MAS), in networks of ISPs. The main property of the proposed method is to identify characteristic traffic patterns of an attack, such as a large stream of packets directed to a service or equipment within the ISP network. With agents positioned on likely victims and at points of the network with the highest packet stream, the mitigation process starts automatically after a number of packets exceeding the traffic pattern, go through any of the monitored nodes. Since the incoming traffic on the network of any ISP is dynamic, whether legitimate or malicious, the using of agents tends to facilitate the process of defining the route of attack, as shown by the experimental results obtained with the proposed system.\n",
      "Keywords:  DDoS Detection and mitigation Multi-agent system\n",
      "\n",
      "##############################################################################\n",
      "\n",
      "Index: 99822\n",
      "Title:  Deep reinforcement learning for multi-domain task-oriented dialogue systems.\n",
      "Author:  Nishimoto, Bruno Eidi (Catálogo USP)\n",
      "Abstract:  Dialogue system (DS) is an old idea dating back to 1966, when the rst such system was created. DS can be classied in three categories: question & answering, task-oriented and socialbot. Task-oriented dialogue systems are a very relevant eld due to the diversity of possible applications it can achieve. For example, it can solve tasks like buying a movie ticket, booking a restaurant and providing customer service. They have received increasing attention in recent years, and one reason for this is the advancement in natural language processing. Although the literature presents several studies focusing on DS, there are still many issues to be accomplished. Most of them are related to dialogue management, the central component of DS. Reinforcement learning (RL) is one approach that has achieved great success recently. However, things become more complex when DS is extended to multi-domain settings, i.e. when DS needs to complete multiple tasks in dierent domains for the user. Some problems such as policy adaptation and transfer learning arise in this new scenario. The purpose of this research is to improve recent techniques using RL on the dialogue management. We present an ecient learning by balancing exploration and exploitation, and enhancing the usage of expert knowledge to guide the agent. We propose a method to handle noise and error in the input of the dialogue management and we also provide a basic comparison between RL and supervised learning in both toy and real datasets. Finally, we present a new proposal to deal with multi-domain settings: the use of the divide-and-conquer technique and transfer learning for dierent domains.\n",
      "Keywords:  Chatbots Dialogue management Dialogue system Multiple domains Reinforcement learning Transfer learning\n",
      "\n",
      "##############################################################################\n",
      "\n",
      "Index: 93476\n",
      "Title:  Effect of partial replacement of soybean meal with heat-treated soybean meal or corn DDGS in the feeding of lactating cows\n",
      "Author:  Chesini, Rodrigo Garavaglia (Catálogo USP)\n",
      "Abstract:  Adequate dietary balance, including the balance of rumen degradable protein (RDP) and rumen undegradable protein (RUP), can increase milk production and reduce nitrogen losses to the environment. The objective of this study was to evaluate different protein sources in diets of lactating cows and their effects on intake and total apparent digestibility of dry matter and nutrients, milk production and composition, microbial protein synthesis, blood metabolites, nitrogen balance , sorting index, body weight and body condition score. Twenty-four multiparous Holstein cows, with 200 ± 40.0 days in lactation (DIM), 599 ± 78.0 kg of body weight (BW) and 30.0 ± 3.92 L of milk production were used. The animals were distributed into a 3 × 3 Latin square experimental design, receiving the following treatments: 1) CON., with soybean meal as the major protein source in concentrate; 2) SOY., 30% partial replacement of soybean meal with toasted soybean meal (Soypass®, Cargill, São Paulo); 3) DDGS, 30% partial replacement of soybean meal with dry distillers grains with solubles (FLEXYPRO®, Cargill, São Paulo). The diets were formulated according to the NRC (2001) with a roughage to concentrate ratio of 48:52. Each experimental period lasted 21 days, with 14 days of adaptation and 07 days of data collection and sampling. Regarding nutrient intake, neutral detergent fiber (NDF), crude protein (CP) and ether extract (EE), there was a significant difference (P ≤ 0.05) when comparing the CON treatment. vs. (SOY vs. DDGS). Regarding the two alternative protein sources, there was a significant difference for the consumption of NDF, EE and NDF (kg/d and % PV) between the SOY vs DDGS treatments. (P ≤ 0.05). Selection Sorting index was different when comparing CON vs. PNDR sources, on the 8 4 mm and < 4 mm sieve (P ≤ 0.05). The same happens when comparing the same group of sieves in SOY vs. DDGS, (P ≤ 0.05). The combination SOY and DDGS significantly affected milk production and lactose production (kg/d), when compared to the control treatment (P ≤ 0.05). The same treatments (SOY and/or DDGS) tended to increase milk production corrected for energy and protein (P ≤ 0.099). The DDGS treatment showed a significant increase (P = 0.010) in milk protein content when compared to the SOY group. Even the body weight of animals between treatments showed a significant difference (P = 0.039). Regarding the nitrogen balance, there was a significant difference in the total N consumed (P = 0.026) of the RUP sources. Alternative protein sources tended to increase (P ≤ 0.082) N excreted in feces and milk. However, it can be concluded that the use of PNDR sources can be added to dairy cows diets and provide satisfactory results.\n",
      "Keywords:  by pass Distillery grains Protein sources RUP\n",
      "\n",
      "##############################################################################\n",
      "\n",
      "Index: 35660\n",
      "Title:  Locus Delicti in cybercrimes\n",
      "Author:  Costa, Fernando José da (Catálogo USP)\n",
      "Abstract:  Discusses the advent of the computer and the internet in society and their relation with the law. Considers the use of information technology in committing crime, observing that a penal offence is no longer local, since it has acquired international dimensions. Therefore, its resolution does not necessarily happen in the same locality where it was practiced. Draws attention to the fact that the principles that delimit the validity of the penal law might not be sufficient to dispel possible conflicts of jurisdiction, if interpreted in the usual traditional way. By giving examples, it analyses and classifies types of electronic crimes as well as the criminal agents of the digital age. Gathers and comments laws and projects of law, both national and international, as well as conventions on electronic crimes. Finally, it presents criteria of solution for resolving the conflict of jurisdiction for crimes practiced in cyberspace, suggesting, of lege ferenda, the pursuit of a law which would eliminate such conflicts.\n",
      "Keywords:  Action theory Computer crime Criminal law Internet Jurisdiction Locus delicti\n",
      "\n",
      "##############################################################################\n",
      "\n",
      "Index: 22790\n",
      "Title:  Welcome to Azeroth: economy ludic aspects in a fantastic world\n",
      "Author:  Campedelli, Gabriela (Catálogo USP)\n",
      "Abstract:  This work aims to analyze economic and social aspects of the synthetic world entitled World of Warcraft, a Massively Multiplayer Online Role Playing Game (MMORPG). This choice was made because of the popularity of this game around the world, counting 11 million players according to Blizzard Entertainments data published in October 2008. The etnography was developed online by ten avatars speacially created to take part of the world inside the virtual land of Azeroth, and observes the developing aspects of the player communities and their relationship with Blizzard governance while it also constitutes an introduction to this genre of game which highlights the economic dynamics of this complex digital universe. Play is a source of value and the ludicity has its own economy.\n",
      "Keywords:  Game design Ludic economy MMORPG Online games World of Warcraft\n",
      "\n",
      "##############################################################################\n",
      "\n",
      "Index: 78086\n",
      "Title:  A collaborative architecture against DDOS attacks for cloud computing systems.\n",
      "Author:  Almeida, Thiago Rodrigues Meira de (Catálogo USP)\n",
      "Abstract:  Distributed attacks, such as Distributed Denial of Service (DDoS) ones, require not only the deployment of standalone security mechanisms responsible for monitoring a limited portion of the network, but also distributed mechanisms which are able to jointly detect and mitigate the attack before the complete exhaustion of network resources. This need led to the proposal of several collaborative security mechanisms, covering different phases of the attack mitigation: from its detection to the relief of the system after the attack subsides. It is expected that such mechanisms enable the collaboration among security nodes through the distributed enforcement of security policies, either by installing security rules (e.g., for packet filtering) and/or by provisioning new specialized security nodes on the network. Albeit promising, existing proposals that distribute security tasks among collaborative nodes usually do not consider an optimal allocation of computational resources. As a result, their operation may result in a poor Quality of Service for legitimate packet flows during the mitigation of a DDoS attack. Aiming to tackle this issue, this work proposes a collaborative solution against DDoS attacks with two main goals: (1) ensure an optimal use of resources already available in the attack's datapath in a proactive way, and (2) optimize the placement of security tasks among the collaborating security nodes. Regardless the characteristics of each main goal, legitimate traffic must be preserved as packet loss is reduced as much as possible.\n",
      "Keywords:  Cloud computing DDOS SDN Security SFC\n",
      "\n",
      "##############################################################################\n",
      "\n",
      "Index: 47950\n",
      "Title:  Centrality measures in complex networks: correlations, effectiveness and characterization of systems\n",
      "Author:  Ronqui, José Ricardo Furlan (Catálogo USP)\n",
      "Abstract:  Centrality measures were developed to evaluate the importance of nodes and links based on the structure of networks. Centralities are essential in the study of networks because these systems are usually large, which make manual analysis of all nodes and links impossible; therefore recognizing such elements is a vital task. As nodes and links can be considered essential by different reasons, a large number of measures were proposed to identify important elements that were not highlighted by the other ones. In our study, we use Pearson's correlation coefficient to measure the similarity between rankings of nodes and links provided by different centralities for real and model based networks. We also perform attacks to networks, using these rankings to determine the order of removal of nodes and links, intending to evaluate and compare the efficiency and how the systems react to attacks guided by different centralities. Finally, we use the correlation coefficients between the pairs of centralities as properties of networks, and perform a principal component analysis with them, to evaluate if differences among network structures can be detected from correlations. Our results showed that centrality measures are frequently correlated, which means that the same elements can be highlighted by different centralities. We also noticed that the correlation coefficients are larger in models than in real world networks. The results of the attacks experiment showed that even when two measures are highly correlated, they can affect networks in distinct ways, meaning that the group of the nodes and links provided by each measure are relevant for the study of networks systems. Our last result evidenced that correlations among centrality measures can be used for characterization of networks and to evaluate how well models represent them.\n",
      "Keywords:  Attacks Centrality measures Complex networks Correlations Principal component analysis\n",
      "\n",
      "##############################################################################\n",
      "\n",
      "Index: 27268\n",
      "Title:  The overflow of ludic and biopolitics in Massive Multiplayer Online games: a study on the World of Warcraft\n",
      "Author:  Chagas, Artur Alves de Oliveira (Catálogo USP)\n",
      "Abstract:  The segment of computer games called Massively Multiplayer Online, in which thousands of people can be connected simultaneously, are taken as examples of current collective games. From the analysis of Michel Foucault's biopolitics, are investigated the identity constructions of individuals, social roles and commitments with other players and the learning and disciplines reinforced in such games, with reference to the game World of Warcraft, the most popular of this genre, today. The fieldwork was carried out with players and with the official websites of the selected game, through which the regimes of truths that concern us here. Cyberculture is understood in this work as a condition of social engineering that reconfigures the distances and the physical and temporal boundaries, reinforcing ways of subjection ever more individualized and referenced by speeches of sprawling groups. The type of game considered in this work, in addition to become popular by employing tools and practices peculiar to the new electronic technologies, favors the analysis that the forms of government and control over life are increasingly refined, overflowing by all planes of existence. Such analysis allows the questioning of scientific discourse, mainly in the last decade, about practices among subjects involving games, and mainly when referring to practices in education and learning.\n",
      "Keywords:  computer games electronic games Foucault teaching and learning\n",
      "\n",
      "##############################################################################\n",
      "\n"
     ]
    }
   ],
   "source": [
    "query(\"ddos attack\")"
   ]
  },
  {
   "cell_type": "code",
   "execution_count": 241,
   "id": "d3290d96",
   "metadata": {},
   "outputs": [
    {
     "name": "stdout",
     "output_type": "stream",
     "text": [
      "Encode took 0.15382623672485352s\n",
      "Encode took 356.5039610862732s\n",
      "Index: 97601\n",
      "Title:  Mitigating DDoS attacks on IoT through machine learning and network functions virtualization\n",
      "Author:  Oliveira, Guilherme Werneck de (Catálogo USP)\n",
      "Abstract:  The Internet of Things (IoT) has undergone a rapid popularization, reaching a wide range of application domains. As a consequence, more and more IoT devices with diverse characteristics are deployed in a variety of public and private environments, progressively becoming common objects of everyday life. On the other hand, the physical infrastructure of heterogeneous systems is complex and requires efficient and dynamic solutions for managing network performance and security, at a level that allows standardized deployment and easy replication in smart industries, buildings and cities. An approach that has been gaining ground when the intention is to respond to security threats on IoT is the Network Functions Virtualization (NFV) usage. The literature presents some works that use NFV to detect and mitigate security threats on IoT networks, but few performance indicators of the network context are explored to compose a more efficient solution. Thus, this work presents the development of a network context performance-based approach to mitigate Distributed Denial of Service (DDoS) attacks on IoT, investigating how performance indicators can compose Machine Learning (ML) models for Virtual Network Functions (VNF) placement. ML models were trained and tested using network context performance indicators to carry out two experiments. The first is related to the prediction of the response time of Industrial Internet of Things (IIoT) networks. The second on the security VNF placement, also on IIoT networks. The respective results achieved are predictions of network response times that are at most 50 milliseconds longer than settings realized by linear programming models and classifications with 99.40% of accuracy for the correct placement of security VNF on IIoT networks under DDoS attacks.\n",
      "Keywords:  DDoS IoT Machine learning NFV Performance Security VNF\n",
      "\n",
      "##############################################################################\n",
      "\n",
      "Index: 48512\n",
      "Title:  Reconfigurable learning system for classification of data using parallel processing\n",
      "Author:  Moreira, Eduardo Marmo (Catálogo USP)\n",
      "Abstract:  This thesis presents the architecture of a System Learning with a task scheduler, which makes possible the utilization of several classification and validation methods, allowing the distribution of tasks between the module systems. This architecture is structured of such way that the classifications obtained through a specific technique can be reutilized in parallel by the same algorithm or by other techniques, producing new classifications through the refinement of the results achieved and expanding the use in databases with different characteristics. The system was structured in four parts denominated, respectively, Initialization module; Validation module; Refinement module; and Especial scheduling module. In each module, various algorithms can be employed to reach its objectives. The structure of this system allows its configuration, utilizing various methods, including artificial intelligence techniques. Thus, it is possible to obtain more precise results through the choice of the best method to each case. The results presented in this work were obtained from basis that are known in the literature, which allows to compare the implementations of the traditional methods that were added to the system and, especially, to verify the quality of the refinements produced by the integration of different techniques. The results demonstrated that through a learning system, the complexity of the analysis of great databases is minimized, allowing to verify basis with different structures and to increase the methods applied in the analysis of each structure. It favors the comparison between the methodologies and provides more reliable results. To standardize the data originated of distinct bases, the data modelling system was elaborated, which will favor the uniform scalability of the system.\n",
      "Keywords:  Artificial intelligence Clustering Data partitioning Database Machine learning System learning\n",
      "\n",
      "##############################################################################\n",
      "\n",
      "Index: 78086\n",
      "Title:  A collaborative architecture against DDOS attacks for cloud computing systems.\n",
      "Author:  Almeida, Thiago Rodrigues Meira de (Catálogo USP)\n",
      "Abstract:  Distributed attacks, such as Distributed Denial of Service (DDoS) ones, require not only the deployment of standalone security mechanisms responsible for monitoring a limited portion of the network, but also distributed mechanisms which are able to jointly detect and mitigate the attack before the complete exhaustion of network resources. This need led to the proposal of several collaborative security mechanisms, covering different phases of the attack mitigation: from its detection to the relief of the system after the attack subsides. It is expected that such mechanisms enable the collaboration among security nodes through the distributed enforcement of security policies, either by installing security rules (e.g., for packet filtering) and/or by provisioning new specialized security nodes on the network. Albeit promising, existing proposals that distribute security tasks among collaborative nodes usually do not consider an optimal allocation of computational resources. As a result, their operation may result in a poor Quality of Service for legitimate packet flows during the mitigation of a DDoS attack. Aiming to tackle this issue, this work proposes a collaborative solution against DDoS attacks with two main goals: (1) ensure an optimal use of resources already available in the attack's datapath in a proactive way, and (2) optimize the placement of security tasks among the collaborating security nodes. Regardless the characteristics of each main goal, legitimate traffic must be preserved as packet loss is reduced as much as possible.\n",
      "Keywords:  Cloud computing DDOS SDN Security SFC\n",
      "\n",
      "##############################################################################\n",
      "\n",
      "Index: 29151\n",
      "Title:  Meta-learning applied to gene expression data classification\n",
      "Author:  Souza, Bruno Feres de (Catálogo USP)\n",
      "Abstract:  Among the most common applications involving microarray, one can highlight the classification of tissue samples, which is essential for the correct identification of the occurrence of cancer and its type. This classification takes place with the aid of machine learning algorithms. Choosing the best algorithm for a given problem is not trivial. In this thesis, we studied the use of meta-learning as a viable solution. The experimental results confirmed the success of the application using a standard framework for characterizing data and constructing the recommendation. Thereafter, some improvements were made in these two aspects. Initially, a new set of meta-attributes was proposed, which are based on cluster validation indices. Then the kNN method for ranking construction was extended to weight the influence of nearest neighbors. In the context of meta-regression, the use of SVMs was introduced to estimate the performance of ranking algorithms. Decision trees were also employed for recommending algorithms. Due to their low performance, a ensemble of trees was employed, which greatly improved the quality of results\n",
      "Keywords:  Gene expression data classification Machine learning Metalearning\n",
      "\n",
      "##############################################################################\n",
      "\n",
      "Index: 74795\n",
      "Title:  Collective dynamics in complex networks for machine learning\n",
      "Author:  Verri, Filipe Alves Neto (Catálogo USP)\n",
      "Abstract:  Machine learning enables machines to learn automatically from data. In literature, graph-based methods have received increasing attention due to their ability to learn from both local and global information. In these methods, each data instance is represented by a vertex and is linked to other vertices according to a predefined affinity rule. However, they usually have unfeasible time cost for large problems. To overcome this problem, techniques can employ a heuristic to find suboptimal solutions in a feasible time. Early heuristic optimization methods exploit nature-inspired collective processes, such as ants looking for food sources and swarms of bees. Nowadays, advances in the field of complex systems provide powerful tools to assess and to understand dynamical systems. Complex networks, which are graphs with nontrivial topology, are among these theoretical tools capable of describing the interplay of topology, structure, and dynamics of complex systems. Therefore, machine learning methods based on complex networks and collective dynamics have been proposed. They encompass three steps. First, a complex network is constructed from the input data. Then, the simulation of a distributed collective system in the network generates rich information. Finally, the collected information is used to solve the learning problem. The coordination of the individuals in the system permit to achieve dynamics that is far more complex than the behavior of single individuals. In this research, I have explored collective dynamics in machine learning tasks, both in unsupervised and semi-supervised scenarios. Specifically, I have proposed a new collective system of competing particles that shifts the traditional vertex-centric dynamics to a more informative edge-centric one. Moreover, it is the first particle competition system applied in machine learning task that has deterministic behavior. Results show several advantages of the edge-centric model, including the ability to acquire more information about overlapping areas, a better exploration behavior, and a faster convergence time. Also, I have proposed a new network formation technique that is not based on similarity and has low computational cost. Since addition and removal of samples in the network is cheap, it can be used in real-time application. Finally, I have conducted analytical investigations of a flocking-like system that was needed to guarantee the expected behavior in community detection tasks. In conclusion, the result of the research contributes to many areas of machine learning and complex systems.\n",
      "Keywords:  Collective dynamics Complex networks Machine learning Semi-supervised learning Unsupervised learning\n",
      "\n",
      "##############################################################################\n",
      "\n",
      "Index: 97601\n",
      "Title:  Mitigating DDoS attacks on IoT through machine learning and network functions virtualization\n",
      "Author:  Oliveira, Guilherme Werneck de (Catálogo USP)\n",
      "Abstract:  The Internet of Things (IoT) has undergone a rapid popularization, reaching a wide range of application domains. As a consequence, more and more IoT devices with diverse characteristics are deployed in a variety of public and private environments, progressively becoming common objects of everyday life. On the other hand, the physical infrastructure of heterogeneous systems is complex and requires efficient and dynamic solutions for managing network performance and security, at a level that allows standardized deployment and easy replication in smart industries, buildings and cities. An approach that has been gaining ground when the intention is to respond to security threats on IoT is the Network Functions Virtualization (NFV) usage. The literature presents some works that use NFV to detect and mitigate security threats on IoT networks, but few performance indicators of the network context are explored to compose a more efficient solution. Thus, this work presents the development of a network context performance-based approach to mitigate Distributed Denial of Service (DDoS) attacks on IoT, investigating how performance indicators can compose Machine Learning (ML) models for Virtual Network Functions (VNF) placement. ML models were trained and tested using network context performance indicators to carry out two experiments. The first is related to the prediction of the response time of Industrial Internet of Things (IIoT) networks. The second on the security VNF placement, also on IIoT networks. The respective results achieved are predictions of network response times that are at most 50 milliseconds longer than settings realized by linear programming models and classifications with 99.40% of accuracy for the correct placement of security VNF on IIoT networks under DDoS attacks.\n",
      "Keywords:  DDoS IoT Machine learning NFV Performance Security VNF\n",
      "\n",
      "##############################################################################\n",
      "\n",
      "Index: 78041\n",
      "Title:  The use of machine learning algorithms in classification problems\n",
      "Author:  Batista, Maria Rita Sifuentes (Catálogo USP)\n",
      "Abstract:  The last few years were remarkable by relevant advances in technology, mainly related to computers. These advances, when added to the diversity of products offered by companies from different segments and their efforts in capturing and storing data from their customers and operations, helps to explain the amount of information that is currently being produced. Overall, the organizations have been efficient in capturing, organizing, and storing large amounts of data, but not all of them uses it adequately to make them useful knowledge for their activities. Learning algorithms are a powerful machine toll to acquire knowledge based on experience. The use of these algorithms allows advances and discoveries that brings a competitive advantage to the companies. The most common machine learning task is supervised learning, whose objective is to learn a predictive model from a set of data. This model should be able to generalize the acquired knowledge to a set of unknown data. This allows the model to have a good predictive capability. An important and widely used application of supervised learning are the classification problems, commonly seen in the financial industry. One of the challenges of this industry is to predict the payment capacity of its customers, rating them as good or bad payers. In this study, five supervised machine learning algorithms, logistic regression, Bayesian classifiers, k-neighbors, random forests and neural networks were investigated and applied to a real classification problem. Since the performance of these algorithms are affected by the variables used, variable selection techniques were applied to the original data set. The use of these techniques allows a computational reduction time by removing redundant and irrelevant information. Performance measures for binary classification were used to evaluate the predictive performance of the models generated by the five algorithms and to compare them. Since it is increasing the importance to have easily interpretable models, the interpretability and complexity of the models generated were also evaluated.\n",
      "Keywords:  Algorithm Classification Machine learning Prediction Variables\n",
      "\n",
      "##############################################################################\n",
      "\n",
      "Index: 3188\n",
      "Title:  Active semi-supervised classification based on multiple clustering hierarchies\n",
      "Author:  Batista, Antônio José de Lima (Catálogo USP)\n",
      "Abstract:  Active semi-supervised learning can play an important role in classification scenarios in which labeled data are laborious and/or expensive to obtain, while unlabeled data are numerous and can be easily acquired. There are many active algorithms in the literature and this work focuses on an active semi-supervised algorithm that can be driven by clustering hierarchy, the well-known Hierarchical Sampling (HS) algorithm. This work takes as a starting point the original Hierarchical Sampling algorithm and perform changes in different aspects of the original algorithm in order to tackle its main drawbacks, including its sensitivity to the choice of a single particular hierarchy. Experimental results over many real datasets show that the proposed algorithm performs superior or competitive when compared to a number of state-of-the-art algorithms for active semi-supervised classification.\n",
      "Keywords:  Active learning Active semi-supervised classification Clustering hierarchies. Machine learning\n",
      "\n",
      "##############################################################################\n",
      "\n",
      "Index: 27488\n",
      "Title:  Machine learning in complex networks\n",
      "Author:  Breve, Fabricio Aparecido (Catálogo USP)\n",
      "Abstract:  Complex networks is a recent and active scientific research field, which concerns large scale networks with non-trivial topological structure, such as computer networks, telecommunication networks, transport networks, social networks and biological networks. Many of these networks are naturally divided into communities or modules and, therefore, uncovering their structure is one of the main problems related to complex networks study. This problem is related with the machine learning field, which is concerned with the design and development of algorithms and techniques which allow computers to learn, or increase their performance based on experience. Some of the problems identified in traditional learning techniques include: difficulties in identifying irregular forms in the attributes space; uncovering overlap structures of groups or classes, which occurs when elements belong to more than one group or class; and the high computational complexity of some models, which prevents their application in larger data bases. In this work, we deal with these problems through the development of new machine learning models using complex networks and space-temporal dynamics. The developed models have performance similar to those from some state-of-the-art algorithms, at the same time that they present lower computational complexity order than most of them\n",
      "Keywords:  Complex networks Machine learning Space-temporal dynamics\n",
      "\n",
      "##############################################################################\n",
      "\n",
      "Index: 100448\n",
      "Title:  Semantic localization and mapping in forests.\n",
      "Author:  Nardari, Guilherme Vicentim (Catálogo USP)\n",
      "Abstract:  While overhead data can provide general information about a forest, inside the forest, we can identify understory plants and measure the diameter and count of the trunks of each tree. Currently, specialists rely on human expeditions to get these measurements, which can be slow, expensive, and dangerous. For this reason, robots that can autonomously navigate and extract data from inside the forest could revolutionize how we monitor forests worldwide and the amount of information we have about them. In forestry, the lack of reliable GPS signal, uneven terrain covered by plants and leaves, and trees with branches moving with the wind are a few of the challenges posed. These factors can create shortcomings for classic algorithms as some assumptions may not be valid in this environment. Semantic information, such as classes and forms of objects expected in the environment is a promising way to increase the robustness and performance of autonomous systems. In this context, this thesis introduces a framework that uses 3D data provided by LiDAR or stereo cameras to identify semantic information using neural networks. This information is used to identify trees and model them as cylinders, creating a semantic map. Our formulation allows the incorporation of noisy estimates that can be refined with the arrival of new sensor readings and external measurements to increase the frameworks robustness. Using the semantic map generated by our framework, we propose an algorithm capable of generating unique forest location descriptors that are visually highly similar. These descriptors can be used to identify previously visited locations and feedback to reduce accumulated errors in location estimates. We present several experiments in simulated environments and real-world Pine forests, demonstrating that our method generates semantic maps that improve the quality of the robots location estimates and generate informative maps with information on the individual count and the trunk diameter of each tree. Furthermore, the semantic representation of the data obtained by the sensors is much more computationally efficient, as it summarizes the raw data in a semantic geometric model with few parameters.\n",
      "Keywords:  Localization Machine learning. Mapping Semantic segmentation\n",
      "\n",
      "##############################################################################\n",
      "\n",
      "Index: 96008\n",
      "Title:  Using machine learning to analyze chaotic orbits\n",
      "Author:  Luchesi, Ana Carolina Ferreira (Catálogo USP)\n",
      "Abstract:  Chaotic behaviour can be observed in the most diverse systems, including planetary orbits, weather, stock market and so on. Therefore, investigating means to predict the future of chaotic systems can help us comprehend many systems that surround us. The Logistic Map, originally proposed as a model to describe a population growth, presents sensitivity to initial conditions, which leads to the unpredictability of the future of this system. It is one of the most famous examples of chaotic behaviour emerging from a simple dynamical system. In this study, the chaotic orbits of the logistic map were chosen because of both their simplicity and wide range of complexity. Neural networks are the current most popular approach to machine learning and have achieved state-of-the art results in many different tasks. Recurrent Neural Networks are able to recollect previous inputs, they are therefore more suitable to handle sequential data. In this dissertation, two types of recurrent neural networks were used to investigate how they predict future terms of chaotic orbits from the Logistic Map: Long Short-Term Memory (LSTM) and Echo State Networks (ESN). The results obtained show that ESNs are able to predict these orbits with higher accuracy than LSTMs and confirm them as promising tool to challenge the unpredictability of chaos.\n",
      "Keywords:  Chaos theory Chaotic orbits Logistic map Machine learning Neural networks\n",
      "\n",
      "##############################################################################\n",
      "\n",
      "Index: 51845\n",
      "Title:  Using style markers in Portuguese Web Searching.\n",
      "Author:  Aires, Rachel Virgínia Xavier (Catálogo USP)\n",
      "Abstract:  How should one cope with information overtlow. when there are too many pages on the Web aboul almost every subject? This thesis addresses the problem of information overtlow users taco when dealing with Web search results. To go beyond content it is proposed to classifv pages according to the seareli goals they sorve from a user point of view: to download a system learn some subject or find news about another are quite different user goals. The hypothesis validated in the present dissertation is that it is both technically feasible and understandble to classifv Web pages according to user goal. By using machine learning teehniques over linguistically inspired features. automatic classifiers were built to distinguish among user needs. Also. several user studies were conducted to assess the understandability of the concepts at stake and the gain achieved by using the particular classification in the displav of the results. In addition. this work also tested personalized binarv classifiers about specilfic subjects. traíned in small traming corpora supplied by the users themselves. With regard to evaluation. both system evaluation and user-centered evaluation were performed. The results show that (i) the user needs classification is understood by the user. (ii) the use of style markers are a reliable path to be investigated (iii) traimng on small Web corpora is able to generate reliable classifiers. and ( iv ) search can be eased by classifying scarch results according to user needs.\n",
      "Keywords:  Not available\n",
      "\n",
      "##############################################################################\n",
      "\n",
      "Index: 100187\n",
      "Title:  OpenNPU: an open source platform for automatic neural network synthesis for FPGAs.\n",
      "Author:  Muyal, Thomas Araújo (Catálogo USP)\n",
      "Abstract:  Artificial neural networks are a group of artificial intelligence algorithms widely used contemporarily in the industry and research, implemented to solve a great variety of issues. Its recent popularity is in part due to the advance of hardware technologies, which provide computational resources for the resource-intensive processing necessary for its implementation. Historically, neural network software is executed in Central Processing Units (CPUs), which are general purpose devices. However, metrics such as inference speed, energy efficiency and circuit area are improved with the use of specialized hardware accelerators. In the context of edge computing, the processing on location of data gathered by Internet of Things (IoT) devices, there are significant restrictions as to those metrics. One of the devices frequently used for this purpose are Field-Programmable Gate Arrays (FPGAs), which offer integrated circuits whose functionality may be programmed for the synthesis of hardware specialized in specific algorithms, offering high performance and execution efficiency, as well as other benefits such as being able to be reconfigured after manufacturing, shorter design cycles, faster time-to-market and lower cost than the alternatives. One of the issues for the use of FPGAs is that its programming is difficult and requires specialist knowledge to fully make use of these devices characteristics, and not every team of artificial intelligence developers has such knowledge. Consequently, there is interest in systems that automatize the synthesis of neural network hardware accelerators in FPGAs, to bring the benefits of this technique to a wider audience. Another approach to solve the high restriction environment of edge computing is neural network quantization, which means reducing the precision of representation of parameters so they consume less memory, and operations using these numbers are faster. This work studies the state of the art of this manner of software, diagnosing existing gaps. The main objective of this research is the creation and validation of a proof of concept of automatic generation of neural network hardware accelerators that are using parameter quantization techniques to enable its synthesis on small FPGAs aimed towards edge computing. For the validation of this system, an accelerator was generated and its behavior was measured in metrics of latency, end result throughput, energy efficiency, circuit area and compared to the execution of the same neural network in a high-end personal computer CPU. The results indicate that the generated hardware accelerator is synthesizeable, significantly faster and consumes considerably less energy than the CPU implementation.\n",
      "Keywords:  Artificial intelligence Deep learning FPGA Hardware accelerator Internet of things Machine learning Neural networks\n",
      "\n",
      "##############################################################################\n",
      "\n",
      "Index: 47396\n",
      "Title:  Machine learning via dynamical processes on complex networks\n",
      "Author:  Cupertino, Thiago Henrique (Catálogo USP)\n",
      "Abstract:  Extracting useful knowledge from data sets is a key concept in modern information systems. Consequently, the need of efficient techniques to extract the desired knowledge has been growing over time. Machine learning is a research field dedicated to the development of techniques capable of enabling a machine to \"learn\" from data. Many techniques have been proposed so far, but there are still issues to be unveiled specially in interdisciplinary research. In this thesis, we explore the advantages of network data representation to develop machine learning techniques based on dynamical processes on networks. The network representation unifies the structure, dynamics and functions of the system it represents, and thus is capable of capturing the spatial, topological and functional relations of the data sets under analysis. We develop network-based techniques for the three machine learning paradigms: supervised, semi-supervised and unsupervised. The random walk dynamical process is used to characterize the access of unlabeled data to data classes, configuring a new heuristic we call ease of access in the supervised paradigm. We also propose a classification technique which combines the high-level view of the data, via network topological characterization, and the low-level relations, via similarity measures, in a general framework. Still in the supervised setting, the modularity and Katz centrality network measures are applied to classify multiple observation sets, and an evolving network construction method is applied to the dimensionality reduction problem. The semi-supervised paradigm is covered by extending the ease of access heuristic to the cases in which just a few labeled data samples and many unlabeled samples are available. A semi-supervised technique based on interacting forces is also proposed, for which we provide parameter heuristics and stability analysis via a Lyapunov function. Finally, an unsupervised network-based technique uses the concepts of pinning control and consensus time from dynamical processes to derive a similarity measure used to cluster data. The data is represented by a connected and sparse network in which nodes are dynamical elements. Simulations on benchmark data sets and comparisons to well-known machine learning techniques are provided for all proposed techniques. Advantages of network data representation and dynamical processes for machine learning are highlighted in all cases\n",
      "Keywords:  Complex networks Consensus time Dimensionality reduction Dynamical processes Interacting forces Limiting probabilities Machine learning Network-based learning Plinning control Random walk Semi-supervised learning Stationary states Supervised learning Unsupervised learning\n",
      "\n",
      "##############################################################################\n",
      "\n",
      "Index: 77070\n",
      "Title:  Dynamic CPU frequency scaling using machine learning for NFV applications.\n",
      "Author:  Zorello, Ligia Maria Moreira (Catálogo USP)\n",
      "Abstract:  Growth in the Information and Communication Technology sector is increasing the need to improve the quality of service and energy efficiency, as this industry has already surpassed 12% of global energy consumption in 2017. Data centers correspond to a large part of this consumption, accounting for about 15% of energy expenditure on the Information and Communication Technology domain; moreover, the subsystem that generates the most costs for data center operators is that of servers and storage. Many solutions have been proposed to reduce server consumption, such as the use of dynamic voltage and frequency scaling, a technology that enables the adaptation of energy consumption to the workload by modifying the operating voltage and frequency, although they are not optimized for network traffic. In this thesis, a control method was developed using a prediction engine based on the analysis of the ongoing traffic. Machine learning algorithms based on Neural Networks and Support Vector Machines have been used, and it was verified that it is possible to reduce power consumption by up to 12% on servers with Intel Sandy Bridge processor and up to 21 % in servers with Intel Haswell processor when compared to the maximum frequency, which is currently the most used solution in the industry.\n",
      "Keywords:  DVFS Energy efficiency Machine learning NFV\n",
      "\n",
      "##############################################################################\n",
      "\n"
     ]
    }
   ],
   "source": [
    "query(\"ddos attack using machine learning\")"
   ]
  },
  {
   "cell_type": "code",
   "execution_count": null,
   "id": "103d0295",
   "metadata": {},
   "outputs": [],
   "source": []
  }
 ],
 "metadata": {
  "kernelspec": {
   "display_name": "Python 3 (ipykernel)",
   "language": "python",
   "name": "python3"
  },
  "language_info": {
   "codemirror_mode": {
    "name": "ipython",
    "version": 3
   },
   "file_extension": ".py",
   "mimetype": "text/x-python",
   "name": "python",
   "nbconvert_exporter": "python",
   "pygments_lexer": "ipython3",
   "version": "3.10.6"
  }
 },
 "nbformat": 4,
 "nbformat_minor": 5
}
