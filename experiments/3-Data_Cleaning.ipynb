{
 "cells": [
  {
   "cell_type": "markdown",
   "id": "23511cbd",
   "metadata": {},
   "source": [
    "## 3. Data Cleaning\n",
    "\n",
    "Data: 12 de Junho de 2023\n",
    "\n",
    "Esse notebook contém:\n",
    "\n",
    "\n",
    "### Notas:\n",
    "\n"
   ]
  },
  {
   "cell_type": "code",
   "execution_count": 1,
   "id": "b9d75543",
   "metadata": {},
   "outputs": [
    {
     "name": "stderr",
     "output_type": "stream",
     "text": [
      "2023-08-10 11:02:16.327594: I tensorflow/core/platform/cpu_feature_guard.cc:193] This TensorFlow binary is optimized with oneAPI Deep Neural Network Library (oneDNN) to use the following CPU instructions in performance-critical operations:  AVX2 FMA\n",
      "To enable them in other operations, rebuild TensorFlow with the appropriate compiler flags.\n",
      "2023-08-10 11:02:16.946193: W tensorflow/compiler/xla/stream_executor/platform/default/dso_loader.cc:64] Could not load dynamic library 'libnvinfer.so.7'; dlerror: libnvinfer.so.7: cannot open shared object file: No such file or directory\n",
      "2023-08-10 11:02:16.946256: W tensorflow/compiler/xla/stream_executor/platform/default/dso_loader.cc:64] Could not load dynamic library 'libnvinfer_plugin.so.7'; dlerror: libnvinfer_plugin.so.7: cannot open shared object file: No such file or directory\n",
      "2023-08-10 11:02:16.946261: W tensorflow/compiler/tf2tensorrt/utils/py_utils.cc:38] TF-TRT Warning: Cannot dlopen some TensorRT libraries. If you would like to use Nvidia GPU with TensorRT, please make sure the missing libraries mentioned above are installed properly.\n"
     ]
    }
   ],
   "source": [
    "import json\n",
    "import numpy as np\n",
    "import pandas as pd\n",
    "from tqdm.notebook import tqdm\n",
    "\n",
    "from nbconf import *\n",
    "\n",
    "from sentence_transformers import SentenceTransformer\n",
    "\n",
    "import sqlite3"
   ]
  },
  {
   "cell_type": "code",
   "execution_count": 70,
   "id": "0607eb89",
   "metadata": {},
   "outputs": [],
   "source": [
    "# Load data saved in database\n",
    "conn = sqlite3.connect(os.path.join(config.DATA_DIR, config.DATABASE))\n",
    "cursor = conn.cursor()\n",
    "df = pd.DataFrame(cursor.execute(\"SELECT * FROM metadata\"))"
   ]
  },
  {
   "cell_type": "markdown",
   "id": "6e810df3",
   "metadata": {},
   "source": [
    "### Data Selection"
   ]
  },
  {
   "cell_type": "code",
   "execution_count": 71,
   "id": "ac240218",
   "metadata": {},
   "outputs": [],
   "source": [
    "df.columns = [\n",
    "    'url',\n",
    "    'doi',\n",
    "    'type',\n",
    "    'author',\n",
    "    'institute',\n",
    "    'knowledge_area',\n",
    "    'committee',\n",
    "    'title_pt',\n",
    "    'title_en',\n",
    "    'keywords_pt',\n",
    "    'keywords_en',\n",
    "    'abstract_pt',\n",
    "    'abstract_en',\n",
    "    'publish_date'\n",
    "]"
   ]
  },
  {
   "cell_type": "code",
   "execution_count": 72,
   "id": "5dc7a4a9",
   "metadata": {},
   "outputs": [
    {
     "data": {
      "text/html": [
       "<div>\n",
       "<style scoped>\n",
       "    .dataframe tbody tr th:only-of-type {\n",
       "        vertical-align: middle;\n",
       "    }\n",
       "\n",
       "    .dataframe tbody tr th {\n",
       "        vertical-align: top;\n",
       "    }\n",
       "\n",
       "    .dataframe thead th {\n",
       "        text-align: right;\n",
       "    }\n",
       "</style>\n",
       "<table border=\"1\" class=\"dataframe\">\n",
       "  <thead>\n",
       "    <tr style=\"text-align: right;\">\n",
       "      <th></th>\n",
       "      <th>url</th>\n",
       "      <th>doi</th>\n",
       "      <th>type</th>\n",
       "      <th>author</th>\n",
       "      <th>institute</th>\n",
       "      <th>knowledge_area</th>\n",
       "      <th>committee</th>\n",
       "      <th>title_pt</th>\n",
       "      <th>title_en</th>\n",
       "      <th>keywords_pt</th>\n",
       "      <th>keywords_en</th>\n",
       "      <th>abstract_pt</th>\n",
       "      <th>abstract_en</th>\n",
       "      <th>publish_date</th>\n",
       "    </tr>\n",
       "  </thead>\n",
       "  <tbody>\n",
       "    <tr>\n",
       "      <th>0</th>\n",
       "      <td>https://www.teses.usp.br/teses/disponiveis/44/...</td>\n",
       "      <td>10.11606/T.44.2016.tde-06072016-171200</td>\n",
       "      <td>Tese de Doutorado</td>\n",
       "      <td>Pinto, Irajá Damiani (Catálogo USP)</td>\n",
       "      <td>Instituto de Geociências</td>\n",
       "      <td>Área do Conhecimento</td>\n",
       "      <td>None</td>\n",
       "      <td>Corais carboníferos da Amazônia</td>\n",
       "      <td>Not available</td>\n",
       "      <td>Coral (gema orgânica) Estratigrafia - Amazônia...</td>\n",
       "      <td>Not available</td>\n",
       "      <td>O presente trabalho compreende o estudo de cor...</td>\n",
       "      <td>Not available</td>\n",
       "      <td>2016-07-07</td>\n",
       "    </tr>\n",
       "    <tr>\n",
       "      <th>1</th>\n",
       "      <td>https://www.teses.usp.br/teses/disponiveis/44/...</td>\n",
       "      <td>10.11606/T.44.2016.tde-06072016-172400</td>\n",
       "      <td>Tese de Doutorado</td>\n",
       "      <td>Kawashita, Koji (Catálogo USP)</td>\n",
       "      <td>Instituto de Geociências</td>\n",
       "      <td>Área do Conhecimento</td>\n",
       "      <td>None</td>\n",
       "      <td>Metodo Rb-Sr em rochas sedimentares: aplicação...</td>\n",
       "      <td>Not available</td>\n",
       "      <td>Geocronologia Rochas sedimentares</td>\n",
       "      <td>Not available</td>\n",
       "      <td>Estudo radiométrico em sedimentos com posição ...</td>\n",
       "      <td>Not available</td>\n",
       "      <td>2016-07-07</td>\n",
       "    </tr>\n",
       "    <tr>\n",
       "      <th>2</th>\n",
       "      <td>https://www.teses.usp.br/teses/disponiveis/44/...</td>\n",
       "      <td>10.11606/D.44.2016.tde-06072016-172430</td>\n",
       "      <td>Dissertação de Mestrado</td>\n",
       "      <td>Kawashita, Koji (Catálogo USP)</td>\n",
       "      <td>Instituto de Geociências</td>\n",
       "      <td>Geologia Geral</td>\n",
       "      <td>None</td>\n",
       "      <td>Um sensível espectrômetro de massa de fonte só...</td>\n",
       "      <td>Not available</td>\n",
       "      <td>Espectrometria de massas Geocronologia</td>\n",
       "      <td>Not available</td>\n",
       "      <td>Um espectrômetro de massa de fonte sólida de a...</td>\n",
       "      <td>Not available</td>\n",
       "      <td>2016-07-07</td>\n",
       "    </tr>\n",
       "    <tr>\n",
       "      <th>3</th>\n",
       "      <td>https://www.teses.usp.br/teses/disponiveis/44/...</td>\n",
       "      <td>10.11606/T.44.2016.tde-07072016-084400</td>\n",
       "      <td>Tese de Doutorado</td>\n",
       "      <td>Szikszay, Mária (Catálogo USP)</td>\n",
       "      <td>Instituto de Geociências</td>\n",
       "      <td>Área do Conhecimento</td>\n",
       "      <td>None</td>\n",
       "      <td>Aspectos geoquímicos de rios da bacia do Paraná</td>\n",
       "      <td>Not available</td>\n",
       "      <td>Geoquímica - Bacia do Paraná</td>\n",
       "      <td>Not available</td>\n",
       "      <td>Os rios da bacia hidrográfica do Paraná drenam...</td>\n",
       "      <td>Not available</td>\n",
       "      <td>2016-07-07</td>\n",
       "    </tr>\n",
       "    <tr>\n",
       "      <th>4</th>\n",
       "      <td>https://www.teses.usp.br/teses/disponiveis/44/...</td>\n",
       "      <td>10.11606/T.44.2016.tde-07072016-085900</td>\n",
       "      <td>Tese de Doutorado</td>\n",
       "      <td>Kanji, Milton Assis (Catálogo USP)</td>\n",
       "      <td>Instituto de Geociências</td>\n",
       "      <td>Área do Conhecimento</td>\n",
       "      <td>None</td>\n",
       "      <td>Resistência ao cisalhamento de contactos solo-...</td>\n",
       "      <td>Not available</td>\n",
       "      <td>Conservação do solo</td>\n",
       "      <td>Not available</td>\n",
       "      <td>Nos estudos referentes à estabilidade de maciç...</td>\n",
       "      <td>Not available</td>\n",
       "      <td>2016-07-07</td>\n",
       "    </tr>\n",
       "  </tbody>\n",
       "</table>\n",
       "</div>"
      ],
      "text/plain": [
       "                                                 url  \\\n",
       "0  https://www.teses.usp.br/teses/disponiveis/44/...   \n",
       "1  https://www.teses.usp.br/teses/disponiveis/44/...   \n",
       "2  https://www.teses.usp.br/teses/disponiveis/44/...   \n",
       "3  https://www.teses.usp.br/teses/disponiveis/44/...   \n",
       "4  https://www.teses.usp.br/teses/disponiveis/44/...   \n",
       "\n",
       "                                      doi                     type  \\\n",
       "0  10.11606/T.44.2016.tde-06072016-171200        Tese de Doutorado   \n",
       "1  10.11606/T.44.2016.tde-06072016-172400        Tese de Doutorado   \n",
       "2  10.11606/D.44.2016.tde-06072016-172430  Dissertação de Mestrado   \n",
       "3  10.11606/T.44.2016.tde-07072016-084400        Tese de Doutorado   \n",
       "4  10.11606/T.44.2016.tde-07072016-085900        Tese de Doutorado   \n",
       "\n",
       "                                author                 institute  \\\n",
       "0  Pinto, Irajá Damiani (Catálogo USP)  Instituto de Geociências   \n",
       "1       Kawashita, Koji (Catálogo USP)  Instituto de Geociências   \n",
       "2       Kawashita, Koji (Catálogo USP)  Instituto de Geociências   \n",
       "3       Szikszay, Mária (Catálogo USP)  Instituto de Geociências   \n",
       "4   Kanji, Milton Assis (Catálogo USP)  Instituto de Geociências   \n",
       "\n",
       "         knowledge_area committee  \\\n",
       "0  Área do Conhecimento      None   \n",
       "1  Área do Conhecimento      None   \n",
       "2        Geologia Geral      None   \n",
       "3  Área do Conhecimento      None   \n",
       "4  Área do Conhecimento      None   \n",
       "\n",
       "                                            title_pt       title_en  \\\n",
       "0                    Corais carboníferos da Amazônia  Not available   \n",
       "1  Metodo Rb-Sr em rochas sedimentares: aplicação...  Not available   \n",
       "2  Um sensível espectrômetro de massa de fonte só...  Not available   \n",
       "3    Aspectos geoquímicos de rios da bacia do Paraná  Not available   \n",
       "4  Resistência ao cisalhamento de contactos solo-...  Not available   \n",
       "\n",
       "                                         keywords_pt    keywords_en  \\\n",
       "0  Coral (gema orgânica) Estratigrafia - Amazônia...  Not available   \n",
       "1                  Geocronologia Rochas sedimentares  Not available   \n",
       "2             Espectrometria de massas Geocronologia  Not available   \n",
       "3                       Geoquímica - Bacia do Paraná  Not available   \n",
       "4                                Conservação do solo  Not available   \n",
       "\n",
       "                                         abstract_pt    abstract_en  \\\n",
       "0  O presente trabalho compreende o estudo de cor...  Not available   \n",
       "1  Estudo radiométrico em sedimentos com posição ...  Not available   \n",
       "2  Um espectrômetro de massa de fonte sólida de a...  Not available   \n",
       "3  Os rios da bacia hidrográfica do Paraná drenam...  Not available   \n",
       "4  Nos estudos referentes à estabilidade de maciç...  Not available   \n",
       "\n",
       "  publish_date  \n",
       "0   2016-07-07  \n",
       "1   2016-07-07  \n",
       "2   2016-07-07  \n",
       "3   2016-07-07  \n",
       "4   2016-07-07  "
      ]
     },
     "execution_count": 72,
     "metadata": {},
     "output_type": "execute_result"
    }
   ],
   "source": [
    "df.head()"
   ]
  },
  {
   "cell_type": "markdown",
   "id": "459ada9a",
   "metadata": {},
   "source": [
    "#### Null values"
   ]
  },
  {
   "cell_type": "code",
   "execution_count": 73,
   "id": "4ba234dd",
   "metadata": {},
   "outputs": [],
   "source": [
    "import re"
   ]
  },
  {
   "cell_type": "code",
   "execution_count": null,
   "id": "6bfa453c",
   "metadata": {},
   "outputs": [],
   "source": []
  },
  {
   "cell_type": "code",
   "execution_count": 74,
   "id": "05e066fc",
   "metadata": {},
   "outputs": [],
   "source": [
    "def clean_null(df):\n",
    "    regex = re.compile(\"not\\savailable|não\\spossui|não\\sdisponível|no\\sabstract\", flags=re.IGNORECASE)\n",
    "    df = df.replace(regex, regex=True, value=\"\")\n",
    "    nonan_indexes = df[df['title_en'].notna() & df['abstract_en'].notnull()].index\n",
    "    df = df.iloc[nonan_indexes,:]\n",
    "    df = df.reset_index(drop=True)\n",
    "    df = df.fillna(\"\")\n",
    "    assert df.isna().sum().sum() == 0\n",
    "    \n",
    "clean_null(df)"
   ]
  },
  {
   "cell_type": "code",
   "execution_count": 75,
   "id": "f2f45e61",
   "metadata": {},
   "outputs": [
    {
     "data": {
      "text/plain": [
       "'not available'"
      ]
     },
     "execution_count": 75,
     "metadata": {},
     "output_type": "execute_result"
    }
   ],
   "source": [
    "df[(df['doi'] == '10.11606/D.11.2018.tde-20181127-160125')]['title_en'].values[0]"
   ]
  },
  {
   "cell_type": "markdown",
   "id": "db20d784",
   "metadata": {},
   "source": [
    "#### Author"
   ]
  },
  {
   "cell_type": "code",
   "execution_count": 47,
   "id": "e5a4cd31",
   "metadata": {},
   "outputs": [],
   "source": [
    "def clean_author(df):\n",
    "    def clean_string(s):\n",
    "        return s.replace(\"(Catálogo USP)\", \"\")\n",
    "    df['author'] = df['author'].apply(clean_string)"
   ]
  },
  {
   "cell_type": "markdown",
   "id": "54fd267a",
   "metadata": {},
   "source": [
    "### Saving"
   ]
  },
  {
   "cell_type": "code",
   "execution_count": 37,
   "id": "d8d78ff9",
   "metadata": {},
   "outputs": [],
   "source": [
    "df.to_csv(os.path.join(config.DATA_DIR, \"metadata.csv\"), escapechar='\\\\', index=False)"
   ]
  },
  {
   "cell_type": "markdown",
   "id": "318c49aa",
   "metadata": {},
   "source": [
    "### Loading"
   ]
  },
  {
   "cell_type": "code",
   "execution_count": 39,
   "id": "80fc522a",
   "metadata": {},
   "outputs": [],
   "source": [
    "data = pd.read_csv(os.path.join(config.DATA_DIR, \"csv/metadata.csv\"), keep_default_na=False)"
   ]
  },
  {
   "cell_type": "code",
   "execution_count": 40,
   "id": "c5c812cc",
   "metadata": {},
   "outputs": [
    {
     "data": {
      "text/plain": [
       "url            0\n",
       "type           0\n",
       "author         0\n",
       "institute      0\n",
       "title_en       0\n",
       "abstract_en    0\n",
       "keywords_en    0\n",
       "dtype: int64"
      ]
     },
     "execution_count": 40,
     "metadata": {},
     "output_type": "execute_result"
    }
   ],
   "source": [
    "data.isna().sum()"
   ]
  }
 ],
 "metadata": {
  "kernelspec": {
   "display_name": "Python 3 (ipykernel)",
   "language": "python",
   "name": "python3"
  },
  "language_info": {
   "codemirror_mode": {
    "name": "ipython",
    "version": 3
   },
   "file_extension": ".py",
   "mimetype": "text/x-python",
   "name": "python",
   "nbconvert_exporter": "python",
   "pygments_lexer": "ipython3",
   "version": "3.10.6"
  }
 },
 "nbformat": 4,
 "nbformat_minor": 5
}
