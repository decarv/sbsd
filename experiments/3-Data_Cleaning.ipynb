{
 "cells": [
  {
   "cell_type": "markdown",
   "id": "23511cbd",
   "metadata": {},
   "source": [
    "## 3. Data Cleaning\n",
    "\n",
    "Data: 12 de Junho de 2023\n",
    "\n",
    "Esse notebook contém:\n",
    "\n",
    "\n",
    "### Notas:\n",
    "\n"
   ]
  },
  {
   "cell_type": "code",
   "execution_count": 1,
   "id": "b9d75543",
   "metadata": {},
   "outputs": [],
   "source": [
    "import json\n",
    "import numpy as np\n",
    "import pandas as pd\n",
    "from tqdm.notebook import tqdm\n",
    "\n",
    "from nbconf import *\n",
    "\n",
    "import sqlite3"
   ]
  },
  {
   "cell_type": "code",
   "execution_count": 2,
   "id": "0607eb89",
   "metadata": {},
   "outputs": [],
   "source": [
    "conn = sqlite3.connect(os.path.join(config.DATA_DIR, config.WEBPAGES_DATABASE))"
   ]
  },
  {
   "cell_type": "code",
   "execution_count": 3,
   "id": "ea4920c6",
   "metadata": {},
   "outputs": [],
   "source": [
    "cursor = conn.cursor()"
   ]
  },
  {
   "cell_type": "code",
   "execution_count": 4,
   "id": "1e9e52d6",
   "metadata": {},
   "outputs": [],
   "source": [
    "df = pd.DataFrame(cursor.execute(\"SELECT * FROM metadata\"))"
   ]
  },
  {
   "cell_type": "markdown",
   "id": "6e810df3",
   "metadata": {},
   "source": [
    "### Data Selection"
   ]
  },
  {
   "cell_type": "code",
   "execution_count": 5,
   "id": "ac240218",
   "metadata": {},
   "outputs": [],
   "source": [
    "df.columns = [\n",
    "    'url',\n",
    "    'doi',\n",
    "    'type',\n",
    "    'author',\n",
    "    'institute',\n",
    "    'knowledge_area',\n",
    "    'committee',\n",
    "    'title_pt',\n",
    "    'title_en',\n",
    "    'keywords_pt',\n",
    "    'keywords_en',\n",
    "    'abstract_pt',\n",
    "    'abstract_en',\n",
    "    'publish_date'\n",
    "]"
   ]
  },
  {
   "cell_type": "code",
   "execution_count": 6,
   "id": "5dc7a4a9",
   "metadata": {},
   "outputs": [
    {
     "data": {
      "text/html": [
       "<div>\n",
       "<style scoped>\n",
       "    .dataframe tbody tr th:only-of-type {\n",
       "        vertical-align: middle;\n",
       "    }\n",
       "\n",
       "    .dataframe tbody tr th {\n",
       "        vertical-align: top;\n",
       "    }\n",
       "\n",
       "    .dataframe thead th {\n",
       "        text-align: right;\n",
       "    }\n",
       "</style>\n",
       "<table border=\"1\" class=\"dataframe\">\n",
       "  <thead>\n",
       "    <tr style=\"text-align: right;\">\n",
       "      <th></th>\n",
       "      <th>url</th>\n",
       "      <th>doi</th>\n",
       "      <th>type</th>\n",
       "      <th>author</th>\n",
       "      <th>institute</th>\n",
       "      <th>knowledge_area</th>\n",
       "      <th>committee</th>\n",
       "      <th>title_pt</th>\n",
       "      <th>title_en</th>\n",
       "      <th>keywords_pt</th>\n",
       "      <th>keywords_en</th>\n",
       "      <th>abstract_pt</th>\n",
       "      <th>abstract_en</th>\n",
       "      <th>publish_date</th>\n",
       "    </tr>\n",
       "  </thead>\n",
       "  <tbody>\n",
       "    <tr>\n",
       "      <th>0</th>\n",
       "      <td>https://www.teses.usp.br/teses/disponiveis/44/...</td>\n",
       "      <td>10.11606/T.44.2016.tde-06072016-171200</td>\n",
       "      <td>Tese de Doutorado</td>\n",
       "      <td>Pinto, Irajá Damiani (Catálogo USP)</td>\n",
       "      <td>Instituto de Geociências</td>\n",
       "      <td>Área do Conhecimento</td>\n",
       "      <td>None</td>\n",
       "      <td>Corais carboníferos da Amazônia</td>\n",
       "      <td>Not available</td>\n",
       "      <td>Coral (gema orgânica) Estratigrafia - Amazônia...</td>\n",
       "      <td>Not available</td>\n",
       "      <td>O presente trabalho compreende o estudo de cor...</td>\n",
       "      <td>Not available</td>\n",
       "      <td>2016-07-07</td>\n",
       "    </tr>\n",
       "    <tr>\n",
       "      <th>1</th>\n",
       "      <td>https://www.teses.usp.br/teses/disponiveis/44/...</td>\n",
       "      <td>10.11606/T.44.2016.tde-06072016-172400</td>\n",
       "      <td>Tese de Doutorado</td>\n",
       "      <td>Kawashita, Koji (Catálogo USP)</td>\n",
       "      <td>Instituto de Geociências</td>\n",
       "      <td>Área do Conhecimento</td>\n",
       "      <td>None</td>\n",
       "      <td>Metodo Rb-Sr em rochas sedimentares: aplicação...</td>\n",
       "      <td>Not available</td>\n",
       "      <td>Geocronologia Rochas sedimentares</td>\n",
       "      <td>Not available</td>\n",
       "      <td>Estudo radiométrico em sedimentos com posição ...</td>\n",
       "      <td>Not available</td>\n",
       "      <td>2016-07-07</td>\n",
       "    </tr>\n",
       "    <tr>\n",
       "      <th>2</th>\n",
       "      <td>https://www.teses.usp.br/teses/disponiveis/44/...</td>\n",
       "      <td>10.11606/D.44.2016.tde-06072016-172430</td>\n",
       "      <td>Dissertação de Mestrado</td>\n",
       "      <td>Kawashita, Koji (Catálogo USP)</td>\n",
       "      <td>Instituto de Geociências</td>\n",
       "      <td>Geologia Geral</td>\n",
       "      <td>None</td>\n",
       "      <td>Um sensível espectrômetro de massa de fonte só...</td>\n",
       "      <td>Not available</td>\n",
       "      <td>Espectrometria de massas Geocronologia</td>\n",
       "      <td>Not available</td>\n",
       "      <td>Um espectrômetro de massa de fonte sólida de a...</td>\n",
       "      <td>Not available</td>\n",
       "      <td>2016-07-07</td>\n",
       "    </tr>\n",
       "    <tr>\n",
       "      <th>3</th>\n",
       "      <td>https://www.teses.usp.br/teses/disponiveis/44/...</td>\n",
       "      <td>10.11606/T.44.2016.tde-07072016-084400</td>\n",
       "      <td>Tese de Doutorado</td>\n",
       "      <td>Szikszay, Mária (Catálogo USP)</td>\n",
       "      <td>Instituto de Geociências</td>\n",
       "      <td>Área do Conhecimento</td>\n",
       "      <td>None</td>\n",
       "      <td>Aspectos geoquímicos de rios da bacia do Paraná</td>\n",
       "      <td>Not available</td>\n",
       "      <td>Geoquímica - Bacia do Paraná</td>\n",
       "      <td>Not available</td>\n",
       "      <td>Os rios da bacia hidrográfica do Paraná drenam...</td>\n",
       "      <td>Not available</td>\n",
       "      <td>2016-07-07</td>\n",
       "    </tr>\n",
       "    <tr>\n",
       "      <th>4</th>\n",
       "      <td>https://www.teses.usp.br/teses/disponiveis/44/...</td>\n",
       "      <td>10.11606/T.44.2016.tde-07072016-085900</td>\n",
       "      <td>Tese de Doutorado</td>\n",
       "      <td>Kanji, Milton Assis (Catálogo USP)</td>\n",
       "      <td>Instituto de Geociências</td>\n",
       "      <td>Área do Conhecimento</td>\n",
       "      <td>None</td>\n",
       "      <td>Resistência ao cisalhamento de contactos solo-...</td>\n",
       "      <td>Not available</td>\n",
       "      <td>Conservação do solo</td>\n",
       "      <td>Not available</td>\n",
       "      <td>Nos estudos referentes à estabilidade de maciç...</td>\n",
       "      <td>Not available</td>\n",
       "      <td>2016-07-07</td>\n",
       "    </tr>\n",
       "  </tbody>\n",
       "</table>\n",
       "</div>"
      ],
      "text/plain": [
       "                                                 url  \\\n",
       "0  https://www.teses.usp.br/teses/disponiveis/44/...   \n",
       "1  https://www.teses.usp.br/teses/disponiveis/44/...   \n",
       "2  https://www.teses.usp.br/teses/disponiveis/44/...   \n",
       "3  https://www.teses.usp.br/teses/disponiveis/44/...   \n",
       "4  https://www.teses.usp.br/teses/disponiveis/44/...   \n",
       "\n",
       "                                      doi                     type  \\\n",
       "0  10.11606/T.44.2016.tde-06072016-171200        Tese de Doutorado   \n",
       "1  10.11606/T.44.2016.tde-06072016-172400        Tese de Doutorado   \n",
       "2  10.11606/D.44.2016.tde-06072016-172430  Dissertação de Mestrado   \n",
       "3  10.11606/T.44.2016.tde-07072016-084400        Tese de Doutorado   \n",
       "4  10.11606/T.44.2016.tde-07072016-085900        Tese de Doutorado   \n",
       "\n",
       "                                author                 institute  \\\n",
       "0  Pinto, Irajá Damiani (Catálogo USP)  Instituto de Geociências   \n",
       "1       Kawashita, Koji (Catálogo USP)  Instituto de Geociências   \n",
       "2       Kawashita, Koji (Catálogo USP)  Instituto de Geociências   \n",
       "3       Szikszay, Mária (Catálogo USP)  Instituto de Geociências   \n",
       "4   Kanji, Milton Assis (Catálogo USP)  Instituto de Geociências   \n",
       "\n",
       "         knowledge_area committee  \\\n",
       "0  Área do Conhecimento      None   \n",
       "1  Área do Conhecimento      None   \n",
       "2        Geologia Geral      None   \n",
       "3  Área do Conhecimento      None   \n",
       "4  Área do Conhecimento      None   \n",
       "\n",
       "                                            title_pt       title_en  \\\n",
       "0                    Corais carboníferos da Amazônia  Not available   \n",
       "1  Metodo Rb-Sr em rochas sedimentares: aplicação...  Not available   \n",
       "2  Um sensível espectrômetro de massa de fonte só...  Not available   \n",
       "3    Aspectos geoquímicos de rios da bacia do Paraná  Not available   \n",
       "4  Resistência ao cisalhamento de contactos solo-...  Not available   \n",
       "\n",
       "                                         keywords_pt    keywords_en  \\\n",
       "0  Coral (gema orgânica) Estratigrafia - Amazônia...  Not available   \n",
       "1                  Geocronologia Rochas sedimentares  Not available   \n",
       "2             Espectrometria de massas Geocronologia  Not available   \n",
       "3                       Geoquímica - Bacia do Paraná  Not available   \n",
       "4                                Conservação do solo  Not available   \n",
       "\n",
       "                                         abstract_pt    abstract_en  \\\n",
       "0  O presente trabalho compreende o estudo de cor...  Not available   \n",
       "1  Estudo radiométrico em sedimentos com posição ...  Not available   \n",
       "2  Um espectrômetro de massa de fonte sólida de a...  Not available   \n",
       "3  Os rios da bacia hidrográfica do Paraná drenam...  Not available   \n",
       "4  Nos estudos referentes à estabilidade de maciç...  Not available   \n",
       "\n",
       "  publish_date  \n",
       "0   2016-07-07  \n",
       "1   2016-07-07  \n",
       "2   2016-07-07  \n",
       "3   2016-07-07  \n",
       "4   2016-07-07  "
      ]
     },
     "execution_count": 6,
     "metadata": {},
     "output_type": "execute_result"
    }
   ],
   "source": [
    "df.head()"
   ]
  },
  {
   "cell_type": "markdown",
   "id": "459ada9a",
   "metadata": {},
   "source": [
    "#### Null values"
   ]
  },
  {
   "cell_type": "code",
   "execution_count": 7,
   "id": "211b4401",
   "metadata": {},
   "outputs": [],
   "source": [
    "df = df.replace(to_replace=[\"Not available\", \"não possui\", \"Não disponível\", \"No abstract\"], value=np.nan)"
   ]
  },
  {
   "cell_type": "code",
   "execution_count": 8,
   "id": "b5dd3b89",
   "metadata": {},
   "outputs": [],
   "source": [
    "nonan_indexes = df[df['title_en'].notna() & df['abstract_en'].notnull()].index"
   ]
  },
  {
   "cell_type": "code",
   "execution_count": 9,
   "id": "eb8a113e",
   "metadata": {},
   "outputs": [],
   "source": [
    "df = df.iloc[nonan_indexes,:]"
   ]
  },
  {
   "cell_type": "code",
   "execution_count": 10,
   "id": "08bc72fe",
   "metadata": {},
   "outputs": [],
   "source": [
    "df = df.reset_index(drop=True)"
   ]
  },
  {
   "cell_type": "code",
   "execution_count": 11,
   "id": "099f6360",
   "metadata": {
    "scrolled": true
   },
   "outputs": [
    {
     "data": {
      "text/plain": [
       "url                  0\n",
       "doi                 33\n",
       "type                 0\n",
       "author               0\n",
       "institute            0\n",
       "knowledge_area       0\n",
       "committee         3527\n",
       "title_pt            66\n",
       "title_en             0\n",
       "keywords_pt        473\n",
       "keywords_en       3265\n",
       "abstract_pt        122\n",
       "abstract_en          0\n",
       "publish_date        32\n",
       "dtype: int64"
      ]
     },
     "execution_count": 11,
     "metadata": {},
     "output_type": "execute_result"
    }
   ],
   "source": [
    "df.isna().sum()"
   ]
  },
  {
   "cell_type": "code",
   "execution_count": 12,
   "id": "ea690008",
   "metadata": {},
   "outputs": [],
   "source": [
    "df = df.fillna(\"\")"
   ]
  },
  {
   "cell_type": "code",
   "execution_count": 13,
   "id": "4aef2bd2",
   "metadata": {},
   "outputs": [
    {
     "data": {
      "text/plain": [
       "0"
      ]
     },
     "execution_count": 13,
     "metadata": {},
     "output_type": "execute_result"
    }
   ],
   "source": [
    "df.isna().sum().sum()"
   ]
  },
  {
   "cell_type": "markdown",
   "id": "db20d784",
   "metadata": {},
   "source": [
    "#### Author"
   ]
  },
  {
   "cell_type": "code",
   "execution_count": 14,
   "id": "e5a4cd31",
   "metadata": {},
   "outputs": [],
   "source": [
    "def remove_catalogo_usp(s):\n",
    "    return s.replace(\"(Catálogo USP)\", \"\")\n",
    "\n",
    "df['author'] = df['author'].apply(remove_catalogo_usp)"
   ]
  },
  {
   "cell_type": "markdown",
   "id": "54fd267a",
   "metadata": {},
   "source": [
    "### Saving"
   ]
  },
  {
   "cell_type": "code",
   "execution_count": 24,
   "id": "0234ef1a",
   "metadata": {},
   "outputs": [],
   "source": [
    "data_pt = df.loc[:,[\"title_pt\", \"abstract_pt\", \"keywords_pt\"]]\n",
    "metadata_pt = df.loc[:, [\"url\", \"type\", \"author\", \"institute\", \"title_pt\", \"abstract_pt\", \"keywords_pt\"]]\n",
    "\n",
    "data_pt.to_csv(os.path.join(config.DATA_DIR, \"data_pt.csv\"), escapechar='\\\\', index=False)\n",
    "metadata_pt.to_csv(os.path.join(config.DATA_DIR, \"metadata_pt.csv\"), escapechar='\\\\', index=False)"
   ]
  },
  {
   "cell_type": "code",
   "execution_count": 25,
   "id": "5d1d833c",
   "metadata": {},
   "outputs": [],
   "source": [
    "data_en = df.loc[:,[\"title_en\", \"abstract_en\", \"keywords_en\"]]\n",
    "metadata_en = df.loc[:, [\"url\", \"type\", \"author\", \"institute\", \"title_en\", \"abstract_en\", \"keywords_en\"]]\n",
    "\n",
    "data_en.to_csv(os.path.join(config.DATA_DIR, \"data_en.csv\"), index=False)\n",
    "metadata_en.to_csv(os.path.join(config.DATA_DIR, \"metadata_en.csv\"), index=False)"
   ]
  },
  {
   "cell_type": "markdown",
   "id": "318c49aa",
   "metadata": {},
   "source": [
    "### Loading"
   ]
  },
  {
   "cell_type": "code",
   "execution_count": null,
   "id": "8588aac0",
   "metadata": {},
   "outputs": [],
   "source": [
    "data_pt.to_dict()"
   ]
  },
  {
   "cell_type": "code",
   "execution_count": 26,
   "id": "b486bf4b",
   "metadata": {},
   "outputs": [],
   "source": [
    "data_pt = pd.read_csv(os.path.join(config.DATA_DIR, \"data_pt.csv\"))"
   ]
  },
  {
   "cell_type": "code",
   "execution_count": 249,
   "id": "80fc522a",
   "metadata": {},
   "outputs": [],
   "source": [
    "data = pd.read_csv(os.path.join(config.DATA_DIR, \"data.csv\"), keep_default_na=False)"
   ]
  },
  {
   "cell_type": "code",
   "execution_count": 250,
   "id": "c5c812cc",
   "metadata": {},
   "outputs": [
    {
     "data": {
      "text/plain": [
       "title_en       0\n",
       "abstract_en    0\n",
       "keywords_en    0\n",
       "dtype: int64"
      ]
     },
     "execution_count": 250,
     "metadata": {},
     "output_type": "execute_result"
    }
   ],
   "source": [
    "data.isna().sum()"
   ]
  },
  {
   "cell_type": "markdown",
   "id": "a326e228",
   "metadata": {},
   "source": [
    "### Encoding\n",
    "\n",
    "O código a seguir cria batches de descrições a partir do título, abstract e palavras-chave e solicita ao modelo que codifique as embeddings, que são apensadas a vectors ao final."
   ]
  },
  {
   "cell_type": "code",
   "execution_count": 248,
   "id": "feb6c019",
   "metadata": {},
   "outputs": [],
   "source": [
    "data = pd.read_csv(os.path.join(config.DATA_DIR, \"data.csv\"), keep_default_na=False)"
   ]
  },
  {
   "cell_type": "markdown",
   "id": "809abfac",
   "metadata": {},
   "source": [
    "##### Exemplo de execução"
   ]
  },
  {
   "cell_type": "code",
   "execution_count": 106,
   "id": "0d1fe3a9",
   "metadata": {
    "scrolled": true
   },
   "outputs": [
    {
     "data": {
      "text/plain": [
       "['Proposal of a method for coalition control of virtuals resouces based on multiagents in the I4.0 context.',\n",
       " 'Traditional manufacturing systems need proposals adherents to the Industry 4.0 (I4.0) context',\n",
       " \"The I4.0 guidelines demonstrate the need for self-organization and plug-andproduce, demanding greater flexibility in today's applications\",\n",
       " 'The virtualization of different components is promising for replicating real systems in the virtual environment',\n",
       " 'One area that requires attention is the different relationships and task assignments of resources so that they can be understood in the virtual world',\n",
       " 'The Asset-Administration Shell (AAS) concept provides a standard for the virtualization of industry asset data, in addition to introducing the concept of capabilities engineering, meeting the requirements of an active virtual product in the production flow',\n",
       " 'The cooperation of different resource abilities can be achieved with the support of control applications that perform the choice of functionalities and grouping of different information attributes',\n",
       " 'In this context, the current work proposes a method for the control and coalition of resources of a productive system based on multi-agents, through the virtualization of these resources in the context of I4.0',\n",
       " 'The proposal describes a methodology that allows the migration of manufacturing systems, an analysis of the dynamic behavior allows validating of the models conceived in High-Level Petri Nets (PFS) and Condition/Event Petri Nets (RdP C/E) that meet concepts of conservative components',\n",
       " 'The process simulation demonstrates the adequacy of the designed models, meeting the modeling requirements and behavioral properties',\n",
       " 'The concepts of place invariant exert cooperation in different activities of agents',\n",
       " 'As there are still challenges to implementing the concepts used, the author hopes to contribute to migration and help in the design of control method models adapted to the guidelines of RAMI .40',\n",
       " 'A conceptual case study demonstrates the application of the method, in which the MAS control orchestrates AAS generating coalition tables that allow better use of resource services, which are re-planned in real-time',\n",
       " 'Asset administration Shell - AAS Industry 4.0 Modeling Petri nets Production Flow Schema - PFS Sistemas Multiagentes - MAS']"
      ]
     },
     "execution_count": 106,
     "metadata": {},
     "output_type": "execute_result"
    }
   ],
   "source": [
    "row = data.iloc[97601,:]\n",
    "pre = (row.title_en + \". \" + row.abstract_en + \" \" + row.keywords_en).split(\". \")\n",
    "pre"
   ]
  },
  {
   "cell_type": "code",
   "execution_count": 8,
   "id": "157f21a2",
   "metadata": {},
   "outputs": [],
   "source": [
    "model = SentenceTransformer('distilbert-base-nli-stsb-mean-tokens', device='cuda')"
   ]
  },
  {
   "cell_type": "code",
   "execution_count": 14,
   "id": "5b75d746",
   "metadata": {},
   "outputs": [
    {
     "data": {
      "text/plain": [
       "(14, 768)"
      ]
     },
     "execution_count": 14,
     "metadata": {},
     "output_type": "execute_result"
    }
   ],
   "source": [
    "model.encode(pre).shape"
   ]
  },
  {
   "cell_type": "code",
   "execution_count": 16,
   "id": "7d6936ac",
   "metadata": {},
   "outputs": [
    {
     "name": "stdout",
     "output_type": "stream",
     "text": [
      "0.09213018417358398  segundos\n"
     ]
    }
   ],
   "source": [
    "# batch of size 64\n",
    "batch = [pre for _ in range(64)]\n",
    "import time\n",
    "s = time.time()\n",
    "vectors = model.encode(batch)\n",
    "e = time.time()\n",
    "print(e - s, \" segundos\")"
   ]
  },
  {
   "cell_type": "code",
   "execution_count": 17,
   "id": "81c6ada8",
   "metadata": {},
   "outputs": [
    {
     "data": {
      "text/plain": [
       "(64, 768)"
      ]
     },
     "execution_count": 17,
     "metadata": {},
     "output_type": "execute_result"
    }
   ],
   "source": [
    "vectors.shape"
   ]
  },
  {
   "cell_type": "code",
   "execution_count": 105,
   "id": "d5f938e6",
   "metadata": {},
   "outputs": [
    {
     "name": "stdout",
     "output_type": "stream",
     "text": [
      "768 embeddings\n"
     ]
    }
   ],
   "source": [
    "# o texto é representado por\n",
    "print(len(vectors[0]), \"embeddings\")"
   ]
  },
  {
   "cell_type": "markdown",
   "id": "84f9fb84",
   "metadata": {},
   "source": [
    "#### Cálculo dos vetores"
   ]
  },
  {
   "cell_type": "code",
   "execution_count": 107,
   "id": "f27733c9",
   "metadata": {
    "scrolled": true
   },
   "outputs": [
    {
     "data": {
      "application/vnd.jupyter.widget-view+json": {
       "model_id": "d7b902b0d64b4d67a5b8ef0cedb17534",
       "version_major": 2,
       "version_minor": 0
      },
      "text/plain": [
       "0it [00:00, ?it/s]"
      ]
     },
     "metadata": {},
     "output_type": "display_data"
    },
    {
     "ename": "KeyboardInterrupt",
     "evalue": "",
     "output_type": "error",
     "traceback": [
      "\u001b[0;31m---------------------------------------------------------------------------\u001b[0m",
      "\u001b[0;31mKeyboardInterrupt\u001b[0m                         Traceback (most recent call last)",
      "\u001b[0;32m/tmp/ipykernel_173392/846590392.py\u001b[0m in \u001b[0;36m<module>\u001b[0;34m\u001b[0m\n\u001b[1;32m      6\u001b[0m     \u001b[0mdescriptions\u001b[0m \u001b[0;34m=\u001b[0m \u001b[0;34m[\u001b[0m\u001b[0;34m]\u001b[0m\u001b[0;34m\u001b[0m\u001b[0;34m\u001b[0m\u001b[0m\n\u001b[1;32m      7\u001b[0m     \u001b[0mpre\u001b[0m \u001b[0;34m=\u001b[0m \u001b[0;34m(\u001b[0m\u001b[0mrow\u001b[0m\u001b[0;34m.\u001b[0m\u001b[0mtitle_en\u001b[0m \u001b[0;34m+\u001b[0m \u001b[0;34m\". \"\u001b[0m \u001b[0;34m+\u001b[0m \u001b[0mrow\u001b[0m\u001b[0;34m.\u001b[0m\u001b[0mabstract_en\u001b[0m \u001b[0;34m+\u001b[0m \u001b[0;34m\" \"\u001b[0m \u001b[0;34m+\u001b[0m \u001b[0mrow\u001b[0m\u001b[0;34m.\u001b[0m\u001b[0mkeywords_en\u001b[0m\u001b[0;34m)\u001b[0m\u001b[0;34m.\u001b[0m\u001b[0msplit\u001b[0m\u001b[0;34m(\u001b[0m\u001b[0;34m\". \"\u001b[0m\u001b[0;34m)\u001b[0m\u001b[0;34m\u001b[0m\u001b[0;34m\u001b[0m\u001b[0m\n\u001b[0;32m----> 8\u001b[0;31m     \u001b[0mencoding\u001b[0m \u001b[0;34m=\u001b[0m \u001b[0mmodel\u001b[0m\u001b[0;34m.\u001b[0m\u001b[0mencode\u001b[0m\u001b[0;34m(\u001b[0m\u001b[0mpre\u001b[0m\u001b[0;34m)\u001b[0m\u001b[0;34m\u001b[0m\u001b[0;34m\u001b[0m\u001b[0m\n\u001b[0m\u001b[1;32m      9\u001b[0m     \u001b[0mvectors\u001b[0m\u001b[0;34m.\u001b[0m\u001b[0mappend\u001b[0m\u001b[0;34m(\u001b[0m\u001b[0mencoding\u001b[0m\u001b[0;34m)\u001b[0m\u001b[0;34m\u001b[0m\u001b[0;34m\u001b[0m\u001b[0m\n\u001b[1;32m     10\u001b[0m \u001b[0;31m#     if len(batch) >= batch_size:\u001b[0m\u001b[0;34m\u001b[0m\u001b[0;34m\u001b[0m\u001b[0m\n",
      "\u001b[0;32m~/.local/lib/python3.10/site-packages/sentence_transformers/SentenceTransformer.py\u001b[0m in \u001b[0;36mencode\u001b[0;34m(self, sentences, batch_size, show_progress_bar, output_value, convert_to_numpy, convert_to_tensor, device, normalize_embeddings)\u001b[0m\n\u001b[1;32m    163\u001b[0m \u001b[0;34m\u001b[0m\u001b[0m\n\u001b[1;32m    164\u001b[0m             \u001b[0;32mwith\u001b[0m \u001b[0mtorch\u001b[0m\u001b[0;34m.\u001b[0m\u001b[0mno_grad\u001b[0m\u001b[0;34m(\u001b[0m\u001b[0;34m)\u001b[0m\u001b[0;34m:\u001b[0m\u001b[0;34m\u001b[0m\u001b[0;34m\u001b[0m\u001b[0m\n\u001b[0;32m--> 165\u001b[0;31m                 \u001b[0mout_features\u001b[0m \u001b[0;34m=\u001b[0m \u001b[0mself\u001b[0m\u001b[0;34m.\u001b[0m\u001b[0mforward\u001b[0m\u001b[0;34m(\u001b[0m\u001b[0mfeatures\u001b[0m\u001b[0;34m)\u001b[0m\u001b[0;34m\u001b[0m\u001b[0;34m\u001b[0m\u001b[0m\n\u001b[0m\u001b[1;32m    166\u001b[0m \u001b[0;34m\u001b[0m\u001b[0m\n\u001b[1;32m    167\u001b[0m                 \u001b[0;32mif\u001b[0m \u001b[0moutput_value\u001b[0m \u001b[0;34m==\u001b[0m \u001b[0;34m'token_embeddings'\u001b[0m\u001b[0;34m:\u001b[0m\u001b[0;34m\u001b[0m\u001b[0;34m\u001b[0m\u001b[0m\n",
      "\u001b[0;32m~/.local/lib/python3.10/site-packages/torch/nn/modules/container.py\u001b[0m in \u001b[0;36mforward\u001b[0;34m(self, input)\u001b[0m\n\u001b[1;32m    215\u001b[0m     \u001b[0;32mdef\u001b[0m \u001b[0mforward\u001b[0m\u001b[0;34m(\u001b[0m\u001b[0mself\u001b[0m\u001b[0;34m,\u001b[0m \u001b[0minput\u001b[0m\u001b[0;34m)\u001b[0m\u001b[0;34m:\u001b[0m\u001b[0;34m\u001b[0m\u001b[0;34m\u001b[0m\u001b[0m\n\u001b[1;32m    216\u001b[0m         \u001b[0;32mfor\u001b[0m \u001b[0mmodule\u001b[0m \u001b[0;32min\u001b[0m \u001b[0mself\u001b[0m\u001b[0;34m:\u001b[0m\u001b[0;34m\u001b[0m\u001b[0;34m\u001b[0m\u001b[0m\n\u001b[0;32m--> 217\u001b[0;31m             \u001b[0minput\u001b[0m \u001b[0;34m=\u001b[0m \u001b[0mmodule\u001b[0m\u001b[0;34m(\u001b[0m\u001b[0minput\u001b[0m\u001b[0;34m)\u001b[0m\u001b[0;34m\u001b[0m\u001b[0;34m\u001b[0m\u001b[0m\n\u001b[0m\u001b[1;32m    218\u001b[0m         \u001b[0;32mreturn\u001b[0m \u001b[0minput\u001b[0m\u001b[0;34m\u001b[0m\u001b[0;34m\u001b[0m\u001b[0m\n\u001b[1;32m    219\u001b[0m \u001b[0;34m\u001b[0m\u001b[0m\n",
      "\u001b[0;32m~/.local/lib/python3.10/site-packages/torch/nn/modules/module.py\u001b[0m in \u001b[0;36m_call_impl\u001b[0;34m(self, *args, **kwargs)\u001b[0m\n\u001b[1;32m   1499\u001b[0m                 \u001b[0;32mor\u001b[0m \u001b[0m_global_backward_pre_hooks\u001b[0m \u001b[0;32mor\u001b[0m \u001b[0m_global_backward_hooks\u001b[0m\u001b[0;34m\u001b[0m\u001b[0;34m\u001b[0m\u001b[0m\n\u001b[1;32m   1500\u001b[0m                 or _global_forward_hooks or _global_forward_pre_hooks):\n\u001b[0;32m-> 1501\u001b[0;31m             \u001b[0;32mreturn\u001b[0m \u001b[0mforward_call\u001b[0m\u001b[0;34m(\u001b[0m\u001b[0;34m*\u001b[0m\u001b[0margs\u001b[0m\u001b[0;34m,\u001b[0m \u001b[0;34m**\u001b[0m\u001b[0mkwargs\u001b[0m\u001b[0;34m)\u001b[0m\u001b[0;34m\u001b[0m\u001b[0;34m\u001b[0m\u001b[0m\n\u001b[0m\u001b[1;32m   1502\u001b[0m         \u001b[0;31m# Do not call functions when jit is used\u001b[0m\u001b[0;34m\u001b[0m\u001b[0;34m\u001b[0m\u001b[0m\n\u001b[1;32m   1503\u001b[0m         \u001b[0mfull_backward_hooks\u001b[0m\u001b[0;34m,\u001b[0m \u001b[0mnon_full_backward_hooks\u001b[0m \u001b[0;34m=\u001b[0m \u001b[0;34m[\u001b[0m\u001b[0;34m]\u001b[0m\u001b[0;34m,\u001b[0m \u001b[0;34m[\u001b[0m\u001b[0;34m]\u001b[0m\u001b[0;34m\u001b[0m\u001b[0;34m\u001b[0m\u001b[0m\n",
      "\u001b[0;32m~/.local/lib/python3.10/site-packages/sentence_transformers/models/Transformer.py\u001b[0m in \u001b[0;36mforward\u001b[0;34m(self, features)\u001b[0m\n\u001b[1;32m     64\u001b[0m             \u001b[0mtrans_features\u001b[0m\u001b[0;34m[\u001b[0m\u001b[0;34m'token_type_ids'\u001b[0m\u001b[0;34m]\u001b[0m \u001b[0;34m=\u001b[0m \u001b[0mfeatures\u001b[0m\u001b[0;34m[\u001b[0m\u001b[0;34m'token_type_ids'\u001b[0m\u001b[0;34m]\u001b[0m\u001b[0;34m\u001b[0m\u001b[0;34m\u001b[0m\u001b[0m\n\u001b[1;32m     65\u001b[0m \u001b[0;34m\u001b[0m\u001b[0m\n\u001b[0;32m---> 66\u001b[0;31m         \u001b[0moutput_states\u001b[0m \u001b[0;34m=\u001b[0m \u001b[0mself\u001b[0m\u001b[0;34m.\u001b[0m\u001b[0mauto_model\u001b[0m\u001b[0;34m(\u001b[0m\u001b[0;34m**\u001b[0m\u001b[0mtrans_features\u001b[0m\u001b[0;34m,\u001b[0m \u001b[0mreturn_dict\u001b[0m\u001b[0;34m=\u001b[0m\u001b[0;32mFalse\u001b[0m\u001b[0;34m)\u001b[0m\u001b[0;34m\u001b[0m\u001b[0;34m\u001b[0m\u001b[0m\n\u001b[0m\u001b[1;32m     67\u001b[0m         \u001b[0moutput_tokens\u001b[0m \u001b[0;34m=\u001b[0m \u001b[0moutput_states\u001b[0m\u001b[0;34m[\u001b[0m\u001b[0;36m0\u001b[0m\u001b[0;34m]\u001b[0m\u001b[0;34m\u001b[0m\u001b[0;34m\u001b[0m\u001b[0m\n\u001b[1;32m     68\u001b[0m \u001b[0;34m\u001b[0m\u001b[0m\n",
      "\u001b[0;32m~/.local/lib/python3.10/site-packages/torch/nn/modules/module.py\u001b[0m in \u001b[0;36m_call_impl\u001b[0;34m(self, *args, **kwargs)\u001b[0m\n\u001b[1;32m   1499\u001b[0m                 \u001b[0;32mor\u001b[0m \u001b[0m_global_backward_pre_hooks\u001b[0m \u001b[0;32mor\u001b[0m \u001b[0m_global_backward_hooks\u001b[0m\u001b[0;34m\u001b[0m\u001b[0;34m\u001b[0m\u001b[0m\n\u001b[1;32m   1500\u001b[0m                 or _global_forward_hooks or _global_forward_pre_hooks):\n\u001b[0;32m-> 1501\u001b[0;31m             \u001b[0;32mreturn\u001b[0m \u001b[0mforward_call\u001b[0m\u001b[0;34m(\u001b[0m\u001b[0;34m*\u001b[0m\u001b[0margs\u001b[0m\u001b[0;34m,\u001b[0m \u001b[0;34m**\u001b[0m\u001b[0mkwargs\u001b[0m\u001b[0;34m)\u001b[0m\u001b[0;34m\u001b[0m\u001b[0;34m\u001b[0m\u001b[0m\n\u001b[0m\u001b[1;32m   1502\u001b[0m         \u001b[0;31m# Do not call functions when jit is used\u001b[0m\u001b[0;34m\u001b[0m\u001b[0;34m\u001b[0m\u001b[0m\n\u001b[1;32m   1503\u001b[0m         \u001b[0mfull_backward_hooks\u001b[0m\u001b[0;34m,\u001b[0m \u001b[0mnon_full_backward_hooks\u001b[0m \u001b[0;34m=\u001b[0m \u001b[0;34m[\u001b[0m\u001b[0;34m]\u001b[0m\u001b[0;34m,\u001b[0m \u001b[0;34m[\u001b[0m\u001b[0;34m]\u001b[0m\u001b[0;34m\u001b[0m\u001b[0;34m\u001b[0m\u001b[0m\n",
      "\u001b[0;32m~/.local/lib/python3.10/site-packages/transformers/models/distilbert/modeling_distilbert.py\u001b[0m in \u001b[0;36mforward\u001b[0;34m(self, input_ids, attention_mask, head_mask, inputs_embeds, output_attentions, output_hidden_states, return_dict)\u001b[0m\n\u001b[1;32m    576\u001b[0m \u001b[0;34m\u001b[0m\u001b[0m\n\u001b[1;32m    577\u001b[0m         \u001b[0;32mif\u001b[0m \u001b[0minputs_embeds\u001b[0m \u001b[0;32mis\u001b[0m \u001b[0;32mNone\u001b[0m\u001b[0;34m:\u001b[0m\u001b[0;34m\u001b[0m\u001b[0;34m\u001b[0m\u001b[0m\n\u001b[0;32m--> 578\u001b[0;31m             \u001b[0minputs_embeds\u001b[0m \u001b[0;34m=\u001b[0m \u001b[0mself\u001b[0m\u001b[0;34m.\u001b[0m\u001b[0membeddings\u001b[0m\u001b[0;34m(\u001b[0m\u001b[0minput_ids\u001b[0m\u001b[0;34m)\u001b[0m  \u001b[0;31m# (bs, seq_length, dim)\u001b[0m\u001b[0;34m\u001b[0m\u001b[0;34m\u001b[0m\u001b[0m\n\u001b[0m\u001b[1;32m    579\u001b[0m         return self.transformer(\n\u001b[1;32m    580\u001b[0m             \u001b[0mx\u001b[0m\u001b[0;34m=\u001b[0m\u001b[0minputs_embeds\u001b[0m\u001b[0;34m,\u001b[0m\u001b[0;34m\u001b[0m\u001b[0;34m\u001b[0m\u001b[0m\n",
      "\u001b[0;32m~/.local/lib/python3.10/site-packages/torch/nn/modules/module.py\u001b[0m in \u001b[0;36m_call_impl\u001b[0;34m(self, *args, **kwargs)\u001b[0m\n\u001b[1;32m   1499\u001b[0m                 \u001b[0;32mor\u001b[0m \u001b[0m_global_backward_pre_hooks\u001b[0m \u001b[0;32mor\u001b[0m \u001b[0m_global_backward_hooks\u001b[0m\u001b[0;34m\u001b[0m\u001b[0;34m\u001b[0m\u001b[0m\n\u001b[1;32m   1500\u001b[0m                 or _global_forward_hooks or _global_forward_pre_hooks):\n\u001b[0;32m-> 1501\u001b[0;31m             \u001b[0;32mreturn\u001b[0m \u001b[0mforward_call\u001b[0m\u001b[0;34m(\u001b[0m\u001b[0;34m*\u001b[0m\u001b[0margs\u001b[0m\u001b[0;34m,\u001b[0m \u001b[0;34m**\u001b[0m\u001b[0mkwargs\u001b[0m\u001b[0;34m)\u001b[0m\u001b[0;34m\u001b[0m\u001b[0;34m\u001b[0m\u001b[0m\n\u001b[0m\u001b[1;32m   1502\u001b[0m         \u001b[0;31m# Do not call functions when jit is used\u001b[0m\u001b[0;34m\u001b[0m\u001b[0;34m\u001b[0m\u001b[0m\n\u001b[1;32m   1503\u001b[0m         \u001b[0mfull_backward_hooks\u001b[0m\u001b[0;34m,\u001b[0m \u001b[0mnon_full_backward_hooks\u001b[0m \u001b[0;34m=\u001b[0m \u001b[0;34m[\u001b[0m\u001b[0;34m]\u001b[0m\u001b[0;34m,\u001b[0m \u001b[0;34m[\u001b[0m\u001b[0;34m]\u001b[0m\u001b[0;34m\u001b[0m\u001b[0;34m\u001b[0m\u001b[0m\n",
      "\u001b[0;32m~/.local/lib/python3.10/site-packages/transformers/models/distilbert/modeling_distilbert.py\u001b[0m in \u001b[0;36mforward\u001b[0;34m(self, input_ids)\u001b[0m\n\u001b[1;32m    125\u001b[0m             \u001b[0mposition_ids\u001b[0m \u001b[0;34m=\u001b[0m \u001b[0mposition_ids\u001b[0m\u001b[0;34m.\u001b[0m\u001b[0munsqueeze\u001b[0m\u001b[0;34m(\u001b[0m\u001b[0;36m0\u001b[0m\u001b[0;34m)\u001b[0m\u001b[0;34m.\u001b[0m\u001b[0mexpand_as\u001b[0m\u001b[0;34m(\u001b[0m\u001b[0minput_ids\u001b[0m\u001b[0;34m)\u001b[0m  \u001b[0;31m# (bs, max_seq_length)\u001b[0m\u001b[0;34m\u001b[0m\u001b[0;34m\u001b[0m\u001b[0m\n\u001b[1;32m    126\u001b[0m \u001b[0;34m\u001b[0m\u001b[0m\n\u001b[0;32m--> 127\u001b[0;31m         \u001b[0mword_embeddings\u001b[0m \u001b[0;34m=\u001b[0m \u001b[0mself\u001b[0m\u001b[0;34m.\u001b[0m\u001b[0mword_embeddings\u001b[0m\u001b[0;34m(\u001b[0m\u001b[0minput_ids\u001b[0m\u001b[0;34m)\u001b[0m  \u001b[0;31m# (bs, max_seq_length, dim)\u001b[0m\u001b[0;34m\u001b[0m\u001b[0;34m\u001b[0m\u001b[0m\n\u001b[0m\u001b[1;32m    128\u001b[0m         \u001b[0mposition_embeddings\u001b[0m \u001b[0;34m=\u001b[0m \u001b[0mself\u001b[0m\u001b[0;34m.\u001b[0m\u001b[0mposition_embeddings\u001b[0m\u001b[0;34m(\u001b[0m\u001b[0mposition_ids\u001b[0m\u001b[0;34m)\u001b[0m  \u001b[0;31m# (bs, max_seq_length, dim)\u001b[0m\u001b[0;34m\u001b[0m\u001b[0;34m\u001b[0m\u001b[0m\n\u001b[1;32m    129\u001b[0m \u001b[0;34m\u001b[0m\u001b[0m\n",
      "\u001b[0;32m~/.local/lib/python3.10/site-packages/torch/nn/modules/module.py\u001b[0m in \u001b[0;36m_call_impl\u001b[0;34m(self, *args, **kwargs)\u001b[0m\n\u001b[1;32m   1499\u001b[0m                 \u001b[0;32mor\u001b[0m \u001b[0m_global_backward_pre_hooks\u001b[0m \u001b[0;32mor\u001b[0m \u001b[0m_global_backward_hooks\u001b[0m\u001b[0;34m\u001b[0m\u001b[0;34m\u001b[0m\u001b[0m\n\u001b[1;32m   1500\u001b[0m                 or _global_forward_hooks or _global_forward_pre_hooks):\n\u001b[0;32m-> 1501\u001b[0;31m             \u001b[0;32mreturn\u001b[0m \u001b[0mforward_call\u001b[0m\u001b[0;34m(\u001b[0m\u001b[0;34m*\u001b[0m\u001b[0margs\u001b[0m\u001b[0;34m,\u001b[0m \u001b[0;34m**\u001b[0m\u001b[0mkwargs\u001b[0m\u001b[0;34m)\u001b[0m\u001b[0;34m\u001b[0m\u001b[0;34m\u001b[0m\u001b[0m\n\u001b[0m\u001b[1;32m   1502\u001b[0m         \u001b[0;31m# Do not call functions when jit is used\u001b[0m\u001b[0;34m\u001b[0m\u001b[0;34m\u001b[0m\u001b[0m\n\u001b[1;32m   1503\u001b[0m         \u001b[0mfull_backward_hooks\u001b[0m\u001b[0;34m,\u001b[0m \u001b[0mnon_full_backward_hooks\u001b[0m \u001b[0;34m=\u001b[0m \u001b[0;34m[\u001b[0m\u001b[0;34m]\u001b[0m\u001b[0;34m,\u001b[0m \u001b[0;34m[\u001b[0m\u001b[0;34m]\u001b[0m\u001b[0;34m\u001b[0m\u001b[0;34m\u001b[0m\u001b[0m\n",
      "\u001b[0;32m~/.local/lib/python3.10/site-packages/torch/nn/modules/sparse.py\u001b[0m in \u001b[0;36mforward\u001b[0;34m(self, input)\u001b[0m\n\u001b[1;32m    160\u001b[0m \u001b[0;34m\u001b[0m\u001b[0m\n\u001b[1;32m    161\u001b[0m     \u001b[0;32mdef\u001b[0m \u001b[0mforward\u001b[0m\u001b[0;34m(\u001b[0m\u001b[0mself\u001b[0m\u001b[0;34m,\u001b[0m \u001b[0minput\u001b[0m\u001b[0;34m:\u001b[0m \u001b[0mTensor\u001b[0m\u001b[0;34m)\u001b[0m \u001b[0;34m->\u001b[0m \u001b[0mTensor\u001b[0m\u001b[0;34m:\u001b[0m\u001b[0;34m\u001b[0m\u001b[0;34m\u001b[0m\u001b[0m\n\u001b[0;32m--> 162\u001b[0;31m         return F.embedding(\n\u001b[0m\u001b[1;32m    163\u001b[0m             \u001b[0minput\u001b[0m\u001b[0;34m,\u001b[0m \u001b[0mself\u001b[0m\u001b[0;34m.\u001b[0m\u001b[0mweight\u001b[0m\u001b[0;34m,\u001b[0m \u001b[0mself\u001b[0m\u001b[0;34m.\u001b[0m\u001b[0mpadding_idx\u001b[0m\u001b[0;34m,\u001b[0m \u001b[0mself\u001b[0m\u001b[0;34m.\u001b[0m\u001b[0mmax_norm\u001b[0m\u001b[0;34m,\u001b[0m\u001b[0;34m\u001b[0m\u001b[0;34m\u001b[0m\u001b[0m\n\u001b[1;32m    164\u001b[0m             self.norm_type, self.scale_grad_by_freq, self.sparse)\n",
      "\u001b[0;32m~/.local/lib/python3.10/site-packages/torch/nn/functional.py\u001b[0m in \u001b[0;36membedding\u001b[0;34m(input, weight, padding_idx, max_norm, norm_type, scale_grad_by_freq, sparse)\u001b[0m\n\u001b[1;32m   2208\u001b[0m         \u001b[0;31m# remove once script supports set_grad_enabled\u001b[0m\u001b[0;34m\u001b[0m\u001b[0;34m\u001b[0m\u001b[0m\n\u001b[1;32m   2209\u001b[0m         \u001b[0m_no_grad_embedding_renorm_\u001b[0m\u001b[0;34m(\u001b[0m\u001b[0mweight\u001b[0m\u001b[0;34m,\u001b[0m \u001b[0minput\u001b[0m\u001b[0;34m,\u001b[0m \u001b[0mmax_norm\u001b[0m\u001b[0;34m,\u001b[0m \u001b[0mnorm_type\u001b[0m\u001b[0;34m)\u001b[0m\u001b[0;34m\u001b[0m\u001b[0;34m\u001b[0m\u001b[0m\n\u001b[0;32m-> 2210\u001b[0;31m     \u001b[0;32mreturn\u001b[0m \u001b[0mtorch\u001b[0m\u001b[0;34m.\u001b[0m\u001b[0membedding\u001b[0m\u001b[0;34m(\u001b[0m\u001b[0mweight\u001b[0m\u001b[0;34m,\u001b[0m \u001b[0minput\u001b[0m\u001b[0;34m,\u001b[0m \u001b[0mpadding_idx\u001b[0m\u001b[0;34m,\u001b[0m \u001b[0mscale_grad_by_freq\u001b[0m\u001b[0;34m,\u001b[0m \u001b[0msparse\u001b[0m\u001b[0;34m)\u001b[0m\u001b[0;34m\u001b[0m\u001b[0;34m\u001b[0m\u001b[0m\n\u001b[0m\u001b[1;32m   2211\u001b[0m \u001b[0;34m\u001b[0m\u001b[0m\n\u001b[1;32m   2212\u001b[0m \u001b[0;34m\u001b[0m\u001b[0m\n",
      "\u001b[0;31mKeyboardInterrupt\u001b[0m: "
     ]
    }
   ],
   "source": [
    "# encoding in batches can reduce overhead costs and speed up the process\n",
    "vectors = []\n",
    "batch_size = 64  # TODO: how can I speed up? Maybe reduce batch?\n",
    "batch = []\n",
    "for row in tqdm(data.itertuples()):\n",
    "    descriptions = []\n",
    "    pre = (row.title_en + \". \" + row.abstract_en + \" \" + row.keywords_en).split(\". \")\n",
    "    encoding = model.encode(pre)\n",
    "    vectors.append(encoding)\n",
    "#     if len(batch) >= batch_size:\n",
    "#         vectors.append(model.encode(batch))\n",
    "#         batch = []\n",
    "# if len(batch) > 0:\n",
    "#     vectors.append(model.encode(batch))\n",
    "#     batch = []\n",
    "\n",
    "vectors_concat = np.concatenate(vectors)"
   ]
  },
  {
   "cell_type": "code",
   "execution_count": 57,
   "id": "a1993df0",
   "metadata": {},
   "outputs": [],
   "source": []
  },
  {
   "cell_type": "code",
   "execution_count": 226,
   "id": "1297b3d8",
   "metadata": {},
   "outputs": [],
   "source": [
    "np.save(os.path.join(config.DATA_PATH,\"vectors_experiment_3.npy\"), vectors_concat, allow_pickle=False) "
   ]
  },
  {
   "cell_type": "markdown",
   "id": "0e6b3ec8",
   "metadata": {},
   "source": [
    "### Testes - Para ter certeza de que os vetores fazem sentido"
   ]
  },
  {
   "cell_type": "code",
   "execution_count": 103,
   "id": "9ac10c79",
   "metadata": {},
   "outputs": [],
   "source": [
    "vectors = np.load(os.path.join(config.DATA_DIR,\"vectors.npy\"))"
   ]
  },
  {
   "cell_type": "code",
   "execution_count": 73,
   "id": "fa241d5d",
   "metadata": {},
   "outputs": [],
   "source": [
    "from sklearn.metrics.pairwise import cosine_similarity"
   ]
  },
  {
   "cell_type": "markdown",
   "id": "0ad4de84",
   "metadata": {},
   "source": [
    "> **Pergunta**: Como funciona cosine_similarity?"
   ]
  },
  {
   "cell_type": "code",
   "execution_count": 238,
   "id": "f3cfe23e",
   "metadata": {},
   "outputs": [
    {
     "data": {
      "text/plain": [
       "1686621456.7033858"
      ]
     },
     "execution_count": 238,
     "metadata": {},
     "output_type": "execute_result"
    }
   ],
   "source": [
    "import time\n",
    "time.time()"
   ]
  },
  {
   "cell_type": "code",
   "execution_count": 36,
   "id": "bac74384",
   "metadata": {},
   "outputs": [],
   "source": [
    "query_vector = model.encode(\"ddos attack\")"
   ]
  },
  {
   "cell_type": "code",
   "execution_count": 94,
   "id": "f48d03bc",
   "metadata": {},
   "outputs": [
    {
     "data": {
      "text/plain": [
       "array([0.30398664, 0.16937862, 0.20659798, ..., 0.04241941, 0.0696875 ,\n",
       "       0.11439453], dtype=float32)"
      ]
     },
     "execution_count": 94,
     "metadata": {},
     "output_type": "execute_result"
    }
   ],
   "source": [
    "cosine_similarity(query_vector, vectors)"
   ]
  },
  {
   "cell_type": "code",
   "execution_count": 99,
   "id": "cbc4121a",
   "metadata": {
    "scrolled": false
   },
   "outputs": [],
   "source": [
    "import time\n",
    "def query(sample_query):\n",
    "    t = time.time()\n",
    "    query_vector = model.encode(sample_query)\n",
    "    print(f\"Encode took {time.time()-t}s\")\n",
    "    \n",
    "    t = time.time()\n",
    "    scores = cosine_similarity(query_vector, vectors)\n",
    "    print(f\"Search took {time.time()-t}s\")\n",
    "    \n",
    "    top_scores_ids = np.argsort(scores)\n",
    "    top_scores_ids = top_scores_ids[::-1][:15]\n",
    "    for top_id in top_scores_ids:\n",
    "        tmp = metadata.iloc[idxs[top_id]]\n",
    "        print(\"Index:\", idxs[top_id])\n",
    "        print(\"Title: \", tmp.title_en)\n",
    "        print(\"Author: \", tmp.author)\n",
    "        print(\"Abstract: \", tmp.abstract_en)\n",
    "        print(\"Keywords: \", tmp.keywords_en)\n",
    "        print(\"\\n##############################################################################\\n\")"
   ]
  },
  {
   "cell_type": "code",
   "execution_count": 90,
   "id": "db9c2fd6",
   "metadata": {},
   "outputs": [],
   "source": [
    "query_vector = model.encode(\"ddos attack\")"
   ]
  },
  {
   "cell_type": "code",
   "execution_count": 104,
   "id": "fcabc2a1",
   "metadata": {},
   "outputs": [
    {
     "name": "stdout",
     "output_type": "stream",
     "text": [
      "Encode took 0.026331424713134766s\n",
      "Search took 0.0011370182037353516s\n",
      "Index: 14\n",
      "Title:  Delayed ettringite formation in fiber cement.\n",
      "Author:  Davila, Felipe Jaime (Catálogo USP)\n",
      "Abstract:  The curing temperature using by the fibercement industry as a catalyst in the hydration of cement, hypothesizes expansion caused by delayed ettringite formation. To approach this hypothesis, this study looked at two groups of samples in order to study its chemical and physical behavior individually. One group was composed of cement paste with 35% substitution of limestone filler, and the other by fibercement with addition of PVA and cellulose. In the isothermal calorimetry test was observed the kinetics reaction of both pastes, one cured at 23 °C and the other at 85 °C, the latter showed a catalytic effect in his reactions. XRD and DTG/TG showed the presence of ettringite at 23 °C for all hydration ages exhibiting a trend of increase in the peak intensity and amount, respectively in function of time, however, at 85 °C the presence of this phase was unstable during early ages of hydration until completing one month hydration where showed an increase in each of the following measurements monthly performed. At 85 °C there was a lower formation of portlandite when it was compared with results obtained at 23 °C. Using the Rietveld quantitative method analysis and chemical analysis were determined amounts and chemical compositions, respectively, of the phases of cement anhydrous and limestone filler to feed the GEMS software and simulate the hydration of paste studied in the laboratory for an infinite time under the influence of temperature. Simulations of paste hydration approached the reported data in literature allowing predicting the presence of phases according to thermodynamic stability. Additionally, results of mercury intrusion porosimetry showed a higher concentration of pores associated with defects, in samples cured at 85 ° C compared to 23 °. Finally, were taken measures of length offset of fibercement samples produced in laboratory and factory which had incorporation of PVA fibers and cellulose; they presented dispersion in the results of expansion for each of the scenarios unable to correlate with the mass gain exhibited by each sample. However, the risk of deterioration of the fibercement is highlighted by the increase of defects caused by temperature and the creation of all necessary conditions to favor the late formation of ettringite from the manufacturing process used for this product.\n",
      "Keywords:  Delayed ettringite formation DTG/TG GEMS Rietveld method Termodinamic\n",
      "\n",
      "##############################################################################\n",
      "\n",
      "Index: 18\n",
      "Title:  Methodology for parallel application execution based on BSP model with heterogeneous tasks.\n",
      "Author:  Luz, Fernando Henrique e Paula da (Catálogo USP)\n",
      "Abstract:  Parallel computing allows for a series of advantages on the execution of large applications and the effective use of parallel resources is an important aspect in the High Performance Computing. This work presents a methodology to provide the execution, in an automated way, of parallel applications based on BSP model with heterogeneous tasks. In this model it is assumed that the computation time between iterations does not have a high variance. The methodology is entitled ASE and it is composed by three stages: Acquisition, Scheduling and Execution. In the Acquisition step, the tasks' processing time are obtained; In the Scheduling step, the methodology finds the ideal arrangement to distribute the tasks to maximize the execution speed and, simultaneously, minimize the use of resources. This is made using an algorithm developed in this work; and lastly the Execution step, where the parallel application is executed in the distribution defined in the previous step. The tools used in the methodology were implemented. A set of tests to apply the methodology were made and the results shown that the objectives were reached.\n",
      "Keywords:  BSP High performance computing Tasks scheduling\n",
      "\n",
      "##############################################################################\n",
      "\n",
      "Index: 7\n",
      "Title:  Not available\n",
      "Author:  Yoshida, Riuiti (Catálogo USP)\n",
      "Abstract:  Not available\n",
      "Keywords:  Not available\n",
      "\n",
      "##############################################################################\n",
      "\n",
      "Index: 17\n",
      "Title:  Evaluation of interaction between potassium persulfate and Brazilian soils for use in remediation technology by in situ chemical oxidation.\n",
      "Author:  Oliveira, Fernanda Campos de (Catálogo USP)\n",
      "Abstract:  Recently the persulfate application for in situ chemical oxidation at areas contaminated by organic compounds gained notoriety. However, the persulfate can interact with the solid matrix of the soil favoring the formation of free radicals, avoiding the oxidant access to the contaminant due to the oxidation of reduced compounds present in the soil or by changing the hydraulic properties of the soil. This research aimed to evaluate if the interactions between the persulfate solutions and three Brazilian tropical soils could eventually interfere on the persulfate oxidation capacity and if the interaction between them could modify the hydraulic properties of the soil. For such, oxidation tests were performed with soils: Latossolo Vermelho (LV), Latossolo Vermelho Amarelo (LVA) and Neossolo Quartzarênico (NQ) with persulfate solution (1 and 14 g/L) through batch tests and LV oxidation by persulfate solution (9 and 14 g/L) on undisturbed columns. The results showed that persulfate decay followed a first order model and oxidant consumption was not finite. The higher reaction rate coefficient (kobs) was observed in the reactor with LV. This higher interaction was due to the difference in the mineralogical composition and surface area. Kaolinite, gibbisita and iron oxides showed greater interaction with persulfate. The pH reduction on the reactor solution caused the aluminum and iron leaching due to dissolution of minerals. The mobilized iron may have participated as a reaction catalyst favoring the formation of free radicals although it was the major responsible for the oxidant consumption. Part of oxidized iron may have been precipitated as crystalline oxide favoring the clogged pores. As a consequence of the higher mass proportion between persulfate and soil, the kobs constant obtained in the column test was 23 times higher than the one observed on the batch test, even utilizing a concentration 1.5 times lower than bath test. There was a reduction in the soil hydraulic conductivity and the water flow proved to be heterogeneous after oxidation due to changes in minerals structure. For remediation purposes in areas with predominance of tropical soils, especially LV, the formation of free radicals may occur but an accented and not finite oxidant consumption may happen. It is verified that the pH solution should not be inferior than 5 to prevent the mobilization of metals to the groundwater and a possible pores clogging by the breakdown of the clay grains.\n",
      "Keywords:  In situ chemical oxidation Remediation Tropical soils\n",
      "\n",
      "##############################################################################\n",
      "\n",
      "Index: 40\n",
      "Title:  Nutritional quality of dog food: influence of zinc in the absorption of copper and in the prevention of hepatic disease\n",
      "Author:  Elias, Camila (Catálogo USP)\n",
      "Abstract:  Commercial dog foods should be a balanced diet that meets all nutritional requirements at different stages of the animal's life. Its formulation should contain quality ingredients in suitable proportions. The knowledge of the nutritional value of dog food is fundamental to ensure that the animal is ingesting daily right amounts of nutrients. The imbalance of essential elements and the presence of toxic elements can cause nutritional problems, diseases, and even fatal consequences for dogs. Copper is one of several important factors to be studied for metabolic defects in dogs. Copper accumulation in the liver may cause progressive lesions in the organelles of hepatocytes, resulting in chronic hepatitis and cirrhosis. Thus, this study aimed to (I) determine essential and potentially toxic chemical elements in the dog food for puppies and adults, (II) assess the proximate composition of the sampled dog food, (III) evaluate the between-bag variation of chemical elements in dog food within the same production lot of one brand, (IV) study the representativeness of small test portions of dog food collected from regular 1 kg packed bags, (V) assess the in vitro bioaccessibility of copper in dog food. The chemical elements Al, As, Br, Ca, Cl, Co, Cr, Cs, Cu, Fe, I, K, La, Mg, Mn, Na, P, Rb, Sb, Sc, Se, Ti, U and Zn were determined by instrumental neutron activation analysis (INAA). The proximate composition was evaluated by AOAC recommended methods. The homogeneity of chemical elements distribution in the dog food was evaluated by analysis of large samples (LS-NAA). The bioaccessibility of copper was estimated by in vitro simulated gastrointestinal digestion. INAA was a suitable analytical tool for characterizing the profile of mineral nutrients, i.e., Ca, P, K, Na, Cl, Mg, Fe, Cu, Mn, Zn, I and Se in dog food with reference values set by Association of American Feed Control Officials. High concentrations of the toxic elements Al, Sb and U were observed in some dog food samples. Approximately 16% of dog food samples presented, at least, one value outside the reference limits from proximate composition. The results obtained by LS-NAA and conventional NAA showed between-bag compositional variability for Br, Ca, Na and Zn, with a good agreement between both methods. The use of LS NAA combined with conventional NAA allowed to observe that the small 350 mg portions of dry dog food taken for analysis is representative of one kilogram bag for Br, Ca, K, Na and Zn. In all dog foods, 50 % of the copper was present in bioaccessible form\n",
      "Keywords:  Bioaccessibility Chemical composition Large sample Minerals\n",
      "\n",
      "##############################################################################\n",
      "\n",
      "Index: 22\n",
      "Title:  Kinetic study on leaching of metals from waste printed circuit boards.\n",
      "Author:  Ramunno, Franco Alves Lavacchini (Catálogo USP)\n",
      "Abstract:  The traditional process for recovery of metals from waste electric and electronic equipment (WEEE) usually involves pyrometallurgical processing. However, the application of this technology to processing waste printed circuit boards (WPCBs) might lead to the formation of dioxins and furans, due to thermal degradation of flameretardants and polymeric resins present in the board substrate. Therefore, this work proposes a hydrometallurgical route for the recovery of metals. The acid leaching behavior of metals, especially copper, zinc and nickel, has been investigated at three different temperatures (35ºC, 65ºC e 75ºC) with and without the addition of an oxidizing agent (hydrogen peroxide H2O2). The dissolution kinetics for acid leaching of these metals was studied based on chemical analysis by ICP-OES (Inductively Coupled Plasma - Optical Emission Spectrometry) and EDX (Energy Dispersive X-ray Spectroscopy). The mass balance and chemical analysis showed that the acid leaching without the addition of an oxidizing agent is inefficient at extracting the metals, being responsible for less than 6% of the total mass leached during the hydrometallurgical route proposed. At 65ºC with 1 mol/L H2SO4 added 5 mL H2O2 (30%) each fifteen minutes under pulp density of 1 g / 10 mL, 98,1% of copper, 99,9% of zinc and 99,0% of nickel were extracted after 4 hours. The dissolution kinetics of these metals, depending on the temperature, followed 1 (1 XB)1/3 = k1.t or ln (1 XB) = k4.t, i.e. chemically controlled reaction model.\n",
      "Keywords:  Kinetics Leaching Printed circuit boards\n",
      "\n",
      "##############################################################################\n",
      "\n",
      "Index: 3\n",
      "Title:  Not available\n",
      "Author:  Szikszay, Mária (Catálogo USP)\n",
      "Abstract:  Not available\n",
      "Keywords:  Not available\n",
      "\n",
      "##############################################################################\n",
      "\n",
      "Index: 82\n",
      "Title:  Nitrate in the ruminant nutrition as a strategy for mitigation of enteric methane\n",
      "Author:  Natel, Andressa Santanna (Catálogo USP)\n",
      "Abstract:  Production of enteric methane is among the leading sources of greenhouse gas emissions from agricultural activities and generate energy loss to the animal up to 12% of gross energy consumption. The objective of this study was to evaluate the use of calcium nitrate encapsulated in ruminant feed as a nutritional strategy for mitigation of enteric methane. The experiment consisted of two phases. Phase I: tested diets were supplemented with encapsulated calcium nitrate using a semi-automatic in vitro gas production technique Half gram of substrate with 50 mL of incubation medium, and 25 mL of rumen fluid were incubated in glass bottles (160 ml) at 39 °C for 24 hours to determine the best diets to be tested in vivo. The first trial tested the association between monensin (diets with and without monensin) and encapsulated nitrate levels (0, 1.5 and 3% of dry matter (DM)) for in vitro methane mitigation. There was no interaction between monensin and nitrate for the tested variables. The second in vitro assay tested the interaction of diet type with two concentrate:forage ratios, 20:80 and 80:20, and the inclusion of encapsulated nitrate levels (0, 1.5, 3 and 4.5% DM). Although it was not observed associative effect between diet and nitrate for reduction of methane, it was observed change in the ruminal fermentation products. Phase II: According to the results obtained in Phase I, in the second phase we evaluated the associative effect of concentrate: forage ratio of diet and the dose of nitrate on the methane emission, ruminal constituents and nitrate toxicity in vivo. We used six lambs cannulated in the rumen, distributed in Latin square design 6 x 6 in factorial 2 x 3. The factors were type of diet (concentrate:forage ratios 20:80 and 80:20) and inclusion of encapsulated nitrate doses in the diet (0, 1.5 and 3% DM) in the gradual replacement of soybean meal, a total of six treatments. The replacement levels of soybean meal by nitrate were in protein equivalent so as to leave the diets isonitrogenous. The animals were gradually adapted to dietary nitrate supply to avoid problems with toxicity. The analysis of toxicity were evaluated by the rate of methemoglobin in the blood of sheep 3 hours after feeding. Methemoglobin levels in blood of animals were not changed by the addition of nitrate. Associative effect was observed between the type of diet and nitrate for ruminal fermentation products such as acetate, which decreased linearly in the diets with 80% forage when nitrate was added. It can be concluded that nitrate used securely is a promising strategy for reducing enteric methane independently of the type of diet being supplemented\n",
      "Keywords:  Fermentation Gas production Microbial population Nitrate encapsulated Non-protein nitrogen Sheep\n",
      "\n",
      "##############################################################################\n",
      "\n",
      "Index: 17\n",
      "Title:  Evaluation of interaction between potassium persulfate and Brazilian soils for use in remediation technology by in situ chemical oxidation.\n",
      "Author:  Oliveira, Fernanda Campos de (Catálogo USP)\n",
      "Abstract:  Recently the persulfate application for in situ chemical oxidation at areas contaminated by organic compounds gained notoriety. However, the persulfate can interact with the solid matrix of the soil favoring the formation of free radicals, avoiding the oxidant access to the contaminant due to the oxidation of reduced compounds present in the soil or by changing the hydraulic properties of the soil. This research aimed to evaluate if the interactions between the persulfate solutions and three Brazilian tropical soils could eventually interfere on the persulfate oxidation capacity and if the interaction between them could modify the hydraulic properties of the soil. For such, oxidation tests were performed with soils: Latossolo Vermelho (LV), Latossolo Vermelho Amarelo (LVA) and Neossolo Quartzarênico (NQ) with persulfate solution (1 and 14 g/L) through batch tests and LV oxidation by persulfate solution (9 and 14 g/L) on undisturbed columns. The results showed that persulfate decay followed a first order model and oxidant consumption was not finite. The higher reaction rate coefficient (kobs) was observed in the reactor with LV. This higher interaction was due to the difference in the mineralogical composition and surface area. Kaolinite, gibbisita and iron oxides showed greater interaction with persulfate. The pH reduction on the reactor solution caused the aluminum and iron leaching due to dissolution of minerals. The mobilized iron may have participated as a reaction catalyst favoring the formation of free radicals although it was the major responsible for the oxidant consumption. Part of oxidized iron may have been precipitated as crystalline oxide favoring the clogged pores. As a consequence of the higher mass proportion between persulfate and soil, the kobs constant obtained in the column test was 23 times higher than the one observed on the batch test, even utilizing a concentration 1.5 times lower than bath test. There was a reduction in the soil hydraulic conductivity and the water flow proved to be heterogeneous after oxidation due to changes in minerals structure. For remediation purposes in areas with predominance of tropical soils, especially LV, the formation of free radicals may occur but an accented and not finite oxidant consumption may happen. It is verified that the pH solution should not be inferior than 5 to prevent the mobilization of metals to the groundwater and a possible pores clogging by the breakdown of the clay grains.\n",
      "Keywords:  In situ chemical oxidation Remediation Tropical soils\n",
      "\n",
      "##############################################################################\n",
      "\n",
      "Index: 67\n",
      "Title:  Organic matter chemistry and pedogenesis in humic Latosols under cerrado vegetation\n",
      "Author:  Justi, Marina (Catálogo USP)\n",
      "Abstract:  Soil organic matter (SOM) is an important carbon (C) stock in terrestrial ecosystems. C in soils can be released to the atmosphere in CO2 form by SOM decomposition, or can be stored with residue inputs and SOM retention in the soils. In this sense, it is important to understand the SOM stability mechanisms to predict how soils behave under climatic or human management induced environmental changes. Latosols occupy 40% of the national territory in Brazil. Some of them have a hyper thick A horizon with a major C stock, Humic Latasols. Aspects that underlie the formation of humic A horizon are still unclear, and mainly concern SOM dynamics, SOM preservation mechanisms, and SOM distribution with depth. The aim of this work is to understand the genesis of Humic Latosols through molecular characterization of SOM by pyrolysis coupled to gas chromatography and mass spectrometry (pyrolysis - GC/MS). For this purpose samples from two profiles (LH1, LH2) were collected, and in addition a reference profile was sampled (Latosol without humic characteristics, LNH). All profiles were located near Grão Mogol city (MG) under a semi-humid tropical climate and Cerrado vegetation. Morphology at different levels (field, bloom and microscope) showed that charcoal was abundant in all three profiles, and an extremely high biological activity. Profiles were sampled in detail and all samples were submitted to sequential physical fractionation and chemical extraction, generating the following SOM fractions: free light fraction (FLF); occluded light fraction (OLF); NaOH extractable fraction (EXT) and residue (RES). The molecular composition of the samples was studied by pyrolysis-GC/MS. Profile morphology evidence the long and intense biological activity (faunal and roots) in this soils, in the past and present time. This explains the microaggregate abundance and consequent macroporosity, and also the distribution of charcoal fragments in all of A and part of B horizon. These fragments have submilimetrical a milimetrical dimensions, suggests its fragmentation along the time. It was evidenced too, the bigger charcoal content in LHs than LNH. The C distribution in the fractions was the same for all the studied profiles: RES>EXT>FLL>FLO, which shows the importance of the RES fraction for these soils. Pyrolysis products derived from black carbon (BC; polyaromatics hydrocarbons) were most abundant in RES and FLO. In the RES, PAHs were more abundant in the LH than LNH; confirming the biggest quantity of charcoals in LHs verified in morphology. A BC degradation index was established using factor analysis with all PAH and all fractions studied. Depth records of these parameter showed an increase with depth in both EX and RES, and showed no differences between the studied profiles. It is concluded, therefore, that the LH had a larger input of charcoal. It is hypothesized that the larger contribution from BC in LHs is related to local differences in fire intensity and/or more trees in the vegetation.\n",
      "Keywords:  Bioturbation Black carbon Pyrolysis-GC/MS SOM fractionation\n",
      "\n",
      "##############################################################################\n",
      "\n",
      "Index: 68\n",
      "Title:  Psychological organization and psychic dynamics in childhood obesity.\n",
      "Author:  Coury, Carmem Gil (Catálogo USP)\n",
      "Abstract:  Psychological assessment instruments consist in methods of systematic research and of understanding the structural and functional components of human behavior, with diverse goals and technical strategies, respecting the specificities of the development. Projective techniques such as the Rorschach Method and the Human Figure Drawing are widely used resources in psychological evaluation processes of personality characteristics, contributing to the understanding and development of therapeutic interventions in various application fields, such as in the childhood obesity area. In this context, this study aimed to identify and compare psychological characteristics of children with obesity compared with those of normal weight, using projective methods of personality assessment. In this study were examined 60 children aged seven to 11 years old, 30 children diagnosed as obese and under specific treatment for the disorder (Group 1 - G1) and 30 children with normal weight (Group 2 - G2), with no academic delay, without cognitive limitation and with no history of other physical ailments. G1 participants were recruited from health institutions devoted to treatment of childhood obesity and G2 was formed by a partnership established with a teaching institution and a research group, intending to balance some characteristics of the two groups (sex and age). The following psychological assessment instruments were applied individually in children: Raven´s Coloured Progressive Matrices Test (constituted on selection criteria of participants, being included only the children sample with average intellectual results or higher), the Human Figure Drawing (DFH) and the Rorschach Method (French School). The parents of children answered the Strengths and Difficulties Questionnaire (SDQ) to characterize the sample. The results were examined according to specific standardization of the respective technical manuals of the instruments. Descriptive and inferential analyses were performed in order to examine possible associations between clinical and demographic variables and indicators of personality characteristics of the children. Correlation analyzes were made of the main results in DFH and Rorschach in accordance with the child's nutritional classification. The findings illuminate possible features of psychic functioning involved in childhood obesity process in order to facilitate future strategies for therapeutic intervention with children. (CAPES)\n",
      "Keywords:  Childhood obesity; Psychological Assessment; Projective Techniques; Rorschach; Human Figure Drawing; Personality.\n",
      "\n",
      "##############################################################################\n",
      "\n",
      "Index: 83\n",
      "Title:  Emissions of ammonia and greenhouse gases from the broiler production in multiple reuses the litter\n",
      "Author:  Santana, Ingrid Kely da Silva (Catálogo USP)\n",
      "Abstract:  Many countries have sought to investigate the emissions of GHG and ammonia (NH3) in livestock production to better understand the dynamics and the excess of these gases in the atmosphere. The information available in the literature on GHG emissions and NH3 in poultry houses are variable and uncertain due to the diversity and particular conditions of the facilities, as well as the numerous differences in the authoring system and the complex interactions observed in animal manure. The characterization of emissions from poultry sector is usually performed by monitoring of gas concentrations in the production facilities. However, some of the methods adopted are inadequated due to interference from other gases, thus, the measurements may not accurately reflect the actual emissions. In this context, this research developed a sampling system with lower interference that directly measure the emissions of N2O, CH4 and NH3 of broiler manure. The proposed methodology includes the principle of static chamber, and gas chromatography (GC) analysis to determine GHG emissions. For the direct quantification of NH3 emissions a semi-open static method was adapted based on the capture of volatilized NH3 from manure of broilers, in an acidic solution. In addition, the daily monitoring of NH3, CH4 and N2O emissions from broiler manure considered the reutilization of poultry litter, which is the usual management. Empirical models were proposed in the study to predict emissions of N2O, CH4 and NH3, depending on the number of reuses of the litter, the age of the birds and physicochemical properties of the litter. Cumulative emissions per production four cycle allowed us to calculate an annual loss of 0.14, 0.35 and 72.0 g N2O, CH4, NH3 bird-place-1 year-1, respectively. Considering the number of broilers grown in 2015, the poultry production chain emitted about 545.1 Gg CO2eq derived from poultry manure management, corresponding to 0.04 kg CO2 eq per kg meat. A reduction of 21, 40 and 78% was observed in the annual emissions of N2O, CH4 and NH3, respectively, when the litter is used in only one breeding cycle instead of six cycles. However, an N balance was conducted to account N inputs and outputs in the production of broiler during the four breeding cycles. The main entrance of N in the production system was the ration, as a secondary input, the N via poultry litter, which increased considerably each reuse cycle. This research presents an applicable and innovative methodology for determining GHG flows in open sheds houses in Brazil. The data presented will be useful to the Brazilian annual inventory of GHG emissions derived from poultry manure. Moreover the present data has the potential to prompt new research that might further the knowledge on the impacts and GHG mitigation alternatives in the production of broiler thus enhancing sustainability in meat production in Brazil\n",
      "Keywords:  Brazil CH4 and NH3 Determination method Emission factor Emission of N2O Nitrogen\n",
      "\n",
      "##############################################################################\n",
      "\n",
      "Index: 51\n",
      "Title:  Gold ore characterization by automated image analysis acquired by scanning electron microscope.\n",
      "Author:  Nery, Guilherme Pinho (Catálogo USP)\n",
      "Abstract:  Gold and other mineral goods are considered commodities, i.e., a non-differentiated product, at a price determined by the international market, without control of its producers. Given this, coupled with the exhaustion of mineral deposits of higher content, mining companies have been trying to find best procedure alternatives of more complex raw mineral matter. The financial returns are achieved by means of strict production controls, cost reduction and mitigation of losses in unit operations. In this context, process mineralogy is a multidisciplinary and fundamental approach to the better use of mineral goods. Enables a greater knowledge of the ore and its associations, to assist in the development of process alternatives to optimize mineral beneficiation plants. SEM-based automated images analysis is one of the most precise procedures to characterize mineral associations. These systems allow the qualitative or quantitative evaluation of a large number of particles, both as to its chemical and mineralogical content, partition of elements of interest among different minerals, phase's associations and liberation. This study focus on the characterization of four gold-mineralized samples from different regions of Brazil, through SEM-based automated image analysis and mineral separations at laboratory scale. The combination of experimental procedures with images analysis allowed the comparison of the results of possible recoveries, providing subsidies for process approaches, to obtain the maximum recovery of gold, and to diagnose the interfering features in these processes.\n",
      "Keywords:  Automated image analysis Cyanidation Gold ore Process mineralogy Scanning electron microscope\n",
      "\n",
      "##############################################################################\n",
      "\n",
      "Index: 13\n",
      "Title:  Study of the replacing of fluorspar by alumina or sodalite and lime by marble waste in desulfurizing synthetic.\n",
      "Author:  Grillo, Felipe Fardin (Catálogo USP)\n",
      "Abstract:  The steel industry is going through transformations aiming at innovation and use of alternative raw materials. In this context, the use of industrial waste in the production of synthetic slag is considered an important option on the search for new materials and waste reuse. Therefore, the aim of this work was to study the use of synthetic slags at the desulfurization of hot metal, steel and cast iron. It was proposed the use sodalite and alumina instead of fluorite and the use of marble waste instead of lime. Marble waste was characterized by chemical analysis, particle size analysis, specific surface area, X-ray diffraction (XRD), scanning electron microscopy (SEM), analysis with energy dispersive spectroscopy (EDS). The characterization results showed that almost 90% of the particles are smaller than 100 m and its specific surface area was 0.2406m²/g. The XRD has showed the presence of compounds such as CaCO3 and MgCO3 and SiO2. Further, simulations using Thermo-Calc were performed in order to obtain thermodynamic data of the present phases, and to compare with experimental data. Furthermore, sulfide capacity (Cs), sulfur partition (Ls) and optical basicity () were determined. The experimental procedures were carried out at 1400°C, 1550°C and 1600°C for hot metal, cast iron and steel, respectively. In addition, steel and hot metal tests were performed using an alumina rotor to raise the desulphurization. In hot metal desulphurization, solid CaO phase was responsible for sulfur removal. Furthermore, 3CaO.SiO2 and 3CaO.Al2O3 phases limited the reaction, being their concentration higher in the slags with marble waste and sodalite, due to the presence of SiO2 and Al2O3 in these raw materials. Slags composed mainly of CaO and Al2O3 were used in steel and cast iron desulphurization. It was observed that when increasing liquid phase, the reaction of desulphurization was favored. Besides, it was found that cast iron desulfurization occurs by top slag mechanism and steel desulfurization by a mixed process where the liquid phase and solid phase have influence on the desulfurization.\n",
      "Keywords:  Desulfurization Fluorspar Marble waste\n",
      "\n",
      "##############################################################################\n",
      "\n",
      "Index: 15\n",
      "Title:  Electrical characterization of vertical Tunel-FET with SiGe and Ge source as function of temperature.\n",
      "Author:  Souza, Felipe Neves (Catálogo USP)\n",
      "Abstract:  This work aims to study the nanowire tunneling field effect transistors (NW-TFET). The analyses were performed based on theoretical explanations, numerical simulations and experimental data. In order to improve the NW-TFET performance, it was used devices with different source compositions, such as Si, SiGe alloy and Ge, besides different thicknesses of HfO2 for the gate dielectric. With the aid of numerical simulations it was obtained the NW-TFET energy band diagrams and analyzed the influence of recombination and generation Shockley-Read-Hall (SRH) on the off current, the influence of the trap assisted tunneling (TAT) at low gate voltage bias (0,5V > VGS > 1,5V) and the direct band to band tunneling (BTBT) at higher gate voltage bias(VGS > 1,5V). The predominance of each conduction mechanisms was confirmed by the Arrhenius plot method, being this method adopted in all analysis in this work. The constant current with the temperature in the BTBT region has drawn attention and due to that, this work have studied the NW-TFET analog performance as function of temperature and also the influence of the source composition. The Ge source device shows an improved tunneling current, related to the bandgap narrowing, which leads to higher ION and transconductance. However, due to the strong BTBT dependence with the electric field, the use of Ge as source results in further ION/IOFF degradation. Despite this, the reduced HfO2 thickness in the gate dielectric, results in better electrostatic coupling, which also increases the tunneling current, making this device to present better analog performance when compared to devices with Si source. The use of different materials during the device fabrication leads to an increase of the interface defects. This work presented the influence of the interface trap density on the current, showing a direct relation with TAT and appearance of a plateau region in the IDS x VGS curves. In addition it was shown a strong temperature dependence increasing the current degradation at higher temperatures. Furthermore, the use of Ge has shown an increase of impurities in the oxide, and through the noise study it was observed the flicker noise increase at low frequency, which for TFETs, occurs due to the electrons trapping and detrapping in the oxide region. Once again, the reduced HfO2 thickness leads to better electrostatic coupling, resulting in noise reduction and becoming better when compared to a devices with Si source. In this work was proposed a low frequency noise model for a NW-TFET based on MOSFET models. Minor changes have been done, and thus a good agreement with the experimental results in the region where the BTBT is predominant conduction mechanism was obtained.\n",
      "Keywords:  Analog parameters Band to band tunneling Flicker noise Hysteresis Nanowire Temperature influence TFET Trap assisted tunneling\n",
      "\n",
      "##############################################################################\n",
      "\n"
     ]
    }
   ],
   "source": [
    "query(\"ddos attack\")"
   ]
  },
  {
   "cell_type": "code",
   "execution_count": 205,
   "id": "8c82ce7c",
   "metadata": {
    "scrolled": true
   },
   "outputs": [
    {
     "name": "stdout",
     "output_type": "stream",
     "text": [
      "Index: 27488\n",
      "Title:  Machine learning in complex networks\n",
      "Author:  Breve, Fabricio Aparecido (Catálogo USP)\n",
      "Abstract:  Complex networks is a recent and active scientific research field, which concerns large scale networks with non-trivial topological structure, such as computer networks, telecommunication networks, transport networks, social networks and biological networks. Many of these networks are naturally divided into communities or modules and, therefore, uncovering their structure is one of the main problems related to complex networks study. This problem is related with the machine learning field, which is concerned with the design and development of algorithms and techniques which allow computers to learn, or increase their performance based on experience. Some of the problems identified in traditional learning techniques include: difficulties in identifying irregular forms in the attributes space; uncovering overlap structures of groups or classes, which occurs when elements belong to more than one group or class; and the high computational complexity of some models, which prevents their application in larger data bases. In this work, we deal with these problems through the development of new machine learning models using complex networks and space-temporal dynamics. The developed models have performance similar to those from some state-of-the-art algorithms, at the same time that they present lower computational complexity order than most of them\n",
      "Keywords:  Complex networks Machine learning Space-temporal dynamics\n",
      "\n",
      "###########################################################################\n",
      "\n",
      "Index: 97601\n",
      "Title:  Mitigating DDoS attacks on IoT through machine learning and network functions virtualization\n",
      "Author:  Oliveira, Guilherme Werneck de (Catálogo USP)\n",
      "Abstract:  The Internet of Things (IoT) has undergone a rapid popularization, reaching a wide range of application domains. As a consequence, more and more IoT devices with diverse characteristics are deployed in a variety of public and private environments, progressively becoming common objects of everyday life. On the other hand, the physical infrastructure of heterogeneous systems is complex and requires efficient and dynamic solutions for managing network performance and security, at a level that allows standardized deployment and easy replication in smart industries, buildings and cities. An approach that has been gaining ground when the intention is to respond to security threats on IoT is the Network Functions Virtualization (NFV) usage. The literature presents some works that use NFV to detect and mitigate security threats on IoT networks, but few performance indicators of the network context are explored to compose a more efficient solution. Thus, this work presents the development of a network context performance-based approach to mitigate Distributed Denial of Service (DDoS) attacks on IoT, investigating how performance indicators can compose Machine Learning (ML) models for Virtual Network Functions (VNF) placement. ML models were trained and tested using network context performance indicators to carry out two experiments. The first is related to the prediction of the response time of Industrial Internet of Things (IIoT) networks. The second on the security VNF placement, also on IIoT networks. The respective results achieved are predictions of network response times that are at most 50 milliseconds longer than settings realized by linear programming models and classifications with 99.40% of accuracy for the correct placement of security VNF on IIoT networks under DDoS attacks.\n",
      "Keywords:  DDoS IoT Machine learning NFV Performance Security VNF\n",
      "\n",
      "###########################################################################\n",
      "\n",
      "Index: 74548\n",
      "Title:  Performance prediction of application executed on GPUs using a simple analytical model and machine learning techniques\n",
      "Author:  González, Marcos Tulio Amarís (Catálogo USP)\n",
      "Abstract:  The parallel and distributed platforms of High Performance Computing available today have became more and more heterogeneous (CPUs, GPUs, FPGAs, etc). Graphics Processing Units (GPU) are specialized co-processor to accelerate and improve the performance of parallel vector operations. GPUs have a high degree of parallelism and can execute thousands or millions of threads concurrently and hide the latency of the scheduler. GPUs have a deep hierarchical memory of different types as well as different configurations of these memories. Performance prediction of applications executed on these devices is a great challenge and is essential for the efficient use of resources in machines with these co-processors. There are different approaches for these predictions, such as analytical modeling and machine learning techniques. In this thesis, we present an analysis and characterization of the performance of applications executed on GPUs. We propose a simple and intuitive BSP-based model for predicting the CUDA application execution times on different GPUs. The model is based on the number of computations and memory accesses of the GPU, with additional information on cache usage obtained from profiling. We also compare three different Machine Learning (ML) approaches: Linear Regression, Support Vector Machines and Random Forests with BSP-based analytical model. This comparison is made in two contexts, first, data input or features for ML techniques were the same than analytical model, and, second, using a process of feature extraction, using correlation analysis and hierarchical clustering. We show that GPU applications that scale regularly can be predicted with simple analytical models, and an adjusting parameter. This parameter can be used to predict these applications in other GPUs. We also demonstrate that ML approaches provide reasonable predictions for different cases and ML techniques required no detailed knowledge of application code, hardware characteristics or explicit modeling. Consequently, whenever a large data set with information about similar applications are available or it can be created, ML techniques can be useful for deploying automated on-line performance prediction for scheduling applications on heterogeneous architectures with GPUs.\n",
      "Keywords:  BSP model CUDA GPU architectures Machine learning Performance prediction\n",
      "\n",
      "###########################################################################\n",
      "\n",
      "Index: 21409\n",
      "Title:  IComb: A software to teach and learning combinatorics trough the Worl Wide Web\n",
      "Author:  Eisenmann, Alexandre Luis Kundrat (Catálogo USP)\n",
      "Abstract:  In this work, we present the software iComb - Interactive Combinatorics on Internet, a new software that can be used to teach and learning combinatorics trough the Word Wide Web. The iComb is based on the Combien? experience, a software developed by Université Pierre et Marie Curie - LIP6. We can easily integrate the iComb software in a web-based learning management system like the SAW - Web-based learning system. Moreover, the iComb can be easily added to a personal web sites, social networks systems and blogs using the copy-and-past pattern resulting in a powerful collaborative tool to the conceptual movement named as Web 2.0.\n",
      "Keywords:  combinatorics computer science education educational software. mathematical education mathematics teach and learning teaching combinatorics\n",
      "\n",
      "###########################################################################\n",
      "\n",
      "Index: 16900\n",
      "Title:  Software for construct of interactive tables for the distance learning.\n",
      "Author:  Antonello, Sergio Luís (Catálogo USP)\n",
      "Abstract:  The objective of this paper is the development of a software, the Programmable Interactive Tables (TABIPRO), which allows professors and teachers of Distance Education with little or no experience in programming, to include in HTML pages, dynamic tables that interpret data filled in them, interacting with the student. Prototypes of these tables, with name, description, e-mail, number of lines and columns, components, formulas and messages, are created and stored in a database, which is accessed on line everytime a HTML page with calls to TABIPRO, is loaded in a browser. At first this software was created to be applied to a module of Graphic Mechanics of the Educ@r Program, in an extra distance course of Physics, for High School, using the Internet as a communication and information distributor means. Through the TABIPRO, the students who join a distance training or course, could have their answers immediately corrected by this software during the evaluation process, allowing the teacher to follow the students´ development, comment the answers and direct them to the best result. A brief explanation of the concept of Distance Education and a presentation of the tools and methods used for the TABIPRO development are present in this paper.\n",
      "Keywords:  Distance experimentation Distance learning DL Interactive tables\n",
      "\n",
      "###########################################################################\n",
      "\n",
      "Index: 68866\n",
      "Title:  Development of machine-learning techniques via collective dynamical systems\n",
      "Author:  Gueleri, Roberto Alves (Catálogo USP)\n",
      "Abstract:  Machine learning consists of concepts and techniques that enable computers to improve their performance with experience, i.e., learn from data. Unsupervised and semi-supervised learning are important categories of machine learning, which respectively consists of inferring patterns in datasets whose data have no label (class) and classifying data in partially-labeled datasets. Although intensively studied, machine learning is still a field full of challenges and with many open topics. Collective dynamical systems, in turn, are systems made of a large group of individuals, each one a dynamical system by itself, such that all of them behave collectively, i.e., the action of each individual is influenced by the action of its neighbors. A remarkable feature of those systems is that global patterns may spontaneously emerge from the local interactions among individuals, a phenomenon known as emergence. Their relevance and intrinsic challenges motivate research in various branches of science and engineering. In this doctorate research, we develop and analyze collective dynamical models for their usage in machine-learning tasks, specifically unsupervised and semi-supervised ones. Image segmentation and network community detection are also addressed, as they are related to machine learning as well. In particular, we propose to work on models in which the objects motion is determined by the location and velocity of their neighbors. By doing so, the dynamical system reaches a configuration in which the patterns developed by the set of individuals highlight underlying patterns of the dataset. Due to their self-organizing nature, it is also expected that the models can be robust and the information generated during the process (values of the system variables) can be rich and reveal, for example, features to perform soft labeling and determine overlapping classes.\n",
      "Keywords:  Collective behavior Collective motion Flocking Machine learning Self-organizing systems\n",
      "\n",
      "###########################################################################\n",
      "\n",
      "Index: 47396\n",
      "Title:  Machine learning via dynamical processes on complex networks\n",
      "Author:  Cupertino, Thiago Henrique (Catálogo USP)\n",
      "Abstract:  Extracting useful knowledge from data sets is a key concept in modern information systems. Consequently, the need of efficient techniques to extract the desired knowledge has been growing over time. Machine learning is a research field dedicated to the development of techniques capable of enabling a machine to \"learn\" from data. Many techniques have been proposed so far, but there are still issues to be unveiled specially in interdisciplinary research. In this thesis, we explore the advantages of network data representation to develop machine learning techniques based on dynamical processes on networks. The network representation unifies the structure, dynamics and functions of the system it represents, and thus is capable of capturing the spatial, topological and functional relations of the data sets under analysis. We develop network-based techniques for the three machine learning paradigms: supervised, semi-supervised and unsupervised. The random walk dynamical process is used to characterize the access of unlabeled data to data classes, configuring a new heuristic we call ease of access in the supervised paradigm. We also propose a classification technique which combines the high-level view of the data, via network topological characterization, and the low-level relations, via similarity measures, in a general framework. Still in the supervised setting, the modularity and Katz centrality network measures are applied to classify multiple observation sets, and an evolving network construction method is applied to the dimensionality reduction problem. The semi-supervised paradigm is covered by extending the ease of access heuristic to the cases in which just a few labeled data samples and many unlabeled samples are available. A semi-supervised technique based on interacting forces is also proposed, for which we provide parameter heuristics and stability analysis via a Lyapunov function. Finally, an unsupervised network-based technique uses the concepts of pinning control and consensus time from dynamical processes to derive a similarity measure used to cluster data. The data is represented by a connected and sparse network in which nodes are dynamical elements. Simulations on benchmark data sets and comparisons to well-known machine learning techniques are provided for all proposed techniques. Advantages of network data representation and dynamical processes for machine learning are highlighted in all cases\n",
      "Keywords:  Complex networks Consensus time Dimensionality reduction Dynamical processes Interacting forces Limiting probabilities Machine learning Network-based learning Plinning control Random walk Semi-supervised learning Stationary states Supervised learning Unsupervised learning\n",
      "\n",
      "###########################################################################\n",
      "\n",
      "Index: 87906\n",
      "Title:  Dictionary sparsification for kernel methods.\n",
      "Author:  Bueno, André Amaro (Catálogo USP)\n",
      "Abstract:  Kernel based methods are capable of solving nonlinear problems by projecting the input vectors in a higher dimensional space where a linear method is used. These methods have been widely used in conjunction with different techniques of signal processing and machine learning, as support vector machines, principal component analysis, adaptive filtering among others. One of the main drawbacks of these methods is that a set of input vectors, known as dictionary, needs to be stored in memory. In certain situations, the dictionary may become too big, which leads to a high computational cost. To avoid an exagerated growth of the dictionary, different sparsification techniques were proposed in the literature. In this work, we propose a sparsification technique for kernel methods based on the Gram-Schmidt orthogonalization process. It projects the vectors mapped by the kernel into a finite-dimensional subspace spanned by an orthonormal basis and can be used with any Mercer kernel. In particular, the proposed technique is applied to a least-mean-square-type (LMS) algorithm. Simulation results show that the proposed algorithm mantains a good mean-square-error performance and presents a smaller computational cost, when compared with the kernel LMS algorithm using other sparsification techniques. Furthermore, we also propose a method for removing vectors from the dictionary, which is particularly interesting when there are changes the environment where the algorithm is used.\n",
      "Keywords:  Dictionary sparsification Kernel-based-methods Ndaptive filtering nonlinear signal processing\n",
      "\n",
      "###########################################################################\n",
      "\n",
      "Index: 1121\n",
      "Title:  Lyra2: password hashing scheme with improved security against time-memory trade-offs.\n",
      "Author:  Andrade, Ewerton Rodrigues (Catálogo USP)\n",
      "Abstract:  To protect against brute force attacks, modern password-based authentication systems usually employ mechanisms known as Password Hashing Schemes (PHS). Basically, a PHS is a cryptographic algorithm that generates a sequence of pseudorandom bits from a user-defined password, allowing the user to configure the computational costs involved in the process aiming to raise the costs of attackers testing multiple passwords trying to guess the correct one. Traditional schemes such as PBKDF2 and bcrypt, for example, include a configurable parameter that controls the number of iterations performed, allowing the user to adjust the time required by the password hashing process. The more recent scrypt and Lyra algorithms, on the other hand, allow users to control both processing time and memory usage. Despite these advances, there is still considerable interest by the research community in the development of new (and better) alternatives. Indeed, this led to the creation of a competition with this specific purpose, the Password Hashing Competition (PHC). In this context, the goal of this research effort is to propose a superior PHS alternative. Specifically, the objective is to improve the Lyra algorithm, a PHS built upon cryptographic sponges whose project counted with the authors' participation. The resulting solution, called Lyra2, preserves the security, efficiency and flexibility of Lyra, including: the ability to configure the desired amount of memory and processing time to be used by the algorithm; and (2) the capacity of providing a high memory usage with a processing time similar to that obtained with scrypt. In addition, it brings important improvements when compared to its predecessor: (1) it allows a higher security level against attack venues involving time-memory trade-offs; (2) it includes tweaks for increasing the costs involved in the construction of dedicated hardware to attack the algorithm; (3) it balances resistance against side-channel threats and attacks relying on cheaper (and, hence, slower) storage devices. Besides describing the algorithm's design rationale in detail, this work also includes a detailed analysis of its security and performance in different platforms. It is worth mentioning that Lyra2, as hereby described, received a special recognition in the aforementioned PHC competition.\n",
      "Keywords:  Algorithms Computer security Cryptology Methodology and techniques of computing Password hashing scheme\n",
      "\n",
      "###########################################################################\n",
      "\n",
      "Index: 39591\n",
      "Title:  Automated instructional design in computer-supported collaborative learning using hierarchical planning\n",
      "Author:  Challco, Geiser Chalco (Catálogo USP)\n",
      "Abstract:  In Computer Supported Collaborative Learning (CSCL), the goal of instructional design is to obtain a instructional interaction sequence that define the instructional content as a representation of what should be taught and the way in which participants must interact, called instructional planning information. The development, adaptation and personalization of basic units of study comprised of the instructional resources and instructional planning information, called units of learning, that involves a complex instructional planning process, time consuming and repetitive. In this work, the instructional design in CSCL is modeled as hierarchical planning problem to support the development, adaptation and personalization for units of learning. The modeling is the representation of the domain to be taught, the characteristics of students and instructional strategies in JSHOP2ip, an independent hierarchical planning system designed to solve problems of instructional design. To evaluate the proposed model, we developed a collaborative course generator as a Web service using the proposed model and JSHOP2ip system, upon which we evaluated the performance, modeling strategies and the output scheduler. Furthermore, to demonstrate the feasibility of the proposed model in real situations, we developed an authoring tool for units of learning employing the collaborative course generator\n",
      "Keywords:  adaptive courseware generator automated planning collaborative learning collaborative scripts hierarchical task network planning instructional design\n",
      "\n",
      "###########################################################################\n",
      "\n",
      "Index: 70330\n",
      "Title:  Characterization of resource utilization profile of executable programs through data mining\n",
      "Author:  Pinto, Renê de Souza (Catálogo USP)\n",
      "Abstract:  This work introduces a methodology for characterizing the runtime resource demands of a computer program from the analysis of its binary executable file. Categorization of processes according to the kind of resources required during execution such as CPU and memory usage is a sought-after piece of knowledge for the aims of computer system design and management. Conventional techniques available for this purpose include white-box static source code analysis and profile matching based on historical execution data. The former tends to be challenging in face of complex software architectures and requires access to the source code; the latter is dependent on the availability of reliable past data and on the selection of features yielding effective correlations with resource usage. The alternative data mining approach proposed in this paper avoids those difficulties by manipulating binary executable files. The method combines techniques from information theory, complex networks and phylogenetics to produce a hierarchical clustering of a set of executable files, which can be used to predict potential similarities in terms of runtime resource usage. The works research questions investigate if the transformation performed by the compiler preserves similarity information across the source and binary code representation such that it can be detected by standard compression algorithms; and if the so identified similarities in the symbolic object encoding are correlated to runtime resource usage to an extent which allows for inferring the programs behavior from the analysis of the binary file. The paper introduces the methods rationales and presents results of its application to characterize CPU and IO usages of benchmark applications executed on a standard PC platform. Essays carried out over a set of 80 executable programs from varying sources yielded numerically significant evidences that the prediction of resource usage similarity obtained by the approach is consistent with experimentally measured runtime profile. The application of the method is also exemplified in a few case studies aimed at characterizing executable programs runtime profile.\n",
      "Keywords:  Binary programs Categorization DAMICORE Resource consumption\n",
      "\n",
      "###########################################################################\n",
      "\n",
      "Index: 16972\n",
      "Title:  Development of a tool for the automatic creation and correction of tests on the Word-Wide-Web.\n",
      "Author:  Scapin, Rafael Humberto (Catálogo USP)\n",
      "Abstract:  The World-Wide Web (WWW) has been developed largely to facilitate sharing of information. Very quickly, potential educational applications of this technology became apparent, especially for Distance Education (DE). In this regard, WWW has more appeal, because of its capability to exhibit multimedia documents, its hypertext/hypermedia capability and its client-server architecture, making possible the interaction between students and instructors. This work presents the development of Web Course, a tool developed at IFSC-USP that facilitates the creation of tests on the WWW, providing also the automatic correction of them. Web Course is template based, using HTML forms created by CGI files that instructors simply fill in to create tests.\n",
      "Keywords:  Automatic correction. E-learning Web-based tools WWW\n",
      "\n",
      "###########################################################################\n",
      "\n",
      "Index: 100461\n",
      "Title:  Architecture and development of a real-time multiple content generator system for video games\n",
      "Author:  Pereira, Leonardo Tortoro (Catálogo USP)\n",
      "Abstract:  We present a system able to orchestrate the procedural generation of multiple contents, using different computational creativity techniques, and able to generate the contents in real time. The generated contents are the dungeons, the placement of enemies, locks and keys in its rooms, the enemies that will be placed in said dungeons, quests for the player to complete, and the dungeons rooms. We use evolutionary algorithms, MAP-Elites, Formal Grammars, Markov Chains and Cellular Automata to create these contents. They are organized by an orchestrator and placed in a game prototype. In the late stage of the system, the content can be generated in real time, as soon as it collects data from the player to use as input, using a rule-based profile analysis. We also describe our architecture and system design, which allowed us to add new generators and change the algorithms for each generator with relative easy. Different experiments with players were made to test different algorithms and systems setups, all with positive results, and the players having fun playing the resulting contents. Players who played content based on their profile enjoyed it more than those playing content from another profile. Showing that our rule-based profiler can guide the generators to good results.\n",
      "Keywords:  Evolutionary algorithm Procedural content generation Real-time Content generation Software architecture System design\n",
      "\n",
      "###########################################################################\n",
      "\n",
      "Index: 66934\n",
      "Title:  Mechanisms of self-configuration and self-ptimization for virtualized architectures aiming at the provision of quality of service\n",
      "Author:  Nakamura, Luis Hideo Vasconcelos (Catálogo USP)\n",
      "Abstract:  The purpose of this PhD project involves the research about autonomic computing, focusing on the development of self-configuration and self-optimization mechanisms for virtualized architectures that aims to ensure the provision of Quality of Service. These mechanisms make use of autonomous elements that are aided by an ontology. Therefore, SemanticWeb tools are used in order to allow the ontology to represent a knowledge base with information of the computational resources. Such information is used by optimization algorithms that take the decision of choosing a new configuration that aims at optimizing the architecture performance based on rules predefined by the administrator. The configuration and optimization usually involve elements of software that must be managed by professionals in the Information Technology (IT) field and part of this management is composed of common tasks, for example, monitoring tests, reconfigurations and performance evaluations. These tasks take some time and therefore generate costs and distress to the professionals. Thus, this project aims at automating some of these common tasks, facilitating the work of IT professionals and allowing them to focus on more critical tasks. Therefore, to achieve this goal a study was performed and distributed mechanisms based on Autonomic Computing and Semantic Web were created allowing the configuration and optimization of resources automatically. The individual results of each mechanism indicate that it is possible to achieve a satisfactory level of self-configuration and self-optimization for virtualized architectures. The self-configuration mechanism has achieved better results with the resource monitoring approach rather than using predictions and the self-optimization mechanism has proven that its methodology and algorithm are applicable in the search for an optimized configuration to meet the SLA agreed.\n",
      "Keywords:  Autonomic computing Cloud computing Ontology Quality of service Virtualization\n",
      "\n",
      "###########################################################################\n",
      "\n",
      "Index: 80828\n",
      "Title:  A method for execution of convolutional neural networks in FPGA.\n",
      "Author:  Sousa, Mark Cappello Ferreira de (Catálogo USP)\n",
      "Abstract:  Convolutional Neural Networks have been used successfully for pattern recognition in images. However, their high computational cost and the large number of parameters involved make it difficult to perform this type of artificial neural network in real time in embedded applications, where the processing power and the data storage capacity are restricted. This work studied and developed methods for real-time execution in FPGAs of a trained convolutional neural network, taking advantage of the parallel processing power of this type of device. The focus of this work was the execution of convolutional layers, since these layers can contribute up to 99% of the computational load of the entire network. In the experiments, an FPGA device was used in conjunction with a dual-core ARM processor on the same silicon substrate. The FPGA was used to perform convolutional layers of the AlexNet Convolutional Neural Network. The methods studied in this work focus on the efficient distribution of the FPGA resources through the balancing of the pipeline formed by the convolutional layers, the use of buffers for the reduction and reuse of memory for the storage of intermediate data (generated and consumed by the convolutional layers) and 8 bits for storage of the kernels and increase of the flow of reading of them. With the developed methods, it was possible to execute all five AlexNet convolutional layers in 3.9 ms with the maximum operating frequency of 76.9 MHz. It was also possible to store all the parameters of the convolutional layers in the internal memory of the FPGA, eliminating possible external access memory bottlenecks.\n",
      "Keywords:  AlexNet Convolutional neural networks Embedded pattern recognition FPGA Image recognition System-on-chip\n",
      "\n",
      "###########################################################################\n",
      "\n"
     ]
    }
   ],
   "source": [
    "query(\"ddos attack using machine learning\")"
   ]
  },
  {
   "cell_type": "code",
   "execution_count": 240,
   "id": "307d44f3",
   "metadata": {},
   "outputs": [
    {
     "name": "stdout",
     "output_type": "stream",
     "text": [
      "Encode took 0.14992904663085938s\n",
      "Encode took 275.84169483184814s\n",
      "Index: 53793\n",
      "Title:  Method for mitigating against distributed denial of service attacks using multi-agent system.\n",
      "Author:  Pereira, João Paulo Aragão (Catálogo USP)\n",
      "Abstract:  The quality of service offered by the Internet Service Provider (ISP) depends directly on the amount of resources available at that time. In recent decades, this quality has been affected by the frequent and intense attacks that consume these resources, such as the Distributed Denial of Service (DDoS) attacks. In order to make the ISPs network more resilient to different types of DDoS attacks, techniques have been developed against such attacks over the past few years. Aiming to contribute to the improvement of such mechanisms, this dissertation presents a reactive autonomous method for detecting and mitigating DDoS attacks using a Multi-Agent system (MAS), in networks of ISPs. The main property of the proposed method is to identify characteristic traffic patterns of an attack, such as a large stream of packets directed to a service or equipment within the ISP network. With agents positioned on likely victims and at points of the network with the highest packet stream, the mitigation process starts automatically after a number of packets exceeding the traffic pattern, go through any of the monitored nodes. Since the incoming traffic on the network of any ISP is dynamic, whether legitimate or malicious, the using of agents tends to facilitate the process of defining the route of attack, as shown by the experimental results obtained with the proposed system.\n",
      "Keywords:  DDoS Detection and mitigation Multi-agent system\n",
      "\n",
      "##############################################################################\n",
      "\n",
      "Index: 78086\n",
      "Title:  A collaborative architecture against DDOS attacks for cloud computing systems.\n",
      "Author:  Almeida, Thiago Rodrigues Meira de (Catálogo USP)\n",
      "Abstract:  Distributed attacks, such as Distributed Denial of Service (DDoS) ones, require not only the deployment of standalone security mechanisms responsible for monitoring a limited portion of the network, but also distributed mechanisms which are able to jointly detect and mitigate the attack before the complete exhaustion of network resources. This need led to the proposal of several collaborative security mechanisms, covering different phases of the attack mitigation: from its detection to the relief of the system after the attack subsides. It is expected that such mechanisms enable the collaboration among security nodes through the distributed enforcement of security policies, either by installing security rules (e.g., for packet filtering) and/or by provisioning new specialized security nodes on the network. Albeit promising, existing proposals that distribute security tasks among collaborative nodes usually do not consider an optimal allocation of computational resources. As a result, their operation may result in a poor Quality of Service for legitimate packet flows during the mitigation of a DDoS attack. Aiming to tackle this issue, this work proposes a collaborative solution against DDoS attacks with two main goals: (1) ensure an optimal use of resources already available in the attack's datapath in a proactive way, and (2) optimize the placement of security tasks among the collaborating security nodes. Regardless the characteristics of each main goal, legitimate traffic must be preserved as packet loss is reduced as much as possible.\n",
      "Keywords:  Cloud computing DDOS SDN Security SFC\n",
      "\n",
      "##############################################################################\n",
      "\n",
      "Index: 97601\n",
      "Title:  Mitigating DDoS attacks on IoT through machine learning and network functions virtualization\n",
      "Author:  Oliveira, Guilherme Werneck de (Catálogo USP)\n",
      "Abstract:  The Internet of Things (IoT) has undergone a rapid popularization, reaching a wide range of application domains. As a consequence, more and more IoT devices with diverse characteristics are deployed in a variety of public and private environments, progressively becoming common objects of everyday life. On the other hand, the physical infrastructure of heterogeneous systems is complex and requires efficient and dynamic solutions for managing network performance and security, at a level that allows standardized deployment and easy replication in smart industries, buildings and cities. An approach that has been gaining ground when the intention is to respond to security threats on IoT is the Network Functions Virtualization (NFV) usage. The literature presents some works that use NFV to detect and mitigate security threats on IoT networks, but few performance indicators of the network context are explored to compose a more efficient solution. Thus, this work presents the development of a network context performance-based approach to mitigate Distributed Denial of Service (DDoS) attacks on IoT, investigating how performance indicators can compose Machine Learning (ML) models for Virtual Network Functions (VNF) placement. ML models were trained and tested using network context performance indicators to carry out two experiments. The first is related to the prediction of the response time of Industrial Internet of Things (IIoT) networks. The second on the security VNF placement, also on IIoT networks. The respective results achieved are predictions of network response times that are at most 50 milliseconds longer than settings realized by linear programming models and classifications with 99.40% of accuracy for the correct placement of security VNF on IIoT networks under DDoS attacks.\n",
      "Keywords:  DDoS IoT Machine learning NFV Performance Security VNF\n",
      "\n",
      "##############################################################################\n",
      "\n",
      "Index: 97601\n",
      "Title:  Mitigating DDoS attacks on IoT through machine learning and network functions virtualization\n",
      "Author:  Oliveira, Guilherme Werneck de (Catálogo USP)\n",
      "Abstract:  The Internet of Things (IoT) has undergone a rapid popularization, reaching a wide range of application domains. As a consequence, more and more IoT devices with diverse characteristics are deployed in a variety of public and private environments, progressively becoming common objects of everyday life. On the other hand, the physical infrastructure of heterogeneous systems is complex and requires efficient and dynamic solutions for managing network performance and security, at a level that allows standardized deployment and easy replication in smart industries, buildings and cities. An approach that has been gaining ground when the intention is to respond to security threats on IoT is the Network Functions Virtualization (NFV) usage. The literature presents some works that use NFV to detect and mitigate security threats on IoT networks, but few performance indicators of the network context are explored to compose a more efficient solution. Thus, this work presents the development of a network context performance-based approach to mitigate Distributed Denial of Service (DDoS) attacks on IoT, investigating how performance indicators can compose Machine Learning (ML) models for Virtual Network Functions (VNF) placement. ML models were trained and tested using network context performance indicators to carry out two experiments. The first is related to the prediction of the response time of Industrial Internet of Things (IIoT) networks. The second on the security VNF placement, also on IIoT networks. The respective results achieved are predictions of network response times that are at most 50 milliseconds longer than settings realized by linear programming models and classifications with 99.40% of accuracy for the correct placement of security VNF on IIoT networks under DDoS attacks.\n",
      "Keywords:  DDoS IoT Machine learning NFV Performance Security VNF\n",
      "\n",
      "##############################################################################\n",
      "\n",
      "Index: 20896\n",
      "Title:  MMORPGS: retóricas sobre os novos mundos\n",
      "Author:  Onça, Fabiano Alves (Catálogo USP)\n",
      "Abstract:  When we try to investigate the MMORPG practices, our view is certainly conditioned by major value´s chains which, in their turn, are struggling themselves for the interpretative hegemony in our time. This paper tries to inquiry in which way these rhetorical approaches are connected with this epistemological conceptions. Ultimately, we will try to recognize the boundaries of our rational, modern-oriented perception within the game rhetoric's.\n",
      "Keywords:  Jogos massivos de representação online MMORPGs\n",
      "\n",
      "##############################################################################\n",
      "\n",
      "Index: 64506\n",
      "Title:  New side-channel attacks on devices for manual input of sensitive data.\n",
      "Author:  Faria, Gerson de Souza (Catálogo USP)\n",
      "Abstract:  This thesis presents three new attacks on electronic payment equipment having mechanical keypads, known as \"PIN pads\". We show in three different ways how they have security vulnerabilities at the physical layer allowing the leak of the PIN (Personal Identification Number) when it is entered. We experimentally demonstrated that it is possible to infer with high success rate (100% in one of the attacks) the password entered on the device, in a non-invasive way. The attacks are based on the placement of sensors inside the equipment itself or in its operating environment: accelerometers for doing vibration analysis, microphones for acoustic analysis and load cells for measuring the pressing force. Due to massive deployment of sensors in consumer devices, information theft by unconventional means is increasing. The results of the low-cost attacks here developed expose serious shortcomings in the process of security certification of such equipment.\n",
      "Keywords:  Big data Common criteria EMV Information security Internet of things PCI PIN Entry Device PIN pad Side-channel attack Smartcard skimming\n",
      "\n",
      "##############################################################################\n",
      "\n",
      "Index: 98170\n",
      "Title:  Inclusion levels of co-product derived from the corn ethanol production process in feedlot finished cattle\n",
      "Author:  Moraes, João Marcos Meneghel de (Catálogo USP)\n",
      "Abstract:  Two experiments were carried out to evaluate the performance and rumen parameters of Nellore males fed feedlot finishing diets with varying levels of dried distillers bran plus solubles (DDBS). All diets were formulated to be isoprotein containing 8.5% sugarcane bagasse, 12% soybean hulls, 0.5 to 1.4% urea and 1.8% mineral and vitamin supplements. The treatments were (% of DM): 0% (64% of corn, 8% of cottonseed, 5% of soybean meal and 64% of ground corn; 15% (15% of DDBS, 61.3% of ground corn), 30% (30% DDBS and 46.7% ground corn) and 45% (45% DDBS and 32.2% ground corn). Nelore bulls (399 kg) were distributed in 56 pens in a randomized block design and fed for 98 days, after 21 days of adaptation. Dry matter intake (P=0.005), daily weight gain (P=0.002), feed efficiency (P<0.001), hot carcass weight (P=0.005), diet net energy of maintenance (P<0.001) and net energy of gain (P<0.001) were increased linearly. The other parameters evaluated such as carcass yield, loin eye area and fat thickness were not affected by inclusion of DDBS in the diet (P>0.05). In the metabolism study, 28 Nellore steers cannulated in the rumen were allotted to individual pens in a randomized block design. The inclusion of DDBS in the diet caused a quadratic reduction in rumen isobutirate (P=0.005) and a linear reduction in isovalerate (P=0.015) while the intakes of DM, NFC, GE and DE presented a quadratic response (P≤0,03), with the highest values at 15% of inclusion. In summary, the DDBS used in this trial contains greater energy value than the different replaced combinations of flint corn, whole cottonseed and soybean meal, and its inclusion up to 45% of diet DM improves the performance of finishing cattle.\n",
      "Keywords:  DDBS Performance Replacement RUP\n",
      "\n",
      "##############################################################################\n",
      "\n",
      "Index: 53793\n",
      "Title:  Method for mitigating against distributed denial of service attacks using multi-agent system.\n",
      "Author:  Pereira, João Paulo Aragão (Catálogo USP)\n",
      "Abstract:  The quality of service offered by the Internet Service Provider (ISP) depends directly on the amount of resources available at that time. In recent decades, this quality has been affected by the frequent and intense attacks that consume these resources, such as the Distributed Denial of Service (DDoS) attacks. In order to make the ISPs network more resilient to different types of DDoS attacks, techniques have been developed against such attacks over the past few years. Aiming to contribute to the improvement of such mechanisms, this dissertation presents a reactive autonomous method for detecting and mitigating DDoS attacks using a Multi-Agent system (MAS), in networks of ISPs. The main property of the proposed method is to identify characteristic traffic patterns of an attack, such as a large stream of packets directed to a service or equipment within the ISP network. With agents positioned on likely victims and at points of the network with the highest packet stream, the mitigation process starts automatically after a number of packets exceeding the traffic pattern, go through any of the monitored nodes. Since the incoming traffic on the network of any ISP is dynamic, whether legitimate or malicious, the using of agents tends to facilitate the process of defining the route of attack, as shown by the experimental results obtained with the proposed system.\n",
      "Keywords:  DDoS Detection and mitigation Multi-agent system\n",
      "\n",
      "##############################################################################\n",
      "\n",
      "Index: 99822\n",
      "Title:  Deep reinforcement learning for multi-domain task-oriented dialogue systems.\n",
      "Author:  Nishimoto, Bruno Eidi (Catálogo USP)\n",
      "Abstract:  Dialogue system (DS) is an old idea dating back to 1966, when the rst such system was created. DS can be classied in three categories: question & answering, task-oriented and socialbot. Task-oriented dialogue systems are a very relevant eld due to the diversity of possible applications it can achieve. For example, it can solve tasks like buying a movie ticket, booking a restaurant and providing customer service. They have received increasing attention in recent years, and one reason for this is the advancement in natural language processing. Although the literature presents several studies focusing on DS, there are still many issues to be accomplished. Most of them are related to dialogue management, the central component of DS. Reinforcement learning (RL) is one approach that has achieved great success recently. However, things become more complex when DS is extended to multi-domain settings, i.e. when DS needs to complete multiple tasks in dierent domains for the user. Some problems such as policy adaptation and transfer learning arise in this new scenario. The purpose of this research is to improve recent techniques using RL on the dialogue management. We present an ecient learning by balancing exploration and exploitation, and enhancing the usage of expert knowledge to guide the agent. We propose a method to handle noise and error in the input of the dialogue management and we also provide a basic comparison between RL and supervised learning in both toy and real datasets. Finally, we present a new proposal to deal with multi-domain settings: the use of the divide-and-conquer technique and transfer learning for dierent domains.\n",
      "Keywords:  Chatbots Dialogue management Dialogue system Multiple domains Reinforcement learning Transfer learning\n",
      "\n",
      "##############################################################################\n",
      "\n",
      "Index: 93476\n",
      "Title:  Effect of partial replacement of soybean meal with heat-treated soybean meal or corn DDGS in the feeding of lactating cows\n",
      "Author:  Chesini, Rodrigo Garavaglia (Catálogo USP)\n",
      "Abstract:  Adequate dietary balance, including the balance of rumen degradable protein (RDP) and rumen undegradable protein (RUP), can increase milk production and reduce nitrogen losses to the environment. The objective of this study was to evaluate different protein sources in diets of lactating cows and their effects on intake and total apparent digestibility of dry matter and nutrients, milk production and composition, microbial protein synthesis, blood metabolites, nitrogen balance , sorting index, body weight and body condition score. Twenty-four multiparous Holstein cows, with 200 ± 40.0 days in lactation (DIM), 599 ± 78.0 kg of body weight (BW) and 30.0 ± 3.92 L of milk production were used. The animals were distributed into a 3 × 3 Latin square experimental design, receiving the following treatments: 1) CON., with soybean meal as the major protein source in concentrate; 2) SOY., 30% partial replacement of soybean meal with toasted soybean meal (Soypass®, Cargill, São Paulo); 3) DDGS, 30% partial replacement of soybean meal with dry distillers grains with solubles (FLEXYPRO®, Cargill, São Paulo). The diets were formulated according to the NRC (2001) with a roughage to concentrate ratio of 48:52. Each experimental period lasted 21 days, with 14 days of adaptation and 07 days of data collection and sampling. Regarding nutrient intake, neutral detergent fiber (NDF), crude protein (CP) and ether extract (EE), there was a significant difference (P ≤ 0.05) when comparing the CON treatment. vs. (SOY vs. DDGS). Regarding the two alternative protein sources, there was a significant difference for the consumption of NDF, EE and NDF (kg/d and % PV) between the SOY vs DDGS treatments. (P ≤ 0.05). Selection Sorting index was different when comparing CON vs. PNDR sources, on the 8 4 mm and < 4 mm sieve (P ≤ 0.05). The same happens when comparing the same group of sieves in SOY vs. DDGS, (P ≤ 0.05). The combination SOY and DDGS significantly affected milk production and lactose production (kg/d), when compared to the control treatment (P ≤ 0.05). The same treatments (SOY and/or DDGS) tended to increase milk production corrected for energy and protein (P ≤ 0.099). The DDGS treatment showed a significant increase (P = 0.010) in milk protein content when compared to the SOY group. Even the body weight of animals between treatments showed a significant difference (P = 0.039). Regarding the nitrogen balance, there was a significant difference in the total N consumed (P = 0.026) of the RUP sources. Alternative protein sources tended to increase (P ≤ 0.082) N excreted in feces and milk. However, it can be concluded that the use of PNDR sources can be added to dairy cows diets and provide satisfactory results.\n",
      "Keywords:  by pass Distillery grains Protein sources RUP\n",
      "\n",
      "##############################################################################\n",
      "\n",
      "Index: 35660\n",
      "Title:  Locus Delicti in cybercrimes\n",
      "Author:  Costa, Fernando José da (Catálogo USP)\n",
      "Abstract:  Discusses the advent of the computer and the internet in society and their relation with the law. Considers the use of information technology in committing crime, observing that a penal offence is no longer local, since it has acquired international dimensions. Therefore, its resolution does not necessarily happen in the same locality where it was practiced. Draws attention to the fact that the principles that delimit the validity of the penal law might not be sufficient to dispel possible conflicts of jurisdiction, if interpreted in the usual traditional way. By giving examples, it analyses and classifies types of electronic crimes as well as the criminal agents of the digital age. Gathers and comments laws and projects of law, both national and international, as well as conventions on electronic crimes. Finally, it presents criteria of solution for resolving the conflict of jurisdiction for crimes practiced in cyberspace, suggesting, of lege ferenda, the pursuit of a law which would eliminate such conflicts.\n",
      "Keywords:  Action theory Computer crime Criminal law Internet Jurisdiction Locus delicti\n",
      "\n",
      "##############################################################################\n",
      "\n",
      "Index: 22790\n",
      "Title:  Welcome to Azeroth: economy ludic aspects in a fantastic world\n",
      "Author:  Campedelli, Gabriela (Catálogo USP)\n",
      "Abstract:  This work aims to analyze economic and social aspects of the synthetic world entitled World of Warcraft, a Massively Multiplayer Online Role Playing Game (MMORPG). This choice was made because of the popularity of this game around the world, counting 11 million players according to Blizzard Entertainments data published in October 2008. The etnography was developed online by ten avatars speacially created to take part of the world inside the virtual land of Azeroth, and observes the developing aspects of the player communities and their relationship with Blizzard governance while it also constitutes an introduction to this genre of game which highlights the economic dynamics of this complex digital universe. Play is a source of value and the ludicity has its own economy.\n",
      "Keywords:  Game design Ludic economy MMORPG Online games World of Warcraft\n",
      "\n",
      "##############################################################################\n",
      "\n",
      "Index: 78086\n",
      "Title:  A collaborative architecture against DDOS attacks for cloud computing systems.\n",
      "Author:  Almeida, Thiago Rodrigues Meira de (Catálogo USP)\n",
      "Abstract:  Distributed attacks, such as Distributed Denial of Service (DDoS) ones, require not only the deployment of standalone security mechanisms responsible for monitoring a limited portion of the network, but also distributed mechanisms which are able to jointly detect and mitigate the attack before the complete exhaustion of network resources. This need led to the proposal of several collaborative security mechanisms, covering different phases of the attack mitigation: from its detection to the relief of the system after the attack subsides. It is expected that such mechanisms enable the collaboration among security nodes through the distributed enforcement of security policies, either by installing security rules (e.g., for packet filtering) and/or by provisioning new specialized security nodes on the network. Albeit promising, existing proposals that distribute security tasks among collaborative nodes usually do not consider an optimal allocation of computational resources. As a result, their operation may result in a poor Quality of Service for legitimate packet flows during the mitigation of a DDoS attack. Aiming to tackle this issue, this work proposes a collaborative solution against DDoS attacks with two main goals: (1) ensure an optimal use of resources already available in the attack's datapath in a proactive way, and (2) optimize the placement of security tasks among the collaborating security nodes. Regardless the characteristics of each main goal, legitimate traffic must be preserved as packet loss is reduced as much as possible.\n",
      "Keywords:  Cloud computing DDOS SDN Security SFC\n",
      "\n",
      "##############################################################################\n",
      "\n",
      "Index: 47950\n",
      "Title:  Centrality measures in complex networks: correlations, effectiveness and characterization of systems\n",
      "Author:  Ronqui, José Ricardo Furlan (Catálogo USP)\n",
      "Abstract:  Centrality measures were developed to evaluate the importance of nodes and links based on the structure of networks. Centralities are essential in the study of networks because these systems are usually large, which make manual analysis of all nodes and links impossible; therefore recognizing such elements is a vital task. As nodes and links can be considered essential by different reasons, a large number of measures were proposed to identify important elements that were not highlighted by the other ones. In our study, we use Pearson's correlation coefficient to measure the similarity between rankings of nodes and links provided by different centralities for real and model based networks. We also perform attacks to networks, using these rankings to determine the order of removal of nodes and links, intending to evaluate and compare the efficiency and how the systems react to attacks guided by different centralities. Finally, we use the correlation coefficients between the pairs of centralities as properties of networks, and perform a principal component analysis with them, to evaluate if differences among network structures can be detected from correlations. Our results showed that centrality measures are frequently correlated, which means that the same elements can be highlighted by different centralities. We also noticed that the correlation coefficients are larger in models than in real world networks. The results of the attacks experiment showed that even when two measures are highly correlated, they can affect networks in distinct ways, meaning that the group of the nodes and links provided by each measure are relevant for the study of networks systems. Our last result evidenced that correlations among centrality measures can be used for characterization of networks and to evaluate how well models represent them.\n",
      "Keywords:  Attacks Centrality measures Complex networks Correlations Principal component analysis\n",
      "\n",
      "##############################################################################\n",
      "\n",
      "Index: 27268\n",
      "Title:  The overflow of ludic and biopolitics in Massive Multiplayer Online games: a study on the World of Warcraft\n",
      "Author:  Chagas, Artur Alves de Oliveira (Catálogo USP)\n",
      "Abstract:  The segment of computer games called Massively Multiplayer Online, in which thousands of people can be connected simultaneously, are taken as examples of current collective games. From the analysis of Michel Foucault's biopolitics, are investigated the identity constructions of individuals, social roles and commitments with other players and the learning and disciplines reinforced in such games, with reference to the game World of Warcraft, the most popular of this genre, today. The fieldwork was carried out with players and with the official websites of the selected game, through which the regimes of truths that concern us here. Cyberculture is understood in this work as a condition of social engineering that reconfigures the distances and the physical and temporal boundaries, reinforcing ways of subjection ever more individualized and referenced by speeches of sprawling groups. The type of game considered in this work, in addition to become popular by employing tools and practices peculiar to the new electronic technologies, favors the analysis that the forms of government and control over life are increasingly refined, overflowing by all planes of existence. Such analysis allows the questioning of scientific discourse, mainly in the last decade, about practices among subjects involving games, and mainly when referring to practices in education and learning.\n",
      "Keywords:  computer games electronic games Foucault teaching and learning\n",
      "\n",
      "##############################################################################\n",
      "\n"
     ]
    }
   ],
   "source": [
    "query(\"ddos attack\")"
   ]
  },
  {
   "cell_type": "code",
   "execution_count": 241,
   "id": "d3290d96",
   "metadata": {},
   "outputs": [
    {
     "name": "stdout",
     "output_type": "stream",
     "text": [
      "Encode took 0.15382623672485352s\n",
      "Encode took 356.5039610862732s\n",
      "Index: 97601\n",
      "Title:  Mitigating DDoS attacks on IoT through machine learning and network functions virtualization\n",
      "Author:  Oliveira, Guilherme Werneck de (Catálogo USP)\n",
      "Abstract:  The Internet of Things (IoT) has undergone a rapid popularization, reaching a wide range of application domains. As a consequence, more and more IoT devices with diverse characteristics are deployed in a variety of public and private environments, progressively becoming common objects of everyday life. On the other hand, the physical infrastructure of heterogeneous systems is complex and requires efficient and dynamic solutions for managing network performance and security, at a level that allows standardized deployment and easy replication in smart industries, buildings and cities. An approach that has been gaining ground when the intention is to respond to security threats on IoT is the Network Functions Virtualization (NFV) usage. The literature presents some works that use NFV to detect and mitigate security threats on IoT networks, but few performance indicators of the network context are explored to compose a more efficient solution. Thus, this work presents the development of a network context performance-based approach to mitigate Distributed Denial of Service (DDoS) attacks on IoT, investigating how performance indicators can compose Machine Learning (ML) models for Virtual Network Functions (VNF) placement. ML models were trained and tested using network context performance indicators to carry out two experiments. The first is related to the prediction of the response time of Industrial Internet of Things (IIoT) networks. The second on the security VNF placement, also on IIoT networks. The respective results achieved are predictions of network response times that are at most 50 milliseconds longer than settings realized by linear programming models and classifications with 99.40% of accuracy for the correct placement of security VNF on IIoT networks under DDoS attacks.\n",
      "Keywords:  DDoS IoT Machine learning NFV Performance Security VNF\n",
      "\n",
      "##############################################################################\n",
      "\n",
      "Index: 48512\n",
      "Title:  Reconfigurable learning system for classification of data using parallel processing\n",
      "Author:  Moreira, Eduardo Marmo (Catálogo USP)\n",
      "Abstract:  This thesis presents the architecture of a System Learning with a task scheduler, which makes possible the utilization of several classification and validation methods, allowing the distribution of tasks between the module systems. This architecture is structured of such way that the classifications obtained through a specific technique can be reutilized in parallel by the same algorithm or by other techniques, producing new classifications through the refinement of the results achieved and expanding the use in databases with different characteristics. The system was structured in four parts denominated, respectively, Initialization module; Validation module; Refinement module; and Especial scheduling module. In each module, various algorithms can be employed to reach its objectives. The structure of this system allows its configuration, utilizing various methods, including artificial intelligence techniques. Thus, it is possible to obtain more precise results through the choice of the best method to each case. The results presented in this work were obtained from basis that are known in the literature, which allows to compare the implementations of the traditional methods that were added to the system and, especially, to verify the quality of the refinements produced by the integration of different techniques. The results demonstrated that through a learning system, the complexity of the analysis of great databases is minimized, allowing to verify basis with different structures and to increase the methods applied in the analysis of each structure. It favors the comparison between the methodologies and provides more reliable results. To standardize the data originated of distinct bases, the data modelling system was elaborated, which will favor the uniform scalability of the system.\n",
      "Keywords:  Artificial intelligence Clustering Data partitioning Database Machine learning System learning\n",
      "\n",
      "##############################################################################\n",
      "\n",
      "Index: 78086\n",
      "Title:  A collaborative architecture against DDOS attacks for cloud computing systems.\n",
      "Author:  Almeida, Thiago Rodrigues Meira de (Catálogo USP)\n",
      "Abstract:  Distributed attacks, such as Distributed Denial of Service (DDoS) ones, require not only the deployment of standalone security mechanisms responsible for monitoring a limited portion of the network, but also distributed mechanisms which are able to jointly detect and mitigate the attack before the complete exhaustion of network resources. This need led to the proposal of several collaborative security mechanisms, covering different phases of the attack mitigation: from its detection to the relief of the system after the attack subsides. It is expected that such mechanisms enable the collaboration among security nodes through the distributed enforcement of security policies, either by installing security rules (e.g., for packet filtering) and/or by provisioning new specialized security nodes on the network. Albeit promising, existing proposals that distribute security tasks among collaborative nodes usually do not consider an optimal allocation of computational resources. As a result, their operation may result in a poor Quality of Service for legitimate packet flows during the mitigation of a DDoS attack. Aiming to tackle this issue, this work proposes a collaborative solution against DDoS attacks with two main goals: (1) ensure an optimal use of resources already available in the attack's datapath in a proactive way, and (2) optimize the placement of security tasks among the collaborating security nodes. Regardless the characteristics of each main goal, legitimate traffic must be preserved as packet loss is reduced as much as possible.\n",
      "Keywords:  Cloud computing DDOS SDN Security SFC\n",
      "\n",
      "##############################################################################\n",
      "\n",
      "Index: 29151\n",
      "Title:  Meta-learning applied to gene expression data classification\n",
      "Author:  Souza, Bruno Feres de (Catálogo USP)\n",
      "Abstract:  Among the most common applications involving microarray, one can highlight the classification of tissue samples, which is essential for the correct identification of the occurrence of cancer and its type. This classification takes place with the aid of machine learning algorithms. Choosing the best algorithm for a given problem is not trivial. In this thesis, we studied the use of meta-learning as a viable solution. The experimental results confirmed the success of the application using a standard framework for characterizing data and constructing the recommendation. Thereafter, some improvements were made in these two aspects. Initially, a new set of meta-attributes was proposed, which are based on cluster validation indices. Then the kNN method for ranking construction was extended to weight the influence of nearest neighbors. In the context of meta-regression, the use of SVMs was introduced to estimate the performance of ranking algorithms. Decision trees were also employed for recommending algorithms. Due to their low performance, a ensemble of trees was employed, which greatly improved the quality of results\n",
      "Keywords:  Gene expression data classification Machine learning Metalearning\n",
      "\n",
      "##############################################################################\n",
      "\n",
      "Index: 74795\n",
      "Title:  Collective dynamics in complex networks for machine learning\n",
      "Author:  Verri, Filipe Alves Neto (Catálogo USP)\n",
      "Abstract:  Machine learning enables machines to learn automatically from data. In literature, graph-based methods have received increasing attention due to their ability to learn from both local and global information. In these methods, each data instance is represented by a vertex and is linked to other vertices according to a predefined affinity rule. However, they usually have unfeasible time cost for large problems. To overcome this problem, techniques can employ a heuristic to find suboptimal solutions in a feasible time. Early heuristic optimization methods exploit nature-inspired collective processes, such as ants looking for food sources and swarms of bees. Nowadays, advances in the field of complex systems provide powerful tools to assess and to understand dynamical systems. Complex networks, which are graphs with nontrivial topology, are among these theoretical tools capable of describing the interplay of topology, structure, and dynamics of complex systems. Therefore, machine learning methods based on complex networks and collective dynamics have been proposed. They encompass three steps. First, a complex network is constructed from the input data. Then, the simulation of a distributed collective system in the network generates rich information. Finally, the collected information is used to solve the learning problem. The coordination of the individuals in the system permit to achieve dynamics that is far more complex than the behavior of single individuals. In this research, I have explored collective dynamics in machine learning tasks, both in unsupervised and semi-supervised scenarios. Specifically, I have proposed a new collective system of competing particles that shifts the traditional vertex-centric dynamics to a more informative edge-centric one. Moreover, it is the first particle competition system applied in machine learning task that has deterministic behavior. Results show several advantages of the edge-centric model, including the ability to acquire more information about overlapping areas, a better exploration behavior, and a faster convergence time. Also, I have proposed a new network formation technique that is not based on similarity and has low computational cost. Since addition and removal of samples in the network is cheap, it can be used in real-time application. Finally, I have conducted analytical investigations of a flocking-like system that was needed to guarantee the expected behavior in community detection tasks. In conclusion, the result of the research contributes to many areas of machine learning and complex systems.\n",
      "Keywords:  Collective dynamics Complex networks Machine learning Semi-supervised learning Unsupervised learning\n",
      "\n",
      "##############################################################################\n",
      "\n",
      "Index: 97601\n",
      "Title:  Mitigating DDoS attacks on IoT through machine learning and network functions virtualization\n",
      "Author:  Oliveira, Guilherme Werneck de (Catálogo USP)\n",
      "Abstract:  The Internet of Things (IoT) has undergone a rapid popularization, reaching a wide range of application domains. As a consequence, more and more IoT devices with diverse characteristics are deployed in a variety of public and private environments, progressively becoming common objects of everyday life. On the other hand, the physical infrastructure of heterogeneous systems is complex and requires efficient and dynamic solutions for managing network performance and security, at a level that allows standardized deployment and easy replication in smart industries, buildings and cities. An approach that has been gaining ground when the intention is to respond to security threats on IoT is the Network Functions Virtualization (NFV) usage. The literature presents some works that use NFV to detect and mitigate security threats on IoT networks, but few performance indicators of the network context are explored to compose a more efficient solution. Thus, this work presents the development of a network context performance-based approach to mitigate Distributed Denial of Service (DDoS) attacks on IoT, investigating how performance indicators can compose Machine Learning (ML) models for Virtual Network Functions (VNF) placement. ML models were trained and tested using network context performance indicators to carry out two experiments. The first is related to the prediction of the response time of Industrial Internet of Things (IIoT) networks. The second on the security VNF placement, also on IIoT networks. The respective results achieved are predictions of network response times that are at most 50 milliseconds longer than settings realized by linear programming models and classifications with 99.40% of accuracy for the correct placement of security VNF on IIoT networks under DDoS attacks.\n",
      "Keywords:  DDoS IoT Machine learning NFV Performance Security VNF\n",
      "\n",
      "##############################################################################\n",
      "\n",
      "Index: 78041\n",
      "Title:  The use of machine learning algorithms in classification problems\n",
      "Author:  Batista, Maria Rita Sifuentes (Catálogo USP)\n",
      "Abstract:  The last few years were remarkable by relevant advances in technology, mainly related to computers. These advances, when added to the diversity of products offered by companies from different segments and their efforts in capturing and storing data from their customers and operations, helps to explain the amount of information that is currently being produced. Overall, the organizations have been efficient in capturing, organizing, and storing large amounts of data, but not all of them uses it adequately to make them useful knowledge for their activities. Learning algorithms are a powerful machine toll to acquire knowledge based on experience. The use of these algorithms allows advances and discoveries that brings a competitive advantage to the companies. The most common machine learning task is supervised learning, whose objective is to learn a predictive model from a set of data. This model should be able to generalize the acquired knowledge to a set of unknown data. This allows the model to have a good predictive capability. An important and widely used application of supervised learning are the classification problems, commonly seen in the financial industry. One of the challenges of this industry is to predict the payment capacity of its customers, rating them as good or bad payers. In this study, five supervised machine learning algorithms, logistic regression, Bayesian classifiers, k-neighbors, random forests and neural networks were investigated and applied to a real classification problem. Since the performance of these algorithms are affected by the variables used, variable selection techniques were applied to the original data set. The use of these techniques allows a computational reduction time by removing redundant and irrelevant information. Performance measures for binary classification were used to evaluate the predictive performance of the models generated by the five algorithms and to compare them. Since it is increasing the importance to have easily interpretable models, the interpretability and complexity of the models generated were also evaluated.\n",
      "Keywords:  Algorithm Classification Machine learning Prediction Variables\n",
      "\n",
      "##############################################################################\n",
      "\n",
      "Index: 3188\n",
      "Title:  Active semi-supervised classification based on multiple clustering hierarchies\n",
      "Author:  Batista, Antônio José de Lima (Catálogo USP)\n",
      "Abstract:  Active semi-supervised learning can play an important role in classification scenarios in which labeled data are laborious and/or expensive to obtain, while unlabeled data are numerous and can be easily acquired. There are many active algorithms in the literature and this work focuses on an active semi-supervised algorithm that can be driven by clustering hierarchy, the well-known Hierarchical Sampling (HS) algorithm. This work takes as a starting point the original Hierarchical Sampling algorithm and perform changes in different aspects of the original algorithm in order to tackle its main drawbacks, including its sensitivity to the choice of a single particular hierarchy. Experimental results over many real datasets show that the proposed algorithm performs superior or competitive when compared to a number of state-of-the-art algorithms for active semi-supervised classification.\n",
      "Keywords:  Active learning Active semi-supervised classification Clustering hierarchies. Machine learning\n",
      "\n",
      "##############################################################################\n",
      "\n",
      "Index: 27488\n",
      "Title:  Machine learning in complex networks\n",
      "Author:  Breve, Fabricio Aparecido (Catálogo USP)\n",
      "Abstract:  Complex networks is a recent and active scientific research field, which concerns large scale networks with non-trivial topological structure, such as computer networks, telecommunication networks, transport networks, social networks and biological networks. Many of these networks are naturally divided into communities or modules and, therefore, uncovering their structure is one of the main problems related to complex networks study. This problem is related with the machine learning field, which is concerned with the design and development of algorithms and techniques which allow computers to learn, or increase their performance based on experience. Some of the problems identified in traditional learning techniques include: difficulties in identifying irregular forms in the attributes space; uncovering overlap structures of groups or classes, which occurs when elements belong to more than one group or class; and the high computational complexity of some models, which prevents their application in larger data bases. In this work, we deal with these problems through the development of new machine learning models using complex networks and space-temporal dynamics. The developed models have performance similar to those from some state-of-the-art algorithms, at the same time that they present lower computational complexity order than most of them\n",
      "Keywords:  Complex networks Machine learning Space-temporal dynamics\n",
      "\n",
      "##############################################################################\n",
      "\n",
      "Index: 100448\n",
      "Title:  Semantic localization and mapping in forests.\n",
      "Author:  Nardari, Guilherme Vicentim (Catálogo USP)\n",
      "Abstract:  While overhead data can provide general information about a forest, inside the forest, we can identify understory plants and measure the diameter and count of the trunks of each tree. Currently, specialists rely on human expeditions to get these measurements, which can be slow, expensive, and dangerous. For this reason, robots that can autonomously navigate and extract data from inside the forest could revolutionize how we monitor forests worldwide and the amount of information we have about them. In forestry, the lack of reliable GPS signal, uneven terrain covered by plants and leaves, and trees with branches moving with the wind are a few of the challenges posed. These factors can create shortcomings for classic algorithms as some assumptions may not be valid in this environment. Semantic information, such as classes and forms of objects expected in the environment is a promising way to increase the robustness and performance of autonomous systems. In this context, this thesis introduces a framework that uses 3D data provided by LiDAR or stereo cameras to identify semantic information using neural networks. This information is used to identify trees and model them as cylinders, creating a semantic map. Our formulation allows the incorporation of noisy estimates that can be refined with the arrival of new sensor readings and external measurements to increase the frameworks robustness. Using the semantic map generated by our framework, we propose an algorithm capable of generating unique forest location descriptors that are visually highly similar. These descriptors can be used to identify previously visited locations and feedback to reduce accumulated errors in location estimates. We present several experiments in simulated environments and real-world Pine forests, demonstrating that our method generates semantic maps that improve the quality of the robots location estimates and generate informative maps with information on the individual count and the trunk diameter of each tree. Furthermore, the semantic representation of the data obtained by the sensors is much more computationally efficient, as it summarizes the raw data in a semantic geometric model with few parameters.\n",
      "Keywords:  Localization Machine learning. Mapping Semantic segmentation\n",
      "\n",
      "##############################################################################\n",
      "\n",
      "Index: 96008\n",
      "Title:  Using machine learning to analyze chaotic orbits\n",
      "Author:  Luchesi, Ana Carolina Ferreira (Catálogo USP)\n",
      "Abstract:  Chaotic behaviour can be observed in the most diverse systems, including planetary orbits, weather, stock market and so on. Therefore, investigating means to predict the future of chaotic systems can help us comprehend many systems that surround us. The Logistic Map, originally proposed as a model to describe a population growth, presents sensitivity to initial conditions, which leads to the unpredictability of the future of this system. It is one of the most famous examples of chaotic behaviour emerging from a simple dynamical system. In this study, the chaotic orbits of the logistic map were chosen because of both their simplicity and wide range of complexity. Neural networks are the current most popular approach to machine learning and have achieved state-of-the art results in many different tasks. Recurrent Neural Networks are able to recollect previous inputs, they are therefore more suitable to handle sequential data. In this dissertation, two types of recurrent neural networks were used to investigate how they predict future terms of chaotic orbits from the Logistic Map: Long Short-Term Memory (LSTM) and Echo State Networks (ESN). The results obtained show that ESNs are able to predict these orbits with higher accuracy than LSTMs and confirm them as promising tool to challenge the unpredictability of chaos.\n",
      "Keywords:  Chaos theory Chaotic orbits Logistic map Machine learning Neural networks\n",
      "\n",
      "##############################################################################\n",
      "\n",
      "Index: 51845\n",
      "Title:  Using style markers in Portuguese Web Searching.\n",
      "Author:  Aires, Rachel Virgínia Xavier (Catálogo USP)\n",
      "Abstract:  How should one cope with information overtlow. when there are too many pages on the Web aboul almost every subject? This thesis addresses the problem of information overtlow users taco when dealing with Web search results. To go beyond content it is proposed to classifv pages according to the seareli goals they sorve from a user point of view: to download a system learn some subject or find news about another are quite different user goals. The hypothesis validated in the present dissertation is that it is both technically feasible and understandble to classifv Web pages according to user goal. By using machine learning teehniques over linguistically inspired features. automatic classifiers were built to distinguish among user needs. Also. several user studies were conducted to assess the understandability of the concepts at stake and the gain achieved by using the particular classification in the displav of the results. In addition. this work also tested personalized binarv classifiers about specilfic subjects. traíned in small traming corpora supplied by the users themselves. With regard to evaluation. both system evaluation and user-centered evaluation were performed. The results show that (i) the user needs classification is understood by the user. (ii) the use of style markers are a reliable path to be investigated (iii) traimng on small Web corpora is able to generate reliable classifiers. and ( iv ) search can be eased by classifying scarch results according to user needs.\n",
      "Keywords:  Not available\n",
      "\n",
      "##############################################################################\n",
      "\n",
      "Index: 100187\n",
      "Title:  OpenNPU: an open source platform for automatic neural network synthesis for FPGAs.\n",
      "Author:  Muyal, Thomas Araújo (Catálogo USP)\n",
      "Abstract:  Artificial neural networks are a group of artificial intelligence algorithms widely used contemporarily in the industry and research, implemented to solve a great variety of issues. Its recent popularity is in part due to the advance of hardware technologies, which provide computational resources for the resource-intensive processing necessary for its implementation. Historically, neural network software is executed in Central Processing Units (CPUs), which are general purpose devices. However, metrics such as inference speed, energy efficiency and circuit area are improved with the use of specialized hardware accelerators. In the context of edge computing, the processing on location of data gathered by Internet of Things (IoT) devices, there are significant restrictions as to those metrics. One of the devices frequently used for this purpose are Field-Programmable Gate Arrays (FPGAs), which offer integrated circuits whose functionality may be programmed for the synthesis of hardware specialized in specific algorithms, offering high performance and execution efficiency, as well as other benefits such as being able to be reconfigured after manufacturing, shorter design cycles, faster time-to-market and lower cost than the alternatives. One of the issues for the use of FPGAs is that its programming is difficult and requires specialist knowledge to fully make use of these devices characteristics, and not every team of artificial intelligence developers has such knowledge. Consequently, there is interest in systems that automatize the synthesis of neural network hardware accelerators in FPGAs, to bring the benefits of this technique to a wider audience. Another approach to solve the high restriction environment of edge computing is neural network quantization, which means reducing the precision of representation of parameters so they consume less memory, and operations using these numbers are faster. This work studies the state of the art of this manner of software, diagnosing existing gaps. The main objective of this research is the creation and validation of a proof of concept of automatic generation of neural network hardware accelerators that are using parameter quantization techniques to enable its synthesis on small FPGAs aimed towards edge computing. For the validation of this system, an accelerator was generated and its behavior was measured in metrics of latency, end result throughput, energy efficiency, circuit area and compared to the execution of the same neural network in a high-end personal computer CPU. The results indicate that the generated hardware accelerator is synthesizeable, significantly faster and consumes considerably less energy than the CPU implementation.\n",
      "Keywords:  Artificial intelligence Deep learning FPGA Hardware accelerator Internet of things Machine learning Neural networks\n",
      "\n",
      "##############################################################################\n",
      "\n",
      "Index: 47396\n",
      "Title:  Machine learning via dynamical processes on complex networks\n",
      "Author:  Cupertino, Thiago Henrique (Catálogo USP)\n",
      "Abstract:  Extracting useful knowledge from data sets is a key concept in modern information systems. Consequently, the need of efficient techniques to extract the desired knowledge has been growing over time. Machine learning is a research field dedicated to the development of techniques capable of enabling a machine to \"learn\" from data. Many techniques have been proposed so far, but there are still issues to be unveiled specially in interdisciplinary research. In this thesis, we explore the advantages of network data representation to develop machine learning techniques based on dynamical processes on networks. The network representation unifies the structure, dynamics and functions of the system it represents, and thus is capable of capturing the spatial, topological and functional relations of the data sets under analysis. We develop network-based techniques for the three machine learning paradigms: supervised, semi-supervised and unsupervised. The random walk dynamical process is used to characterize the access of unlabeled data to data classes, configuring a new heuristic we call ease of access in the supervised paradigm. We also propose a classification technique which combines the high-level view of the data, via network topological characterization, and the low-level relations, via similarity measures, in a general framework. Still in the supervised setting, the modularity and Katz centrality network measures are applied to classify multiple observation sets, and an evolving network construction method is applied to the dimensionality reduction problem. The semi-supervised paradigm is covered by extending the ease of access heuristic to the cases in which just a few labeled data samples and many unlabeled samples are available. A semi-supervised technique based on interacting forces is also proposed, for which we provide parameter heuristics and stability analysis via a Lyapunov function. Finally, an unsupervised network-based technique uses the concepts of pinning control and consensus time from dynamical processes to derive a similarity measure used to cluster data. The data is represented by a connected and sparse network in which nodes are dynamical elements. Simulations on benchmark data sets and comparisons to well-known machine learning techniques are provided for all proposed techniques. Advantages of network data representation and dynamical processes for machine learning are highlighted in all cases\n",
      "Keywords:  Complex networks Consensus time Dimensionality reduction Dynamical processes Interacting forces Limiting probabilities Machine learning Network-based learning Plinning control Random walk Semi-supervised learning Stationary states Supervised learning Unsupervised learning\n",
      "\n",
      "##############################################################################\n",
      "\n",
      "Index: 77070\n",
      "Title:  Dynamic CPU frequency scaling using machine learning for NFV applications.\n",
      "Author:  Zorello, Ligia Maria Moreira (Catálogo USP)\n",
      "Abstract:  Growth in the Information and Communication Technology sector is increasing the need to improve the quality of service and energy efficiency, as this industry has already surpassed 12% of global energy consumption in 2017. Data centers correspond to a large part of this consumption, accounting for about 15% of energy expenditure on the Information and Communication Technology domain; moreover, the subsystem that generates the most costs for data center operators is that of servers and storage. Many solutions have been proposed to reduce server consumption, such as the use of dynamic voltage and frequency scaling, a technology that enables the adaptation of energy consumption to the workload by modifying the operating voltage and frequency, although they are not optimized for network traffic. In this thesis, a control method was developed using a prediction engine based on the analysis of the ongoing traffic. Machine learning algorithms based on Neural Networks and Support Vector Machines have been used, and it was verified that it is possible to reduce power consumption by up to 12% on servers with Intel Sandy Bridge processor and up to 21 % in servers with Intel Haswell processor when compared to the maximum frequency, which is currently the most used solution in the industry.\n",
      "Keywords:  DVFS Energy efficiency Machine learning NFV\n",
      "\n",
      "##############################################################################\n",
      "\n"
     ]
    }
   ],
   "source": [
    "query(\"ddos attack using machine learning\")"
   ]
  }
 ],
 "metadata": {
  "kernelspec": {
   "display_name": "Python 3 (ipykernel)",
   "language": "python",
   "name": "python3"
  },
  "language_info": {
   "codemirror_mode": {
    "name": "ipython",
    "version": 3
   },
   "file_extension": ".py",
   "mimetype": "text/x-python",
   "name": "python",
   "nbconvert_exporter": "python",
   "pygments_lexer": "ipython3",
   "version": "3.10.6"
  }
 },
 "nbformat": 4,
 "nbformat_minor": 5
}
