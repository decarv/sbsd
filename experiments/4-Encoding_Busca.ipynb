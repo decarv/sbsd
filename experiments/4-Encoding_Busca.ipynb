{
 "cells": [
  {
   "cell_type": "code",
   "execution_count": 31,
   "id": "cf9b4523",
   "metadata": {
    "scrolled": true
   },
   "outputs": [],
   "source": [
    "import json\n",
    "import numpy as np\n",
    "import pandas as pd\n",
    "import os\n",
    "import sys\n",
    "import time\n",
    "sys.path.append(os.path.abspath(\"../src\"))\n",
    "import config\n",
    "from typing import Union\n",
    "import sqlite3\n",
    "\n",
    "from sentence_transformers import SentenceTransformer\n",
    "\n",
    "import pickle\n",
    "from sklearn.metrics.pairwise import cosine_similarity"
   ]
  },
  {
   "cell_type": "code",
   "execution_count": 28,
   "id": "d46c5c29",
   "metadata": {},
   "outputs": [],
   "source": [
    "import logging\n",
    "from utils import log\n",
    "import functools"
   ]
  },
  {
   "cell_type": "code",
   "execution_count": 3,
   "id": "1b4615f7",
   "metadata": {},
   "outputs": [],
   "source": [
    "model_name = config.MODELS[0]\n",
    "language = \"en\"\n",
    "units_type = \"sentences\"\n",
    "\n",
    "model = SentenceTransformer(model_name, device='cuda')"
   ]
  },
  {
   "cell_type": "code",
   "execution_count": 4,
   "id": "0b9525b3",
   "metadata": {},
   "outputs": [],
   "source": [
    "metadata = pd.read_csv(os.path.join(config.DATA_DIR, \"metadata.csv\"), keep_default_na=False)"
   ]
  },
  {
   "cell_type": "code",
   "execution_count": 29,
   "id": "8765aa19",
   "metadata": {},
   "outputs": [],
   "source": [
    "from searcher import LocalSearcher"
   ]
  },
  {
   "cell_type": "code",
   "execution_count": 6,
   "id": "98fd06cf",
   "metadata": {},
   "outputs": [],
   "source": [
    "from utils import load_embeddings, load_imap"
   ]
  },
  {
   "cell_type": "code",
   "execution_count": 17,
   "id": "401cb627",
   "metadata": {},
   "outputs": [
    {
     "name": "stderr",
     "output_type": "stream",
     "text": [
      "[ 12/08 15:46:28 ] - sentence_transformers.SentenceTransformer - Load pretrained SentenceTransformer: neuralmind/bert-base-portuguese-cased\n",
      "[ 12/08 15:46:28 ] - urllib3.connectionpool - Starting new HTTPS connection (4): huggingface.co:443\n"
     ]
    },
    {
     "ename": "ConnectionError",
     "evalue": "(MaxRetryError(\"HTTPSConnectionPool(host='huggingface.co', port=443): Max retries exceeded with url: /api/models/neuralmind/bert-base-portuguese-cased (Caused by NewConnectionError('<urllib3.connection.HTTPSConnection object at 0x7f58ec381420>: Failed to establish a new connection: [Errno -3] Temporary failure in name resolution'))\"), '(Request ID: 8064df0a-0842-4ef6-9153-2c1cef1d9486)')",
     "output_type": "error",
     "traceback": [
      "\u001b[0;31m---------------------------------------------------------------------------\u001b[0m",
      "\u001b[0;31mgaierror\u001b[0m                                  Traceback (most recent call last)",
      "\u001b[0;32m~/.local/lib/python3.10/site-packages/urllib3/connection.py\u001b[0m in \u001b[0;36m_new_conn\u001b[0;34m(self)\u001b[0m\n\u001b[1;32m    173\u001b[0m         \u001b[0;32mtry\u001b[0m\u001b[0;34m:\u001b[0m\u001b[0;34m\u001b[0m\u001b[0;34m\u001b[0m\u001b[0m\n\u001b[0;32m--> 174\u001b[0;31m             conn = connection.create_connection(\n\u001b[0m\u001b[1;32m    175\u001b[0m                 \u001b[0;34m(\u001b[0m\u001b[0mself\u001b[0m\u001b[0;34m.\u001b[0m\u001b[0m_dns_host\u001b[0m\u001b[0;34m,\u001b[0m \u001b[0mself\u001b[0m\u001b[0;34m.\u001b[0m\u001b[0mport\u001b[0m\u001b[0;34m)\u001b[0m\u001b[0;34m,\u001b[0m \u001b[0mself\u001b[0m\u001b[0;34m.\u001b[0m\u001b[0mtimeout\u001b[0m\u001b[0;34m,\u001b[0m \u001b[0;34m**\u001b[0m\u001b[0mextra_kw\u001b[0m\u001b[0;34m\u001b[0m\u001b[0;34m\u001b[0m\u001b[0m\n",
      "\u001b[0;32m~/.local/lib/python3.10/site-packages/urllib3/util/connection.py\u001b[0m in \u001b[0;36mcreate_connection\u001b[0;34m(address, timeout, source_address, socket_options)\u001b[0m\n\u001b[1;32m     71\u001b[0m \u001b[0;34m\u001b[0m\u001b[0m\n\u001b[0;32m---> 72\u001b[0;31m     \u001b[0;32mfor\u001b[0m \u001b[0mres\u001b[0m \u001b[0;32min\u001b[0m \u001b[0msocket\u001b[0m\u001b[0;34m.\u001b[0m\u001b[0mgetaddrinfo\u001b[0m\u001b[0;34m(\u001b[0m\u001b[0mhost\u001b[0m\u001b[0;34m,\u001b[0m \u001b[0mport\u001b[0m\u001b[0;34m,\u001b[0m \u001b[0mfamily\u001b[0m\u001b[0;34m,\u001b[0m \u001b[0msocket\u001b[0m\u001b[0;34m.\u001b[0m\u001b[0mSOCK_STREAM\u001b[0m\u001b[0;34m)\u001b[0m\u001b[0;34m:\u001b[0m\u001b[0;34m\u001b[0m\u001b[0;34m\u001b[0m\u001b[0m\n\u001b[0m\u001b[1;32m     73\u001b[0m         \u001b[0maf\u001b[0m\u001b[0;34m,\u001b[0m \u001b[0msocktype\u001b[0m\u001b[0;34m,\u001b[0m \u001b[0mproto\u001b[0m\u001b[0;34m,\u001b[0m \u001b[0mcanonname\u001b[0m\u001b[0;34m,\u001b[0m \u001b[0msa\u001b[0m \u001b[0;34m=\u001b[0m \u001b[0mres\u001b[0m\u001b[0;34m\u001b[0m\u001b[0;34m\u001b[0m\u001b[0m\n",
      "\u001b[0;32m/usr/lib/python3.10/socket.py\u001b[0m in \u001b[0;36mgetaddrinfo\u001b[0;34m(host, port, family, type, proto, flags)\u001b[0m\n\u001b[1;32m    954\u001b[0m     \u001b[0maddrlist\u001b[0m \u001b[0;34m=\u001b[0m \u001b[0;34m[\u001b[0m\u001b[0;34m]\u001b[0m\u001b[0;34m\u001b[0m\u001b[0;34m\u001b[0m\u001b[0m\n\u001b[0;32m--> 955\u001b[0;31m     \u001b[0;32mfor\u001b[0m \u001b[0mres\u001b[0m \u001b[0;32min\u001b[0m \u001b[0m_socket\u001b[0m\u001b[0;34m.\u001b[0m\u001b[0mgetaddrinfo\u001b[0m\u001b[0;34m(\u001b[0m\u001b[0mhost\u001b[0m\u001b[0;34m,\u001b[0m \u001b[0mport\u001b[0m\u001b[0;34m,\u001b[0m \u001b[0mfamily\u001b[0m\u001b[0;34m,\u001b[0m \u001b[0mtype\u001b[0m\u001b[0;34m,\u001b[0m \u001b[0mproto\u001b[0m\u001b[0;34m,\u001b[0m \u001b[0mflags\u001b[0m\u001b[0;34m)\u001b[0m\u001b[0;34m:\u001b[0m\u001b[0;34m\u001b[0m\u001b[0;34m\u001b[0m\u001b[0m\n\u001b[0m\u001b[1;32m    956\u001b[0m         \u001b[0maf\u001b[0m\u001b[0;34m,\u001b[0m \u001b[0msocktype\u001b[0m\u001b[0;34m,\u001b[0m \u001b[0mproto\u001b[0m\u001b[0;34m,\u001b[0m \u001b[0mcanonname\u001b[0m\u001b[0;34m,\u001b[0m \u001b[0msa\u001b[0m \u001b[0;34m=\u001b[0m \u001b[0mres\u001b[0m\u001b[0;34m\u001b[0m\u001b[0;34m\u001b[0m\u001b[0m\n",
      "\u001b[0;31mgaierror\u001b[0m: [Errno -3] Temporary failure in name resolution",
      "\nDuring handling of the above exception, another exception occurred:\n",
      "\u001b[0;31mNewConnectionError\u001b[0m                        Traceback (most recent call last)",
      "\u001b[0;32m~/.local/lib/python3.10/site-packages/urllib3/connectionpool.py\u001b[0m in \u001b[0;36murlopen\u001b[0;34m(self, method, url, body, headers, retries, redirect, assert_same_host, timeout, pool_timeout, release_conn, chunked, body_pos, **response_kw)\u001b[0m\n\u001b[1;32m    702\u001b[0m             \u001b[0;31m# Make the request on the httplib connection object.\u001b[0m\u001b[0;34m\u001b[0m\u001b[0;34m\u001b[0m\u001b[0m\n\u001b[0;32m--> 703\u001b[0;31m             httplib_response = self._make_request(\n\u001b[0m\u001b[1;32m    704\u001b[0m                 \u001b[0mconn\u001b[0m\u001b[0;34m,\u001b[0m\u001b[0;34m\u001b[0m\u001b[0;34m\u001b[0m\u001b[0m\n",
      "\u001b[0;32m~/.local/lib/python3.10/site-packages/urllib3/connectionpool.py\u001b[0m in \u001b[0;36m_make_request\u001b[0;34m(self, conn, method, url, timeout, chunked, **httplib_request_kw)\u001b[0m\n\u001b[1;32m    385\u001b[0m         \u001b[0;32mtry\u001b[0m\u001b[0;34m:\u001b[0m\u001b[0;34m\u001b[0m\u001b[0;34m\u001b[0m\u001b[0m\n\u001b[0;32m--> 386\u001b[0;31m             \u001b[0mself\u001b[0m\u001b[0;34m.\u001b[0m\u001b[0m_validate_conn\u001b[0m\u001b[0;34m(\u001b[0m\u001b[0mconn\u001b[0m\u001b[0;34m)\u001b[0m\u001b[0;34m\u001b[0m\u001b[0;34m\u001b[0m\u001b[0m\n\u001b[0m\u001b[1;32m    387\u001b[0m         \u001b[0;32mexcept\u001b[0m \u001b[0;34m(\u001b[0m\u001b[0mSocketTimeout\u001b[0m\u001b[0;34m,\u001b[0m \u001b[0mBaseSSLError\u001b[0m\u001b[0;34m)\u001b[0m \u001b[0;32mas\u001b[0m \u001b[0me\u001b[0m\u001b[0;34m:\u001b[0m\u001b[0;34m\u001b[0m\u001b[0;34m\u001b[0m\u001b[0m\n",
      "\u001b[0;32m~/.local/lib/python3.10/site-packages/urllib3/connectionpool.py\u001b[0m in \u001b[0;36m_validate_conn\u001b[0;34m(self, conn)\u001b[0m\n\u001b[1;32m   1041\u001b[0m         \u001b[0;32mif\u001b[0m \u001b[0;32mnot\u001b[0m \u001b[0mgetattr\u001b[0m\u001b[0;34m(\u001b[0m\u001b[0mconn\u001b[0m\u001b[0;34m,\u001b[0m \u001b[0;34m\"sock\"\u001b[0m\u001b[0;34m,\u001b[0m \u001b[0;32mNone\u001b[0m\u001b[0;34m)\u001b[0m\u001b[0;34m:\u001b[0m  \u001b[0;31m# AppEngine might not have  `.sock`\u001b[0m\u001b[0;34m\u001b[0m\u001b[0;34m\u001b[0m\u001b[0m\n\u001b[0;32m-> 1042\u001b[0;31m             \u001b[0mconn\u001b[0m\u001b[0;34m.\u001b[0m\u001b[0mconnect\u001b[0m\u001b[0;34m(\u001b[0m\u001b[0;34m)\u001b[0m\u001b[0;34m\u001b[0m\u001b[0;34m\u001b[0m\u001b[0m\n\u001b[0m\u001b[1;32m   1043\u001b[0m \u001b[0;34m\u001b[0m\u001b[0m\n",
      "\u001b[0;32m~/.local/lib/python3.10/site-packages/urllib3/connection.py\u001b[0m in \u001b[0;36mconnect\u001b[0;34m(self)\u001b[0m\n\u001b[1;32m    357\u001b[0m         \u001b[0;31m# Add certificate verification\u001b[0m\u001b[0;34m\u001b[0m\u001b[0;34m\u001b[0m\u001b[0m\n\u001b[0;32m--> 358\u001b[0;31m         \u001b[0mself\u001b[0m\u001b[0;34m.\u001b[0m\u001b[0msock\u001b[0m \u001b[0;34m=\u001b[0m \u001b[0mconn\u001b[0m \u001b[0;34m=\u001b[0m \u001b[0mself\u001b[0m\u001b[0;34m.\u001b[0m\u001b[0m_new_conn\u001b[0m\u001b[0;34m(\u001b[0m\u001b[0;34m)\u001b[0m\u001b[0;34m\u001b[0m\u001b[0;34m\u001b[0m\u001b[0m\n\u001b[0m\u001b[1;32m    359\u001b[0m         \u001b[0mhostname\u001b[0m \u001b[0;34m=\u001b[0m \u001b[0mself\u001b[0m\u001b[0;34m.\u001b[0m\u001b[0mhost\u001b[0m\u001b[0;34m\u001b[0m\u001b[0;34m\u001b[0m\u001b[0m\n",
      "\u001b[0;32m~/.local/lib/python3.10/site-packages/urllib3/connection.py\u001b[0m in \u001b[0;36m_new_conn\u001b[0;34m(self)\u001b[0m\n\u001b[1;32m    185\u001b[0m         \u001b[0;32mexcept\u001b[0m \u001b[0mSocketError\u001b[0m \u001b[0;32mas\u001b[0m \u001b[0me\u001b[0m\u001b[0;34m:\u001b[0m\u001b[0;34m\u001b[0m\u001b[0;34m\u001b[0m\u001b[0m\n\u001b[0;32m--> 186\u001b[0;31m             raise NewConnectionError(\n\u001b[0m\u001b[1;32m    187\u001b[0m                 \u001b[0mself\u001b[0m\u001b[0;34m,\u001b[0m \u001b[0;34m\"Failed to establish a new connection: %s\"\u001b[0m \u001b[0;34m%\u001b[0m \u001b[0me\u001b[0m\u001b[0;34m\u001b[0m\u001b[0;34m\u001b[0m\u001b[0m\n",
      "\u001b[0;31mNewConnectionError\u001b[0m: <urllib3.connection.HTTPSConnection object at 0x7f58ec381420>: Failed to establish a new connection: [Errno -3] Temporary failure in name resolution",
      "\nDuring handling of the above exception, another exception occurred:\n",
      "\u001b[0;31mMaxRetryError\u001b[0m                             Traceback (most recent call last)",
      "\u001b[0;32m~/.local/lib/python3.10/site-packages/requests/adapters.py\u001b[0m in \u001b[0;36msend\u001b[0;34m(self, request, stream, timeout, verify, cert, proxies)\u001b[0m\n\u001b[1;32m    485\u001b[0m         \u001b[0;32mtry\u001b[0m\u001b[0;34m:\u001b[0m\u001b[0;34m\u001b[0m\u001b[0;34m\u001b[0m\u001b[0m\n\u001b[0;32m--> 486\u001b[0;31m             resp = conn.urlopen(\n\u001b[0m\u001b[1;32m    487\u001b[0m                 \u001b[0mmethod\u001b[0m\u001b[0;34m=\u001b[0m\u001b[0mrequest\u001b[0m\u001b[0;34m.\u001b[0m\u001b[0mmethod\u001b[0m\u001b[0;34m,\u001b[0m\u001b[0;34m\u001b[0m\u001b[0;34m\u001b[0m\u001b[0m\n",
      "\u001b[0;32m~/.local/lib/python3.10/site-packages/urllib3/connectionpool.py\u001b[0m in \u001b[0;36murlopen\u001b[0;34m(self, method, url, body, headers, retries, redirect, assert_same_host, timeout, pool_timeout, release_conn, chunked, body_pos, **response_kw)\u001b[0m\n\u001b[1;32m    786\u001b[0m \u001b[0;34m\u001b[0m\u001b[0m\n\u001b[0;32m--> 787\u001b[0;31m             retries = retries.increment(\n\u001b[0m\u001b[1;32m    788\u001b[0m                 \u001b[0mmethod\u001b[0m\u001b[0;34m,\u001b[0m \u001b[0murl\u001b[0m\u001b[0;34m,\u001b[0m \u001b[0merror\u001b[0m\u001b[0;34m=\u001b[0m\u001b[0me\u001b[0m\u001b[0;34m,\u001b[0m \u001b[0m_pool\u001b[0m\u001b[0;34m=\u001b[0m\u001b[0mself\u001b[0m\u001b[0;34m,\u001b[0m \u001b[0m_stacktrace\u001b[0m\u001b[0;34m=\u001b[0m\u001b[0msys\u001b[0m\u001b[0;34m.\u001b[0m\u001b[0mexc_info\u001b[0m\u001b[0;34m(\u001b[0m\u001b[0;34m)\u001b[0m\u001b[0;34m[\u001b[0m\u001b[0;36m2\u001b[0m\u001b[0;34m]\u001b[0m\u001b[0;34m\u001b[0m\u001b[0;34m\u001b[0m\u001b[0m\n",
      "\u001b[0;32m~/.local/lib/python3.10/site-packages/urllib3/util/retry.py\u001b[0m in \u001b[0;36mincrement\u001b[0;34m(self, method, url, response, error, _pool, _stacktrace)\u001b[0m\n\u001b[1;32m    591\u001b[0m         \u001b[0;32mif\u001b[0m \u001b[0mnew_retry\u001b[0m\u001b[0;34m.\u001b[0m\u001b[0mis_exhausted\u001b[0m\u001b[0;34m(\u001b[0m\u001b[0;34m)\u001b[0m\u001b[0;34m:\u001b[0m\u001b[0;34m\u001b[0m\u001b[0;34m\u001b[0m\u001b[0m\n\u001b[0;32m--> 592\u001b[0;31m             \u001b[0;32mraise\u001b[0m \u001b[0mMaxRetryError\u001b[0m\u001b[0;34m(\u001b[0m\u001b[0m_pool\u001b[0m\u001b[0;34m,\u001b[0m \u001b[0murl\u001b[0m\u001b[0;34m,\u001b[0m \u001b[0merror\u001b[0m \u001b[0;32mor\u001b[0m \u001b[0mResponseError\u001b[0m\u001b[0;34m(\u001b[0m\u001b[0mcause\u001b[0m\u001b[0;34m)\u001b[0m\u001b[0;34m)\u001b[0m\u001b[0;34m\u001b[0m\u001b[0;34m\u001b[0m\u001b[0m\n\u001b[0m\u001b[1;32m    593\u001b[0m \u001b[0;34m\u001b[0m\u001b[0m\n",
      "\u001b[0;31mMaxRetryError\u001b[0m: HTTPSConnectionPool(host='huggingface.co', port=443): Max retries exceeded with url: /api/models/neuralmind/bert-base-portuguese-cased (Caused by NewConnectionError('<urllib3.connection.HTTPSConnection object at 0x7f58ec381420>: Failed to establish a new connection: [Errno -3] Temporary failure in name resolution'))",
      "\nDuring handling of the above exception, another exception occurred:\n",
      "\u001b[0;31mConnectionError\u001b[0m                           Traceback (most recent call last)",
      "\u001b[0;32m/tmp/ipykernel_4737/2133545186.py\u001b[0m in \u001b[0;36m<module>\u001b[0;34m\u001b[0m\n\u001b[1;32m      1\u001b[0m pt_searcher = LocalSearcher(\n\u001b[1;32m      2\u001b[0m     \u001b[0mcollection_name\u001b[0m\u001b[0;34m=\u001b[0m\u001b[0;34m'abstracts'\u001b[0m\u001b[0;34m,\u001b[0m\u001b[0;34m\u001b[0m\u001b[0;34m\u001b[0m\u001b[0m\n\u001b[0;32m----> 3\u001b[0;31m     \u001b[0mencoder_model\u001b[0m\u001b[0;34m=\u001b[0m\u001b[0mSentenceTransformer\u001b[0m\u001b[0;34m(\u001b[0m\u001b[0mconfig\u001b[0m\u001b[0;34m.\u001b[0m\u001b[0mMODELS\u001b[0m\u001b[0;34m[\u001b[0m\u001b[0;36m1\u001b[0m\u001b[0;34m]\u001b[0m\u001b[0;34m,\u001b[0m \u001b[0mdevice\u001b[0m\u001b[0;34m=\u001b[0m\u001b[0;34m'cuda'\u001b[0m\u001b[0;34m)\u001b[0m\u001b[0;34m,\u001b[0m\u001b[0;34m\u001b[0m\u001b[0;34m\u001b[0m\u001b[0m\n\u001b[0m\u001b[1;32m      4\u001b[0m     \u001b[0mvectors\u001b[0m\u001b[0;34m=\u001b[0m\u001b[0mload_embeddings\u001b[0m\u001b[0;34m(\u001b[0m\u001b[0mconfig\u001b[0m\u001b[0;34m.\u001b[0m\u001b[0mEMBEDDINGS_DIR\u001b[0m\u001b[0;34m,\u001b[0m \u001b[0mconfig\u001b[0m\u001b[0;34m.\u001b[0m\u001b[0mMODELS\u001b[0m\u001b[0;34m[\u001b[0m\u001b[0;36m1\u001b[0m\u001b[0;34m]\u001b[0m\u001b[0;34m.\u001b[0m\u001b[0msplit\u001b[0m\u001b[0;34m(\u001b[0m\u001b[0;34m'/'\u001b[0m\u001b[0;34m)\u001b[0m\u001b[0;34m[\u001b[0m\u001b[0;34m-\u001b[0m\u001b[0;36m1\u001b[0m\u001b[0;34m]\u001b[0m\u001b[0;34m,\u001b[0m \u001b[0munits_type\u001b[0m\u001b[0;34m,\u001b[0m \u001b[0;34m\"pt\"\u001b[0m\u001b[0;34m)\u001b[0m\u001b[0;34m,\u001b[0m\u001b[0;34m\u001b[0m\u001b[0;34m\u001b[0m\u001b[0m\n\u001b[1;32m      5\u001b[0m     \u001b[0mlanguage\u001b[0m\u001b[0;34m=\u001b[0m\u001b[0;34m\"pt\"\u001b[0m\u001b[0;34m,\u001b[0m\u001b[0;34m\u001b[0m\u001b[0;34m\u001b[0m\u001b[0m\n",
      "\u001b[0;32m~/.local/lib/python3.10/site-packages/sentence_transformers/SentenceTransformer.py\u001b[0m in \u001b[0;36m__init__\u001b[0;34m(self, model_name_or_path, modules, device, cache_folder, use_auth_token)\u001b[0m\n\u001b[1;32m     85\u001b[0m                 \u001b[0;32mif\u001b[0m \u001b[0;32mnot\u001b[0m \u001b[0mos\u001b[0m\u001b[0;34m.\u001b[0m\u001b[0mpath\u001b[0m\u001b[0;34m.\u001b[0m\u001b[0mexists\u001b[0m\u001b[0;34m(\u001b[0m\u001b[0mos\u001b[0m\u001b[0;34m.\u001b[0m\u001b[0mpath\u001b[0m\u001b[0;34m.\u001b[0m\u001b[0mjoin\u001b[0m\u001b[0;34m(\u001b[0m\u001b[0mmodel_path\u001b[0m\u001b[0;34m,\u001b[0m \u001b[0;34m'modules.json'\u001b[0m\u001b[0;34m)\u001b[0m\u001b[0;34m)\u001b[0m\u001b[0;34m:\u001b[0m\u001b[0;34m\u001b[0m\u001b[0;34m\u001b[0m\u001b[0m\n\u001b[1;32m     86\u001b[0m                     \u001b[0;31m# Download from hub with caching\u001b[0m\u001b[0;34m\u001b[0m\u001b[0;34m\u001b[0m\u001b[0m\n\u001b[0;32m---> 87\u001b[0;31m                     snapshot_download(model_name_or_path,\n\u001b[0m\u001b[1;32m     88\u001b[0m                                         \u001b[0mcache_dir\u001b[0m\u001b[0;34m=\u001b[0m\u001b[0mcache_folder\u001b[0m\u001b[0;34m,\u001b[0m\u001b[0;34m\u001b[0m\u001b[0;34m\u001b[0m\u001b[0m\n\u001b[1;32m     89\u001b[0m                                         \u001b[0mlibrary_name\u001b[0m\u001b[0;34m=\u001b[0m\u001b[0;34m'sentence-transformers'\u001b[0m\u001b[0;34m,\u001b[0m\u001b[0;34m\u001b[0m\u001b[0;34m\u001b[0m\u001b[0m\n",
      "\u001b[0;32m~/.local/lib/python3.10/site-packages/sentence_transformers/util.py\u001b[0m in \u001b[0;36msnapshot_download\u001b[0;34m(repo_id, revision, cache_dir, library_name, library_version, user_agent, ignore_files, use_auth_token)\u001b[0m\n\u001b[1;32m    440\u001b[0m         \u001b[0mtoken\u001b[0m \u001b[0;34m=\u001b[0m \u001b[0mHfFolder\u001b[0m\u001b[0;34m.\u001b[0m\u001b[0mget_token\u001b[0m\u001b[0;34m(\u001b[0m\u001b[0;34m)\u001b[0m\u001b[0;34m\u001b[0m\u001b[0;34m\u001b[0m\u001b[0m\n\u001b[1;32m    441\u001b[0m \u001b[0;34m\u001b[0m\u001b[0m\n\u001b[0;32m--> 442\u001b[0;31m     \u001b[0mmodel_info\u001b[0m \u001b[0;34m=\u001b[0m \u001b[0m_api\u001b[0m\u001b[0;34m.\u001b[0m\u001b[0mmodel_info\u001b[0m\u001b[0;34m(\u001b[0m\u001b[0mrepo_id\u001b[0m\u001b[0;34m=\u001b[0m\u001b[0mrepo_id\u001b[0m\u001b[0;34m,\u001b[0m \u001b[0mrevision\u001b[0m\u001b[0;34m=\u001b[0m\u001b[0mrevision\u001b[0m\u001b[0;34m,\u001b[0m \u001b[0mtoken\u001b[0m\u001b[0;34m=\u001b[0m\u001b[0mtoken\u001b[0m\u001b[0;34m)\u001b[0m\u001b[0;34m\u001b[0m\u001b[0;34m\u001b[0m\u001b[0m\n\u001b[0m\u001b[1;32m    443\u001b[0m \u001b[0;34m\u001b[0m\u001b[0m\n\u001b[1;32m    444\u001b[0m     storage_folder = os.path.join(\n",
      "\u001b[0;32m~/.local/lib/python3.10/site-packages/huggingface_hub/utils/_validators.py\u001b[0m in \u001b[0;36m_inner_fn\u001b[0;34m(*args, **kwargs)\u001b[0m\n\u001b[1;32m    116\u001b[0m             \u001b[0mkwargs\u001b[0m \u001b[0;34m=\u001b[0m \u001b[0msmoothly_deprecate_use_auth_token\u001b[0m\u001b[0;34m(\u001b[0m\u001b[0mfn_name\u001b[0m\u001b[0;34m=\u001b[0m\u001b[0mfn\u001b[0m\u001b[0;34m.\u001b[0m\u001b[0m__name__\u001b[0m\u001b[0;34m,\u001b[0m \u001b[0mhas_token\u001b[0m\u001b[0;34m=\u001b[0m\u001b[0mhas_token\u001b[0m\u001b[0;34m,\u001b[0m \u001b[0mkwargs\u001b[0m\u001b[0;34m=\u001b[0m\u001b[0mkwargs\u001b[0m\u001b[0;34m)\u001b[0m\u001b[0;34m\u001b[0m\u001b[0;34m\u001b[0m\u001b[0m\n\u001b[1;32m    117\u001b[0m \u001b[0;34m\u001b[0m\u001b[0m\n\u001b[0;32m--> 118\u001b[0;31m         \u001b[0;32mreturn\u001b[0m \u001b[0mfn\u001b[0m\u001b[0;34m(\u001b[0m\u001b[0;34m*\u001b[0m\u001b[0margs\u001b[0m\u001b[0;34m,\u001b[0m \u001b[0;34m**\u001b[0m\u001b[0mkwargs\u001b[0m\u001b[0;34m)\u001b[0m\u001b[0;34m\u001b[0m\u001b[0;34m\u001b[0m\u001b[0m\n\u001b[0m\u001b[1;32m    119\u001b[0m \u001b[0;34m\u001b[0m\u001b[0m\n\u001b[1;32m    120\u001b[0m     \u001b[0;32mreturn\u001b[0m \u001b[0m_inner_fn\u001b[0m  \u001b[0;31m# type: ignore\u001b[0m\u001b[0;34m\u001b[0m\u001b[0;34m\u001b[0m\u001b[0m\n",
      "\u001b[0;32m~/.local/lib/python3.10/site-packages/huggingface_hub/hf_api.py\u001b[0m in \u001b[0;36mmodel_info\u001b[0;34m(self, repo_id, revision, timeout, securityStatus, files_metadata, token)\u001b[0m\n\u001b[1;32m   1675\u001b[0m         \u001b[0;32mif\u001b[0m \u001b[0mfiles_metadata\u001b[0m\u001b[0;34m:\u001b[0m\u001b[0;34m\u001b[0m\u001b[0;34m\u001b[0m\u001b[0m\n\u001b[1;32m   1676\u001b[0m             \u001b[0mparams\u001b[0m\u001b[0;34m[\u001b[0m\u001b[0;34m\"blobs\"\u001b[0m\u001b[0;34m]\u001b[0m \u001b[0;34m=\u001b[0m \u001b[0;32mTrue\u001b[0m\u001b[0;34m\u001b[0m\u001b[0;34m\u001b[0m\u001b[0m\n\u001b[0;32m-> 1677\u001b[0;31m         \u001b[0mr\u001b[0m \u001b[0;34m=\u001b[0m \u001b[0mget_session\u001b[0m\u001b[0;34m(\u001b[0m\u001b[0;34m)\u001b[0m\u001b[0;34m.\u001b[0m\u001b[0mget\u001b[0m\u001b[0;34m(\u001b[0m\u001b[0mpath\u001b[0m\u001b[0;34m,\u001b[0m \u001b[0mheaders\u001b[0m\u001b[0;34m=\u001b[0m\u001b[0mheaders\u001b[0m\u001b[0;34m,\u001b[0m \u001b[0mtimeout\u001b[0m\u001b[0;34m=\u001b[0m\u001b[0mtimeout\u001b[0m\u001b[0;34m,\u001b[0m \u001b[0mparams\u001b[0m\u001b[0;34m=\u001b[0m\u001b[0mparams\u001b[0m\u001b[0;34m)\u001b[0m\u001b[0;34m\u001b[0m\u001b[0;34m\u001b[0m\u001b[0m\n\u001b[0m\u001b[1;32m   1678\u001b[0m         \u001b[0mhf_raise_for_status\u001b[0m\u001b[0;34m(\u001b[0m\u001b[0mr\u001b[0m\u001b[0;34m)\u001b[0m\u001b[0;34m\u001b[0m\u001b[0;34m\u001b[0m\u001b[0m\n\u001b[1;32m   1679\u001b[0m         \u001b[0md\u001b[0m \u001b[0;34m=\u001b[0m \u001b[0mr\u001b[0m\u001b[0;34m.\u001b[0m\u001b[0mjson\u001b[0m\u001b[0;34m(\u001b[0m\u001b[0;34m)\u001b[0m\u001b[0;34m\u001b[0m\u001b[0;34m\u001b[0m\u001b[0m\n",
      "\u001b[0;32m~/.local/lib/python3.10/site-packages/requests/sessions.py\u001b[0m in \u001b[0;36mget\u001b[0;34m(self, url, **kwargs)\u001b[0m\n\u001b[1;32m    600\u001b[0m \u001b[0;34m\u001b[0m\u001b[0m\n\u001b[1;32m    601\u001b[0m         \u001b[0mkwargs\u001b[0m\u001b[0;34m.\u001b[0m\u001b[0msetdefault\u001b[0m\u001b[0;34m(\u001b[0m\u001b[0;34m\"allow_redirects\"\u001b[0m\u001b[0;34m,\u001b[0m \u001b[0;32mTrue\u001b[0m\u001b[0;34m)\u001b[0m\u001b[0;34m\u001b[0m\u001b[0;34m\u001b[0m\u001b[0m\n\u001b[0;32m--> 602\u001b[0;31m         \u001b[0;32mreturn\u001b[0m \u001b[0mself\u001b[0m\u001b[0;34m.\u001b[0m\u001b[0mrequest\u001b[0m\u001b[0;34m(\u001b[0m\u001b[0;34m\"GET\"\u001b[0m\u001b[0;34m,\u001b[0m \u001b[0murl\u001b[0m\u001b[0;34m,\u001b[0m \u001b[0;34m**\u001b[0m\u001b[0mkwargs\u001b[0m\u001b[0;34m)\u001b[0m\u001b[0;34m\u001b[0m\u001b[0;34m\u001b[0m\u001b[0m\n\u001b[0m\u001b[1;32m    603\u001b[0m \u001b[0;34m\u001b[0m\u001b[0m\n\u001b[1;32m    604\u001b[0m     \u001b[0;32mdef\u001b[0m \u001b[0moptions\u001b[0m\u001b[0;34m(\u001b[0m\u001b[0mself\u001b[0m\u001b[0;34m,\u001b[0m \u001b[0murl\u001b[0m\u001b[0;34m,\u001b[0m \u001b[0;34m**\u001b[0m\u001b[0mkwargs\u001b[0m\u001b[0;34m)\u001b[0m\u001b[0;34m:\u001b[0m\u001b[0;34m\u001b[0m\u001b[0;34m\u001b[0m\u001b[0m\n",
      "\u001b[0;32m~/.local/lib/python3.10/site-packages/requests/sessions.py\u001b[0m in \u001b[0;36mrequest\u001b[0;34m(self, method, url, params, data, headers, cookies, files, auth, timeout, allow_redirects, proxies, hooks, stream, verify, cert, json)\u001b[0m\n\u001b[1;32m    587\u001b[0m         }\n\u001b[1;32m    588\u001b[0m         \u001b[0msend_kwargs\u001b[0m\u001b[0;34m.\u001b[0m\u001b[0mupdate\u001b[0m\u001b[0;34m(\u001b[0m\u001b[0msettings\u001b[0m\u001b[0;34m)\u001b[0m\u001b[0;34m\u001b[0m\u001b[0;34m\u001b[0m\u001b[0m\n\u001b[0;32m--> 589\u001b[0;31m         \u001b[0mresp\u001b[0m \u001b[0;34m=\u001b[0m \u001b[0mself\u001b[0m\u001b[0;34m.\u001b[0m\u001b[0msend\u001b[0m\u001b[0;34m(\u001b[0m\u001b[0mprep\u001b[0m\u001b[0;34m,\u001b[0m \u001b[0;34m**\u001b[0m\u001b[0msend_kwargs\u001b[0m\u001b[0;34m)\u001b[0m\u001b[0;34m\u001b[0m\u001b[0;34m\u001b[0m\u001b[0m\n\u001b[0m\u001b[1;32m    590\u001b[0m \u001b[0;34m\u001b[0m\u001b[0m\n\u001b[1;32m    591\u001b[0m         \u001b[0;32mreturn\u001b[0m \u001b[0mresp\u001b[0m\u001b[0;34m\u001b[0m\u001b[0;34m\u001b[0m\u001b[0m\n",
      "\u001b[0;32m~/.local/lib/python3.10/site-packages/requests/sessions.py\u001b[0m in \u001b[0;36msend\u001b[0;34m(self, request, **kwargs)\u001b[0m\n\u001b[1;32m    701\u001b[0m \u001b[0;34m\u001b[0m\u001b[0m\n\u001b[1;32m    702\u001b[0m         \u001b[0;31m# Send the request\u001b[0m\u001b[0;34m\u001b[0m\u001b[0;34m\u001b[0m\u001b[0m\n\u001b[0;32m--> 703\u001b[0;31m         \u001b[0mr\u001b[0m \u001b[0;34m=\u001b[0m \u001b[0madapter\u001b[0m\u001b[0;34m.\u001b[0m\u001b[0msend\u001b[0m\u001b[0;34m(\u001b[0m\u001b[0mrequest\u001b[0m\u001b[0;34m,\u001b[0m \u001b[0;34m**\u001b[0m\u001b[0mkwargs\u001b[0m\u001b[0;34m)\u001b[0m\u001b[0;34m\u001b[0m\u001b[0;34m\u001b[0m\u001b[0m\n\u001b[0m\u001b[1;32m    704\u001b[0m \u001b[0;34m\u001b[0m\u001b[0m\n\u001b[1;32m    705\u001b[0m         \u001b[0;31m# Total elapsed time of the request (approximately)\u001b[0m\u001b[0;34m\u001b[0m\u001b[0;34m\u001b[0m\u001b[0m\n",
      "\u001b[0;32m~/.local/lib/python3.10/site-packages/huggingface_hub/utils/_http.py\u001b[0m in \u001b[0;36msend\u001b[0;34m(self, request, *args, **kwargs)\u001b[0m\n\u001b[1;32m     61\u001b[0m         \u001b[0;34m\"\"\"Catch any RequestException to append request id to the error message for debugging.\"\"\"\u001b[0m\u001b[0;34m\u001b[0m\u001b[0;34m\u001b[0m\u001b[0m\n\u001b[1;32m     62\u001b[0m         \u001b[0;32mtry\u001b[0m\u001b[0;34m:\u001b[0m\u001b[0;34m\u001b[0m\u001b[0;34m\u001b[0m\u001b[0m\n\u001b[0;32m---> 63\u001b[0;31m             \u001b[0;32mreturn\u001b[0m \u001b[0msuper\u001b[0m\u001b[0;34m(\u001b[0m\u001b[0;34m)\u001b[0m\u001b[0;34m.\u001b[0m\u001b[0msend\u001b[0m\u001b[0;34m(\u001b[0m\u001b[0mrequest\u001b[0m\u001b[0;34m,\u001b[0m \u001b[0;34m*\u001b[0m\u001b[0margs\u001b[0m\u001b[0;34m,\u001b[0m \u001b[0;34m**\u001b[0m\u001b[0mkwargs\u001b[0m\u001b[0;34m)\u001b[0m\u001b[0;34m\u001b[0m\u001b[0;34m\u001b[0m\u001b[0m\n\u001b[0m\u001b[1;32m     64\u001b[0m         \u001b[0;32mexcept\u001b[0m \u001b[0mrequests\u001b[0m\u001b[0;34m.\u001b[0m\u001b[0mRequestException\u001b[0m \u001b[0;32mas\u001b[0m \u001b[0me\u001b[0m\u001b[0;34m:\u001b[0m\u001b[0;34m\u001b[0m\u001b[0;34m\u001b[0m\u001b[0m\n\u001b[1;32m     65\u001b[0m             \u001b[0mrequest_id\u001b[0m \u001b[0;34m=\u001b[0m \u001b[0mrequest\u001b[0m\u001b[0;34m.\u001b[0m\u001b[0mheaders\u001b[0m\u001b[0;34m.\u001b[0m\u001b[0mget\u001b[0m\u001b[0;34m(\u001b[0m\u001b[0mX_AMZN_TRACE_ID\u001b[0m\u001b[0;34m)\u001b[0m\u001b[0;34m\u001b[0m\u001b[0;34m\u001b[0m\u001b[0m\n",
      "\u001b[0;32m~/.local/lib/python3.10/site-packages/requests/adapters.py\u001b[0m in \u001b[0;36msend\u001b[0;34m(self, request, stream, timeout, verify, cert, proxies)\u001b[0m\n\u001b[1;32m    517\u001b[0m                 \u001b[0;32mraise\u001b[0m \u001b[0mSSLError\u001b[0m\u001b[0;34m(\u001b[0m\u001b[0me\u001b[0m\u001b[0;34m,\u001b[0m \u001b[0mrequest\u001b[0m\u001b[0;34m=\u001b[0m\u001b[0mrequest\u001b[0m\u001b[0;34m)\u001b[0m\u001b[0;34m\u001b[0m\u001b[0;34m\u001b[0m\u001b[0m\n\u001b[1;32m    518\u001b[0m \u001b[0;34m\u001b[0m\u001b[0m\n\u001b[0;32m--> 519\u001b[0;31m             \u001b[0;32mraise\u001b[0m \u001b[0mConnectionError\u001b[0m\u001b[0;34m(\u001b[0m\u001b[0me\u001b[0m\u001b[0;34m,\u001b[0m \u001b[0mrequest\u001b[0m\u001b[0;34m=\u001b[0m\u001b[0mrequest\u001b[0m\u001b[0;34m)\u001b[0m\u001b[0;34m\u001b[0m\u001b[0;34m\u001b[0m\u001b[0m\n\u001b[0m\u001b[1;32m    520\u001b[0m \u001b[0;34m\u001b[0m\u001b[0m\n\u001b[1;32m    521\u001b[0m         \u001b[0;32mexcept\u001b[0m \u001b[0mClosedPoolError\u001b[0m \u001b[0;32mas\u001b[0m \u001b[0me\u001b[0m\u001b[0;34m:\u001b[0m\u001b[0;34m\u001b[0m\u001b[0;34m\u001b[0m\u001b[0m\n",
      "\u001b[0;31mConnectionError\u001b[0m: (MaxRetryError(\"HTTPSConnectionPool(host='huggingface.co', port=443): Max retries exceeded with url: /api/models/neuralmind/bert-base-portuguese-cased (Caused by NewConnectionError('<urllib3.connection.HTTPSConnection object at 0x7f58ec381420>: Failed to establish a new connection: [Errno -3] Temporary failure in name resolution'))\"), '(Request ID: 8064df0a-0842-4ef6-9153-2c1cef1d9486)')"
     ]
    }
   ],
   "source": [
    "pt_searcher = LocalSearcher(\n",
    "    collection_name='abstracts',\n",
    "    encoder_model=SentenceTransformer(config.MODELS[1], device='cuda'),\n",
    "    vectors=load_embeddings(config.EMBEDDINGS_DIR, config.MODELS[1].split('/')[-1], units_type, \"pt\"),\n",
    "    language=\"pt\",\n",
    "    data=metadata,\n",
    "    indices=load_imap(config.INDICES_DIR, units_type, \"pt\"),\n",
    "    ranking_model=None\n",
    ")"
   ]
  },
  {
   "cell_type": "code",
   "execution_count": 30,
   "id": "b2ceb625",
   "metadata": {},
   "outputs": [
    {
     "name": "stderr",
     "output_type": "stream",
     "text": [
      "[ 12/08 15:58:13 ] - sentence_transformers.SentenceTransformer - Load pretrained SentenceTransformer: distilbert-base-nli-stsb-mean-tokens\n"
     ]
    }
   ],
   "source": [
    "en_searcher = LocalSearcher(\n",
    "    collection_name='abstracts',\n",
    "    encoder_model=SentenceTransformer(config.MODELS[0], device='cuda'),\n",
    "    ranking_model=None,\n",
    "    vectors=load_embeddings(config.EMBEDDINGS_DIR, config.MODELS[0].split('/')[-1], units_type, \"en\"),\n",
    "    language=language,\n",
    "    data=metadata,\n",
    "    indices=load_imap(config.INDICES_DIR, units_type, \"en\")\n",
    ")"
   ]
  },
  {
   "cell_type": "code",
   "execution_count": 1,
   "id": "6d6aca83",
   "metadata": {},
   "outputs": [],
   "source": [
    "queries = {\n",
    "    \"pt\": [\n",
    "        \"ataque ddos\",\n",
    "        \"ataque ddos com machine learning\",\n",
    "        \"entendimento popular sobre dengue\",\n",
    "        \"computação quântica\",\n",
    "        \"políticas públicas sobre inteligência artificial\",\n",
    "        \"sindicatos e atribuições sociais\",\n",
    "        \"busca semântica\"\n",
    "    ],\n",
    "    \"en\": [\n",
    "        \"ddos attack\",\n",
    "        \"ddos attack with machine learning\",\n",
    "        \"popular understanding of dengue\",\n",
    "        \"quantum computing\",\n",
    "        \"public policies about artificial inteligence\",\n",
    "        \"unions and their social attributions\",\n",
    "        \"semantic search\"\n",
    "    ]\n",
    "}"
   ]
  },
  {
   "cell_type": "code",
   "execution_count": 33,
   "id": "13a16cce",
   "metadata": {},
   "outputs": [],
   "source": [
    "import datetime"
   ]
  },
  {
   "cell_type": "code",
   "execution_count": 34,
   "id": "5823a383",
   "metadata": {},
   "outputs": [],
   "source": [
    "dt = datetime.datetime.now().date()"
   ]
  },
  {
   "cell_type": "code",
   "execution_count": 35,
   "id": "0677c0f3",
   "metadata": {},
   "outputs": [],
   "source": [
    "def save_experiment_result(filepath, filename, result):\n",
    "    with open(os.path.join(filepath, filename), \"w\") as f:\n",
    "        f.write(result)"
   ]
  },
  {
   "cell_type": "code",
   "execution_count": null,
   "id": "ff12f77f",
   "metadata": {},
   "outputs": [],
   "source": []
  },
  {
   "cell_type": "code",
   "execution_count": 12,
   "id": "9a6d7e34",
   "metadata": {},
   "outputs": [
    {
     "name": "stderr",
     "output_type": "stream",
     "text": [
      "[ 11/08 21:31:01 ] - retrieve - Running retrieve\n",
      "[ 11/08 21:31:01 ] - process_query - Running process_query\n"
     ]
    },
    {
     "data": {
      "application/vnd.jupyter.widget-view+json": {
       "model_id": "b5a57fa46e654084aa91d978f79b1d74",
       "version_major": 2,
       "version_minor": 0
      },
      "text/plain": [
       "Batches:   0%|          | 0/1 [00:00<?, ?it/s]"
      ]
     },
     "metadata": {},
     "output_type": "display_data"
    },
    {
     "name": "stderr",
     "output_type": "stream",
     "text": [
      "[ 11/08 21:31:40 ] - process_query - process_query took 38.89206075668335 seconds\n",
      "[ 11/08 21:37:29 ] - retrieve - retrieve took 388.3621516227722 seconds\n",
      "[ 11/08 21:37:29 ] - retrieve - Running retrieve\n",
      "[ 11/08 21:37:29 ] - process_query - Running process_query\n"
     ]
    },
    {
     "data": {
      "application/vnd.jupyter.widget-view+json": {
       "model_id": "dca17b1b9e984f8d92f34113c778561f",
       "version_major": 2,
       "version_minor": 0
      },
      "text/plain": [
       "Batches:   0%|          | 0/1 [00:00<?, ?it/s]"
      ]
     },
     "metadata": {},
     "output_type": "display_data"
    },
    {
     "name": "stderr",
     "output_type": "stream",
     "text": [
      "[ 11/08 21:37:29 ] - process_query - process_query took 0.27484798431396484 seconds\n",
      "[ 11/08 21:46:13 ] - retrieve - retrieve took 524.0488886833191 seconds\n",
      "[ 11/08 21:46:13 ] - retrieve - Running retrieve\n",
      "[ 11/08 21:46:13 ] - process_query - Running process_query\n"
     ]
    },
    {
     "data": {
      "application/vnd.jupyter.widget-view+json": {
       "model_id": "82453564fec34b41afcd9a550afba7b7",
       "version_major": 2,
       "version_minor": 0
      },
      "text/plain": [
       "Batches:   0%|          | 0/1 [00:00<?, ?it/s]"
      ]
     },
     "metadata": {},
     "output_type": "display_data"
    },
    {
     "name": "stderr",
     "output_type": "stream",
     "text": [
      "[ 11/08 21:46:13 ] - process_query - process_query took 0.17519450187683105 seconds\n",
      "[ 11/08 21:54:30 ] - retrieve - retrieve took 496.893746137619 seconds\n",
      "[ 11/08 21:54:30 ] - retrieve - Running retrieve\n",
      "[ 11/08 21:54:30 ] - process_query - Running process_query\n"
     ]
    },
    {
     "data": {
      "application/vnd.jupyter.widget-view+json": {
       "model_id": "cfcc990be42c4706b1847bed3546001f",
       "version_major": 2,
       "version_minor": 0
      },
      "text/plain": [
       "Batches:   0%|          | 0/1 [00:00<?, ?it/s]"
      ]
     },
     "metadata": {},
     "output_type": "display_data"
    },
    {
     "name": "stderr",
     "output_type": "stream",
     "text": [
      "[ 11/08 21:54:30 ] - process_query - process_query took 0.17254114151000977 seconds\n",
      "[ 11/08 22:03:23 ] - retrieve - retrieve took 532.6180694103241 seconds\n",
      "[ 11/08 22:03:23 ] - retrieve - Running retrieve\n",
      "[ 11/08 22:03:23 ] - process_query - Running process_query\n"
     ]
    },
    {
     "data": {
      "application/vnd.jupyter.widget-view+json": {
       "model_id": "2c4da529f80d4831a6ff752c31634767",
       "version_major": 2,
       "version_minor": 0
      },
      "text/plain": [
       "Batches:   0%|          | 0/1 [00:00<?, ?it/s]"
      ]
     },
     "metadata": {},
     "output_type": "display_data"
    },
    {
     "name": "stderr",
     "output_type": "stream",
     "text": [
      "[ 11/08 22:03:23 ] - process_query - process_query took 0.18836140632629395 seconds\n",
      "[ 11/08 22:11:36 ] - retrieve - retrieve took 493.1788263320923 seconds\n",
      "[ 11/08 22:11:36 ] - retrieve - Running retrieve\n",
      "[ 11/08 22:11:36 ] - process_query - Running process_query\n"
     ]
    },
    {
     "data": {
      "application/vnd.jupyter.widget-view+json": {
       "model_id": "f4fb7fc7dd7548afa779f3c4a0934a4f",
       "version_major": 2,
       "version_minor": 0
      },
      "text/plain": [
       "Batches:   0%|          | 0/1 [00:00<?, ?it/s]"
      ]
     },
     "metadata": {},
     "output_type": "display_data"
    },
    {
     "name": "stderr",
     "output_type": "stream",
     "text": [
      "[ 11/08 22:11:36 ] - process_query - process_query took 0.16845178604125977 seconds\n",
      "[ 11/08 22:20:02 ] - retrieve - retrieve took 506.33262825012207 seconds\n"
     ]
    }
   ],
   "source": [
    "for query in queries[\"pt\"]:\n",
    "    results[\"pt\"].append(pt_searcher.retrieve(query))"
   ]
  },
  {
   "cell_type": "code",
   "execution_count": 36,
   "id": "3f012c56",
   "metadata": {},
   "outputs": [],
   "source": [
    "query = queries[\"en\"][0]"
   ]
  },
  {
   "cell_type": "code",
   "execution_count": 38,
   "id": "0e43f321",
   "metadata": {},
   "outputs": [
    {
     "name": "stderr",
     "output_type": "stream",
     "text": [
      "[ 12/08 15:59:45 ] - retrieve - Running retrieve\n",
      "[ 12/08 15:59:45 ] - process_query - Running process_query\n"
     ]
    },
    {
     "data": {
      "application/vnd.jupyter.widget-view+json": {
       "model_id": "a1b64b55497f4254bc22074555735a78",
       "version_major": 2,
       "version_minor": 0
      },
      "text/plain": [
       "Batches:   0%|          | 0/1 [00:00<?, ?it/s]"
      ]
     },
     "metadata": {},
     "output_type": "display_data"
    },
    {
     "name": "stderr",
     "output_type": "stream",
     "text": [
      "[ 12/08 15:59:46 ] - process_query - process_query took 0.5210015773773193 seconds\n",
      "[ 12/08 16:08:01 ] - retrieve - retrieve took 495.8082513809204 seconds\n"
     ]
    }
   ],
   "source": [
    "result = en_searcher.retrieve(query)"
   ]
  },
  {
   "cell_type": "code",
   "execution_count": 39,
   "id": "9b37b6b8",
   "metadata": {},
   "outputs": [
    {
     "data": {
      "text/plain": [
       "[url               https://www.teses.usp.br/teses/disponiveis/3/3...\n",
       " doi                           10.11606/D.3.2019.tde-25032019-114624\n",
       " type                                        Dissertação de Mestrado\n",
       " author                          Almeida, Thiago Rodrigues Meira de \n",
       " institute                                        Escola Politécnica\n",
       " knowledge_area                             Engenharia de Computação\n",
       " committee         Simplicio Junior, Marcos Antonio (Presidente) ...\n",
       " title_pt          Uma arquitetura colaborativa contra ataques di...\n",
       " title_en          A collaborative architecture against DDOS atta...\n",
       " keywords_pt                  Computação em nuvem Segurança de redes\n",
       " keywords_en                   Cloud computing DDOS SDN Security SFC\n",
       " abstract_pt                                              Sem resumo\n",
       " abstract_en       Distributed attacks, such as Distributed Denia...\n",
       " publish_date                                             2019-03-27\n",
       " Name: 78081, dtype: object,\n",
       " url               https://www.teses.usp.br/teses/disponiveis/45/...\n",
       " doi               https://doi.org/10.11606/D.45.2022.tde-0112202...\n",
       " type                                        Dissertação de Mestrado\n",
       " author                              Oliveira, Guilherme Werneck de \n",
       " institute                     Instituto de Matemática e Estatística\n",
       " knowledge_area                                Ciência da Computação\n",
       " committee         Batista, Daniel Macedo (Presidente) Silva, Ped...\n",
       " title_pt          Mitigação de ataques DDoS na IoT por meio de a...\n",
       " title_en          Mitigating DDoS attacks on IoT through machine...\n",
       " keywords_pt       Aprendizado de máquina DDoS Desempenho IoT NFV...\n",
       " keywords_en       DDoS IoT Machine learning NFV Performance Secu...\n",
       " abstract_pt       A Internet das coisas (IoT - Internet of Thing...\n",
       " abstract_en       The Internet of Things (IoT) has undergone a r...\n",
       " publish_date                                             2022-12-05\n",
       " Name: 97594, dtype: object,\n",
       " url               https://www.teses.usp.br/teses/disponiveis/3/3...\n",
       " doi                           10.11606/D.3.2014.tde-18032015-155642\n",
       " type                                        Dissertação de Mestrado\n",
       " author                                  Pereira, João Paulo Aragão \n",
       " institute                                        Escola Politécnica\n",
       " knowledge_area                             Engenharia de Computação\n",
       " committee         Simplicio Junior, Marcos Antonio (Presidente) ...\n",
       " title_pt          Método de mitigação contra ataques de negação ...\n",
       " title_en          Method for mitigating against distributed deni...\n",
       " keywords_pt          DDoS Detecção e mitigação Sistema multiagentes\n",
       " keywords_en        DDoS Detection and mitigation Multi-agent system\n",
       " abstract_pt       A qualidade do serviço oferecido por Provedore...\n",
       " abstract_en       The quality of service offered by the Internet...\n",
       " publish_date                                             2015-03-24\n",
       " Name: 53791, dtype: object,\n",
       " url               https://www.teses.usp.br/teses/disponiveis/45/...\n",
       " doi               https://doi.org/10.11606/D.45.2022.tde-0112202...\n",
       " type                                        Dissertação de Mestrado\n",
       " author                              Oliveira, Guilherme Werneck de \n",
       " institute                     Instituto de Matemática e Estatística\n",
       " knowledge_area                                Ciência da Computação\n",
       " committee         Batista, Daniel Macedo (Presidente) Silva, Ped...\n",
       " title_pt          Mitigação de ataques DDoS na IoT por meio de a...\n",
       " title_en          Mitigating DDoS attacks on IoT through machine...\n",
       " keywords_pt       Aprendizado de máquina DDoS Desempenho IoT NFV...\n",
       " keywords_en       DDoS IoT Machine learning NFV Performance Secu...\n",
       " abstract_pt       A Internet das coisas (IoT - Internet of Thing...\n",
       " abstract_en       The Internet of Things (IoT) has undergone a r...\n",
       " publish_date                                             2022-12-05\n",
       " Name: 97594, dtype: object,\n",
       " url               https://www.teses.usp.br/teses/disponiveis/3/3...\n",
       " doi                           10.11606/D.3.2019.tde-25032019-114624\n",
       " type                                        Dissertação de Mestrado\n",
       " author                          Almeida, Thiago Rodrigues Meira de \n",
       " institute                                        Escola Politécnica\n",
       " knowledge_area                             Engenharia de Computação\n",
       " committee         Simplicio Junior, Marcos Antonio (Presidente) ...\n",
       " title_pt          Uma arquitetura colaborativa contra ataques di...\n",
       " title_en          A collaborative architecture against DDOS atta...\n",
       " keywords_pt                  Computação em nuvem Segurança de redes\n",
       " keywords_en                   Cloud computing DDOS SDN Security SFC\n",
       " abstract_pt                                              Sem resumo\n",
       " abstract_en       Distributed attacks, such as Distributed Denia...\n",
       " publish_date                                             2019-03-27\n",
       " Name: 78081, dtype: object,\n",
       " url               https://www.teses.usp.br/teses/disponiveis/46/...\n",
       " doi                          10.11606/T.46.2018.tde-30082018-150911\n",
       " type                                              Tese de Doutorado\n",
       " author                              Matos, Maria Auxiliadora Costa \n",
       " institute                                      Instituto de Química\n",
       " knowledge_area                                    Química Analítica\n",
       " committee         Weber, Rolf Roland (Presidente) Angnes, Lucio ...\n",
       " title_pt          Resíduos de pesticidas organoclorados e bifeni...\n",
       " title_en          Waste of organochlorine pesticides and polychl...\n",
       " keywords_pt       Biota Cromatografia a gás DDT Oceanografia quí...\n",
       " keywords_en       Biota Chemical oceanography DDT Environmental ...\n",
       " abstract_pt       Bifenilos policlorados (PCBs) e pesticidas org...\n",
       " abstract_en       Polychlorinated biphenyls and chlorinated pest...\n",
       " publish_date                                             2018-08-30\n",
       " Name: 73950, dtype: object,\n",
       " url               https://www.teses.usp.br/teses/disponiveis/100...\n",
       " doi                         10.11606/D.100.2016.tde-20122016-112241\n",
       " type                                        Dissertação de Mestrado\n",
       " author                              Misailidis Lerena, Maria Laura \n",
       " institute                   Escola de Artes, Ciências e Humanidades\n",
       " knowledge_area                                     Sustentabilidade\n",
       " committee         Duleba, Wânia (Presidente) Bevilacqua, Jose Ed...\n",
       " title_pt          Estudo multidisciplinar da evolução ambiental ...\n",
       " title_en          Multidisciplinary study of the environmental e...\n",
       " keywords_pt       DDT Elementos traço HPAs Magnetismo ambiental ...\n",
       " keywords_en       DDT Environmental magnetism PAHs PCBs Salto Gr...\n",
       " abstract_pt       A presente dissertação é um estudo da evolução...\n",
       " abstract_en       This works presents an environmental evolution...\n",
       " publish_date                                             2016-12-20\n",
       " Name: 3546, dtype: object,\n",
       " url               https://www.teses.usp.br/teses/disponiveis/21/...\n",
       " doi                          10.11606/D.21.2017.tde-22022017-181101\n",
       " type                                        Dissertação de Mestrado\n",
       " author                                   Mello, Leonardo Henriques \n",
       " institute                                   Instituto Oceanográfico\n",
       " knowledge_area                                 Oceanografia Química\n",
       " committee         Montone, Rosalinda Carmela (Presidente) Louren...\n",
       " title_pt          Histórico deposicional de Poluentes Orgânicos ...\n",
       " title_en          Historical records of Persistent Organic Pollu...\n",
       " keywords_pt       Amazônia DDT Estuário Poluentes Orgânicos Pers...\n",
       " keywords_en       Amazon DDT Estuary Persistent Organic Pollutan...\n",
       " abstract_pt       A distribuição espacial e o histórico deposici...\n",
       " abstract_en       The spatial distribution and depositional hist...\n",
       " publish_date                                             2017-02-23\n",
       " Name: 63960, dtype: object,\n",
       " url               https://www.teses.usp.br/teses/disponiveis/5/5...\n",
       " doi                           10.11606/D.5.2016.tde-20062016-142027\n",
       " type                                        Dissertação de Mestrado\n",
       " author                                 Nascimento, Felipe Parra do \n",
       " institute                                     Faculdade de Medicina\n",
       " knowledge_area                                  Medicina Preventiva\n",
       " committee         Gouveia, Nelson da Cruz (Presidente) Cardoso, ...\n",
       " title_pt          Exposição a substâncias organocloradas em São ...\n",
       " title_en          Exposure to organochlorine substances in São P...\n",
       " keywords_pt       Beta-hexaclorociclohexano DDT Doadores de sang...\n",
       " keywords_en       Beta-hexachlorocyclohexane Blood donors DDT En...\n",
       " abstract_pt       A utilização de pesticidas organoclorados é mo...\n",
       " abstract_en       The use of organochlorine pesticides is a caus...\n",
       " publish_date                                             2016-06-20\n",
       " Name: 62923, dtype: object,\n",
       " url               https://www.teses.usp.br/teses/disponiveis/23/...\n",
       " doi                          10.11606/T.23.2016.tde-24052016-171013\n",
       " type                                              Tese de Doutorado\n",
       " author                              Melani, Andréa Carla Franchini \n",
       " institute                                  Faculdade de Odontologia\n",
       " knowledge_area                                   Odontologia Social\n",
       " committee         Araujo, Maria Ercilia de (Presidente) Crosato,...\n",
       " title_pt          Contribuição ao estudo da Síndrome de Burnout ...\n",
       " title_en          Contribution to the study of burnout syndrome ...\n",
       " keywords_pt         Burnout Cirurgião-dentista Odontologia Trabalho\n",
       " keywords_en                                 Burnout DDS Dental Work\n",
       " abstract_pt       A Síndrome de Burnout, definida por Maslach e ...\n",
       " abstract_en       Burnout syndrome, defined by Maslach and Jacks...\n",
       " publish_date                                             2016-10-06\n",
       " Name: 1934, dtype: object,\n",
       " url               https://www.teses.usp.br/teses/disponiveis/5/5...\n",
       " doi                           10.11606/T.5.2011.tde-22092011-131428\n",
       " type                                              Tese de Doutorado\n",
       " author                                      Brandão, Maíra Pontual \n",
       " institute                                     Faculdade de Medicina\n",
       " knowledge_area                                       Endocrinologia\n",
       " committee         Costa, Elaine Maria Frade (Presidente) Arnhold...\n",
       " title_pt          Análise do gene MAMLD1(CXorf6) em pacientes co...\n",
       " title_en          Analysis of the MAMLD1 (CXorf6) gene in patien...\n",
       " keywords_pt       DDS 46 XY de origem indeterminada Diferenciaçã...\n",
       " keywords_en       Disorders of sexual development Genetics MAMLD...\n",
       " abstract_pt       Introdução: O gene MAMLD1 tem sido relacionado...\n",
       " abstract_en       Introduction: MAMLD1 has been shown to be impl...\n",
       " publish_date                                             2011-09-22\n",
       " Name: 32940, dtype: object,\n",
       " url               https://www.teses.usp.br/teses/disponiveis/76/...\n",
       " doi                          10.11606/T.76.1995.tde-04062007-150439\n",
       " type                                              Tese de Doutorado\n",
       " author                                        Martins, Mateus Jose \n",
       " institute                         Instituto de Física de São Carlos\n",
       " knowledge_area                                      Física Aplicada\n",
       " committee         Slaets, Jan Frans Willem (Presidente) Massola,...\n",
       " title_pt          Desenvolvimento de um tomógrafo de ressonância...\n",
       " title_en          Development of a magnetic resonance tomograph:...\n",
       " keywords_pt       Compresssão de dados DDS Espectrômetro Geração...\n",
       " keywords_en       Data compression DDS Gradient waveform generat...\n",
       " abstract_pt       O presente trabalho descreve o desenvolvimento...\n",
       " abstract_en       The present work describes the development of ...\n",
       " publish_date                                             2007-06-11\n",
       " Name: 10879, dtype: object,\n",
       " url               https://www.teses.usp.br/teses/disponiveis/42/...\n",
       " doi                          10.11606/D.42.2009.tde-06042009-164847\n",
       " type                                        Dissertação de Mestrado\n",
       " author                                            Higashi, Daniela \n",
       " institute                          Instituto de Ciências Biomédicas\n",
       " knowledge_area                                        Microbiologia\n",
       " committee         Simionato, Maria Regina Lorenzetti (Presidente...\n",
       " title_pt          Identificação de genes de isolados clínicos de...\n",
       " title_en          Identification of genes from Porphyromonas gin...\n",
       " keywords_pt       Porphyromonas gingivalis Biofilmes DD PCR Expr...\n",
       " keywords_en       Porphymonas gengivalis Biofilms DD PCR Gene ex...\n",
       " abstract_pt       Porphyromonas gingivalis é um bacilo anaeróbio...\n",
       " abstract_en       Porphyromonas gingivalis is a Gram negative an...\n",
       " publish_date                                             2009-04-07\n",
       " Name: 19499, dtype: object,\n",
       " url               https://www.teses.usp.br/teses/disponiveis/46/...\n",
       " doi                          10.11606/T.46.2013.tde-03052013-083112\n",
       " type                                              Tese de Doutorado\n",
       " author                                   Santos, Diego Pereira dos \n",
       " institute                                      Instituto de Química\n",
       " knowledge_area                                              Química\n",
       " committee         Temperini, Marcia Laudelina Arruda (Presidente...\n",
       " title_pt          Espalhamento Raman intensificado pela superfíc...\n",
       " title_en          Surface-enhanced Raman scattering at single-mo...\n",
       " keywords_pt       DDA Flutuações Monte Carlo Nanopartículas SERS...\n",
       " keywords_en       DDA Fluctuations Monte Carlo Nanoparticles Sin...\n",
       " abstract_pt       Nesta tese foi estudado o espalhamento Raman i...\n",
       " abstract_en       In this thesis it was studied surface-enhanced...\n",
       " publish_date                                             2013-06-06\n",
       " Name: 42258, dtype: object,\n",
       " url               https://www.teses.usp.br/teses/disponiveis/46/...\n",
       " doi                          10.11606/T.46.2001.tde-19052007-134137\n",
       " type                                              Tese de Doutorado\n",
       " author                                            Taniguchi, Satie \n",
       " institute                                      Instituto de Química\n",
       " knowledge_area                                    Química Analítica\n",
       " committee         Weber, Rolf Roland (Presidente) Beretta, Magda...\n",
       " title_pt          Avaliação da contaminação por hidrocarbonetos ...\n",
       " title_en          Evaluation of the contamination of several com...\n",
       " keywords_pt       Ambiente marinho DDTs Fígado de peixe HCHs Hid...\n",
       " keywords_en       DDTs Fish liver HCHs Hydrocarbons Marine envir...\n",
       " abstract_pt       O ambiente marinho é o destino final de muitos...\n",
       " abstract_en       The marine environment is the final recipient ...\n",
       " publish_date                                             2007-05-31\n",
       " Name: 10804, dtype: object,\n",
       " url               https://www.teses.usp.br/teses/disponiveis/8/8...\n",
       " doi               https://doi.org/10.11606/T.8.2020.tde-18032021...\n",
       " type                                              Tese de Doutorado\n",
       " author                                  Santos, Andrea Geroldo dos \n",
       " institute         Faculdade de Filosofia, Letras e Ciências Humanas\n",
       " knowledge_area          Estudos Lingüísticos e Literários em Inglês\n",
       " committee         Tagnin, Stella Esther Ortweiler (Presidente) F...\n",
       " title_pt          Raising conventionality awareness to bridge ga...\n",
       " title_en          Raising conventionality awareness to bridge ga...\n",
       " keywords_pt       Abordagem DDL Colocações Convencionalidade Ens...\n",
       " keywords_en       Collocations Concordance lines Corpus Linguist...\n",
       " abstract_pt       O objetivo desta tese de doutorado é apresenta...\n",
       " abstract_en       The aim of this dissertation is to put forward...\n",
       " publish_date                                             2021-03-18\n",
       " Name: 90474, dtype: object,\n",
       " url               https://www.teses.usp.br/teses/disponiveis/46/...\n",
       " doi               https://doi.org/10.11606/D.46.2019.tde-1003202...\n",
       " type                                        Dissertação de Mestrado\n",
       " author                                      Silva, Luiz Eduardo da \n",
       " institute                                      Instituto de Química\n",
       " knowledge_area                                           Bioquímica\n",
       " committee         Forti, Fábio Luís (Presidente) Hoch, Nicolas C...\n",
       " title_pt          Validação de parceiros moleculares de Cdc42 em...\n",
       " title_en          Validation of Cdc42 molecular partners in huma...\n",
       " keywords_pt       Cdc42 Instabilidade genômica Interação proteín...\n",
       " keywords_en       Cdc42 DNA Damage Response (DDR) Genomic instab...\n",
       " abstract_pt       A proteína Cell Division Cycle 42 (CDC42), per...\n",
       " abstract_en       Cell Division Cycle 42 (CDC42), which belongs ...\n",
       " publish_date                                             2020-08-07\n",
       " Name: 87532, dtype: object,\n",
       " url               https://www.teses.usp.br/teses/disponiveis/60/...\n",
       " doi                          10.11606/D.60.2014.tde-27112014-092603\n",
       " type                                        Dissertação de Mestrado\n",
       " author                                     Tannous, Maryna Aguilar \n",
       " institute         Faculdade de Ciências Farmacêuticas de Ribeirã...\n",
       " knowledge_area                     Biociências Aplicadas à Farmácia\n",
       " committee         Leopoldino, Andréia Machado (Presidente) Annic...\n",
       " title_pt          O papel da proteína SET no perfil de metilação...\n",
       " title_en          The role of SET protein in miR-9 methylation p...\n",
       " keywords_pt       ATM DDR DSB Metilação de miRNA Reparo de DNA S...\n",
       " keywords_en       ATM DDR DNA repair DSB miRNA methylation SET/I...\n",
       " abstract_pt       O início e a progressão do carcinoma espinocel...\n",
       " abstract_en       Oral squamous cell carcinoma (OSCC) onset and ...\n",
       " publish_date                                             2015-01-07\n",
       " Name: 52284, dtype: object,\n",
       " url               https://www.teses.usp.br/teses/disponiveis/3/3...\n",
       " doi               https://doi.org/10.11606/T.3.2022.tde-31032023...\n",
       " type                                              Tese de Doutorado\n",
       " author                             Godoi, Antonio Carlos Bastos de \n",
       " institute                                        Escola Politécnica\n",
       " knowledge_area                               Engenharia de Sistemas\n",
       " committee         Piqueira, José Roberto Castilho (Presidente) B...\n",
       " title_pt          Modelo de contenção de malware em redes com al...\n",
       " title_en          Malware containment model in networks under al...\n",
       " keywords_pt       Autômatos celulares Hackers Redes de computado...\n",
       " keywords_en          Containment Cyber Malware SASIR Security Worms\n",
       " abstract_pt       Nos últimos anos, o progresso tecnológico, rep...\n",
       " abstract_en       In recent years, technological progress whereb...\n",
       " publish_date                                             2023-04-03\n",
       " Name: 99812, dtype: object,\n",
       " url               https://www.teses.usp.br/teses/disponiveis/8/8...\n",
       " doi                           10.11606/T.8.2013.tde-12032014-123051\n",
       " type                                              Tese de Doutorado\n",
       " author                                     Causo, Roberto de Sousa \n",
       " institute         Faculdade de Filosofia, Letras e Ciências Humanas\n",
       " knowledge_area          Estudos Lingüísticos e Literários em Inglês\n",
       " committee         Souza, Lynn Mario Trindade Menezes de (Preside...\n",
       " title_pt          Ondas nas Praias de um Mundo Sombrio: New Wave...\n",
       " title_en          Waves on the beaches of a dark world: New Wave...\n",
       " keywords_pt       Cyberpunk Ficção científica Ficção de gênero L...\n",
       " keywords_en       Avant-garde Cyberpunk Genre fiction Metafictio...\n",
       " abstract_pt       O objetivo deste estudo é fornecer uma análise...\n",
       " abstract_en       The objective of this study is to provide an a...\n",
       " publish_date                                             2014-03-12\n",
       " Name: 47230, dtype: object,\n",
       " url               https://www.teses.usp.br/teses/disponiveis/11/...\n",
       " doi               https://doi.org/10.11606/T.11.2023.tde-1605202...\n",
       " type                                              Tese de Doutorado\n",
       " author                                   Santos, Isabela Jorge dos \n",
       " institute            Escola Superior de Agricultura Luiz de Queiroz\n",
       " knowledge_area                           Ciência Animal e Pastagens\n",
       " committee         Ferreira, Evandro Maia (Presidente) Bueno, Mau...\n",
       " title_pt          A utilização do DDG dried distillers grains na...\n",
       " title_en          The use of DDG dried distillers grains in feed...\n",
       " keywords_pt       DDG Desempenho Digestibilidade Fermentação rum...\n",
       " keywords_en       DDG Digestibility Performance Ruminal fermenta...\n",
       " abstract_pt       Os objetivos do presente estudo foram avaliar ...\n",
       " abstract_en       The objectives of the present study were to ev...\n",
       " publish_date                                             2023-05-17\n",
       " Name: 100519, dtype: object,\n",
       " url               http://www.teses.usp.br/teses/disponiveis/11/1...\n",
       " doi               https://doi.org/10.11606/D.11.2019.tde-1712201...\n",
       " type                                        Dissertação de Mestrado\n",
       " author                             Oliveira, Ana Beatriz Santos de \n",
       " institute            Escola Superior de Agricultura Luiz de Queiroz\n",
       " knowledge_area                           Ciência Animal e Pastagens\n",
       " committee         Menten, José Fernando Machado (Presidente) Ara...\n",
       " title_pt          Energia metabolizável e digestibilidade de ami...\n",
       " title_en          Metabolizable energy and standardized ileal di...\n",
       " keywords_pt        Aminoácidos Avicultura DDG DDGS Energia Nutrição\n",
       " keywords_en           Amino acids DDG DDGS Energy Nutrition Poultry\n",
       " abstract_pt       A produção de etanol a partir do milho gera co...\n",
       " abstract_en       The production of ethanol from corn generates ...\n",
       " publish_date                                             2019-12-18\n",
       " Name: 83535, dtype: object,\n",
       " url               https://www.teses.usp.br/teses/disponiveis/39/...\n",
       " doi               https://doi.org/10.11606/D.39.2022.tde-3103202...\n",
       " type                                        Dissertação de Mestrado\n",
       " author                                 Kashiwagura, Daniel Brandão \n",
       " institute                       Escola de Educação Física e Esporte\n",
       " knowledge_area    Estudos Biodinâmicos da Educação Física e Esporte\n",
       " committee         Franchini, Emerson (Presidente) Gomes, Fábio R...\n",
       " title_pt          Comparação das movimentações prévias, tipos de...\n",
       " title_en          Comparison of previous movements, types of gri...\n",
       " keywords_pt       Análise notacional CHAID Sistema de ataque Téc...\n",
       " keywords_en       Attack system CHAID Notational analysis Techni...\n",
       " abstract_pt       O judô é uma modalidade de combate que tem por...\n",
       " abstract_en       Judo is a combat sport that aims to throw the ...\n",
       " publish_date                                             2022-04-04\n",
       " Name: 93076, dtype: object,\n",
       " url               https://www.teses.usp.br/teses/disponiveis/18/...\n",
       " doi               https://doi.org/10.11606/D.18.2020.tde-1007202...\n",
       " type                                        Dissertação de Mestrado\n",
       " author                                Santos, Lucas Alves da Silva \n",
       " institute                        Escola de Engenharia de São Carlos\n",
       " knowledge_area                      Processos e Gestão de Operações\n",
       " committee         Espôsto, Kleber Francisco (Presidente) Eulalia...\n",
       " title_pt          Impactos da implementação do Demand-Driven Mat...\n",
       " title_en          Demand-Driven Material Requirements Planning (...\n",
       " keywords_pt       Demand-Driven Material Requirements Planning A...\n",
       " keywords_en       AHP DDMRP DDMRP impacts Demand-Driven Material...\n",
       " abstract_pt       A Gestão da Cadeia de Suprimentos (SCM) se tor...\n",
       " abstract_en       Supply Chain Management (SCM) turned out to be...\n",
       " publish_date                                             2020-07-15\n",
       " Name: 87248, dtype: object,\n",
       " url               https://www.teses.usp.br/teses/disponiveis/11/...\n",
       " doi               https://doi.org/10.11606/D.11.2022.tde-0301202...\n",
       " type                                        Dissertação de Mestrado\n",
       " author                             Moraes, João Marcos Meneghel de \n",
       " institute            Escola Superior de Agricultura Luiz de Queiroz\n",
       " knowledge_area                           Ciência Animal e Pastagens\n",
       " committee         Santos, Flavio Augusto Portela (Presidente) Ar...\n",
       " title_pt          Níveis de inclusão de fibra seca com solúveis ...\n",
       " title_en          Inclusion levels of co-product derived from th...\n",
       " keywords_pt                       DDBS Desempenho PNDR Substituição\n",
       " keywords_en                        DDBS Performance Replacement RUP\n",
       " abstract_pt       Dois experimentos foram conduzidos para avalia...\n",
       " abstract_en       Two experiments were carried out to evaluate t...\n",
       " publish_date                                             2023-01-04\n",
       " Name: 98163, dtype: object,\n",
       " url               https://www.teses.usp.br/teses/disponiveis/17/...\n",
       " doi               https://doi.org/10.11606/D.17.2022.tde-0302202...\n",
       " type                                        Dissertação de Mestrado\n",
       " author                                 Silva, Bruno Roberto Duarte \n",
       " institute                   Faculdade de Medicina de Ribeirão Preto\n",
       " knowledge_area                                             Medicina\n",
       " committee         Marques, João Mazzoncini de Azevedo (President...\n",
       " title_pt          Instrumentos para avaliação clínica do uso pro...\n",
       " title_en          Clinical assessment scales for screening probl...\n",
       " keywords_pt       Adolescentes Crianças Escalas Revisão de escop...\n",
       " keywords_en       Adolescents Children Internet gaming disorder ...\n",
       " abstract_pt       Introdução: Desde 2007 o grupo encarregado por...\n",
       " abstract_en       Introduction: Since 2007, the group responsibl...\n",
       " publish_date                                             2023-02-08\n",
       " Name: 98764, dtype: object,\n",
       " url               https://www.teses.usp.br/teses/disponiveis/43/...\n",
       " doi                          10.11606/T.43.2005.tde-22012007-140200\n",
       " type                                              Tese de Doutorado\n",
       " author                                  Silva, Rômulo Rodrigues da \n",
       " institute                                       Instituto de Física\n",
       " knowledge_area                                               Física\n",
       " committee         Nielsen, Marina (Presidente) Bracco, Mirian En...\n",
       " title_pt          \"Constantes de acoplamento a partir das regras...\n",
       " title_en                    The coupling constants in QCD sum rules\n",
       " keywords_pt       Pentaquarks Regras de soma da QCD Vertice J/Ps...\n",
       " keywords_en              J/Psi DD* vertex Pentaquarks QCD sum rules\n",
       " abstract_pt       Usamos as regras de soma da QCD para obter a m...\n",
       " abstract_en       We use the QCD sum rules to obtain the masses ...\n",
       " publish_date                                             2007-02-01\n",
       " Name: 9404, dtype: object,\n",
       " url               https://www.teses.usp.br/teses/disponiveis/3/3...\n",
       " doi                           10.11606/D.3.2014.tde-18032015-155642\n",
       " type                                        Dissertação de Mestrado\n",
       " author                                  Pereira, João Paulo Aragão \n",
       " institute                                        Escola Politécnica\n",
       " knowledge_area                             Engenharia de Computação\n",
       " committee         Simplicio Junior, Marcos Antonio (Presidente) ...\n",
       " title_pt          Método de mitigação contra ataques de negação ...\n",
       " title_en          Method for mitigating against distributed deni...\n",
       " keywords_pt          DDoS Detecção e mitigação Sistema multiagentes\n",
       " keywords_en        DDoS Detection and mitigation Multi-agent system\n",
       " abstract_pt       A qualidade do serviço oferecido por Provedore...\n",
       " abstract_en       The quality of service offered by the Internet...\n",
       " publish_date                                             2015-03-24\n",
       " Name: 53791, dtype: object,\n",
       " url               https://www.teses.usp.br/teses/disponiveis/5/5...\n",
       " doi                           10.11606/D.5.2010.tde-25082010-145220\n",
       " type                                        Dissertação de Mestrado\n",
       " author                           Cardoso, Alberto Eduardo Oiticica \n",
       " institute                                     Faculdade de Medicina\n",
       " knowledge_area                                         Dermatologia\n",
       " committee         Festa Neto, Cyro (Presidente) Almeida, Fernand...\n",
       " title_pt          Estudo clínico e de mutações no gene PTCH1 em ...\n",
       " title_en          Clinical and PTCH1 gene mutations studies in p...\n",
       " keywords_pt       Carcinoma basocelular Éxons/genética Genes neo...\n",
       " keywords_en       Basal cell nevus syndrome Carcinoma basal cell...\n",
       " abstract_pt       INTRODUÇÃO: O carcinoma basocelular (CBC) é o ...\n",
       " abstract_en       INTRODUCTION: Basal cell carcinomas (BCC) are ...\n",
       " publish_date                                             2010-08-25\n",
       " Name: 26946, dtype: object,\n",
       " url               https://www.teses.usp.br/teses/disponiveis/27/...\n",
       " doi                          10.11606/D.27.2010.tde-26112011-222821\n",
       " type                                        Dissertação de Mestrado\n",
       " author                                 Geraldo, Luis Gustavo Bueno \n",
       " institute                            Escola de Comunicações e Artes\n",
       " knowledge_area                                     Poéticas Visuais\n",
       " committee         Laurentiz, Silvia Regina Ferreira de (Presiden...\n",
       " title_pt          As galerias do virtual: o ciberflâneur e a pro...\n",
       " title_en          As galerias do virtual: o ciberflâneur e a pro...\n",
       " keywords_pt       Arte tecnológica Ciberespaço Ciberflâneur Flâneur\n",
       " keywords_en       Cyberflâneur Cyberspace Flâneur Technological art\n",
       " abstract_pt       Este trabalho tem como propósito analisar o co...\n",
       " abstract_en       This paper aims to analyze the concept of the ...\n",
       " publish_date                                             2011-12-06\n",
       " Name: 33910, dtype: object]"
      ]
     },
     "execution_count": 39,
     "metadata": {},
     "output_type": "execute_result"
    }
   ],
   "source": [
    "result"
   ]
  },
  {
   "cell_type": "code",
   "execution_count": 13,
   "id": "29341986",
   "metadata": {},
   "outputs": [
    {
     "name": "stderr",
     "output_type": "stream",
     "text": [
      "[ 11/08 22:20:02 ] - retrieve - Running retrieve\n",
      "[ 11/08 22:20:02 ] - process_query - Running process_query\n"
     ]
    },
    {
     "data": {
      "application/vnd.jupyter.widget-view+json": {
       "model_id": "c042882bc3f040feab8415864811c330",
       "version_major": 2,
       "version_minor": 0
      },
      "text/plain": [
       "Batches:   0%|          | 0/1 [00:00<?, ?it/s]"
      ]
     },
     "metadata": {},
     "output_type": "display_data"
    },
    {
     "name": "stderr",
     "output_type": "stream",
     "text": [
      "[ 11/08 22:20:03 ] - process_query - process_query took 0.4843001365661621 seconds\n",
      "[ 11/08 22:26:19 ] - retrieve - retrieve took 376.13826274871826 seconds\n",
      "[ 11/08 22:26:19 ] - retrieve - Running retrieve\n",
      "[ 11/08 22:26:19 ] - process_query - Running process_query\n"
     ]
    },
    {
     "data": {
      "application/vnd.jupyter.widget-view+json": {
       "model_id": "133b9c6fb7af496c8b4643b657896d1e",
       "version_major": 2,
       "version_minor": 0
      },
      "text/plain": [
       "Batches:   0%|          | 0/1 [00:00<?, ?it/s]"
      ]
     },
     "metadata": {},
     "output_type": "display_data"
    },
    {
     "name": "stderr",
     "output_type": "stream",
     "text": [
      "[ 11/08 22:26:19 ] - process_query - process_query took 0.16835951805114746 seconds\n",
      "[ 11/08 22:32:33 ] - retrieve - retrieve took 374.496310710907 seconds\n",
      "[ 11/08 22:32:33 ] - retrieve - Running retrieve\n",
      "[ 11/08 22:32:33 ] - process_query - Running process_query\n"
     ]
    },
    {
     "data": {
      "application/vnd.jupyter.widget-view+json": {
       "model_id": "e50c011f8e0b4b98b5bd605b25e8363c",
       "version_major": 2,
       "version_minor": 0
      },
      "text/plain": [
       "Batches:   0%|          | 0/1 [00:00<?, ?it/s]"
      ]
     },
     "metadata": {},
     "output_type": "display_data"
    },
    {
     "name": "stderr",
     "output_type": "stream",
     "text": [
      "[ 11/08 22:32:33 ] - process_query - process_query took 0.1658613681793213 seconds\n",
      "[ 11/08 22:37:12 ] - retrieve - retrieve took 278.5585906505585 seconds\n",
      "[ 11/08 22:37:12 ] - retrieve - Running retrieve\n",
      "[ 11/08 22:37:12 ] - process_query - Running process_query\n"
     ]
    },
    {
     "data": {
      "application/vnd.jupyter.widget-view+json": {
       "model_id": "21389524095c4342a74fe019d1bc3ab8",
       "version_major": 2,
       "version_minor": 0
      },
      "text/plain": [
       "Batches:   0%|          | 0/1 [00:00<?, ?it/s]"
      ]
     },
     "metadata": {},
     "output_type": "display_data"
    },
    {
     "name": "stderr",
     "output_type": "stream",
     "text": [
      "[ 11/08 22:37:12 ] - process_query - process_query took 0.15593338012695312 seconds\n",
      "[ 11/08 22:43:33 ] - retrieve - retrieve took 381.69354224205017 seconds\n",
      "[ 11/08 22:43:33 ] - retrieve - Running retrieve\n",
      "[ 11/08 22:43:33 ] - process_query - Running process_query\n"
     ]
    },
    {
     "data": {
      "application/vnd.jupyter.widget-view+json": {
       "model_id": "713b81efe15c4d1b8b231b1ff46da8e0",
       "version_major": 2,
       "version_minor": 0
      },
      "text/plain": [
       "Batches:   0%|          | 0/1 [00:00<?, ?it/s]"
      ]
     },
     "metadata": {},
     "output_type": "display_data"
    },
    {
     "name": "stderr",
     "output_type": "stream",
     "text": [
      "[ 11/08 22:43:34 ] - process_query - process_query took 0.17257142066955566 seconds\n",
      "[ 11/08 22:48:04 ] - retrieve - retrieve took 270.9978723526001 seconds\n",
      "[ 11/08 22:48:04 ] - retrieve - Running retrieve\n",
      "[ 11/08 22:48:04 ] - process_query - Running process_query\n"
     ]
    },
    {
     "data": {
      "application/vnd.jupyter.widget-view+json": {
       "model_id": "e63cade730394589b32397f4f540e654",
       "version_major": 2,
       "version_minor": 0
      },
      "text/plain": [
       "Batches:   0%|          | 0/1 [00:00<?, ?it/s]"
      ]
     },
     "metadata": {},
     "output_type": "display_data"
    },
    {
     "name": "stderr",
     "output_type": "stream",
     "text": [
      "[ 11/08 22:48:05 ] - process_query - process_query took 0.3231821060180664 seconds\n",
      "[ 11/08 22:53:15 ] - retrieve - retrieve took 310.363224029541 seconds\n"
     ]
    }
   ],
   "source": [
    "for query in queries[\"en\"]:\n",
    "    result = en_searcher.retrieve(query)\n",
    "    text = re\n",
    "    save_results(f\"en_queries_{date}.txt\")"
   ]
  },
  {
   "cell_type": "code",
   "execution_count": null,
   "id": "dd3673d0",
   "metadata": {},
   "outputs": [],
   "source": []
  }
 ],
 "metadata": {
  "kernelspec": {
   "display_name": "Python 3 (ipykernel)",
   "language": "python",
   "name": "python3"
  },
  "language_info": {
   "codemirror_mode": {
    "name": "ipython",
    "version": 3
   },
   "file_extension": ".py",
   "mimetype": "text/x-python",
   "name": "python",
   "nbconvert_exporter": "python",
   "pygments_lexer": "ipython3",
   "version": "3.10.6"
  }
 },
 "nbformat": 4,
 "nbformat_minor": 5
}
