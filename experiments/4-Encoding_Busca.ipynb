{
 "cells": [
  {
   "cell_type": "code",
   "execution_count": 60,
   "id": "cf9b4523",
   "metadata": {
    "scrolled": true
   },
   "outputs": [],
   "source": [
    "import json\n",
    "import numpy as np\n",
    "import pandas as pd\n",
    "import os\n",
    "import sys\n",
    "import time\n",
    "sys.path.append(os.path.abspath(\"../src\"))\n",
    "import config\n",
    "from typing import Union\n",
    "import sqlite3\n",
    "\n",
    "from sentence_transformers import SentenceTransformer\n",
    "\n",
    "import pickle\n",
    "from sklearn.metrics.pairwise import cosine_similarity"
   ]
  },
  {
   "cell_type": "code",
   "execution_count": 61,
   "id": "d46c5c29",
   "metadata": {},
   "outputs": [],
   "source": [
    "import logging\n",
    "from utils import log\n",
    "import functools"
   ]
  },
  {
   "cell_type": "code",
   "execution_count": null,
   "id": "1b4615f7",
   "metadata": {},
   "outputs": [],
   "source": [
    "model_name = config.MODELS[0]\n",
    "language = \"en\"\n"
   ]
  },
  {
   "cell_type": "code",
   "execution_count": 3,
   "id": "ac7afcf7",
   "metadata": {
    "scrolled": false
   },
   "outputs": [
    {
     "name": "stderr",
     "output_type": "stream",
     "text": [
      "No sentence-transformers model found with name /home/decarv/.cache/torch/sentence_transformers/neuralmind_bert-base-portuguese-cased. Creating a new one with MEAN pooling.\n",
      "Some weights of the model checkpoint at /home/decarv/.cache/torch/sentence_transformers/neuralmind_bert-base-portuguese-cased were not used when initializing BertModel: ['cls.seq_relationship.bias', 'cls.predictions.transform.LayerNorm.weight', 'cls.predictions.transform.dense.weight', 'cls.predictions.transform.LayerNorm.bias', 'cls.seq_relationship.weight', 'cls.predictions.decoder.weight', 'cls.predictions.bias', 'cls.predictions.transform.dense.bias']\n",
      "- This IS expected if you are initializing BertModel from the checkpoint of a model trained on another task or with another architecture (e.g. initializing a BertForSequenceClassification model from a BertForPreTraining model).\n",
      "- This IS NOT expected if you are initializing BertModel from the checkpoint of a model that you expect to be exactly identical (initializing a BertForSequenceClassification model from a BertForSequenceClassification model).\n"
     ]
    }
   ],
   "source": [
    "model = SentenceTransformer('neuralmind/bert-base-portuguese-cased', device='cuda')"
   ]
  },
  {
   "cell_type": "code",
   "execution_count": 28,
   "id": "0b9525b3",
   "metadata": {},
   "outputs": [],
   "source": [
    "metadata = pd.read_csv(os.path.join(config.DATA_DIR, \"metadata.csv\"), keep_default_na=False)"
   ]
  },
  {
   "cell_type": "markdown",
   "id": "e0e324c8",
   "metadata": {},
   "source": [
    "### Encodings Input"
   ]
  },
  {
   "cell_type": "code",
   "execution_count": 33,
   "id": "75adcc47",
   "metadata": {},
   "outputs": [
    {
     "name": "stderr",
     "output_type": "stream",
     "text": [
      "[ 11/08 11:06:08 ] - structure_data_for_embedding - Running structure_data_for_embedding\n",
      "[ 11/08 11:06:12 ] - structure_data_for_embedding - structure_data_for_embedding took 4.378753423690796 seconds\n"
     ]
    }
   ],
   "source": [
    "data, indices = structure_data_for_embedding(metadata)"
   ]
  },
  {
   "cell_type": "code",
   "execution_count": 35,
   "id": "df8b5d9b",
   "metadata": {},
   "outputs": [],
   "source": [
    "# with open(os.path.join(config.DATA_DIR, \"training_data/data.pkl\"), \"wb\") as f:\n",
    "#     pickle.dump(data, f, pickle.HIGHEST_PROTOCOL)\n",
    "\n",
    "with open(os.path.join(config.DATA_DIR, \"indices/indices.pkl\"), \"wb\") as f:\n",
    "    pickle.dump(indices, f, pickle.HIGHEST_PROTOCOL)"
   ]
  },
  {
   "cell_type": "markdown",
   "id": "197442bf",
   "metadata": {},
   "source": [
    "### Load Data"
   ]
  },
  {
   "cell_type": "code",
   "execution_count": null,
   "id": "568fee36",
   "metadata": {},
   "outputs": [],
   "source": [
    "with open(os.path.join(config.DATA_DIR, \"training_data/data.pkl\"), \"rb\") as f:\n",
    "    data = pickle.load(f)\n",
    "    \n",
    "with open(os.path.join(config.DATA_DIR, \"indices/indices.pkl\"), \"rb\") as f:\n",
    "    indices = pickle.load(f)"
   ]
  },
  {
   "cell_type": "markdown",
   "id": "1b5ccc62",
   "metadata": {},
   "source": [
    "### Encoding"
   ]
  },
  {
   "cell_type": "code",
   "execution_count": null,
   "id": "855370ca",
   "metadata": {},
   "outputs": [],
   "source": [
    "print(cosine_similarity(model.encode(\"amor\").reshape(1, -1), model.encode(\"ódio\").reshape(1, -1)))\n",
    "print(cosine_similarity(model.encode(\"amor\").reshape(1, -1), model.encode(\"paixão\").reshape(1, -1)))\n",
    "print(cosine_similarity(model.encode(\"amor\").reshape(1, -1), model.encode(\"teclado\").reshape(1, -1)))"
   ]
  },
  {
   "cell_type": "code",
   "execution_count": null,
   "id": "89610003",
   "metadata": {},
   "outputs": [],
   "source": [
    "def batch_generator(data, batch_size=64):\n",
    "    for i in range(0, len(data), batch_size):\n",
    "        yield data[i:i+batch_size]\n",
    "\n",
    "@log\n",
    "def encode_embedding_units(embedding_units):\n",
    "    embeddings = []\n",
    "    for batch in batch_generator(embedding_units):\n",
    "        embeddings.append(model.encode(batch, batch_size=len(batch), show_progress_bar=False))\n",
    "    embeddings = np.concatenate(embeddings)\n",
    "    return embeddings\n",
    "\n",
    "@log\n",
    "def encode_data(data, save=True):\n",
    "    embeddings_by_type = {}\n",
    "    for _type, units in data.items():\n",
    "        embeddings = encode_embedding_units(units)\n",
    "        embeddings_by_type[_type] = embeddings\n",
    "        if save:\n",
    "            np.save(os.path.join(config.DATA_DIR, f\"npy/{_type}_embeddings.npy\"), embeddings, allow_pickle=False)"
   ]
  },
  {
   "cell_type": "code",
   "execution_count": null,
   "id": "e47e5163",
   "metadata": {},
   "outputs": [],
   "source": [
    "@log\n",
    "def encode(query):\n",
    "    return model.encode(query)\n",
    "\n",
    "@log\n",
    "def search(vector, vectors):\n",
    "    return cosine_similarity(vector.reshape(1, -1), vectors)[0]\n",
    "\n",
    "@log\n",
    "def query(query_string, vectors, data, indices):\n",
    "    vector = encode(query_string)\n",
    "    scores = search(vector, vectors)\n",
    "    sorted_scores_ids = np.argsort(scores)[::-1]\n",
    "    top_scores_ids = sorted_scores_ids[:15]\n",
    "    for i in top_scores_ids:\n",
    "        row = data.iloc[indices[i]]\n",
    "        print(\"Posição:\", i+1)\n",
    "        print(\"Index:\", indices[i])\n",
    "        print(\"Título: \", row['title_pt'])\n",
    "        print(\"Autor: \", row['author'])\n",
    "        print(\"Resumo: \", row['abstract_pt'])\n",
    "        print(\"Palavras-Chave: \", row['keywords_pt'])\n",
    "        print(\"\\n----------------------------------------------------------\\n\")"
   ]
  },
  {
   "cell_type": "markdown",
   "id": "42140092",
   "metadata": {},
   "source": [
    "## Vetorizando Todo o Input"
   ]
  },
  {
   "cell_type": "code",
   "execution_count": 5,
   "id": "b5fd0d56",
   "metadata": {},
   "outputs": [],
   "source": [
    "vectors = np.load(os.path.join(config.DATA_DIR, \"npy/sentences_embeddings.npy\"))"
   ]
  },
  {
   "cell_type": "code",
   "execution_count": 6,
   "id": "b88327ad",
   "metadata": {},
   "outputs": [],
   "source": [
    "from searcher import LocalSearcher"
   ]
  },
  {
   "cell_type": "code",
   "execution_count": 40,
   "id": "e3c57a11",
   "metadata": {},
   "outputs": [],
   "source": [
    "with open(os.path.join(config.DATA_DIR, \"indices/indices.pkl\"), \"rb\") as f:\n",
    "    indices = pickle.load(f)"
   ]
  },
  {
   "cell_type": "code",
   "execution_count": 42,
   "id": "9f7463de",
   "metadata": {},
   "outputs": [],
   "source": [
    "indices = indices['sentences']"
   ]
  },
  {
   "cell_type": "code",
   "execution_count": 41,
   "id": "ede45336",
   "metadata": {
    "scrolled": true
   },
   "outputs": [
    {
     "data": {
      "text/plain": [
       "dict_keys(['text', 'sentences', 'sentences_and_text'])"
      ]
     },
     "execution_count": 41,
     "metadata": {},
     "output_type": "execute_result"
    }
   ],
   "source": [
    "indices.keys()"
   ]
  },
  {
   "cell_type": "code",
   "execution_count": 7,
   "id": "c1dd6b3b",
   "metadata": {},
   "outputs": [],
   "source": [
    "searcher = LocalSearcher(\n",
    "    collection_name='abstracts',\n",
    "    encoder_model=model,\n",
    "    ranking_model=None,\n",
    "    vectors=vectors\n",
    ")"
   ]
  },
  {
   "cell_type": "code",
   "execution_count": 8,
   "id": "418c9bc4",
   "metadata": {},
   "outputs": [],
   "source": [
    "queries = [\n",
    "    \"ataque ddos\",\n",
    "    \"ataque ddos com machine learning\"\n",
    "]"
   ]
  },
  {
   "cell_type": "code",
   "execution_count": 57,
   "id": "f96fb1dd",
   "metadata": {},
   "outputs": [
    {
     "name": "stderr",
     "output_type": "stream",
     "text": [
      "[ 11/08 11:13:10 ] - retrieve - Running retrieve\n",
      "[ 11/08 11:13:10 ] - process_query - Running process_query\n"
     ]
    },
    {
     "data": {
      "application/vnd.jupyter.widget-view+json": {
       "model_id": "373a64efb5fb41fcb243ae5d69a87cf3",
       "version_major": 2,
       "version_minor": 0
      },
      "text/plain": [
       "Batches:   0%|          | 0/1 [00:00<?, ?it/s]"
      ]
     },
     "metadata": {},
     "output_type": "display_data"
    },
    {
     "name": "stderr",
     "output_type": "stream",
     "text": [
      "[ 11/08 11:13:11 ] - process_query - process_query took 0.16666865348815918 seconds\n",
      "[ 11/08 11:15:00 ] - retrieve - retrieve took 109.41779446601868 seconds\n"
     ]
    }
   ],
   "source": [
    "hits = searcher.retrieve(queries[1])"
   ]
  },
  {
   "cell_type": "code",
   "execution_count": 58,
   "id": "076fe321",
   "metadata": {
    "scrolled": true
   },
   "outputs": [
    {
     "name": "stdout",
     "output_type": "stream",
     "text": [
      "Posição: 1682284\n",
      "Index: 92434\n",
      "Título:  Controle supervisório de microrredes utilizando deep reinforcement learning\n",
      "Autor:  Barbalho, Pedro Inácio de Nascimento e \n",
      "Resumo:  As microrredes surgiram devido à necessidade de se coordenar um novo modelo de geração em ascensão, a geração distribuída, com sistemas de armazenamento de energia e cargas locais. Esse tipo de rede é um sistema complexo e há diversas proposições de como controlá-lo de forma a permitir a sua operação conectada ao sistema de distribuição ou ilhada. Além disso, para um melhor desempenho do controle da microrrede, é preciso que este se adapte aos seus diferentes pontos de operação. O controle de microrredes pode ser dividido em três níveis hierárquicos que diferem em tempo de resposta, objetivos de controle e necessidade de comunicação. Por tratar-se de um tema recente, ainda há espaço para novas análises e contribuições. Neste sentido, o objetivo deste estudo foi modelar o controlador supervisório de uma microrrede ilhada, utilizando um algoritmo de deep reinforcement learning denominado de deep deterministic policy gradient. A microrrede modelada para o estudo, possui um gerador síncrono, dois sistemas de armazenamento de energia por baterias e um gerador fotovoltaico. O controlador proposto faz a leitura das tensões terminais dos recursos distribuídos de energia e da frequência da rede e atua nas potências ativas e reativas com o intuito de manter as variáveis de controle o mais próximo possível da referência. O desempenho do controlador proposto foi comparado a um esquema utilizando o método droop convencional, por meio da simulação de três cenários: i) desconexão e conexão programada de alimentado; ii) Aplicação de curto-circuito com posterior abertura de disjuntor para isolar a falha; e iii) Desconexão da maior carga do sistema. A priori, almejava-se uma melhora expressiva do controlador inteligente em comparação ao droop. Pelos resultados obtidos, não houve uma superioridade do controlador inteligente com relação ao droop, mas pode-se dizer que seu desempenho foi equivalente. Em alguns casos, o droop teve um desempenho mais adequado na minimização das oscilações de frequência e tensão, enquanto que, em outros, o comportamento da metodologia abordada foi mais conveniente.\n",
      "Palavras-Chave:  Aprendizado por reforço Controle inteligente Controle supervisório Microrredes\n",
      "\n",
      "----------------------------------------------------------\n",
      "\n",
      "Posição: 1239479\n",
      "Index: 69470\n",
      "Título:  Blended learning no ensino superior: aprendizagem semipresencial aplicada à modelagem plana no âmbito de moda\n",
      "Autor:  Stefanovic, Dragica \n",
      "Resumo:  O presente estudo examina um dos modelos de blended learning que é modelo rotativo com seu subgrupo flipped classroom ou sala de aula invertida e a possibilidade de inclusão dessa modalidade de ensino em cursos superiores de moda, com o objetivo de ser aplicado ao ensino para os conteúdos de modelagem plana avançada sendo essa matéria prática. A análise inicial é bibliográfica e reúne contribuições teóricas e práticas de vários autores em livros, artigos, dissertações e teses. A coleta de dados foi em campo de caráter quantitativo e ocorreu por meio de questionários aplicados antes e depois de experimentação de um modulo on-line de ensino de modelagem plana, em vídeo, do qual participaram 42 alunos e oito professores. Com base nas respostas e na observação das atividades realizadas, conclui-se que existiria uma aceitação considerável dos alunos e professores para o ensino on-line, sugerindo a relevância de sua realização na disciplina de modelagem plana como os aspectos facilitadores do aprendizado\n",
      "Palavras-Chave:  Blended learning Ensino on-line Ensino superior Modelagem plana\n",
      "\n",
      "----------------------------------------------------------\n",
      "\n",
      "Posição: 1596343\n",
      "Index: 87978\n",
      "Título:  Blended learning com jogos de empresas para desenvolver soft skills na educação executiva e gerencial: um quase-experimento\n",
      "Autor:  Silva, Sheila Serafim da \n",
      "Resumo:  As tecnologias que sustentam a quarta revolução industrial estão causando um grande impacto na economia e nos negócios. Com a transformação tecnológica, os papéis e as responsabilidades nas organizações estão sendo redefinidos. Com isso, as habilidades comportamentais ou soft skill tornaram-se cruciais nas organizações. Por um lado, as empresas demandam profissionais com habilidades comportamentais, além das técnicas. Por outro lado, as escolas de negócios são desafiaas a encontrar os métodos mais adequados para criar ambientes de prática e estimular o desenvolvimento dessas habilidades e preparar os profissionais para atuar nas organizações. A partir disso, este estudo teve como objetivo analisar as contribuições de um modelo de aprendizado híbrido ou Blended learning - tendência global na educação - com metodologias ativas, especificamente, jogo de empresas (JE), para desenvolver soft skills na educação executiva e gerencial. Para isso, fez-se um quase-experimento em blocos cruzados por meio do qual foi possível verificar: (i) o alinhamento entre as soft skills consideradas as mais importantes para o mercado e as soft skills desenvolvidas no JE; (ii) a relação entre o perfil dos participantes e o desenvolvimento de soft skills no JE; (iii) as diferenças entre as soft skills desenvolvidas online e presencialmente e a relação delas com a modalidade. Por meio de métodos mistos, este estudo combinou a modelagem de equações estruturais com análise fatorial, análise de trajetória, regressões e análises de variância com os resultados de uma análise categorial-temática. Coletaram-se dados antes, durante e ao final do JE com estudantes de uma escola de negócios brasileira e de uma universidade pública espanhola e, neles, os participantes por meio de autorrelato ouself assessmente avaliação por pares ou peer assessment indicaram as soft skills desenvolvidas no JE. Os resultados indicaram que as soft skills desenvolvidas no JE estão alinhadas com as habilidades consideradas as mais importantes para o mercado; evidenciou que o JE é ainda mais eficaz para desenvolver soft skills com participantes que possuem menos experiência laboral e teve o seu potencial reforçado como estratégia de aprendizagem para desenvolver soft skills em executivos, gestores e estudantes de gestão e negócios. A principal contribuição desse estudo foi que independentemente da modalidade, online ou presencial, os participantes desenvolveram em níveis elevados todas as soft skills analisadas e evidenciou o potencial do Blended learning com metodologias ativas na educação online. O estudo sugeriu recomendações aos profissionais, pesquisadores, professores e escolas de gestão e negócios e como diferentes programas podem criar ambientes de prática para estimular o desenvolvimento de soft skills por meio de um modelo de aprendizado híbrido com jogos de empresas.\n",
      "Palavras-Chave:  Aprendizado híbrido Aprendizagem ativa Blended learning Educação executiva e gerencial Habilidades comportamentais Jogos de empresas Metodologias ativas Quase-experimento Soft skills\n",
      "\n",
      "----------------------------------------------------------\n",
      "\n",
      "Posição: 1578784\n",
      "Index: 87013\n",
      "Título:  Utilização do e-learning no ensino superior: uma análise da satisfação dos estudantes de cursos presenciais de graduação\n",
      "Autor:  Bortoloto, Gabriela Troyano \n",
      "Resumo:  Esta dissertação objetiva analisar a satisfação do estudante com a utilização do e-learning em cursos presenciais de graduação através da abordagem blended learning para identificar a relação entre os componentes da satisfação quando aplicados nesse contexto específico. O primeiro passo do estudo consistiu em identificar as variáveis que determinam a satisfação do estudante com o e-learning mediante à realização de uma Revisão Sistematizada da Literatura com 22 artigos indexados pela base Elsevier Scopus. Foi possível identificar que os autores têm analisado a satisfação partindo de três perspectivas: uma voltada para características cognitivas e sociais, outra para o comportamento do consumidor e modelos de tecnologia, e por fim, uma que aborda a combinação de ambas. Este trabalho se insere na segunda perspectiva, pois analisa a satisfação com conceitos originados no Marketing e na área de Sistemas de Informação, utilizando para tal, a Teoria da Desconfirmação da Expectativa. A parte empírica deste trabalho envolveu a aplicação de questionários compostos de escalas já validadas por trabalhos anteriores para estudantes da disciplina Fundamentos de Administração, que foi ofertada no formato blended para alunos do primeiro semestre dos cursos de Administração, Contabilidade e Esporte. As respostas de 319 estudantes foram coletadas de maneira presencial e eletrônica. Posteriormente foram combinadas para que fossem realizadas as análises descritivas da amostra. O segundo passo consistiu em analisar os dados por meio da técnica de Modelagem de Equações Estruturais - Partial Least Squares (PLS-SEM). Os principais resultados indicam que nesse contexto específico, o constructo que mais influencia na satisfação do estudante é a Usabilidade, seguido pela Desconfirmação da Qualidade, Valor percebido e Qualidade Percebida, respectivamente. Em relação à capacidade preditiva do modelo, foi identificado um R² de 0,743, indicando que 74,3% da satisfação consegue ser explicada por meio dessas variáveis. As contribuições que este estudo traz para a literatura dizem respeito à avaliação da satisfação dos estudantes com o e-learning em um contexto específico (blended learning). Além disso, através de alterações feitas no modelo em que foi baseado, permitiu-se explicar uma maior variação da satisfação do que a encontrada no modelo original. Do ponto de vista gerencial, os resultados permitem oferecer uma visão das características que os estudantes mais valorizam quando vão realizar um curso via internet. Uma das principais limitações deste estudo diz respeito à coleta de dados com estudantes que, embora sejam de cursos e estudam em períodos diferentes, realizaram a mesma disciplina, ofertada no mesmo formato de blended. Em estudos futuros, sugere-se a utilização de variáveis moderadoras, visando identificar se há diferenças entre os determinantes da satisfação entre grupos distintos.\n",
      "Palavras-Chave:  Blended learning E-learning Ensino superior Satisfação\n",
      "\n",
      "----------------------------------------------------------\n",
      "\n",
      "Posição: 1452017\n",
      "Index: 80800\n",
      "Título:  Uma linha de produtos de software orientada a serviços para sistemas de auxílio à visitação de museus\n",
      "Autor:  Fuzeto, Ricardo \n",
      "Resumo:  Os sistemas de auxílio à visitação de museus apresentam um grau de reúso de software baixo, dado que o volume de trabalhos publicados contendo a proposta de um novo sistema e/ou modelagem é consideravelmente elevado, e com grau de referenciação entre tais trabalhos próximo de zero. Além disso, diversos estudos neste domínio de aplicações utilizam técnicas de ciência de contexto e fazem uso de dispositivos de Internet das Coisas (IoT), o que agrava o grau de reúso devido à variedade de sensores e dispositivos existentes. Este trabalho apresenta a Museum Touring and Tutoring Product Line (MTTPL), linha de produtos orientada a serviços para o domínio dos sistemas de auxílio à visitação de museus. Os requisitos desta linha de produtos foram coletados principalmente dos resultados de um mapeamento sistemático feito sobre sistemas E-learning e dispositivos IoT. Como forma de avaliação preliminar da linha de produtos proposta, foi realizada uma prova de conceito em que a MTTPL foi instanciada, dando origem ao SmartICMC, um museu virtual para apoiar a visitação ao Museu da Fauna e Flora do ICMC-USP. A prova de conceito fornece indícios de que a linha de produtos proposta é válida e aplicável para sistemas de auxílio à visitação de museus. Como principal contribuição, espera-se que a MTTPL possa ser utilizada para instanciar outros sistemas deste domínio, aumentando o reúso dos assets providos pela linha de produtos.\n",
      "Palavras-Chave:  Internet das coisas Linha de produtos Museus Serviços U-learning\n",
      "\n",
      "----------------------------------------------------------\n",
      "\n",
      "Posição: 1649762\n",
      "Index: 90633\n",
      "Título:  Otimização de hiperparâmetros de modelos machine learning com BarySearch.\n",
      "Autor:  Pellicer, Lucas Francisco Amaral Orosco \n",
      "Resumo:  Obter bons desempenhos de modelos de aprendizado de máquina geralmente requer que os hiperparâmetros sejam ajustados. Entretanto, é complicado encontrar uma função matemática bem definida entre os valores do hiperparâmetro e o desempenho do modelo. A coleta de valores de desempenho do modelo é cara e ainda o comportamento das funções de desempenho tende a ser imprevisível, com muitas regiões de oscilação ou mesmo regiões descontínuas. Além disso os hiperparâmetros podem ser contínuos, discretos, categóricos ou condicionais, o que torna o problema de ajuste de hiperparâmetros complexo. Muitas técnicas foram desenvolvidas para solucionar esse problema. Neste trabalho, é apresentada a técnica BarySearch: um método livre de derivação com baixo custo computacional. Essa técnica apresenta um bom compromisso entre resultado e esforço de execução. O BarySearch utiliza do método do baricentro já utilizado em sintonização de controladores. O método apresenta características de convergências interessantes e pode comportar similar a um gradiente descendente ou métodos evolucionários sob suposições razoáveis.\n",
      "Palavras-Chave:  Aprendizado computacional Computação evolutiva Hibridização\n",
      "\n",
      "----------------------------------------------------------\n",
      "\n",
      "Posição: 950127\n",
      "Index: 53926\n",
      "Título:  Efeito aeroacústico de excrescências bidimensionais na cova de um eslate\n",
      "Autor:  Amaral, Filipe Ramos do \n",
      "Resumo:  O presente trabalho refere-se a um estudo aeroacústico experimental visando caracterizar o ruído de eslate sob a presença de excrescências instaladas no interior de sua cova, e em ângulos de ataque extremos (entre -4 e 18 [º]). O eslate é um dispositivo hipersustentador posicionado no bordo de ataque do perfil aerodinâmico que objetiva a operação da aeronave em voo com uma menor velocidade. Desta maneira, é proporcionado um maior ângulo de estol e consequente maior sustentação, permitindo que os procedimentos de pouso e decolagem sejam mais seguros e que uma pista menor para ambas as operações possa ser utilizada, por exemplo. Este estudo contempla um modelo de perfil MDA 30P30N, com as excrescências no formato de selos de seção transversal bidimensional, circular e quadrada, presentes em diferentes posições na cova do eslate e ao longo de toda a sua envergadura. Foram compreendidos diferentes ângulos de ataque do modelo e velocidades de escoamento livre. O trabalho experimental utilizou-se de um túnel de vento de seção de testes e circuito fechados da USP-EESC, o modelo MDA 30P30N pré-existente na universidade e equipamentos de medições acústicas (microfones, sistemas de aquisição de dados e etc.), e de pressão (escâneres, manômetros, etc.). O pós-processamento dos dados aeroacústicos adquiridos nos ensaios realizados é uma etapa que objetiva a caracterização do ruído a partir de espectros de frequência e mapas acústicos, para localização e determinação da intensidade das fontes sonoras. Este processo é efetivado com códigos de beamforming implementados pelo grupo de pesquisa contendo o método de deconvolução DAMAS. A técnica de beamforming é um método para localização e estimativa da amplitude de fontes de ruído utilizando medidas realizadas a partir de uma antena de microfones, baseando-se em um modelo matemático que descreve a propagação de ondas acústicas em um meio com propriedades físicas bem definidas. Estes modelos são simplificados em relação à complexidade dos fenômenos de geração e propagação do som. O cálculo basicamente resolve a contribuição relativa das fontes provindas de diferentes direções no campo sonoro de interesse. O método DAMAS almeja compensar a influência das características da antena de microfones empregada para aquisição dos dados do resultado proveniente do cálculo efetuado com a técnica de beamforming convencional, resolvendo um problema de deconvolução. Os espectros de ruído obtidos neste trabalho apresentam o ruído de eslate bem definido em três componentes principais, que são os múltiplos picos tonais de baixa frequência, banda larga e pico tonal de alta frequência. Para a configuração de referência, sem a presença de selos na cova do eslate, verifica-se que ângulos de ataque extremos, muito baixos ou muito altos, apresentam o espectro de frequências quase que inteiramente como de banda larga e de intensidade muito próxima ao ruído de fundo do túnel. Também há um ângulo de ataque em que a emissão sonora é máxima. Quando há a presença de um selo na cova do eslate, existe um grande impacto em seu espectro acústico. Dependo da posição em que o selo se encontra, este pode atenuar ou intensificar os múltiplos picos tonais de baixa frequência, trocar o pico dominante, suprimir a componente de múltiplos picos, modificar o comportamento da componente da banda larga e ainda amplificar ou reduzir o ruído global do eslate.\n",
      "Palavras-Chave:  beamforming DAMAS Aeroacústica Dispositivos de Hipersustentação Ruído de Eslate\n",
      "\n",
      "----------------------------------------------------------\n",
      "\n",
      "Posição: 1579049\n",
      "Index: 87026\n",
      "Título:  Desenvolvimento de produtos ágil: lean, scrum e lean startup - uma pesquisa-ação na indústria de medical devices\n",
      "Autor:  Rodrigues, Anderson Carlos \n",
      "Resumo:  Nos últimos anos a mentalidade Lean tem ultrapassado as fronteiras da gestão de operações em fábricas e tem sido aplicada a uma ampla gama de áreas, que vão de Services, Lean Accounting, Lean Farm e Lean Office, dentro do qual se inclui o desenvolvimento de produtos, em especial usando técnicas derivadas do Lean Manufacturing como Lean Start-up e os Métodos Ágeis. Este trabalho tem o objetivo de acompanhar essa transformação Lean em uma empresa brasileira fabricante de equipamentos médicos que exporta para mais de 100 países e atualmente passa pela pressão de reduzir seus custos de desenvolvimento e ganhar velocidade em lançar produtos num mercado cada vez mais competitivo.Após a implantação de um bem sucedido projeto de Lean no chão de fábrica, a empresa começou a levar a cultura Lean e Agile para o seu desenvolvimento de produtos, assim, o objetivo desta pesquisa-ação foi acompanhar, entender, propor e interagir com seis equipes de desenvolvimento de produto utilizando três métodos de gerenciamento de projetos distintos e orientar a transformação, discutir e comparar o andamento dos projetos de produto, seus resultados e a inter-relação com os métodos adotados, expondo os ganhos verificados da adoção de Métodos Ágeis e Lean Start-up na velocidade de lançamento dos produtos.\n",
      "Palavras-Chave:  Agile Desenvolvimento de produto Gerenciamento de projeto Lean Lean development Lean manufacturing Lean startup Pesquisa-ação PMBOK Scrum Startup\n",
      "\n",
      "----------------------------------------------------------\n",
      "\n",
      "Posição: 1739077\n",
      "Index: 95626\n",
      "Título:  Desenvolvimento de software para extração de índices de vegetação e implementação de classificador de status nutricional em nitrogênio em pastos de Urochloa decumbens 'Basilisk' (Syn. Brachiaria decumbens 'Basilisk')\n",
      "Autor:  Bertolini, Caio Augusto \n",
      "Resumo:  O sensoriamento remoto trouxe ferramentas importantes para o desenvolvimento de agricultura e pecuária mais eficientes no uso de insumos e menos prejudiciais ao meio ambiente. A utilização de índices de vegetação (IV) para determinação de classe nutricional têm crescido bastante e auxiliado no monitoramento das culturas. O nitrogênio (N) é um nutriente de grande relevância para desenvolvimento vegetativo em pastagem e a aplicação da quantidade correta traz melhorias na produtividade do pasto. Então, a utilização de IV's apoiados por técnicas de classificação de aprendizado de máquina para determinar a quantidade de nitrogênio contida na gramínea forrageira, pode ser uma ferramenta útil para que possa determinar a quantidade de N que precisa ser aplicado, assim ajudando o produtor na tomada de decisão ágil. Dessa forma, os objetivos deste trabalho foram desenvolver um software de processamento de imagens para extração de índices de vegetação baseados no modelo RGB e implementar um algoritmo de aprendizado de máquina para determinar o faixa de nitrogênio (deficiente, moderadamente deficiente ou suficiente), a partir de imagens RGB adquiridas por smartphones em capim braquiária. O trabalho foi desenvolvido no Campus Fernando Costa (FZEA/USP) e foi dividido em três etapas. A primeira etapa consistiu no desenvolvimento de um software, em Python, para extração automática de 26 índices de vegetação de imagens RGB de folhas. Na segunda parte foi realizado a experimentação em campo, em uma área 480 m² com 12 parcelas, de Urochloa decumbens 'Basilisk', divididos em três tratamentos de adubação nitrogenada (T0: sem adubação, T15: 15 kg de N/ha, T30: 30 kg de N/ha) em dois períodos (2019/2020 e 2020/2021). Foram coletados dados de composição morfológica e captados 2160 imagens RGB de folha, para avaliação do desenvolvimento vegetativo da planta e, também, da resposta das cores na faixa do RGB em três classes de nitrogênio. Na última etapa foi realizado a extração dos IV's e aplicação de quatro algoritmo de aprendizado de máquina (K-vizinhos mais próximos, máquina de vetores de suporte, floresta randômicas e rede neural artificial) para realizar a classificação das 3 classes de nitrogênio, nos dados sem e com balanceamento (All-KNN), para avaliar qual é o melhor método de classificação. O software para extração de IV's (ExtractVI) conseguiu realizar a identificação correta das folhas de gramínea, delimitando o local do objeto na imagem e realizando o recorte automático. A decumbens apresentou resposta com aplicação de adubação nitrogenada, diminuindo a duração de rebrotação e aumentando a produção de massa de folhas e o índice de área foliar. A resposta cores da planta no RGB teve maior diferença visual entre as classes deficiente e suficiente, no entanto a classe moderadamente deficiente apresentou semelhança na cor com as outras classes. Entretanto, o manejo da pastagem e a pluviosidade demonstraram efeito sobre as características morfológicas e resposta das cores da planta. A determinação das classes de nitrogênio teve uma eficiência de 74% utilizando a multilayer perceptron com 26-10-1 neurônios, método de treinamento quasi-Newton e função de ativação Tansig, podendo ser melhorado com o balanceamento dos dados, atingindo valores de eficácia de 86% com o classificador floresta randômica com 150 árvores de decisão.\n",
      "Palavras-Chave:  Machine learning Análise de imagens Índice de cores RGB RGB Visão computacional\n",
      "\n",
      "----------------------------------------------------------\n",
      "\n",
      "Posição: 1648511\n",
      "Index: 90564\n",
      "Título:  Desvendando as relações arquitetura/função de promotores bacterianos complexos utilizando abordagens de biologia sintética\n",
      "Autor:  Monteiro, Lummy Maria Oliveira \n",
      "Resumo:  A regulação gênica tem sido estudada extensivamente, no entanto, a complexidade dos mecanismos regulatórios ainda permanece desconhecida. Entender os mecanismos da regulação gênica é importante não apenas para desvendar a complexidade de um organismo, mas para postular novas regras, caracterizar novas partes biológicas e então permitir novos designs de circuitos biológicos, por exemplo. Uma possível estratégia para desvendar os mecanismos de ação e complexidade dos promotores bacterianos seria combinar o conhecimento da regulação gênica com o uso de abordagens da biologia sintética e da bioinformática, que, por sua vez, permitem projetar e construir novas funções em sistemas biológicos. O progresso na biologia sintética é frequentemente possibilitado por poderosas ferramentas de bioinformática que permitem a integração das fases de design, construção e teste do ciclo de engenharia biológica. Consequentemente, o desenvolvimento de novas ferramentas de bioinformática é útil e importante para os cientistas que trabalham para estender ou modificar o comportamento dos organismos e projetá-los para realizar novas tarefas. Nesse contexto, a presente tese descreveu (i) a existência de propriedades emergentes em promotores sintéticos complexos em Escherichia coli, que poderiam ser extrapoladas para sistemas regulatórios de ocorrência natural e impactariam significativamente a engenharia de circuitos biológicos sintéticos em bactérias. Em resumo, esses dados demonstram como pequenas mudanças na arquitetura dos promotores bacterianos podem resultar em mudanças drásticas na lógica regulatória final do sistema, com implicações importantes na compreensão de promotores complexos naturais em bactérias e sua engenharia para novas aplicações; (ii) o mecanismo de reconhecimento do indutor de dois reguladores AraC/XylS de Pseudomonas putida (BenR e XylS) para a criação de um novo sistema de expressão responsivo ao ácido acetil salicílico (aspirina). Usando homologia de proteínas e docking molecular com o indutor benzoato e um conjunto de análogos químicos, identificamos o sítio de ligação conservado dessas duas proteínas. Como resultado, uma coleção de fatores de transcrição (TFs) engenheirados foram gerados com respostas aprimoradas a uma molécula bem caracterizada e amplamente inócua com um potencial para induzir a expressão heteróloga de genes bacterianos em animais; (iii) a complexidade dos fatores de transcrição em comunidades microbianas ambientais. Criamos um banco de dados de fatores de transcrição bacteriano (BacTFDB) que foi usado para treinar um modelo de Machine Learning para prever novos TFs e suas famílias em amostras metagenômicas e metranscriptômicas (PredicTF). PredicTF fornece a primeira ferramenta para traçar o perfil de TFs em bactérias ainda a serem cultivadas e abre o potencial para avaliar redes regulatórias em comunidades microbianas complexas. PredicTF é um pipeline de código aberto flexível capaz de prever e anotar TFs em genomas e metagenomas. PredicTF está disponível em https://github.com/mdsufz/PredicTF.\n",
      "Palavras-Chave:  Design de circuitos Engenharia de proteínas Fatores de transcrição Machine learning Promotores complexos Regulação gênica\n",
      "\n",
      "----------------------------------------------------------\n",
      "\n",
      "Posição: 1551376\n",
      "Index: 85621\n",
      "Título:  Aplicação de aprendizado de máquina na detecção de fraudes públicas\n",
      "Autor:  Lopes, Marco Antonio \n",
      "Resumo:  Nos últimos anos, os governos mundiais vêm participando de esforços conjuntos para aumentar a disponibilidade dos dados governamentais para seus cidadãos, e o resultado disso, no Brasil, foi a criação do Portal Brasileiro de Dados Abertos. Com mais dados disponíveis ao cidadão comum, várias análises que não são feitas pelo governo, em razão da falta de conhecimento ou de interesse, tornam-se possíveis, como, por exemplo, a identificação de fraudes em licitações públicas. Uma forma de identificar os padrões existentes nessas fraudes é o uso de aprendizado de máquina. Atualmente, existem softwares como R e Python que permitem o uso de diversas técnicas de aprendizado de máquina já implementadas. Esses softwares, devido à sua grande capacidade de processamento, também, podem auxiliar em problemas com dados desbalanceados, em que a ocorrência do evento que está sendo estudado é muito rara, como é o caso de fraudes. Assim, um exemplo desse tipo de problema e que é alvo do estudo desta dissertação é a detecção de fraudes em sistemas públicos por meio da descoberta de contratos que pertencem a empresas inidôneas. Tal desafio pode potencializar-se com grandes volumes de dados, visto que podem tornar o processamento dessas bases mais complexo. Assim, esta dissertação visa contribuir para a resolução desse problema propondo avaliar metodologias e técnicas de aprendizado de máquina que apresentam resultados satisfatórios nesse cenário.\n",
      "Palavras-Chave:  Aprendizado de máquina Big data Dados desbalanceados Eventos raros Fraudes públicas Inteligência artificial Licitações Machine learning\n",
      "\n",
      "----------------------------------------------------------\n",
      "\n",
      "Posição: 1674345\n",
      "Index: 92016\n",
      "Título:  Machine learning para previsão intraday de retornos no mercado acionário brasileiro\n",
      "Autor:  Alexandre, Henrique Leone \n",
      "Resumo:  Esse trabalho aplica diferentes métodos de estimação, especializados em lidar com alta dimensionalidade dos dados, em janelas móveis para realizar previsões de retorno um passo a frente utilizando dados de alta frequência, 5 minutos. Os métodos utilizados são o ridge, LASSO, elastic net, PCR e PLS. As variáveis explicativas são apenas os retornos defasados da própria e de outras ações presentes no índice Ibovespa. Mais que somente estatísticos, o sentido econômico por trás dessas variáveis é que elas tornam possível capturar, de forma rápida, o impacto de novas informações sobre as empresas. O objetivo deste trabalho é realizar uma comparação do desempenho para previsão de retornos fora da amostra entre os métodos citados. Os resultados mostram que o Ridge produz o melhor desempenho entre todos os métodos, com uma vantagem significativa. Para avaliar a robustez dos resultados, foram formadas diferentes carteiras. Os retornos obtidos para o portfólio composto pelas ações mais voláteis e para o portfólio que explora a previsibilidade dos métodos de machine learning, mesmo sob uma premissa conservadora sobre o custo da transação, sugerem que essas abordagens parecem promissoras para serem aplicadas por traders.\n",
      "Palavras-Chave:  Elastic net Lasso Machine learning PCR PLS Ridge\n",
      "\n",
      "----------------------------------------------------------\n",
      "\n",
      "Posição: 1819961\n",
      "Index: 99960\n",
      "Título:  Modelos estatísticos para o estudo de biotecnologias reprodutivas em bovinos\n",
      "Autor:  Koeller, Andreza Jardelino \n",
      "Resumo:  O advento das técnicas de inseminação artificial e fertilização in vitro possibilitaram que o campo de melhoramento animal obtivesse um avanço nos resultados de prenhez. Os dados utilizados nesse trabalho são referentes a transferência e viabilidade embrionária, onde a natureza da variável de interesse são amostras binárias e de proporção, respectiva- mente. Nesse contexto, o objetivo deste trabalho é desenvolver modelos capazes de acomodar esses tipos de dados, e com isso avaliar as possíveis influências para cada um dos interesses, fomentando o conhecimento no que tange a área de estatística, bem como a de melhoramento animal. Para o desenvolvimento deste trabalho foram utilizados modelos lineares generalizados mistos para avaliar os dados binários superdispersos, a fim de identificar quais os fatores que influenciavam a uma transferência embrionária de sucesso. Um outro objetivo foi verificar as condições que resultam em uma elevada taxa de viabilidade embrionária, para isso, foram propostos os modelos combinados para acomodar os dados de proporção. Para finalizar o trabalho foi proposta uma comparação entre de diferentes metodologias, as quais utilizaram os dados binários a fim de verificar a performance entre modelos estatísticos com aqueles propostos para o aprendizado de máquina.\n",
      "Palavras-Chave:  Classificação de prenhez Dados binários Embrião viável Machine learning Modelos combinados Modelos lineares generalizados mistos Random forest Superdispersão\n",
      "\n",
      "----------------------------------------------------------\n",
      "\n",
      "Posição: 1439199\n",
      "Index: 80149\n",
      "Título:  Resposta hiperespectral de folha na diferenciação de adubação nitrogenada e predição do teor de clorofila na cultura de capim 'Mombaça'\n",
      "Autor:  Ruiz Sánchez, Miller Andres \n",
      "Resumo:  A atividade bovina do Brasil é uma das maiores do mundo, devido principalmente, ao uso predominante de pastagens tropicais na dieta do gado, porém, o alto custo dos insumos, com destaque para a adubação nitrogenada, dificulta a obtenção de altas produções de forragens. Por esta razão, a utilização de novas tecnologias que permitam melhorar o manejo e aumentar o rendimento de culturas como o capim 'Mombaça', por meio do uso racional dos fatores de produção, é de alta relevância. O objetivo deste estudo foi avaliar o uso de dados hiperespectrais para a discriminação de diferentes tratamentos de adubação nitrogenada, e comparar diferentes métodos para obter valores de concentração de clorofila a partir de assinaturas espectrais de capim 'Mombaça'. Foram estabelecidos quatro tratamentos de com doses diferentes de adubação nitrogenada. Foi medida a reflectância espectral de folhas coletadas em cada tratamento por meio de um sensor hiperespectral em laboratório além de medições de clorofila das folhas. Foi encontrado que as assinaturas espectrais de cada tratamento tiveram comportamentos diferentes, principalmente nas regiões do verde e do red-edge, sendo que tais diferenças dependeram da quantidade de adubo nitrogenado aplicado e do teor de clorofila foliar. A separação dos tratamentos foi possível mediante o uso de análise linear discriminante, baseando-se nos dados de reflectância espectral obtidos em cada tratamento. A obtenção de valores de concentração de clorofila da folha por meio de reflectância espectral foi possível por meio de técnicas de machine learning, destacando-se o support vector machine, como a melhor alternativa. As regiões do red-edge e do verde foram as mais influentes para realizar o cálculo dos valores de concentração de clorofila na folha.\n",
      "Palavras-Chave:  Megathyrsus maximus Análise linear discriminante Clorofila Machine learning Reflectância espectral\n",
      "\n",
      "----------------------------------------------------------\n",
      "\n",
      "Posição: 1581120\n",
      "Index: 87130\n",
      "Título:  Precificação de ativos via Machine Learning: uma extensão de métodos lineares esparsos\n",
      "Autor:  Nascimento, Caio de Angelis \n",
      "Resumo:  Neste trabalho utilizamos uma classe de modelos de não arbitragem e métodos de estimação baseados em ferramentas de Machine Learning para prever o prêmio de risco ao longo do tempo. A pesquisa inova em adicionar modelos de alta dimensão esparsos para precificação de ativos, como modelos de vetores autoregressivos esparsos, análise de componentes principais esparsos (SPCA), combinação de métodos de penalização como pré-seleção de variáveis e e outros modelos econométricos baseados em esparsidade. Também consideramos como extensão aos modelos existentes na literatura de alta de dimensão analisados na pesquisa correções nos estimadores de matrizes de covariância, adicionando estimadores considerando dependência de longo prazo. A base de dados utilizada consiste de 630 séries temporais relacionadas ao mercado Brasileiro, contendo variáveis macroeconômicas, setoriais e especificas dos ativos, divididas em quatro diferentes espaços de tempo (dia, mês, trimestre e ano). Como resultado principal foi desenvolvida uma estrutura a termo do prêmio de risco de um conjunto de ativos selecionados, chegando a encontrar um R2 para previsões de fora da amostra de aproximadamente 91% para o Índice IBOVESPA. Com objetivo de testar a capacidade de geração de alpha dos modelos desenvolvidos na pesquisa, foram desenvolvidas estratégias de Long-Short e Long-Only compostas pelos ativos analisados de 1 de janeiro de 2016 até 31 de dezembro de 2017, apresentando índice de Sharpe de 3,030 e um retorno acumulado de 157,07% no período.\n",
      "Palavras-Chave:  Estrutura a termo do retorno esperado Gestão de portfólios Machine learning Precificação de ativos\n",
      "\n",
      "----------------------------------------------------------\n",
      "\n"
     ]
    }
   ],
   "source": [
    "top_scores_ids = hits[:15]\n",
    "for i in top_scores_ids:\n",
    "    row = metadata.iloc[indices[i]]\n",
    "    print(\"Posição:\", i+1)\n",
    "    print(\"Index:\", indices[i])\n",
    "    print(\"Título: \", row['title_pt'])\n",
    "    print(\"Autor: \", row['author'])\n",
    "    print(\"Resumo: \", row['abstract_pt'])\n",
    "    print(\"Palavras-Chave: \", row['keywords_pt'])\n",
    "    print(\"\\n----------------------------------------------------------\\n\")"
   ]
  },
  {
   "cell_type": "markdown",
   "id": "eb5d287f",
   "metadata": {},
   "source": [
    "## Vetorizando Sentenças"
   ]
  },
  {
   "cell_type": "code",
   "execution_count": null,
   "id": "01e29dce",
   "metadata": {
    "scrolled": true
   },
   "outputs": [],
   "source": [
    "# encoding in batches can reduce overhead costs and speed up the process\n",
    "vectors = []\n",
    "batch_size = 64\n",
    "batch = []\n",
    "for row in tqdm(data.itertuples()):\n",
    "    descriptions = []\n",
    "    pre = (row.title_en + \". \" + row.abstract_en + \" \" + row.keywords_en).split(\". \")\n",
    "    encoding = model.encode(pre)\n",
    "    vectors.append(encoding)\n",
    "\n",
    "vectors_concat = np.concatenate(vectors)"
   ]
  },
  {
   "cell_type": "code",
   "execution_count": null,
   "id": "0c396edf",
   "metadata": {},
   "outputs": [],
   "source": [
    "np.save(os.path.join(config.DATA_DIR,\"vectors_sentences.npy\"), vectors_concat, allow_pickle=False)"
   ]
  },
  {
   "cell_type": "code",
   "execution_count": null,
   "id": "4c7f21bd",
   "metadata": {},
   "outputs": [],
   "source": [
    "vectors_concat = np.load(os.path.join(config.DATA_DIR, \"vectors_sentences.npy\"))"
   ]
  },
  {
   "cell_type": "code",
   "execution_count": null,
   "id": "001a2120",
   "metadata": {},
   "outputs": [],
   "source": [
    "query(\"ddos attack\")"
   ]
  },
  {
   "cell_type": "code",
   "execution_count": null,
   "id": "6ee686c9",
   "metadata": {},
   "outputs": [],
   "source": [
    "query(\"ddos attack with machine learning\")"
   ]
  },
  {
   "cell_type": "code",
   "execution_count": null,
   "id": "f8838e8b",
   "metadata": {},
   "outputs": [],
   "source": [
    "query(\"ddos attack and networking\")"
   ]
  },
  {
   "cell_type": "code",
   "execution_count": null,
   "id": "44ee6385",
   "metadata": {},
   "outputs": [],
   "source": [
    "query(\"linux systems and networking\")"
   ]
  },
  {
   "cell_type": "code",
   "execution_count": null,
   "id": "90e91542",
   "metadata": {},
   "outputs": [],
   "source": [
    "query(\"Message Queuing Telemetry Transport\")"
   ]
  },
  {
   "cell_type": "code",
   "execution_count": null,
   "id": "4cafc030",
   "metadata": {
    "scrolled": true
   },
   "outputs": [],
   "source": [
    "query(\"governance artificial inteligence\")"
   ]
  },
  {
   "cell_type": "code",
   "execution_count": null,
   "id": "e8c04fe0",
   "metadata": {
    "scrolled": true
   },
   "outputs": [],
   "source": [
    "query(\"how to train your dragon\")"
   ]
  },
  {
   "cell_type": "code",
   "execution_count": null,
   "id": "ec9daa58",
   "metadata": {
    "scrolled": false
   },
   "outputs": [],
   "source": [
    "query(\"population perceptions of dengue\")"
   ]
  },
  {
   "cell_type": "code",
   "execution_count": null,
   "id": "ac9054c8",
   "metadata": {},
   "outputs": [],
   "source": []
  }
 ],
 "metadata": {
  "kernelspec": {
   "display_name": "Python 3 (ipykernel)",
   "language": "python",
   "name": "python3"
  },
  "language_info": {
   "codemirror_mode": {
    "name": "ipython",
    "version": 3
   },
   "file_extension": ".py",
   "mimetype": "text/x-python",
   "name": "python",
   "nbconvert_exporter": "python",
   "pygments_lexer": "ipython3",
   "version": "3.10.6"
  }
 },
 "nbformat": 4,
 "nbformat_minor": 5
}
