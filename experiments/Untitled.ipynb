{
 "cells": [
  {
   "cell_type": "code",
   "execution_count": 5,
   "id": "685a958f",
   "metadata": {},
   "outputs": [],
   "source": [
    "from qdrant_client import QdrantClient\n",
    "client = QdrantClient(url=\"0.0.0.0\")  # Persists changes to disk, fast prototyping"
   ]
  },
  {
   "cell_type": "code",
   "execution_count": 8,
   "id": "c0530c07",
   "metadata": {},
   "outputs": [],
   "source": [
    "from typing import List"
   ]
  },
  {
   "cell_type": "code",
   "execution_count": 1,
   "id": "d339fe55",
   "metadata": {},
   "outputs": [],
   "source": [
    "from torch import cuda"
   ]
  },
  {
   "cell_type": "code",
   "execution_count": 9,
   "id": "721ba533",
   "metadata": {},
   "outputs": [],
   "source": [
    "class VectorSearch:\n",
    "\n",
    "    def __init__(self, collection_name: str, model: str, host: str, port: int):\n",
    "        self.collection_name = collection_name\n",
    "        \n",
    "        device = 'cpu'\n",
    "        if cuda.is_available():\n",
    "            device = 'gpu'\n",
    "        self.model = SentenceTransformer(model, device)\n",
    "        \n",
    "        self.client = QdrantClient(host, port)\n",
    "\n",
    "    def search(self, query_string: str, filter_: dict = None) -> List[dict]:\n",
    "        vector = self.model.encode(query_string).tolist()\n",
    "        hits = self.qdrant_client.search(\n",
    "            collection_name=self.collection_name,\n",
    "            query_vector=vector,\n",
    "            query_filter=Filter(**filter_) if filter_ else None,\n",
    "            top=5\n",
    "        )\n",
    "        return [hit.payload for hit in hits]"
   ]
  },
  {
   "cell_type": "code",
   "execution_count": 11,
   "id": "6888ddf9",
   "metadata": {},
   "outputs": [],
   "source": [
    "import qdrant_client"
   ]
  },
  {
   "cell_type": "code",
   "execution_count": 16,
   "id": "d9b9a2d4",
   "metadata": {},
   "outputs": [],
   "source": [
    "from qdrant_client.models import VectorParams"
   ]
  },
  {
   "cell_type": "code",
   "execution_count": 13,
   "id": "10664fd6",
   "metadata": {},
   "outputs": [
    {
     "ename": "AttributeError",
     "evalue": "module 'qdrant_client' has no attribute 'create_collection'",
     "output_type": "error",
     "traceback": [
      "\u001b[0;31m---------------------------------------------------------------------------\u001b[0m",
      "\u001b[0;31mAttributeError\u001b[0m                            Traceback (most recent call last)",
      "\u001b[0;32m/tmp/ipykernel_13603/785118134.py\u001b[0m in \u001b[0;36m<module>\u001b[0;34m\u001b[0m\n\u001b[0;32m----> 1\u001b[0;31m \u001b[0mqdrant_client\u001b[0m\u001b[0;34m.\u001b[0m\u001b[0mcreate_collection\u001b[0m\u001b[0;34m(\u001b[0m\u001b[0;34m)\u001b[0m\u001b[0;34m\u001b[0m\u001b[0;34m\u001b[0m\u001b[0m\n\u001b[0m",
      "\u001b[0;31mAttributeError\u001b[0m: module 'qdrant_client' has no attribute 'create_collection'"
     ]
    }
   ],
   "source": [
    "client.recreate_collection(\"theses_metadata\", \"\")"
   ]
  },
  {
   "cell_type": "code",
   "execution_count": 20,
   "id": "d1eced96",
   "metadata": {},
   "outputs": [],
   "source": [
    "import numpy as np\n",
    "from nbconf import *"
   ]
  },
  {
   "cell_type": "code",
   "execution_count": 21,
   "id": "f2b0bb67",
   "metadata": {},
   "outputs": [
    {
     "data": {
      "text/plain": [
       "'/home/decarv/projects/sse/data'"
      ]
     },
     "execution_count": 21,
     "metadata": {},
     "output_type": "execute_result"
    }
   ],
   "source": [
    "config.DATA_PATH"
   ]
  },
  {
   "cell_type": "code",
   "execution_count": 28,
   "id": "b3e44c69",
   "metadata": {},
   "outputs": [
    {
     "name": "stdout",
     "output_type": "stream",
     "text": [
      "clean_data.csv  \u001b[0m\u001b[01;34mdocuments\u001b[0m/  \u001b[01;34mmodels\u001b[0m/                   vectors.npy\r\n",
      "dataframe       errors.db   vectors_experiment_3.npy  webpages.db\r\n",
      "dataframe.csv   \u001b[01;34mmetadata\u001b[0m/   vectors_experiment_4.npy  your_database.db\r\n"
     ]
    }
   ],
   "source": [
    "ls ../data"
   ]
  },
  {
   "cell_type": "code",
   "execution_count": 24,
   "id": "dd5ca306",
   "metadata": {},
   "outputs": [],
   "source": [
    "import os"
   ]
  },
  {
   "cell_type": "code",
   "execution_count": 30,
   "id": "5ba0e37c",
   "metadata": {
    "scrolled": true
   },
   "outputs": [],
   "source": [
    "vectors = np.load(os.path.join(config.DATA_PATH, \"vectors_experiment_4.npy\"))"
   ]
  },
  {
   "cell_type": "code",
   "execution_count": 37,
   "id": "63ed30ac",
   "metadata": {},
   "outputs": [
    {
     "data": {
      "text/plain": [
       "<module 'config' from '/home/decarv/projects/sse/sse/config.py'>"
      ]
     },
     "execution_count": 37,
     "metadata": {},
     "output_type": "execute_result"
    }
   ],
   "source": []
  },
  {
   "cell_type": "code",
   "execution_count": null,
   "id": "813ac3da",
   "metadata": {},
   "outputs": [],
   "source": [
    "with open(os.path.join(config.DATA_PATH, \"idxs.pickle\"), 'rb') as f:\n",
    "    f."
   ]
  },
  {
   "cell_type": "code",
   "execution_count": 33,
   "id": "4f0a84a3",
   "metadata": {},
   "outputs": [
    {
     "data": {
      "text/plain": [
       "(1365328, 768)"
      ]
     },
     "execution_count": 33,
     "metadata": {},
     "output_type": "execute_result"
    }
   ],
   "source": [
    "vectors.shape"
   ]
  },
  {
   "cell_type": "code",
   "execution_count": 35,
   "id": "aed98644",
   "metadata": {},
   "outputs": [],
   "source": [
    "vector_params = VectorParams(size=vectors.shape[1], distance=\"Cosine\")"
   ]
  },
  {
   "cell_type": "code",
   "execution_count": 36,
   "id": "69688c7f",
   "metadata": {},
   "outputs": [
    {
     "data": {
      "text/plain": [
       "True"
      ]
     },
     "execution_count": 36,
     "metadata": {},
     "output_type": "execute_result"
    }
   ],
   "source": [
    "client.recreate_collection(\"theses_metadata\", vectors_config=vector_params)"
   ]
  },
  {
   "cell_type": "code",
   "execution_count": 15,
   "id": "fcd4e0cf",
   "metadata": {},
   "outputs": [],
   "source": [
    "from typing import List\n",
    "from sentence_transformers import SentenceTransformer\n",
    "from qdrant_client import QdrantClient\n",
    "from torch import cuda\n",
    "\n",
    "\n",
    "class SearchClient:\n",
    "\n",
    "    def __init__(self, collection_name: str, model: str, host: str, port: str):\n",
    "        self.collection_name = collection_name\n",
    "\n",
    "        device = 'cuda' if cuda.is_available() else 'cpu'\n",
    "        self.model = SentenceTransformer(model, device=device)\n",
    "\n",
    "        self.client = QdrantClient(host, port)\n",
    "\n",
    "    def search(self, query_string: str, filter_: dict = None) -> List[dict]:\n",
    "        vector = self.model.encode(query_string).tolist()\n",
    "        hits = self.client.search(\n",
    "            collection_name=self.collection_name,\n",
    "            query_vector=vector,\n",
    "            query_filter=Filter(**filter_) if filter_ else None,\n",
    "            top=5\n",
    "        )\n",
    "        return [hit.payload for hit in hits]"
   ]
  },
  {
   "cell_type": "code",
   "execution_count": 20,
   "id": "6ebba542",
   "metadata": {},
   "outputs": [],
   "source": [
    "from fastapi import FastAPI\n",
    "\n",
    "import nbconf\n",
    "import config\n",
    "\n",
    "\n",
    "class Server:\n",
    "    \"\"\"\"\"\"\n",
    "\n",
    "    def __init__(self, search_client: SearchClient):\n",
    "        self.search_client = search_client\n",
    "\n",
    "        self.app = FastAPI()\n",
    "\n",
    "        @self.app.get(\"/search\")\n",
    "        def search_query(query_string: str):\n",
    "            result = self.search_client.search(query_string)\n",
    "            return {\n",
    "                \"result\": result\n",
    "            }\n",
    "        self.search = search_query"
   ]
  },
  {
   "cell_type": "code",
   "execution_count": 21,
   "id": "fd3d0eac",
   "metadata": {},
   "outputs": [],
   "source": [
    "COLLECTION_NAME = \"theses\"\n",
    "MODEL_NAME = \"distilbert-base-nli-stsb-mean-tokens\"\n",
    "\n",
    "HOST = \"0.0.0.0\"\n",
    "PORT = \"6333\""
   ]
  },
  {
   "cell_type": "code",
   "execution_count": 22,
   "id": "26195bcd",
   "metadata": {},
   "outputs": [],
   "source": [
    "search_client = SearchClient(COLLECTION_NAME, MODEL_NAME, HOST, PORT)\n",
    "server = Server(search_client)"
   ]
  },
  {
   "cell_type": "code",
   "execution_count": 23,
   "id": "5efeae22",
   "metadata": {},
   "outputs": [
    {
     "ename": "RuntimeError",
     "evalue": "asyncio.run() cannot be called from a running event loop",
     "output_type": "error",
     "traceback": [
      "\u001b[0;31m---------------------------------------------------------------------------\u001b[0m",
      "\u001b[0;31mRuntimeError\u001b[0m                              Traceback (most recent call last)",
      "\u001b[0;32m/tmp/ipykernel_7386/1259419238.py\u001b[0m in \u001b[0;36m<module>\u001b[0;34m\u001b[0m\n\u001b[1;32m      1\u001b[0m \u001b[0;32mimport\u001b[0m \u001b[0muvicorn\u001b[0m\u001b[0;34m\u001b[0m\u001b[0;34m\u001b[0m\u001b[0m\n\u001b[0;32m----> 2\u001b[0;31m \u001b[0muvicorn\u001b[0m\u001b[0;34m.\u001b[0m\u001b[0mrun\u001b[0m\u001b[0;34m(\u001b[0m\u001b[0mserver\u001b[0m\u001b[0;34m.\u001b[0m\u001b[0mapp\u001b[0m\u001b[0;34m,\u001b[0m \u001b[0mhost\u001b[0m\u001b[0;34m=\u001b[0m\u001b[0;34m\"0.0.0.0\"\u001b[0m\u001b[0;34m,\u001b[0m \u001b[0mport\u001b[0m\u001b[0;34m=\u001b[0m\u001b[0;36m8000\u001b[0m\u001b[0;34m)\u001b[0m\u001b[0;34m\u001b[0m\u001b[0;34m\u001b[0m\u001b[0m\n\u001b[0m",
      "\u001b[0;32m~/.local/lib/python3.10/site-packages/uvicorn/main.py\u001b[0m in \u001b[0;36mrun\u001b[0;34m(app, host, port, uds, fd, loop, http, ws, ws_max_size, ws_ping_interval, ws_ping_timeout, ws_per_message_deflate, lifespan, interface, reload, reload_dirs, reload_includes, reload_excludes, reload_delay, workers, env_file, log_config, log_level, access_log, proxy_headers, server_header, date_header, forwarded_allow_ips, root_path, limit_concurrency, backlog, limit_max_requests, timeout_keep_alive, ssl_keyfile, ssl_certfile, ssl_keyfile_password, ssl_version, ssl_cert_reqs, ssl_ca_certs, ssl_ciphers, headers, use_colors, app_dir, factory, h11_max_incomplete_event_size)\u001b[0m\n\u001b[1;32m    566\u001b[0m         \u001b[0mMultiprocess\u001b[0m\u001b[0;34m(\u001b[0m\u001b[0mconfig\u001b[0m\u001b[0;34m,\u001b[0m \u001b[0mtarget\u001b[0m\u001b[0;34m=\u001b[0m\u001b[0mserver\u001b[0m\u001b[0;34m.\u001b[0m\u001b[0mrun\u001b[0m\u001b[0;34m,\u001b[0m \u001b[0msockets\u001b[0m\u001b[0;34m=\u001b[0m\u001b[0;34m[\u001b[0m\u001b[0msock\u001b[0m\u001b[0;34m]\u001b[0m\u001b[0;34m)\u001b[0m\u001b[0;34m.\u001b[0m\u001b[0mrun\u001b[0m\u001b[0;34m(\u001b[0m\u001b[0;34m)\u001b[0m\u001b[0;34m\u001b[0m\u001b[0;34m\u001b[0m\u001b[0m\n\u001b[1;32m    567\u001b[0m     \u001b[0;32melse\u001b[0m\u001b[0;34m:\u001b[0m\u001b[0;34m\u001b[0m\u001b[0;34m\u001b[0m\u001b[0m\n\u001b[0;32m--> 568\u001b[0;31m         \u001b[0mserver\u001b[0m\u001b[0;34m.\u001b[0m\u001b[0mrun\u001b[0m\u001b[0;34m(\u001b[0m\u001b[0;34m)\u001b[0m\u001b[0;34m\u001b[0m\u001b[0;34m\u001b[0m\u001b[0m\n\u001b[0m\u001b[1;32m    569\u001b[0m     \u001b[0;32mif\u001b[0m \u001b[0mconfig\u001b[0m\u001b[0;34m.\u001b[0m\u001b[0muds\u001b[0m \u001b[0;32mand\u001b[0m \u001b[0mos\u001b[0m\u001b[0;34m.\u001b[0m\u001b[0mpath\u001b[0m\u001b[0;34m.\u001b[0m\u001b[0mexists\u001b[0m\u001b[0;34m(\u001b[0m\u001b[0mconfig\u001b[0m\u001b[0;34m.\u001b[0m\u001b[0muds\u001b[0m\u001b[0;34m)\u001b[0m\u001b[0;34m:\u001b[0m\u001b[0;34m\u001b[0m\u001b[0;34m\u001b[0m\u001b[0m\n\u001b[1;32m    570\u001b[0m         \u001b[0mos\u001b[0m\u001b[0;34m.\u001b[0m\u001b[0mremove\u001b[0m\u001b[0;34m(\u001b[0m\u001b[0mconfig\u001b[0m\u001b[0;34m.\u001b[0m\u001b[0muds\u001b[0m\u001b[0;34m)\u001b[0m  \u001b[0;31m# pragma: py-win32\u001b[0m\u001b[0;34m\u001b[0m\u001b[0;34m\u001b[0m\u001b[0m\n",
      "\u001b[0;32m~/.local/lib/python3.10/site-packages/uvicorn/server.py\u001b[0m in \u001b[0;36mrun\u001b[0;34m(self, sockets)\u001b[0m\n\u001b[1;32m     57\u001b[0m     \u001b[0;32mdef\u001b[0m \u001b[0mrun\u001b[0m\u001b[0;34m(\u001b[0m\u001b[0mself\u001b[0m\u001b[0;34m,\u001b[0m \u001b[0msockets\u001b[0m\u001b[0;34m:\u001b[0m \u001b[0mOptional\u001b[0m\u001b[0;34m[\u001b[0m\u001b[0mList\u001b[0m\u001b[0;34m[\u001b[0m\u001b[0msocket\u001b[0m\u001b[0;34m.\u001b[0m\u001b[0msocket\u001b[0m\u001b[0;34m]\u001b[0m\u001b[0;34m]\u001b[0m \u001b[0;34m=\u001b[0m \u001b[0;32mNone\u001b[0m\u001b[0;34m)\u001b[0m \u001b[0;34m->\u001b[0m \u001b[0;32mNone\u001b[0m\u001b[0;34m:\u001b[0m\u001b[0;34m\u001b[0m\u001b[0;34m\u001b[0m\u001b[0m\n\u001b[1;32m     58\u001b[0m         \u001b[0mself\u001b[0m\u001b[0;34m.\u001b[0m\u001b[0mconfig\u001b[0m\u001b[0;34m.\u001b[0m\u001b[0msetup_event_loop\u001b[0m\u001b[0;34m(\u001b[0m\u001b[0;34m)\u001b[0m\u001b[0;34m\u001b[0m\u001b[0;34m\u001b[0m\u001b[0m\n\u001b[0;32m---> 59\u001b[0;31m         \u001b[0;32mreturn\u001b[0m \u001b[0masyncio\u001b[0m\u001b[0;34m.\u001b[0m\u001b[0mrun\u001b[0m\u001b[0;34m(\u001b[0m\u001b[0mself\u001b[0m\u001b[0;34m.\u001b[0m\u001b[0mserve\u001b[0m\u001b[0;34m(\u001b[0m\u001b[0msockets\u001b[0m\u001b[0;34m=\u001b[0m\u001b[0msockets\u001b[0m\u001b[0;34m)\u001b[0m\u001b[0;34m)\u001b[0m\u001b[0;34m\u001b[0m\u001b[0;34m\u001b[0m\u001b[0m\n\u001b[0m\u001b[1;32m     60\u001b[0m \u001b[0;34m\u001b[0m\u001b[0m\n\u001b[1;32m     61\u001b[0m     \u001b[0;32masync\u001b[0m \u001b[0;32mdef\u001b[0m \u001b[0mserve\u001b[0m\u001b[0;34m(\u001b[0m\u001b[0mself\u001b[0m\u001b[0;34m,\u001b[0m \u001b[0msockets\u001b[0m\u001b[0;34m:\u001b[0m \u001b[0mOptional\u001b[0m\u001b[0;34m[\u001b[0m\u001b[0mList\u001b[0m\u001b[0;34m[\u001b[0m\u001b[0msocket\u001b[0m\u001b[0;34m.\u001b[0m\u001b[0msocket\u001b[0m\u001b[0;34m]\u001b[0m\u001b[0;34m]\u001b[0m \u001b[0;34m=\u001b[0m \u001b[0;32mNone\u001b[0m\u001b[0;34m)\u001b[0m \u001b[0;34m->\u001b[0m \u001b[0;32mNone\u001b[0m\u001b[0;34m:\u001b[0m\u001b[0;34m\u001b[0m\u001b[0;34m\u001b[0m\u001b[0m\n",
      "\u001b[0;32m/usr/lib/python3.10/asyncio/runners.py\u001b[0m in \u001b[0;36mrun\u001b[0;34m(main, debug)\u001b[0m\n\u001b[1;32m     31\u001b[0m     \"\"\"\n\u001b[1;32m     32\u001b[0m     \u001b[0;32mif\u001b[0m \u001b[0mevents\u001b[0m\u001b[0;34m.\u001b[0m\u001b[0m_get_running_loop\u001b[0m\u001b[0;34m(\u001b[0m\u001b[0;34m)\u001b[0m \u001b[0;32mis\u001b[0m \u001b[0;32mnot\u001b[0m \u001b[0;32mNone\u001b[0m\u001b[0;34m:\u001b[0m\u001b[0;34m\u001b[0m\u001b[0;34m\u001b[0m\u001b[0m\n\u001b[0;32m---> 33\u001b[0;31m         raise RuntimeError(\n\u001b[0m\u001b[1;32m     34\u001b[0m             \"asyncio.run() cannot be called from a running event loop\")\n\u001b[1;32m     35\u001b[0m \u001b[0;34m\u001b[0m\u001b[0m\n",
      "\u001b[0;31mRuntimeError\u001b[0m: asyncio.run() cannot be called from a running event loop"
     ]
    }
   ],
   "source": [
    "import uvicorn\n",
    "uvicorn.run(server.app, host=\"0.0.0.0\", port=8000)"
   ]
  },
  {
   "cell_type": "code",
   "execution_count": null,
   "id": "9e35b2db",
   "metadata": {},
   "outputs": [],
   "source": []
  }
 ],
 "metadata": {
  "kernelspec": {
   "display_name": "Python 3 (ipykernel)",
   "language": "python",
   "name": "python3"
  },
  "language_info": {
   "codemirror_mode": {
    "name": "ipython",
    "version": 3
   },
   "file_extension": ".py",
   "mimetype": "text/x-python",
   "name": "python",
   "nbconvert_exporter": "python",
   "pygments_lexer": "ipython3",
   "version": "3.10.6"
  }
 },
 "nbformat": 4,
 "nbformat_minor": 5
}
