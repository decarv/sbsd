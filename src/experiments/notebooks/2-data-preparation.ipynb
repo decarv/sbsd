{
 "cells": [
  {
   "cell_type": "markdown",
   "id": "23511cbd",
   "metadata": {},
   "source": [
    "## 2. Data Preparation\n",
    "\n",
    "Data: 29 de Maio de 2023\n",
    "\n",
    "Esse notebook contém:\n",
    "\n",
    "- Inicialização de modelos de vetorização de texto pré-treinados\n",
    "- Conversão de dados em texto para vetor e salvamento.\n",
    "\n",
    "### Notas:\n",
    "\n",
    "\n",
    "\n",
    "#### a. Data Colection\n",
    "\n",
    "Fazer:\n",
    "- adaptar o código para coletar knowledge_area em inglês. Talvez tudo em inglês em um primeiro momento porque eu suponho que os modelos funcionem melhor.\n",
    "- Eu também preciso da url para o artigo, salvar isso.\n",
    "- Muitos valores nulos durante o parsing, por:\n",
    "    ```array(['tde-28102015-135333', 'tde-02012016-095549',\n",
    "       'tde-24112014-141242', 'tde-24052006-144856',\n",
    "       'tde-02092021-143225', 'tde-16102009-154941',\n",
    "       'tde-01122016-092008', 'tde-25092008-165152',\n",
    "       'tde-16032021-150930', 'tde-09062003-162453',\n",
    "       'tde-23082017-210426', 'tde-27052004-160210',\n",
    "       'tde-10102022-092326', 'tde-24102016-141623',\n",
    "       'tde-28062021-164000', 'tde-24052006-155058',\n",
    "       'tde-07112018-100009', 'tde-18042018-084856',\n",
    "       'tde-02062006-105722', 'tde-05062020-090351',\n",
    "       'tde-20102010-151349', 'tde-09112022-122413',\n",
    "       'tde-21022020-154150', 'tde-07022022-171023',\n",
    "       'tde-01062020-085825', 'tde-01062020-090238',\n",
    "       'tde-08082022-111403', 'tde-05112021-110843',\n",
    "       'tde-10042023-155349', 'tde-10042023-155123',\n",
    "       'tde-07092020-101055'], dtype=object)```\n",
    "\n",
    "#### b. Embedding Models\n",
    "\n",
    "\n",
    "- Uma explicacao sobre o sentence transformer pode ser encontrada abaixo. Notar que eu usei um modelo especifico chamado distilbert-base-nli-stsb-mean-tokens para gerar os embeddings. Talvez eu possa testar outros modelos do hugging face. \n",
    "\n",
    "##### Fazer: \n",
    "- Verificar com a Nina como eu posso avaliar os modelos.\n",
    "\n",
    "##### Sidenote: Explicação de Sentence Transformers\n",
    "\n",
    "sentence-transformers is a library that provides easy methods to compute embeddings (dense vector representations) for sentences, paragraphs and images. Texts are embedded in a vector space such that similar text is close, which enables applications such as semantic search, clustering, and retrieval.\n",
    "\n",
    "Há vários modelos para serem testados e cada um é treinado de uma forma diferente ou em um conjunto de dados diferente o que dá características únicas ao modelo e aos embeddings gerados, permitindo que cada modelo possa ser usado para um propósito específico.\n",
    "\n",
    "All models on the Hub come up with features:\n",
    "\n",
    "An automatically generated model card with a description, example code snippets, architecture overview, and more.\n",
    "Metadata tags that help for discoverability and contain information such as license.\n",
    "An interactive widget you can use to play out with the model directly in the browser.\n",
    "An Inference API that allows to make inference requests.\n",
    "\n",
    "https://huggingface.co/docs/hub/sentence-transformers\n",
    "> **Pergunta**: o que faz um modelo ser treinado para similaridade semântica textual? Qual a diferença no treinamento? Apenas o conjunto de dados?\n",
    "\n",
    "#### c. Vector Search\n",
    "- Como funciona cosine_similarity?"
   ]
  },
  {
   "cell_type": "code",
   "execution_count": 1,
   "id": "b9d75543",
   "metadata": {},
   "outputs": [
    {
     "name": "stderr",
     "output_type": "stream",
     "text": [
      "2023-05-30 12:21:01.251072: I tensorflow/core/platform/cpu_feature_guard.cc:193] This TensorFlow binary is optimized with oneAPI Deep Neural Network Library (oneDNN) to use the following CPU instructions in performance-critical operations:  AVX2 FMA\n",
      "To enable them in other operations, rebuild TensorFlow with the appropriate compiler flags.\n",
      "2023-05-30 12:21:02.460173: W tensorflow/compiler/xla/stream_executor/platform/default/dso_loader.cc:64] Could not load dynamic library 'libnvinfer.so.7'; dlerror: libnvinfer.so.7: cannot open shared object file: No such file or directory\n",
      "2023-05-30 12:21:02.460246: W tensorflow/compiler/xla/stream_executor/platform/default/dso_loader.cc:64] Could not load dynamic library 'libnvinfer_plugin.so.7'; dlerror: libnvinfer_plugin.so.7: cannot open shared object file: No such file or directory\n",
      "2023-05-30 12:21:02.460251: W tensorflow/compiler/tf2tensorrt/utils/py_utils.cc:38] TF-TRT Warning: Cannot dlopen some TensorRT libraries. If you would like to use Nvidia GPU with TensorRT, please make sure the missing libraries mentioned above are installed properly.\n"
     ]
    }
   ],
   "source": [
    "import json\n",
    "from sentence_transformers import SentenceTransformer\n",
    "import numpy as np\n",
    "import pandas as pd\n",
    "from tqdm.notebook import tqdm\n",
    "\n",
    "# pre-trained sentence encoder\n",
    "# distilbert (distilated version of bert model)\n",
    "# stsb denotes that the model was trained for semantic textual similarity\n",
    "\n",
    "model = SentenceTransformer('distilbert-base-nli-stsb-mean-tokens', device='cuda')"
   ]
  },
  {
   "cell_type": "markdown",
   "id": "6e810df3",
   "metadata": {},
   "source": [
    "### Data Selection"
   ]
  },
  {
   "cell_type": "code",
   "execution_count": 225,
   "id": "c2c3cd9d",
   "metadata": {
    "scrolled": false
   },
   "outputs": [],
   "source": [
    "df = pd.read_json(\"../data/theses.json\", lines=False)\n",
    "df = df.transpose()\n",
    "df.reset_index(inplace=True)"
   ]
  },
  {
   "cell_type": "markdown",
   "id": "459ada9a",
   "metadata": {},
   "source": [
    "#### Null values"
   ]
  },
  {
   "cell_type": "code",
   "execution_count": 226,
   "id": "099f6360",
   "metadata": {},
   "outputs": [
    {
     "data": {
      "text/plain": [
       "array(['tde-28102015-135333', 'tde-02012016-095549',\n",
       "       'tde-24112014-141242', 'tde-24052006-144856',\n",
       "       'tde-02092021-143225', 'tde-16102009-154941',\n",
       "       'tde-01122016-092008', 'tde-25092008-165152',\n",
       "       'tde-16032021-150930', 'tde-09062003-162453',\n",
       "       'tde-23082017-210426', 'tde-27052004-160210',\n",
       "       'tde-10102022-092326', 'tde-24102016-141623',\n",
       "       'tde-28062021-164000', 'tde-24052006-155058',\n",
       "       'tde-07112018-100009', 'tde-18042018-084856',\n",
       "       'tde-02062006-105722', 'tde-05062020-090351',\n",
       "       'tde-20102010-151349', 'tde-09112022-122413',\n",
       "       'tde-21022020-154150', 'tde-07022022-171023',\n",
       "       'tde-01062020-085825', 'tde-01062020-090238',\n",
       "       'tde-08082022-111403', 'tde-05112021-110843',\n",
       "       'tde-10042023-155349', 'tde-10042023-155123',\n",
       "       'tde-07092020-101055'], dtype=object)"
      ]
     },
     "execution_count": 226,
     "metadata": {},
     "output_type": "execute_result"
    }
   ],
   "source": [
    "df[df.isnull().any(axis=1)][\"index\"].values"
   ]
  },
  {
   "cell_type": "code",
   "execution_count": 227,
   "id": "eb8a113e",
   "metadata": {},
   "outputs": [],
   "source": [
    "df.dropna(inplace=True)"
   ]
  },
  {
   "cell_type": "markdown",
   "id": "cefa6509",
   "metadata": {},
   "source": [
    "#### Feature cleaning\n",
    "\n",
    "Algumas instâncias dos dados estavam com knowledge_area = \"Knowledge Area\", exemplo:\n",
    "https://www.teses.usp.br/teses/disponiveis/98/98132/tde-27072020-145806/en.php"
   ]
  },
  {
   "cell_type": "code",
   "execution_count": 228,
   "id": "a2796a51",
   "metadata": {},
   "outputs": [],
   "source": [
    "df.loc[:, \"knowledge_area\"][df[\"knowledge_area\"] == 'Área do Conhecimento'] = \"Medicine\""
   ]
  },
  {
   "cell_type": "markdown",
   "id": "54fd267a",
   "metadata": {},
   "source": [
    "#### Selection"
   ]
  },
  {
   "cell_type": "code",
   "execution_count": 229,
   "id": "fc161e3f",
   "metadata": {},
   "outputs": [],
   "source": [
    "data = df.loc[:,[\"title_en\", \"abstract_en\", \"keywords_en\"]]\n",
    "relevant_metadata = df.loc[:, [\"index\", \"type\", \"author\", \"institute\"]]"
   ]
  },
  {
   "cell_type": "markdown",
   "id": "a326e228",
   "metadata": {},
   "source": [
    "### Encoding\n",
    "\n",
    "O código a seguir cria batches de descrições a partir do título, abstract e palavras-chave e solicita ao modelo que codifique as embeddings, que são apensadas a vectors ao final."
   ]
  },
  {
   "cell_type": "markdown",
   "id": "809abfac",
   "metadata": {},
   "source": [
    "##### Exemplo de execução"
   ]
  },
  {
   "cell_type": "code",
   "execution_count": 230,
   "id": "0d1fe3a9",
   "metadata": {},
   "outputs": [
    {
     "data": {
      "text/plain": [
       "'Gel Dosimetry in Tridimensional Quality Control Radiotherapy Treatments with Intensity Modulated and SMART Technique (Simultaneous Modulated Accelerated Radiation Therapy). Intensity Modulated Radiation Therapy (IMRT) treatments in the radiotherapy practice made possible the simultaneously treatment of multiple targets at an accelerated treatment regimen, this scheme is known as Simultaneous Modulated Accelerated Radiation Therapy (SMART). These treatments require a strict quality control (QC) that should be done, ideally, in three dimensions. A potential tool for tridimensional dosimetry (3D) is the use of polymeric gel with Nuclear Magnetic Resonance Images (NMRI). In this paper, the 3D dosimetry with MAGIC-f gel was applied in 10 QC radiotherapy planning using the SMART technique. Initially, the dose distributions of assessed plans were remeasured in simulator geometry based on a CT scan. All plans used were previously approved in punctual and planar conventional CQ, which validated the dose distribution planning system (TPS) for comparison with the gel dosimetry. The simulators were irradiated with established schedules and dose distributions were obtained by relaxometry in NMRI. The comparison of dose distributions calculated by TPS and measured in the gel was made by gamma analysis (3% / 3mm) and by comparing the dose-volume histograms (DVHs) calculated and measured for two volumes created in the equivalent regions to target volumes of treatment. These results highlight the potential use of the polymer gel dosimetry in IMRT planning 3D CQ with SMART technique, providing complete 3D information of the absorbed dose in each target volume planned, if carried out following the pre-established protocols. Gel MAGIC-f; IMRT; SMART.'"
      ]
     },
     "execution_count": 230,
     "metadata": {},
     "output_type": "execute_result"
    }
   ],
   "source": [
    "row = data.iloc[0,:]\n",
    "description = row.title_en + \" \" + row.abstract_en + \" \" + row.keywords_en\n",
    "description"
   ]
  },
  {
   "cell_type": "code",
   "execution_count": 231,
   "id": "7d6936ac",
   "metadata": {},
   "outputs": [
    {
     "name": "stdout",
     "output_type": "stream",
     "text": [
      "0.30879807472229004  segundos\n"
     ]
    }
   ],
   "source": [
    "# batch of size 64\n",
    "batch = [description for _ in range(64)]\n",
    "import time\n",
    "s = time.time()\n",
    "vectors = model.encode(batch)\n",
    "e = time.time()\n",
    "print(e - s, \" segundos\")"
   ]
  },
  {
   "cell_type": "code",
   "execution_count": 232,
   "id": "991cf1c7",
   "metadata": {},
   "outputs": [
    {
     "data": {
      "text/plain": [
       "array([-1.08015187e-01, -1.34727880e-01,  9.88700032e-01,  2.80515075e-01,\n",
       "       -2.15342253e-01, -1.13020754e+00,  3.06045651e-01, -6.51077747e-01,\n",
       "        7.72035122e-01, -7.36724675e-01,  2.39772066e-01,  7.70318270e-01,\n",
       "       -6.47946775e-01, -2.83951283e-01, -1.04673631e-01,  3.72441232e-01,\n",
       "        4.39589858e-01, -2.13775799e-01, -6.21739745e-01,  6.43899068e-02,\n",
       "        8.67942721e-02, -5.90848923e-01, -2.73701847e-01,  5.83076835e-01,\n",
       "        2.92302907e-01,  2.78269619e-01,  6.45409107e-01,  1.20872736e+00,\n",
       "        8.31682444e-01, -6.39874712e-02,  4.47392523e-01, -1.04317904e+00,\n",
       "       -1.33988631e+00, -3.54544163e-01,  5.61213613e-01,  1.06995273e+00,\n",
       "        4.03909177e-01, -5.88736653e-01, -6.07190609e-01, -8.25092345e-02,\n",
       "        1.58240825e-01,  2.88934886e-01,  3.73817086e-01, -2.66998559e-01,\n",
       "       -6.15275502e-01,  2.76715428e-01, -8.85831952e-01,  2.65091538e-01,\n",
       "       -7.89880574e-01, -7.02626586e-01, -2.08835810e-01, -8.34421754e-01,\n",
       "       -9.83947814e-02, -9.65319201e-03,  1.46346480e-01,  5.44163883e-01,\n",
       "       -5.86979091e-01,  6.33645654e-01, -7.77456909e-02,  3.11233431e-01,\n",
       "       -7.65965164e-01, -9.57669377e-01,  3.12821627e-01, -2.75438335e-02,\n",
       "        6.84255540e-01, -7.10256338e-01, -8.24106634e-01, -2.90080994e-01,\n",
       "       -4.68834758e-01, -1.07877004e+00,  5.93634844e-01, -1.97108299e-01,\n",
       "       -7.10106418e-02, -6.33494675e-01,  5.58108926e-01, -5.19311607e-01,\n",
       "       -2.92011887e-01, -2.82723725e-01, -4.50644672e-01,  1.69271380e-01,\n",
       "       -7.33123422e-01, -6.42304957e-01, -2.20058426e-01, -3.43985617e-01,\n",
       "        5.20906806e-01,  1.43624887e-01,  3.93674850e-01,  9.02267694e-01,\n",
       "       -3.94430429e-01,  4.17806327e-01,  3.31432894e-02, -6.00235105e-01,\n",
       "        1.54835477e-01, -7.75880367e-02,  1.01068616e+00, -5.69959283e-01,\n",
       "        2.62835979e-01,  8.39027166e-02, -6.77414298e-01,  8.72781932e-01,\n",
       "        2.45482214e-02,  8.97295117e-01,  1.48632675e-01, -6.78739071e-01,\n",
       "       -1.21263318e-01,  1.42310709e-01,  8.48616958e-01, -3.92403841e-01,\n",
       "       -4.94286895e-01,  5.66683769e-01,  2.99424767e-01,  1.60001099e-01,\n",
       "       -5.45068264e-01, -1.01736641e+00, -3.75857800e-01, -1.04159427e+00,\n",
       "       -1.01042219e-01,  1.10498667e+00, -4.81914163e-01,  5.04763007e-01,\n",
       "        1.63852945e-01,  1.55612314e+00,  3.16090196e-01,  4.42391157e-01,\n",
       "        5.37537158e-01,  4.87539977e-01,  2.96883851e-01,  3.95171106e-01,\n",
       "        3.38196814e-01, -1.51222259e-01,  5.83701879e-02,  2.41350219e-01,\n",
       "       -4.05181468e-01, -1.50932781e-02,  8.64523351e-01, -1.19893715e-01,\n",
       "       -4.70243484e-01, -5.06810173e-02, -5.51616214e-03,  1.38954416e-01,\n",
       "        2.79162586e-01, -3.30330998e-01,  1.02854121e+00, -1.17915094e-01,\n",
       "        5.07012188e-01, -4.53388572e-01,  2.56532371e-01, -4.69453156e-01,\n",
       "       -6.43978193e-02, -1.59088820e-01, -9.14297640e-01,  7.42088079e-01,\n",
       "       -9.53536928e-02,  1.30623877e-01,  5.67915440e-01,  7.18409896e-01,\n",
       "       -7.05654323e-01, -6.51884079e-01,  2.09206939e-01, -6.84437454e-02,\n",
       "       -1.31914139e+00, -2.68651783e-01,  1.19079721e+00,  4.27807987e-01,\n",
       "       -1.04546046e+00, -3.85054141e-01,  2.07904391e-02,  1.43872872e-01,\n",
       "       -1.79310739e-01, -1.14844188e-01,  9.00733322e-02, -1.29775137e-01,\n",
       "       -1.59698993e-01,  7.55989313e-01, -1.16987675e-01, -1.84134737e-01,\n",
       "        4.27068293e-01, -5.57312667e-01, -4.97516811e-01, -2.30017290e-01,\n",
       "       -2.02116251e-01, -5.94925880e-01, -3.22853446e-01, -2.76167721e-01,\n",
       "        4.36743855e-01,  3.07104103e-02,  6.08604491e-01,  8.17917466e-01,\n",
       "       -3.77742946e-01,  1.04712561e-01, -1.64176822e-01, -1.78688228e-01,\n",
       "       -5.57585597e-01, -4.38216031e-01,  1.50329098e-01,  4.09390241e-01,\n",
       "       -7.62975991e-01,  7.00043440e-02,  5.53234041e-01, -3.34898144e-01,\n",
       "        6.48420155e-01,  2.49348313e-01, -3.77532989e-01,  1.07522994e-01,\n",
       "       -1.08358301e-01, -1.25654233e+00,  5.43582559e-01,  6.31943762e-01,\n",
       "       -5.09171247e-01, -2.94093728e-01, -6.28880411e-02,  1.32419467e-01,\n",
       "       -9.12235975e-02, -1.10116661e-01, -2.53186166e-01,  1.91379651e-01,\n",
       "        5.03144860e-01,  5.96242428e-01,  7.21403420e-01,  2.43284091e-01,\n",
       "        1.33058476e+00, -5.02443671e-01,  4.98991199e-02,  4.07012291e-02,\n",
       "        2.61840463e-01, -2.42705327e-02, -1.29581556e-01, -6.10531271e-01,\n",
       "        6.69312358e-01,  1.07885733e-01, -2.21292406e-01,  4.03858721e-01,\n",
       "        8.67473930e-02,  1.37782425e-01,  2.53347486e-01, -4.22990844e-02,\n",
       "       -2.80511737e-01,  2.14533776e-01, -1.40960470e-01, -1.11288404e+00,\n",
       "       -5.74982643e-01, -4.39520665e-02, -1.38308942e-01,  2.65563697e-01,\n",
       "        6.67986512e-01,  1.89407393e-01, -8.41732621e-01, -3.13207865e-01,\n",
       "        7.93493688e-01, -3.16225231e-01,  4.00593460e-01, -7.58469105e-01,\n",
       "       -2.46469498e-01, -6.63759708e-01,  6.63380086e-01,  2.73340225e-01,\n",
       "       -7.11233448e-03, -9.96000409e-01, -8.34068418e-01,  5.84910035e-01,\n",
       "       -9.09821987e-02,  3.04696918e-01, -1.04585350e-01, -3.25381309e-02,\n",
       "       -4.71867174e-01,  3.59503068e-02, -3.29079628e-01, -2.30417654e-01,\n",
       "       -3.77637655e-01, -2.14279205e-01, -4.84922111e-01, -5.72036281e-02,\n",
       "        6.50128871e-02, -8.68502259e-01,  1.51562877e-03, -4.51470874e-02,\n",
       "        1.62477225e-01, -7.20607698e-01,  2.99719155e-01,  1.18730590e-01,\n",
       "       -5.34918666e-01,  7.15336859e-01, -5.74600577e-01, -7.30074793e-02,\n",
       "       -1.09536543e-01, -8.45118463e-01,  4.45901275e-01, -1.38089359e+00,\n",
       "       -3.17893684e-01, -2.68605292e-01, -6.94655299e-01,  4.49484020e-01,\n",
       "       -1.10127144e-01,  1.44228814e-02,  3.40484798e-01, -2.43669510e-01,\n",
       "        4.99476463e-01, -3.79542649e-01, -5.29029369e-01,  2.74022371e-01,\n",
       "       -1.04990795e-01,  1.33784385e-02, -7.05319047e-01,  5.00991642e-01,\n",
       "       -1.06160432e-01,  8.50129575e-02,  2.72109639e-02, -2.26000980e-01,\n",
       "       -3.17844689e-01, -2.37041384e-01,  5.03582776e-01, -2.53132671e-01,\n",
       "       -1.28451153e-03, -4.67113197e-01, -6.21526361e-01,  6.94290698e-02,\n",
       "        1.18260503e+00,  6.49102032e-02, -7.24528193e-01, -8.47456634e-01,\n",
       "       -1.93521723e-01,  2.39592865e-01,  6.33146942e-01, -1.08103824e+00,\n",
       "       -1.63808966e+00,  2.81053722e-01,  2.64755815e-01, -6.59882307e-01,\n",
       "        7.29936957e-02, -1.76727757e-01,  1.43726140e-01, -3.91028881e-01,\n",
       "       -5.96362054e-01, -4.40454423e-01, -1.52621984e-01, -3.06556106e-01,\n",
       "       -3.59504402e-01, -1.93419576e-01,  2.38330007e-01, -3.06501895e-01,\n",
       "        9.22422111e-01,  4.85202163e-01,  3.26839685e-01,  4.97350156e-01,\n",
       "        7.78239965e-01, -1.87541872e-01, -3.69447231e-01, -1.22709239e+00,\n",
       "        3.11547250e-01,  7.29185224e-01, -4.18508857e-01, -3.07233959e-01,\n",
       "        1.22729264e-01, -1.65871918e-01,  1.12700534e+00, -3.38648185e-02,\n",
       "        1.35181159e-01,  5.69696426e-01,  4.35672581e-01,  6.16165362e-02,\n",
       "        3.55975509e-01,  1.75995201e-01, -4.40055251e-01, -7.54465759e-02,\n",
       "        2.97468364e-01, -3.89899552e-01, -1.09522235e+00, -1.81081578e-01,\n",
       "        2.48917103e-01, -2.08412170e-01, -2.35613018e-01,  2.40064666e-01,\n",
       "        1.28856957e-01,  3.74051690e-01, -2.92076319e-01, -9.84600633e-02,\n",
       "        1.05031841e-01,  6.59621805e-02,  1.56911328e-01,  6.64326102e-02,\n",
       "       -5.90320587e-01, -1.70126349e-01,  5.77772379e-01,  5.30549705e-01,\n",
       "       -3.64544094e-01, -8.47989082e-01,  1.03795469e-01,  5.34521997e-01,\n",
       "        8.21292996e-02, -7.75426269e-01,  6.34865761e-01, -8.84683877e-02,\n",
       "        1.17703617e+00, -5.47932625e-01, -1.29001103e-02, -2.04400226e-01,\n",
       "       -3.60959232e-01,  7.63051212e-01, -1.46274894e-01, -3.67401838e-02,\n",
       "       -7.57818744e-02, -1.92119777e-01,  2.68209159e-01,  9.48822916e-01,\n",
       "       -2.25608513e-01,  2.66102016e-01,  4.52097476e-01, -5.39027274e-01,\n",
       "        1.05775499e+00,  6.29281402e-01,  3.36424321e-01, -1.27822071e-01,\n",
       "        3.76392663e-01,  3.11273158e-01, -2.45001182e-01, -6.63892925e-01,\n",
       "        8.40042889e-01, -1.42717987e-01, -8.11793804e-01, -2.22932454e-02,\n",
       "       -5.01261950e-01, -2.86526173e-01,  6.64245933e-02,  3.25764269e-02,\n",
       "       -1.29034400e+00,  6.28755450e-01, -1.20632395e-01,  4.43669856e-02,\n",
       "       -1.68893099e-01, -2.72765249e-01,  6.66919798e-02,  9.44886088e-01,\n",
       "        3.63333404e-01,  3.54651660e-02,  6.77336633e-01,  4.38950390e-01,\n",
       "       -2.43255928e-01,  1.81176394e-01,  7.35645473e-01, -6.32654905e-01,\n",
       "       -2.65392542e-01,  1.25178084e-01, -3.42190176e-01,  3.45600605e-01,\n",
       "       -1.05018353e+00,  7.35217333e-01, -5.51929593e-01,  7.55614936e-01,\n",
       "        6.07540727e-01,  5.40331841e-01,  5.91503024e-01, -8.89579296e-01,\n",
       "       -6.64326429e-01, -5.69680408e-02, -1.59015343e-01, -1.82119772e-01,\n",
       "       -7.70303965e-01, -6.52936339e-01, -1.79336324e-01,  8.78062248e-01,\n",
       "       -7.81670332e-01, -1.02518511e+00, -1.86061174e-01, -1.56852379e-02,\n",
       "       -1.57780960e-01, -4.31343973e-01,  2.51586854e-01,  5.82729101e-01,\n",
       "       -2.43779212e-01,  6.00652397e-02, -2.59953052e-01,  6.80861354e-01,\n",
       "       -2.12868690e-01,  5.54304361e-01, -1.15806997e+00,  3.61982081e-03,\n",
       "       -3.90339106e-01, -1.82968721e-01,  3.29314530e-01, -6.08185709e-01,\n",
       "       -4.88547117e-01, -6.43384635e-01, -2.34851301e-01,  1.03931904e-01,\n",
       "        6.37293220e-01, -5.05961895e-01, -1.43540025e-01, -9.70317274e-02,\n",
       "        1.87640600e-02, -1.35646582e+00, -2.60673553e-01,  5.45508564e-01,\n",
       "        3.23587179e-01, -4.95594740e-02, -1.82172105e-01, -3.76480147e-02,\n",
       "       -8.02950919e-01,  2.30584443e-01,  2.06542611e-01,  5.64948797e-01,\n",
       "        2.20092535e-01, -1.94804549e-01, -4.49540585e-01, -2.69453317e-01,\n",
       "       -1.26550332e-01,  3.36178899e-01,  2.41746545e-01, -3.76519561e-01,\n",
       "       -1.02448821e+00,  5.66279650e-01,  4.12380487e-01, -2.31306225e-01,\n",
       "       -5.51560372e-02, -3.54714304e-01, -2.49168783e-01, -5.26723742e-01,\n",
       "       -2.13935465e-01,  1.26754627e-01,  1.33734867e-01,  1.65544108e-01,\n",
       "       -4.09447610e-01, -8.22229013e-02,  5.32825179e-02,  3.55153382e-01,\n",
       "       -6.63592637e-01,  5.29000424e-02,  2.92246342e-01,  5.45765519e-01,\n",
       "        1.05204904e+00, -5.19372165e-01,  1.05706453e+00, -2.42078617e-01,\n",
       "       -3.20806593e-01, -5.54794490e-01,  1.94699600e-01, -6.59537852e-01,\n",
       "        7.62478948e-01, -3.94842982e-01,  6.69813275e-01, -1.52300864e-01,\n",
       "       -7.11386323e-01,  4.71714556e-01, -1.81560695e-01, -4.66911495e-03,\n",
       "       -6.45125732e-02, -2.23324507e-01,  9.21780095e-02, -6.97533786e-02,\n",
       "       -3.94762009e-01,  3.77732277e-01, -6.24424577e-01,  4.24662292e-01,\n",
       "       -3.62918168e-01,  6.16988540e-01, -1.31043997e-02,  6.42086387e-01,\n",
       "       -9.36176777e-01, -4.91399705e-01, -8.22710171e-02,  6.52332902e-01,\n",
       "       -2.02033907e-01,  2.11307079e-01,  5.66565037e-01,  4.58034217e-01,\n",
       "        2.76302218e-01, -9.63296473e-01, -3.21427971e-01, -9.02843773e-02,\n",
       "       -3.24436247e-01,  9.39089879e-02, -1.85493469e-01, -4.47709858e-01,\n",
       "        8.83773804e-01, -5.22306919e-01, -9.00655761e-02, -1.00986767e+00,\n",
       "       -3.39451171e-02,  1.59079358e-01, -1.13867842e-01, -8.54383230e-01,\n",
       "       -1.97422951e-01,  2.31315315e-01, -2.62963250e-02,  1.01071633e-01,\n",
       "        5.86857796e-01, -6.15931630e-01,  9.75548625e-01, -5.76331496e-01,\n",
       "        1.32853270e-01, -3.15386176e-01, -4.77777421e-01, -1.40939504e-01,\n",
       "       -6.34332538e-01, -2.58272737e-02,  6.57776356e-01, -1.05466831e+00,\n",
       "        4.83409941e-01, -8.61093104e-02,  8.10713828e-01,  3.25979143e-02,\n",
       "       -1.45237762e-02, -8.77321005e-01, -1.02033591e+00, -6.04625821e-01,\n",
       "        1.62200660e-01, -3.52810562e-01, -2.26293474e-01, -4.39635277e-01,\n",
       "        5.62105894e-01,  6.37385249e-01, -2.78924763e-01, -7.32225120e-01,\n",
       "        1.03684247e+00,  3.63932669e-01,  7.99877763e-01,  1.61351338e-01,\n",
       "       -1.81534624e+00, -3.20867956e-01,  1.32805798e-02,  3.61076713e-01,\n",
       "       -3.87921333e-01,  1.82399452e-01, -3.43654156e-01,  6.24906480e-01,\n",
       "        3.15266967e-01, -2.43883029e-01,  6.53926194e-01,  2.14004621e-01,\n",
       "        1.99174151e-01,  4.92036700e-01, -2.48591915e-01, -6.19143486e-01,\n",
       "       -7.03728795e-01,  6.49766326e-01,  2.62819856e-01, -5.73326349e-01,\n",
       "       -7.27522135e-01,  2.55009145e-01,  4.68305886e-01, -2.69652963e-01,\n",
       "       -3.77340555e-01, -3.55888426e-01,  7.53114462e-01, -2.40922213e-01,\n",
       "        9.20591354e-01,  9.51724768e-01, -1.13239042e-01,  1.84623569e-01,\n",
       "       -6.04467392e-01,  7.69515753e-01, -1.80304438e-01,  9.91913140e-01,\n",
       "        7.28097141e-01,  5.39579988e-01, -1.04695308e+00,  7.71088600e-01,\n",
       "        1.70515195e-01, -2.20613182e-01,  8.91788244e-01,  5.97462773e-01,\n",
       "       -3.49368513e-01, -3.38961959e-01,  1.31991565e-01, -2.88394094e-01,\n",
       "       -3.49210262e-01,  2.66746491e-01, -6.30326271e-02,  3.88383150e-01,\n",
       "        1.06421316e+00,  4.05343562e-01, -4.25983757e-01,  7.83554554e-01,\n",
       "       -2.99116075e-01, -8.68161768e-02,  7.31403530e-02,  9.45071936e-01,\n",
       "       -2.66222835e-01,  5.27503729e-01, -5.92369378e-01, -7.22788721e-02,\n",
       "       -1.18017800e-01, -7.43564889e-02, -4.14898753e-01, -3.95046145e-01,\n",
       "       -2.29363114e-01, -5.93280137e-01, -2.74956226e-01, -6.20704293e-01,\n",
       "        8.02788258e-01, -2.79710710e-01,  1.85940325e-01, -6.47908032e-01,\n",
       "        2.86588252e-01, -5.92188239e-02, -6.31947041e-01,  2.99068183e-01,\n",
       "       -2.78982192e-01,  4.23812091e-01,  8.34612772e-02,  8.70684385e-01,\n",
       "       -1.45444587e-01, -4.85758007e-01,  8.89364183e-02,  1.07463636e-01,\n",
       "        3.09284031e-01, -2.20106989e-01,  4.55287606e-01, -3.53624642e-01,\n",
       "       -1.91518515e-01,  4.28048730e-01,  2.66597748e-01, -6.32280111e-01,\n",
       "       -1.11794591e-01,  3.93269539e-01,  8.18416104e-02,  5.61411560e-01,\n",
       "        3.55030596e-01, -4.09987450e-01,  7.88127482e-01, -9.50409919e-02,\n",
       "        3.58504683e-01, -5.92805266e-01, -1.29364692e-02,  7.34859884e-01,\n",
       "        2.42004573e-01,  7.13433772e-02,  6.99565291e-01, -1.72818676e-01,\n",
       "        6.39939308e-02,  3.28399956e-01,  8.71460885e-03, -7.47243881e-01,\n",
       "       -1.73781931e-01,  8.45892549e-01,  7.31885731e-01,  2.49461293e-01,\n",
       "       -7.70897985e-01, -2.13288665e-01,  1.30297899e+00,  7.88106203e-01,\n",
       "       -7.11939454e-01,  3.15854192e-01, -1.14036947e-02,  2.66711295e-01,\n",
       "       -3.66705418e-01, -2.13365555e-01, -1.09182262e+00,  1.60938591e-01,\n",
       "       -1.38193265e-01,  7.91072726e-01,  1.51119187e-01,  1.10252753e-01,\n",
       "       -1.38311312e-01, -5.52648306e-02,  2.71488667e-01,  6.58367097e-01,\n",
       "       -3.02043036e-02, -3.91392440e-01, -1.54244944e-01, -3.87740076e-01,\n",
       "        3.18718441e-02,  9.52489495e-01, -4.46210146e-01,  6.74937725e-01,\n",
       "       -4.83698770e-03,  2.23249644e-01, -2.89098714e-02, -5.82736433e-01],\n",
       "      dtype=float32)"
      ]
     },
     "execution_count": 232,
     "metadata": {},
     "output_type": "execute_result"
    }
   ],
   "source": [
    "vectors[0]"
   ]
  },
  {
   "cell_type": "code",
   "execution_count": 236,
   "id": "d5f938e6",
   "metadata": {},
   "outputs": [
    {
     "name": "stdout",
     "output_type": "stream",
     "text": [
      "768 embeddings\n"
     ]
    }
   ],
   "source": [
    "# o primeiro texto é representado por\n",
    "print(len(vectors[0]), \"embeddings\")"
   ]
  },
  {
   "cell_type": "markdown",
   "id": "84f9fb84",
   "metadata": {},
   "source": [
    "#### Cálculo dos vetores"
   ]
  },
  {
   "cell_type": "code",
   "execution_count": 237,
   "id": "f27733c9",
   "metadata": {
    "scrolled": false
   },
   "outputs": [
    {
     "data": {
      "application/vnd.jupyter.widget-view+json": {
       "model_id": "84a8d6d89f614112a08f8b6a95fbf1c9",
       "version_major": 2,
       "version_minor": 0
      },
      "text/plain": [
       "0it [00:00, ?it/s]"
      ]
     },
     "metadata": {},
     "output_type": "display_data"
    }
   ],
   "source": [
    "# encoding in batches can reduce overhead costs and speed up the process\n",
    "vectors = []\n",
    "batch_size = 64  # TODO: how can I speed up? Maybe reduce batch?\n",
    "batch = []\n",
    "for row in tqdm(data.itertuples()):\n",
    "    description = row.title_en + \" \" + row.abstract_en + \" \" + row.keywords_en\n",
    "    batch.append(description)\n",
    "    if len(batch) >= batch_size:\n",
    "        vectors.append(model.encode(batch))\n",
    "        batch = []\n",
    "\n",
    "if len(batch) > 0:\n",
    "    vectors.append(model.encode(batch))\n",
    "    batch = []\n",
    "\n",
    "vectors = np.concatenate(vectors)"
   ]
  },
  {
   "cell_type": "code",
   "execution_count": 238,
   "id": "9fc56ce3",
   "metadata": {},
   "outputs": [],
   "source": [
    "assert vectors.shape[0] == data.shape[0]"
   ]
  },
  {
   "cell_type": "code",
   "execution_count": 239,
   "id": "9b48bf11",
   "metadata": {},
   "outputs": [
    {
     "data": {
      "text/plain": [
       "(1329, 768)"
      ]
     },
     "execution_count": 239,
     "metadata": {},
     "output_type": "execute_result"
    }
   ],
   "source": [
    "vectors.shape"
   ]
  },
  {
   "cell_type": "code",
   "execution_count": 240,
   "id": "1297b3d8",
   "metadata": {},
   "outputs": [],
   "source": [
    "np.save(\"../data/vectors.npy\", vectors, allow_pickle=False)"
   ]
  },
  {
   "cell_type": "markdown",
   "id": "0e6b3ec8",
   "metadata": {},
   "source": [
    "### Testes - Para ter certeza de que os vetores fazem sentido"
   ]
  },
  {
   "cell_type": "code",
   "execution_count": 3,
   "id": "9ac10c79",
   "metadata": {},
   "outputs": [],
   "source": [
    "vectors = np.load(\"../data/vectors.npy\")"
   ]
  },
  {
   "cell_type": "code",
   "execution_count": 4,
   "id": "fa241d5d",
   "metadata": {},
   "outputs": [],
   "source": [
    "from sklearn.metrics.pairwise import cosine_similarity"
   ]
  },
  {
   "cell_type": "markdown",
   "id": "0ad4de84",
   "metadata": {},
   "source": [
    "> **Pergunta**: Como funciona cosine_similarity?"
   ]
  },
  {
   "cell_type": "code",
   "execution_count": 249,
   "id": "3f840e81",
   "metadata": {},
   "outputs": [],
   "source": [
    "sample_query = \"misconceptions about dengue\"\n",
    "# sample_query = \"cancer in pregnancy\""
   ]
  },
  {
   "cell_type": "code",
   "execution_count": 250,
   "id": "103811d2",
   "metadata": {},
   "outputs": [
    {
     "name": "stdout",
     "output_type": "stream",
     "text": [
      "misconceptions about dengue\n"
     ]
    }
   ],
   "source": [
    "print(sample_query)"
   ]
  },
  {
   "cell_type": "code",
   "execution_count": 251,
   "id": "cbc4121a",
   "metadata": {},
   "outputs": [],
   "source": [
    "query_vector = model.encode(sample_query)"
   ]
  },
  {
   "cell_type": "code",
   "execution_count": 252,
   "id": "5ef3c376",
   "metadata": {},
   "outputs": [],
   "source": [
    "[scores] = cosine_similarity([query_vector], vectors)"
   ]
  },
  {
   "cell_type": "code",
   "execution_count": 253,
   "id": "d5f808a0",
   "metadata": {},
   "outputs": [],
   "source": [
    "top_scores_ids = np.argsort(scores)"
   ]
  },
  {
   "cell_type": "code",
   "execution_count": 254,
   "id": "faf16c8d",
   "metadata": {},
   "outputs": [],
   "source": [
    "top_scores_ids = top_scores_ids[-5:][::-1]  # top 5 largest scores"
   ]
  },
  {
   "cell_type": "code",
   "execution_count": 255,
   "id": "0a6219ee",
   "metadata": {
    "scrolled": false
   },
   "outputs": [
    {
     "name": "stdout",
     "output_type": "stream",
     "text": [
      "Index:  tde-04012017-101109\n",
      "Title:  Knowledge, beliefs and practices regarding dengue\n",
      "Abstract:  INTRODUCTION: Developing a better understanding of the knowledge and practices about dengue is essential to planning programs and public policies about the prevention of the disease. This research aimed to investigate the knowledge of users of primary health care services, living in Ribeirão Preto city, about dengue and its vector (transmission, symptoms, prevention and treatment), the source of the information, practices, and their associations with the knowledge and beliefs for the prophylaxis and treatment of disease. METHODS: This cross-sectional questionnaire survey of a sample of 605 people living in Ribeirão Preto was conducted following a major dengue outbreak in 2013. The respondents were invited to participate in the study at the time when they were waiting for medical attendance in the health units. RESULTS: The main source of information about dengue was from the television (87.8%). Fever was cited as the most common symptom of the disease. Only 10.4% of the respondents use mosquito repellent regularly to prevent dengue. When shown images of different species of insects, 65.7% of the participants were able to identify correctly the vector of the disease. This percentage is larger among younger participants with higher levels of education. CONCLUSIONS: The results presented in this research are similar to those described by other authors cited here and reinforce the relevance of health education programs, the constant promotion of educational campaigns in the media, the role of the television as a source of information and the importance of motivating the population to control the vector\n",
      "Keywords:  Beliefs Dengue Knowledge Practices Ribeirão Preto\n",
      "#########################\n",
      "Index:  tde-27072016-163236\n",
      "Title:  Social representations of primary health care nurses on dengue\n",
      "Abstract:  Dengue advances as an increasingly significant social problem. Thus, this study was developed with the aim to learn the meanings of Dengue for primary health care nurses from Alfenas, in the state of Minas Gerais; and to identify limiting and driving forces for its control. A social representation study was developed, with a qualitative approach, and the adoption of the social representation theory as its theoreticalmethodological framework. Field work consisted of individual interviews with nurses from the primary health care units of the city, between June and July of 2015; which were recorded, transcribed and later analyzed and presented by means of the discourse of the collective subject method. The 17 professionals interviewed had a nursing undergraduate degree, were women and had a mean age of 40 years. They presented a median length of activity in primary health care of five years, with most nurses being members of urban family health teams; and three nurses had already been infected by the Dengue virus. The collective subject resulted in the following social representations: extreme discomfort, public health problem, people's negligence, consequence of the lack of education, viral disease, concern and fear, severe disease, disease caused by a mosquito bite, epidemic, poor country's disease, one more disease for us to care for, and a war. According to the nurses, factors that make the control of Dengue difficult include: the population's lack of awareness, people's resistance and lack of responsibility, the mosquitoes' rapid spread, the high amount of focuses, rumors, lack of information on the disease, lack of knowledge on its cause, lack of qualification of workers of endemic diseases control, and lack of supervision on the work of community health workers. Factors that facilitate the disease control include the work to guide, educate and raise people's awareness, basic sanitation, partnerships of family health teams and endemic diseases control workers, demanding the population's commitment, better qualification and remuneration of endemic diseases control workers and the population's duty being served. Knowledge about social representations on Dengue is important to understand its causality and to cope with this current public health problem. This study managed to give rise to values and symbols of the collective subject of primary health care nurses from Alfenas on Dengue and the coping with the epidemic, which contributed to enhance the intelligence of health services, since these professionals work at the frontline of the city, promoting the fight against the disease.\n",
      "Keywords:  Dengue Epidemics Intersectoral action Public health Qualitative research\n",
      "#########################\n",
      "Index:  tde-20122012-090810\n",
      "Title:  Forecasting of the monthly number of dengue cases by a time series model.\n",
      "Abstract:  Introduction: Dengue is an infection disease which is caused by an arbovirus related to tropical and subtropical region. Most cases usually occur on warm and rainy weathers of the years that facilitate the conditions of the development vector of the disease, the Aedes Aegypti mosquito. Statistical models can be very useful to comprehend the monthly variations of the number of registered cases of the disease, and they might bring reasonable predictions to the monthly number of cases in a subsequent period to a studied time series. Metodology: This dissertation is about ecologic study with a time series component. It was used monthly registry of confirmed dengue cases, between 1998 and 2008 years, obtained by the Information Center of Notification Diseases (ICND), out of two cities in the state of São Paulo (Campinas and Ribeirão Preto). Statistic time series models were used to describe the data series behavior and to predict the average number of disease cases in the subsequent period. We used the Box & Jenkins model, that in, the SARIMA (Seasonal Autoregressive Integrated Moving Average) model, with extensions (SARIMAX model) that allow to incorporate co-variables to the maximum, mean and minimum temperatures and the average monthly precipitation. We used the Akaike criterio (AIC) for comparison between different model specifications. From the fit data models, we obtained monthly predictions to the 2009 year, being compared to the observed data. Results: Without considerating the inclusion of the covariables, the best model for Campinas data was the SARIMA(2,1,2)(1,1,1)12, and for Ribeirão Preto data the best was SARIMA(2,1,3)(1,1,1)12 (smaller AIC values models). As we incorporate the climate variables in the models, we observe that the best fit for Campinas city was the SARIMAX(1,1,1)1,1,1)12 that includes the observed precipitation in 2 months before the monthly dengue cases and the minimum registered temperature in 3 months before. In Ribeirão Preto city, the most adequate model was the SARIMAX(1,1,1)(0,1,1)12 that includes the observed precipitation in 3 months before the monthly dengue case occurrence and the minimum temperature in one month before. The monthly prediction obtained for 2009 year show reasonably close to the observed, in both cities. Conclusion: The results of this study, in addition to the literature results, show that the adequate number of autoregressive and moving average components fitted in SARIMA models, vary between one population and other, suggesting different disease time patterns according to local characteristics. Comparing predict and observed values suggest that the SARIMA models are useful tools to predict the number of dengue cases. We suggest that the models in this dissertation be used in city health services to surveillance the disease, which may bring benefits for prevention programs and public service planning.\n",
      "Keywords:  Biostatistics Dengue. Time series\n",
      "#########################\n",
      "Index:  tde-01112011-154254\n",
      "Title:  Geopidemiology of dengue in the Alfenas city, Minas Gerais state - Brazil.\n",
      "Abstract:  The incidence of dengue in Alfenas-MG was studied between the years 2001 and 2010, through cross-sectional study, using variables related to the person, time and place of autochthonous cases of dengue, whose information was obtained in the Sinan, the socioeconomic variables were provided by IBGE and map data were provided by City Hall. In the descriptive analysis we used multivariate analysis and spatial analysis to describe the epidemiological profile of cases and spatial distribution of second homes urban neighborhoods, areas of the Family Health Program and census tracts of different socioeconomic groups. There was a heterogeneity of the spatial distribution of cases and the absence of spatial pattern of densities. The main clusters of cases were identified in areas uncovered by the Family Health Strategy, despite the frequency distributions were similar across socioeconomic strata, such features may be associated with the dynamics of viral circulation in the locality, considering the internal mobility and the human stream, and graded the performance of the Family Health Teams in the city.\n",
      "Keywords:  Dengue Descriptive Epidemiology Family Health Program Residence Characteristics Social Class.\n",
      "#########################\n",
      "Index:  tde-29072016-163610\n",
      "Title:  Interaction between dengue fusion peptides and model membranes: an experimental and computational overview.\n",
      "Abstract:  Dengue fever is viral infectious disease widespread in tropical and subtropical areas that infects nearly 400 million people annually. There are four different virus serotypes (DEN.I-IV) so that a reinfection by a different serotype may lead to a more severe case of the disease: dengue hemorrhagic fever and the dengue shock syndrome. During the infection cycle, the virus has two important steps: the first one is the entry in the host cell; the second one, is the fusion between the viral lipid bilayer and the endosomal membrane. Both steps are mediated by the E Glycoprotein, that is the host of the putative fusion peptide. The fusion peptide has a high degree of homology among the members of the Flaviviridae. In this work, we evaluated the interaction between modified dengue fusion peptide and model membranes through the combination of experiments (fluorescence, SAXS, DSC and Cryo-TEM), and Molecular Dynamics simulations. We evaluated the capacity of the DEN.II 88-123 peptide to promote fusion between vesicles composed by DMPC, DMPC:DMPG (4:1), as well as the ability to perturb the lipid bilayer properties. Moreover, we seek to understand how the secondary structure is affected by interaction with the model membranes and the peptide position in the membrane. We showed that the peptide is able to change the membrane lipid cooperativity depending on the lipid composition and it may be related to the capacity of fusion induction between vesicles. However, the results revealed that the peptide does not induce changes in the structural parameters such as area per lipid, thickness and bilayer order parameter. The peptide binds to the surface of the lipid bilayer with the insertion of the tryptophan residue into the region of aliphatic chains. The peptide did not have a preferential secondary structure, although it presented a low percentage of -sheet and -helice conformation. Together, these results may help to understand the mode of action of fusion peptides.\n",
      "Keywords:  Dengue Fusion Peptide E Glycoprotein Flaviviridae family virus Model Membranes Molecular Dynamics\n",
      "#########################\n"
     ]
    }
   ],
   "source": [
    "for top_id in top_scores_ids:\n",
    "    tmp = df.iloc[top_id]\n",
    "    print(\"Index: \", tmp['index'])\n",
    "    print(\"Title: \", tmp.title_en)\n",
    "    print(\"Abstract: \", tmp.abstract_en)\n",
    "    print(\"Keywords: \", tmp.keywords_en)\n",
    "    print(\"#########################\")"
   ]
  },
  {
   "cell_type": "code",
   "execution_count": null,
   "id": "b0682782",
   "metadata": {},
   "outputs": [],
   "source": []
  }
 ],
 "metadata": {
  "kernelspec": {
   "display_name": "Python 3 (ipykernel)",
   "language": "python",
   "name": "python3"
  },
  "language_info": {
   "codemirror_mode": {
    "name": "ipython",
    "version": 3
   },
   "file_extension": ".py",
   "mimetype": "text/x-python",
   "name": "python",
   "nbconvert_exporter": "python",
   "pygments_lexer": "ipython3",
   "version": "3.10.6"
  }
 },
 "nbformat": 4,
 "nbformat_minor": 5
}
