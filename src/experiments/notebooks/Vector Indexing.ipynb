{
 "cells": [
  {
   "cell_type": "code",
   "execution_count": 40,
   "id": "b2000ef2",
   "metadata": {},
   "outputs": [],
   "source": [
    "import nbconf\n",
    "import config"
   ]
  },
  {
   "cell_type": "code",
   "execution_count": 41,
   "id": "26c37bb8",
   "metadata": {},
   "outputs": [],
   "source": [
    "import pandas as pd"
   ]
  },
  {
   "cell_type": "code",
   "execution_count": 42,
   "id": "27a5a006",
   "metadata": {},
   "outputs": [],
   "source": [
    "df = pd.read_csv(os.path.join(config.DATA_PATH, \"clean_data.csv\"))"
   ]
  },
  {
   "cell_type": "code",
   "execution_count": 43,
   "id": "0d55c0a5",
   "metadata": {},
   "outputs": [
    {
     "data": {
      "text/plain": [
       "Index(['Unnamed: 0', 'title_en', 'abstract_en', 'keywords_en'], dtype='object')"
      ]
     },
     "execution_count": 43,
     "metadata": {},
     "output_type": "execute_result"
    }
   ],
   "source": [
    "df.columns"
   ]
  },
  {
   "cell_type": "code",
   "execution_count": 44,
   "id": "57d0dcf9",
   "metadata": {},
   "outputs": [],
   "source": [
    "df = df.drop(columns=df.columns[0])\n",
    "\n",
    "# convert DataFrame to list of lists"
   ]
  },
  {
   "cell_type": "code",
   "execution_count": 45,
   "id": "7c7261af",
   "metadata": {},
   "outputs": [],
   "source": [
    "payload = df.to_dict('records')"
   ]
  },
  {
   "cell_type": "code",
   "execution_count": 46,
   "id": "e6ee007c",
   "metadata": {},
   "outputs": [],
   "source": [
    "import json\n",
    "import os\n",
    "import numpy as np\n",
    "\n",
    "from qdrant_client import QdrantClient\n",
    "from qdrant_client.models import VectorParams\n",
    "\n",
    "from config import DATA_PATH, COLLECTION_NAME\n",
    "\n",
    "BATCH_SIZE = 256\n",
    "\n"
   ]
  },
  {
   "cell_type": "code",
   "execution_count": 47,
   "id": "00e9a781",
   "metadata": {},
   "outputs": [],
   "source": [
    "COLLECTION_NAME = \"theses\"\n",
    "MODEL_NAME = \"distilbert-base-nli-stsb-mean-tokens\"\n",
    "\n",
    "HOST = \"0.0.0.0\"\n",
    "PORT = \"6333\""
   ]
  },
  {
   "cell_type": "code",
   "execution_count": 48,
   "id": "defa0add",
   "metadata": {},
   "outputs": [],
   "source": [
    "qdrant_client = QdrantClient(host=HOST, port=PORT)\n",
    "\n",
    "vectors_path = os.path.join(DATA_PATH, 'vectors_experiment_4.npy')\n",
    "vectors = np.load(vectors_path)\n",
    "vector_size = vectors.shape[1]"
   ]
  },
  {
   "cell_type": "code",
   "execution_count": 49,
   "id": "5327c165",
   "metadata": {},
   "outputs": [
    {
     "data": {
      "text/plain": [
       "True"
      ]
     },
     "execution_count": 49,
     "metadata": {},
     "output_type": "execute_result"
    }
   ],
   "source": [
    "qdrant_client.recreate_collection(\n",
    "    collection_name=COLLECTION_NAME,\n",
    "    vectors_config=VectorParams(size=vector_size, distance=\"Cosine\")\n",
    ")"
   ]
  },
  {
   "cell_type": "code",
   "execution_count": 50,
   "id": "348c94cb",
   "metadata": {},
   "outputs": [],
   "source": [
    "import pickle\n",
    "with open(os.path.join(config.DATA_PATH, \"idxs.pickle\"), 'rb') as f:\n",
    "    idxs = pickle.load(f)"
   ]
  },
  {
   "cell_type": "code",
   "execution_count": null,
   "id": "732e0549",
   "metadata": {},
   "outputs": [],
   "source": [
    "import json\n",
    "\n",
    "# Convert dictionary to JSON format\n",
    "payload_json = json.dumps(payload)"
   ]
  },
  {
   "cell_type": "code",
   "execution_count": 54,
   "id": "a158f1e2",
   "metadata": {},
   "outputs": [
    {
     "data": {
      "text/plain": [
       "dict"
      ]
     },
     "execution_count": 54,
     "metadata": {},
     "output_type": "execute_result"
    }
   ],
   "source": [
    "type(payload[0])"
   ]
  },
  {
   "cell_type": "code",
   "execution_count": 55,
   "id": "88157345",
   "metadata": {},
   "outputs": [],
   "source": [
    "qdrant_client.upload_collection(\n",
    "    collection_name=COLLECTION_NAME,\n",
    "    vectors=vectors,\n",
    "    payload=None,\n",
    "    ids=idxs,\n",
    "    batch_size=BATCH_SIZE,\n",
    "    parallel=2\n",
    ")"
   ]
  },
  {
   "cell_type": "code",
   "execution_count": null,
   "id": "1eb53d0d",
   "metadata": {},
   "outputs": [],
   "source": []
  }
 ],
 "metadata": {
  "kernelspec": {
   "display_name": "Python 3 (ipykernel)",
   "language": "python",
   "name": "python3"
  },
  "language_info": {
   "codemirror_mode": {
    "name": "ipython",
    "version": 3
   },
   "file_extension": ".py",
   "mimetype": "text/x-python",
   "name": "python",
   "nbconvert_exporter": "python",
   "pygments_lexer": "ipython3",
   "version": "3.10.6"
  }
 },
 "nbformat": 4,
 "nbformat_minor": 5
}
